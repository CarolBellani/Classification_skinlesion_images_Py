{
 "cells": [
  {
   "cell_type": "code",
   "execution_count": 1,
   "metadata": {},
   "outputs": [],
   "source": [
    "# %%time\n",
    "# Import the libraries\n",
    "from numpy.random import seed #Ok\n",
    "seed(42)#Ok\n",
    "from tensorflow import set_random_seed#Ok\n",
    "set_random_seed(101)#Ok\n",
    "import pandas as pd #Ok\n",
    "import numpy as np #Ok\n",
    "import tensorflow #Ok \n",
    "from tensorflow.keras.layers import Dense, Dropout, Flatten, GlobalAveragePooling2D, BatchNormalization\n",
    "from tensorflow.keras.optimizers import Adam #Ok\n",
    "from tensorflow.keras.metrics import categorical_accuracy, top_k_categorical_accuracy #Ok\n",
    "from tensorflow.keras.preprocessing.image import ImageDataGenerator #Ok\n",
    "from tensorflow.keras.models import Model, Sequential #Ok\n",
    "from tensorflow.keras.callbacks import EarlyStopping, ReduceLROnPlateau, ModelCheckpoint #Ok\n",
    "import os, zipfile #Ok\n",
    "from sklearn.metrics import confusion_matrix #Ok\n",
    "from sklearn.model_selection import train_test_split #Ok\n",
    "import itertools #Ok\n",
    "import shutil #Ok\n",
    "import matplotlib.pyplot as plt #Ok\n",
    "%matplotlib inline\n",
    "\n",
    "import random\n",
    "from random import random\n",
    "from random import randrange\n",
    "from random import choice\n",
    "from random import uniform\n",
    "from matplotlib import pyplot\n",
    "import skimage.io as io\n",
    "import seaborn as sns\n",
    "import os\n",
    "from tensorflow.keras import backend as K\n",
    "from tensorflow.keras import layers\n",
    "from os import rename, listdir\n",
    "from sklearn.utils.class_weight import compute_sample_weight\n",
    "from sklearn.utils import class_weight\n",
    "from tensorflow.python.keras.applications import ResNet50\n",
    "from tensorflow.python.keras.applications.resnet50 import preprocess_input\n",
    "from tensorflow.python.keras.preprocessing.image import load_img, img_to_array\n",
    "from sklearn.metrics import classification_report\n",
    "from functools import partial"
   ]
  },
  {
   "cell_type": "code",
   "execution_count": 2,
   "metadata": {},
   "outputs": [],
   "source": [
    "#Seting the data directories\n",
    "dir_zip = r'D:\\Python\\Jupyter\\DeepLearning\\MobileNet\\zipFiles'\n",
    "dir_database = r'D:\\Python\\Jupyter\\DeepLearning\\MobileNet\\DataBase'\n",
    "dir_MetaData = r'D:\\Python\\Jupyter\\DeepLearning\\MobileNet\\metaData_dataBase'\n",
    "dir_project = r'D:\\Python\\Jupyter\\DeepLearning\\MobileNet'"
   ]
  },
  {
   "cell_type": "markdown",
   "metadata": {},
   "source": [
    "#### Unzipping the Images"
   ]
  },
  {
   "cell_type": "code",
   "execution_count": 3,
   "metadata": {},
   "outputs": [
    {
     "name": "stdout",
     "output_type": "stream",
     "text": [
      "10018\n"
     ]
    }
   ],
   "source": [
    "#%%time\n",
    "extension = \".zip\"\n",
    "\n",
    "os.chdir(dir_zip) # change directory from working dir to dir with files\n",
    "\n",
    "if len(os.listdir(os.path.abspath(dir_database)))==0 or len(os.listdir(os.path.abspath(dir_database)))==1:\n",
    "    # Loop to extract all Images from a the zip file on directory\n",
    "    for item in os.listdir(dir_zip): # loop through items in dir\n",
    "        if item.endswith(extension): # check for \".zip\" extension\n",
    "            file_name = os.path.abspath(item) # get full path of files\n",
    "            print(\"Processing %s\" % file_name)\n",
    "            zip_ref = zipfile.ZipFile(file_name) # create zipfile object\n",
    "            os.chdir(dir_zip) # change directory from working dir to dir with files\n",
    "            zip_ref.extractall(dir_database) # extract file to dir\n",
    "            zip_ref.close() # close file\n",
    "            #os.remove(file_name) # delete zipped file\n",
    "else:\n",
    "    print(len(os.listdir(os.path.abspath(dir_database))))"
   ]
  },
  {
   "cell_type": "code",
   "execution_count": 4,
   "metadata": {},
   "outputs": [],
   "source": [
    "metadata = pd.read_csv(dir_MetaData+'/HAM10000_metadata.csv', header=0, index_col=1)"
   ]
  },
  {
   "cell_type": "code",
   "execution_count": 5,
   "metadata": {},
   "outputs": [
    {
     "data": {
      "text/html": [
       "<div>\n",
       "<style scoped>\n",
       "    .dataframe tbody tr th:only-of-type {\n",
       "        vertical-align: middle;\n",
       "    }\n",
       "\n",
       "    .dataframe tbody tr th {\n",
       "        vertical-align: top;\n",
       "    }\n",
       "\n",
       "    .dataframe thead th {\n",
       "        text-align: right;\n",
       "    }\n",
       "</style>\n",
       "<table border=\"1\" class=\"dataframe\">\n",
       "  <thead>\n",
       "    <tr style=\"text-align: right;\">\n",
       "      <th></th>\n",
       "      <th>lesion_id</th>\n",
       "      <th>dx</th>\n",
       "      <th>dx_type</th>\n",
       "      <th>age</th>\n",
       "      <th>sex</th>\n",
       "      <th>localization</th>\n",
       "    </tr>\n",
       "    <tr>\n",
       "      <th>image_id</th>\n",
       "      <th></th>\n",
       "      <th></th>\n",
       "      <th></th>\n",
       "      <th></th>\n",
       "      <th></th>\n",
       "      <th></th>\n",
       "    </tr>\n",
       "  </thead>\n",
       "  <tbody>\n",
       "    <tr>\n",
       "      <th>ISIC_0027419</th>\n",
       "      <td>HAM_0000118</td>\n",
       "      <td>bkl</td>\n",
       "      <td>histo</td>\n",
       "      <td>80.0</td>\n",
       "      <td>male</td>\n",
       "      <td>scalp</td>\n",
       "    </tr>\n",
       "    <tr>\n",
       "      <th>ISIC_0025030</th>\n",
       "      <td>HAM_0000118</td>\n",
       "      <td>bkl</td>\n",
       "      <td>histo</td>\n",
       "      <td>80.0</td>\n",
       "      <td>male</td>\n",
       "      <td>scalp</td>\n",
       "    </tr>\n",
       "    <tr>\n",
       "      <th>ISIC_0026769</th>\n",
       "      <td>HAM_0002730</td>\n",
       "      <td>bkl</td>\n",
       "      <td>histo</td>\n",
       "      <td>80.0</td>\n",
       "      <td>male</td>\n",
       "      <td>scalp</td>\n",
       "    </tr>\n",
       "    <tr>\n",
       "      <th>ISIC_0025661</th>\n",
       "      <td>HAM_0002730</td>\n",
       "      <td>bkl</td>\n",
       "      <td>histo</td>\n",
       "      <td>80.0</td>\n",
       "      <td>male</td>\n",
       "      <td>scalp</td>\n",
       "    </tr>\n",
       "    <tr>\n",
       "      <th>ISIC_0031633</th>\n",
       "      <td>HAM_0001466</td>\n",
       "      <td>bkl</td>\n",
       "      <td>histo</td>\n",
       "      <td>75.0</td>\n",
       "      <td>male</td>\n",
       "      <td>ear</td>\n",
       "    </tr>\n",
       "  </tbody>\n",
       "</table>\n",
       "</div>"
      ],
      "text/plain": [
       "                lesion_id   dx dx_type   age   sex localization\n",
       "image_id                                                       \n",
       "ISIC_0027419  HAM_0000118  bkl   histo  80.0  male        scalp\n",
       "ISIC_0025030  HAM_0000118  bkl   histo  80.0  male        scalp\n",
       "ISIC_0026769  HAM_0002730  bkl   histo  80.0  male        scalp\n",
       "ISIC_0025661  HAM_0002730  bkl   histo  80.0  male        scalp\n",
       "ISIC_0031633  HAM_0001466  bkl   histo  75.0  male          ear"
      ]
     },
     "execution_count": 5,
     "metadata": {},
     "output_type": "execute_result"
    }
   ],
   "source": [
    "metadata.head()"
   ]
  },
  {
   "cell_type": "code",
   "execution_count": 6,
   "metadata": {},
   "outputs": [],
   "source": [
    "# Categories of the diferent diseases\n",
    "lesion_type_dict = {\n",
    "    'nv': 'Melanocytic nevi',\n",
    "    'mel': 'Melanoma',\n",
    "    'bkl': 'Benign keratosis ',\n",
    "    'bcc': 'Basal cell carcinoma',\n",
    "    'akiec': 'Actinic keratoses',\n",
    "    'vasc': 'Vascular lesions',\n",
    "    'df': 'Dermatofibroma'\n",
    "}"
   ]
  },
  {
   "cell_type": "code",
   "execution_count": 7,
   "metadata": {},
   "outputs": [],
   "source": [
    "metadata.dx=metadata.dx.astype('category',copy=True)\n",
    "metadata['labels']=metadata.dx.cat.codes # Convert the labels to numbers\n",
    "metadata['lesion']= metadata.dx.map(lesion_type_dict)\n",
    "# metadata.head()"
   ]
  },
  {
   "cell_type": "code",
   "execution_count": 8,
   "metadata": {},
   "outputs": [
    {
     "name": "stdout",
     "output_type": "stream",
     "text": [
      "Melanocytic nevi        6705\n",
      "Melanoma                1113\n",
      "Benign keratosis        1099\n",
      "Basal cell carcinoma     514\n",
      "Actinic keratoses        327\n",
      "Vascular lesions         142\n",
      "Dermatofibroma           115\n",
      "Name: lesion, dtype: int64\n"
     ]
    }
   ],
   "source": [
    "print(metadata.lesion.value_counts())"
   ]
  },
  {
   "cell_type": "code",
   "execution_count": 9,
   "metadata": {},
   "outputs": [
    {
     "data": {
      "text/plain": [
       "'Melanocytic nevi'"
      ]
     },
     "execution_count": 9,
     "metadata": {},
     "output_type": "execute_result"
    }
   ],
   "source": [
    "metadata.loc['ISIC_0025084','lesion']"
   ]
  },
  {
   "cell_type": "code",
   "execution_count": 10,
   "metadata": {},
   "outputs": [
    {
     "data": {
      "text/plain": [
       "<matplotlib.axes._subplots.AxesSubplot at 0x17c40851ac8>"
      ]
     },
     "execution_count": 10,
     "metadata": {},
     "output_type": "execute_result"
    },
    {
     "data": {
      "image/png": "[encoded data removed]",
      "text/plain": [
       "<Figure size 720x360 with 1 Axes>"
      ]
     },
     "metadata": {
      "needs_background": "light"
     },
     "output_type": "display_data"
    }
   ],
   "source": [
    "fig, ax1 = plt.subplots(1, 1, figsize = (10, 5))\n",
    "sns.countplot(y='lesion',data=metadata, hue=\"lesion\",ax=ax1)"
   ]
  },
  {
   "cell_type": "code",
   "execution_count": 11,
   "metadata": {},
   "outputs": [],
   "source": [
    "# Create a list of file names\n",
    "#-------------------------------------------------#\n",
    "filenames = [os.path.splitext(filename)[0] for filename in os.listdir(dir_database) if filename.endswith(\".jpg\")]\n",
    "prov_filenames = []\n",
    "for name in filenames:\n",
    "    prov_filenames.append(name[-12:])\n",
    "filenames = prov_filenames\n",
    "filenames = pd.DataFrame(np.array(filenames).reshape(10015,1),columns=['filenames'])\n",
    "# filenames = pd.DataFrame(np.array(filenames).reshape(2000,1),columns=['filenames'])"
   ]
  },
  {
   "cell_type": "code",
   "execution_count": 12,
   "metadata": {},
   "outputs": [],
   "source": [
    "# # Organize dataset according to photos actual order\n",
    "# ----------------------------------------------------\n",
    "# # Merging the file names and the metadata, thus organizing the data.\n",
    "\n",
    "organized_metadata = pd.merge(left=filenames, right=metadata, left_on='filenames',right_on='image_id')\n",
    "# # print(organized_metadata)"
   ]
  },
  {
   "cell_type": "code",
   "execution_count": 13,
   "metadata": {},
   "outputs": [],
   "source": [
    "organized_metadata['dx'] = organized_metadata['dx'].astype(np.str)\n",
    "organized_metadata['filenames'] = organized_metadata['filenames'].astype(np.str)"
   ]
  },
  {
   "cell_type": "code",
   "execution_count": 14,
   "metadata": {},
   "outputs": [],
   "source": [
    "# It removes all metadata but dx (lesion type)\n",
    "organized_metadata['filenames_dx'] = organized_metadata['dx'] + '_' + organized_metadata['filenames']"
   ]
  },
  {
   "cell_type": "code",
   "execution_count": 15,
   "metadata": {},
   "outputs": [],
   "source": [
    "# this will tell us how many images are associated with each lesion_id\n",
    "df = organized_metadata.groupby('lesion_id').count()\n",
    "\n",
    "# now we filter out lesion_id's that have only one image associated with it\n",
    "df = df[df['filenames'] == 1]\n",
    "df.reset_index(inplace=True)\n",
    "# df.head()"
   ]
  },
  {
   "cell_type": "code",
   "execution_count": 16,
   "metadata": {},
   "outputs": [],
   "source": [
    "# Identifing the lesions who has more than one image on the dataset\n",
    "def identify_duplicates(x):    \n",
    "    unique_list = list(df['lesion_id'])    \n",
    "    if x in unique_list:\n",
    "        return 'no_duplicates'\n",
    "    else:\n",
    "        return 'has_duplicates'"
   ]
  },
  {
   "cell_type": "code",
   "execution_count": 17,
   "metadata": {},
   "outputs": [
    {
     "data": {
      "text/html": [
       "<div>\n",
       "<style scoped>\n",
       "    .dataframe tbody tr th:only-of-type {\n",
       "        vertical-align: middle;\n",
       "    }\n",
       "\n",
       "    .dataframe tbody tr th {\n",
       "        vertical-align: top;\n",
       "    }\n",
       "\n",
       "    .dataframe thead th {\n",
       "        text-align: right;\n",
       "    }\n",
       "</style>\n",
       "<table border=\"1\" class=\"dataframe\">\n",
       "  <thead>\n",
       "    <tr style=\"text-align: right;\">\n",
       "      <th></th>\n",
       "      <th>filenames</th>\n",
       "      <th>lesion_id</th>\n",
       "      <th>dx</th>\n",
       "      <th>dx_type</th>\n",
       "      <th>age</th>\n",
       "      <th>sex</th>\n",
       "      <th>localization</th>\n",
       "      <th>labels</th>\n",
       "      <th>lesion</th>\n",
       "      <th>filenames_dx</th>\n",
       "      <th>duplicates</th>\n",
       "    </tr>\n",
       "  </thead>\n",
       "  <tbody>\n",
       "    <tr>\n",
       "      <th>0</th>\n",
       "      <td>ISIC_0024329</td>\n",
       "      <td>HAM_0002954</td>\n",
       "      <td>akiec</td>\n",
       "      <td>histo</td>\n",
       "      <td>75.0</td>\n",
       "      <td>female</td>\n",
       "      <td>lower extremity</td>\n",
       "      <td>0</td>\n",
       "      <td>Actinic keratoses</td>\n",
       "      <td>akiec_ISIC_0024329</td>\n",
       "      <td>no_duplicates</td>\n",
       "    </tr>\n",
       "    <tr>\n",
       "      <th>1</th>\n",
       "      <td>ISIC_0024372</td>\n",
       "      <td>HAM_0005389</td>\n",
       "      <td>akiec</td>\n",
       "      <td>histo</td>\n",
       "      <td>70.0</td>\n",
       "      <td>male</td>\n",
       "      <td>lower extremity</td>\n",
       "      <td>0</td>\n",
       "      <td>Actinic keratoses</td>\n",
       "      <td>akiec_ISIC_0024372</td>\n",
       "      <td>has_duplicates</td>\n",
       "    </tr>\n",
       "    <tr>\n",
       "      <th>2</th>\n",
       "      <td>ISIC_0024418</td>\n",
       "      <td>HAM_0003380</td>\n",
       "      <td>akiec</td>\n",
       "      <td>histo</td>\n",
       "      <td>75.0</td>\n",
       "      <td>female</td>\n",
       "      <td>lower extremity</td>\n",
       "      <td>0</td>\n",
       "      <td>Actinic keratoses</td>\n",
       "      <td>akiec_ISIC_0024418</td>\n",
       "      <td>has_duplicates</td>\n",
       "    </tr>\n",
       "    <tr>\n",
       "      <th>3</th>\n",
       "      <td>ISIC_0024450</td>\n",
       "      <td>HAM_0005505</td>\n",
       "      <td>akiec</td>\n",
       "      <td>histo</td>\n",
       "      <td>50.0</td>\n",
       "      <td>male</td>\n",
       "      <td>upper extremity</td>\n",
       "      <td>0</td>\n",
       "      <td>Actinic keratoses</td>\n",
       "      <td>akiec_ISIC_0024450</td>\n",
       "      <td>has_duplicates</td>\n",
       "    </tr>\n",
       "    <tr>\n",
       "      <th>4</th>\n",
       "      <td>ISIC_0024463</td>\n",
       "      <td>HAM_0004568</td>\n",
       "      <td>akiec</td>\n",
       "      <td>histo</td>\n",
       "      <td>50.0</td>\n",
       "      <td>male</td>\n",
       "      <td>upper extremity</td>\n",
       "      <td>0</td>\n",
       "      <td>Actinic keratoses</td>\n",
       "      <td>akiec_ISIC_0024463</td>\n",
       "      <td>has_duplicates</td>\n",
       "    </tr>\n",
       "  </tbody>\n",
       "</table>\n",
       "</div>"
      ],
      "text/plain": [
       "      filenames    lesion_id     dx dx_type   age     sex     localization  \\\n",
       "0  ISIC_0024329  HAM_0002954  akiec   histo  75.0  female  lower extremity   \n",
       "1  ISIC_0024372  HAM_0005389  akiec   histo  70.0    male  lower extremity   \n",
       "2  ISIC_0024418  HAM_0003380  akiec   histo  75.0  female  lower extremity   \n",
       "3  ISIC_0024450  HAM_0005505  akiec   histo  50.0    male  upper extremity   \n",
       "4  ISIC_0024463  HAM_0004568  akiec   histo  50.0    male  upper extremity   \n",
       "\n",
       "   labels             lesion        filenames_dx      duplicates  \n",
       "0       0  Actinic keratoses  akiec_ISIC_0024329   no_duplicates  \n",
       "1       0  Actinic keratoses  akiec_ISIC_0024372  has_duplicates  \n",
       "2       0  Actinic keratoses  akiec_ISIC_0024418  has_duplicates  \n",
       "3       0  Actinic keratoses  akiec_ISIC_0024450  has_duplicates  \n",
       "4       0  Actinic keratoses  akiec_ISIC_0024463  has_duplicates  "
      ]
     },
     "execution_count": 17,
     "metadata": {},
     "output_type": "execute_result"
    }
   ],
   "source": [
    "# create a new colum that is a copy of the lesion_id column\n",
    "organized_metadata['duplicates'] = organized_metadata['lesion_id']\n",
    "# apply the function to this new column\n",
    "organized_metadata['duplicates'] = organized_metadata['duplicates'].apply(identify_duplicates)\n",
    "organized_metadata.head()"
   ]
  },
  {
   "cell_type": "code",
   "execution_count": 18,
   "metadata": {},
   "outputs": [
    {
     "data": {
      "text/plain": [
       "no_duplicates     5514\n",
       "has_duplicates    4501\n",
       "Name: duplicates, dtype: int64"
      ]
     },
     "execution_count": 18,
     "metadata": {},
     "output_type": "execute_result"
    }
   ],
   "source": [
    "organized_metadata['duplicates'].value_counts()"
   ]
  },
  {
   "cell_type": "code",
   "execution_count": 19,
   "metadata": {},
   "outputs": [],
   "source": [
    "# now we filter out images that don't have duplicates\n",
    "metadataNotDuplicates = organized_metadata[organized_metadata['duplicates'] == 'no_duplicates']\n",
    "# metadataNotDuplicates.shape"
   ]
  },
  {
   "cell_type": "code",
   "execution_count": 20,
   "metadata": {},
   "outputs": [
    {
     "name": "stdout",
     "output_type": "stream",
     "text": [
      "5514\n",
      "10015\n"
     ]
    }
   ],
   "source": [
    "# #%%time\n",
    "# # Labels\n",
    "# #%%time\n",
    "labelsNotDuplicates = np.array(metadataNotDuplicates['dx'].tolist())\n",
    "filenamesNotDuplicates = np.array(metadataNotDuplicates['filenames_dx'].tolist())\n",
    "print(len(labelsNotDuplicates))\n",
    "\n",
    "labels = np.array(organized_metadata['dx'].tolist())\n",
    "filenames = np.array(organized_metadata['filenames_dx'].tolist())\n",
    "print(len(labels))"
   ]
  },
  {
   "cell_type": "code",
   "execution_count": 21,
   "metadata": {},
   "outputs": [],
   "source": [
    "# Creating Train / Val / Test folders (One time use)\n",
    "lesionstype = ['nv','mel',\"vasc\",'akiec','bcc','bkl','df']"
   ]
  },
  {
   "cell_type": "code",
   "execution_count": 22,
   "metadata": {},
   "outputs": [],
   "source": [
    "os.chdir(dir_database)"
   ]
  },
  {
   "cell_type": "code",
   "execution_count": 23,
   "metadata": {},
   "outputs": [],
   "source": [
    "# %%time\n",
    "def list_files(path):\n",
    "    # returns a list of names (with extension, without full path) of all files \n",
    "    # in folder path\n",
    "    files = []\n",
    "    for name in os.listdir(path):\n",
    "        if os.path.isfile(os.path.join(path, name)):\n",
    "            files.append(name)\n",
    "    return files "
   ]
  },
  {
   "cell_type": "code",
   "execution_count": 24,
   "metadata": {},
   "outputs": [],
   "source": [
    "images = list_files('.')"
   ]
  },
  {
   "cell_type": "code",
   "execution_count": 25,
   "metadata": {},
   "outputs": [],
   "source": [
    "for img, extra in zip(images, labels) :\n",
    "    filename, extension = os.path.splitext(img)\n",
    "    if filename.startswith(\"ISIC_\"):\n",
    "        os.rename(img, ''.join([extra, '_', filename, extension]))\n",
    "#     print(img)"
   ]
  },
  {
   "cell_type": "code",
   "execution_count": 26,
   "metadata": {},
   "outputs": [],
   "source": [
    "# Shuffle the data order:\n",
    "organized_metadata = organized_metadata.sample(frac=1).reset_index(drop=True)"
   ]
  },
  {
   "cell_type": "markdown",
   "metadata": {},
   "source": [
    "#### Separating only lesions with just unique images for Validation and Testing"
   ]
  },
  {
   "cell_type": "code",
   "execution_count": 27,
   "metadata": {},
   "outputs": [],
   "source": [
    "x, data_validate, y, label_validate = train_test_split(filenamesNotDuplicates,                                           \n",
    "                                                       labelsNotDuplicates, \n",
    "                                                        test_size=0.40, \n",
    "                                                        random_state=42, \n",
    "                                                        stratify=labelsNotDuplicates)\n",
    "\n",
    "del(x)\n",
    "del(y)"
   ]
  },
  {
   "cell_type": "code",
   "execution_count": 28,
   "metadata": {},
   "outputs": [
    {
     "data": {
      "text/plain": [
       "2206"
      ]
     },
     "execution_count": 28,
     "metadata": {},
     "output_type": "execute_result"
    }
   ],
   "source": [
    "len(data_validate)"
   ]
  },
  {
   "cell_type": "code",
   "execution_count": 29,
   "metadata": {},
   "outputs": [],
   "source": [
    "# here we identify lesion_id's that have duplicate images and those that have only\n",
    "# one image.\n",
    "\n",
    "def train_image_detection(x):    \n",
    "    data_validate_list = list(data_validate)    \n",
    "    if x in data_validate_list:\n",
    "        return 'validate_test'\n",
    "    else:\n",
    "        return 'train'"
   ]
  },
  {
   "cell_type": "code",
   "execution_count": 30,
   "metadata": {},
   "outputs": [],
   "source": [
    "# create a new colum that is a copy of the lesion_id column\n",
    "organized_metadata['set'] = organized_metadata['filenames_dx']\n",
    "# apply the function to this new column\n",
    "organized_metadata['set'] = organized_metadata['set'].apply(train_image_detection)\n"
   ]
  },
  {
   "cell_type": "code",
   "execution_count": 31,
   "metadata": {},
   "outputs": [],
   "source": [
    "# Using the rest of the images as the training set\n",
    "provisorio = organized_metadata[organized_metadata['set'] == 'train']\n",
    "train_filenames = provisorio['filenames_dx']+'.jpg'\n",
    "train_filenames = train_filenames.tolist()\n",
    "label_train = provisorio['dx']\n",
    "label_train = label_train.tolist()\n",
    "del(provisorio)"
   ]
  },
  {
   "cell_type": "code",
   "execution_count": 32,
   "metadata": {},
   "outputs": [],
   "source": [
    "# Spliting the images with no repetition into Test and Validation Set\n",
    "data_validate, data_test, label_validate, label_test = train_test_split(data_validate, label_validate, \n",
    "                                                                  test_size=0.5, \n",
    "                                                                  random_state=42, \n",
    "                                                                  stratify=label_validate)"
   ]
  },
  {
   "cell_type": "code",
   "execution_count": 33,
   "metadata": {},
   "outputs": [],
   "source": [
    "data_validate = pd.Series(data_validate)+'.jpg'\n",
    "data_test = pd.Series(data_test)+'.jpg'"
   ]
  },
  {
   "cell_type": "code",
   "execution_count": 34,
   "metadata": {},
   "outputs": [],
   "source": [
    "val_filenames = [name for name in data_validate.tolist()]\n",
    "test_filenames = [name for name in data_test.tolist()]"
   ]
  },
  {
   "cell_type": "code",
   "execution_count": 35,
   "metadata": {},
   "outputs": [
    {
     "name": "stdout",
     "output_type": "stream",
     "text": [
      "Separation of images for training, validation and testing: \n",
      "\n",
      "Total labels:  10015\n",
      "Validation_labels:  1103  -  11.0 %\n",
      "Testing_labels:  1103  -  11.0 %\n",
      "Trainning_labels:  1103  -  78.0 %\n",
      "\n",
      "Total images:  10015\n",
      "Validation Images:  1103  -  11.0 %\n",
      "Testing Images:  1103  -  11.0 %\n",
      "Trainning Images:  7809  -  78.0 %\n"
     ]
    }
   ],
   "source": [
    "print('Separation of images for training, validation and testing: ')\n",
    "print()\n",
    "print('Total labels: ', len(labels))\n",
    "perc_label_validate = round(100*(len(label_validate))/len(labels),1)\n",
    "print('Validation_labels: ', len(label_validate), ' - ',perc_label_validate,'%')\n",
    "perc_label_test = round(100*(len(label_test))/len(labels),1)\n",
    "print('Testing_labels: ', len(label_test), ' - ',perc_label_test,'%')\n",
    "perc_label_train = round(100*(len(label_train))/len(labels),1)\n",
    "print('Trainning_labels: ', len(label_train), ' - ',perc_label_train,'%')\n",
    "print()\n",
    "print('Total images: ', len(filenames))\n",
    "perc_val_filenames = round(100*(len(val_filenames))/len(filenames),1)\n",
    "print('Validation Images: ', len(val_filenames), ' - ',perc_val_filenames,'%')\n",
    "perc_test_filenames = round(100*(len(test_filenames))/len(filenames),1)\n",
    "print('Testing Images: ', len(test_filenames), ' - ',perc_test_filenames,'%')\n",
    "perc_train_train = round(100*(len(train_filenames))/len(filenames),1)\n",
    "print('Trainning Images: ', len(train_filenames), ' - ',perc_train_train,'%')"
   ]
  },
  {
   "cell_type": "code",
   "execution_count": 36,
   "metadata": {},
   "outputs": [
    {
     "name": "stdout",
     "output_type": "stream",
     "text": [
      "Frequency of unique values of the said array:\n",
      "[['akiec' 'bcc' 'bkl' 'df' 'mel' 'nv' 'vasc']\n",
      " ['267' '444' '923' '99' '1021' '4939' '116']]\n"
     ]
    }
   ],
   "source": [
    "unique_elements, counts_elements = np.unique(label_train, return_counts=True)\n",
    "print(\"Frequency of unique values of the said array:\")\n",
    "print(np.asarray((unique_elements, counts_elements)))"
   ]
  },
  {
   "cell_type": "code",
   "execution_count": 37,
   "metadata": {},
   "outputs": [],
   "source": [
    "os.chdir(dir_database)"
   ]
  },
  {
   "cell_type": "code",
   "execution_count": 38,
   "metadata": {},
   "outputs": [
    {
     "name": "stdout",
     "output_type": "stream",
     "text": [
      "Analysing train nv Lesions\n",
      "train nv lesions images: 4939\n",
      "Analysing train mel Lesions\n",
      "train mel lesions images: 4939\n",
      "Analysing train vasc Lesions\n",
      "train vasc lesions images: 4939\n",
      "Analysing train akiec Lesions\n",
      "train akiec lesions images: 4939\n",
      "Analysing train bcc Lesions\n",
      "train bcc lesions images: 4939\n",
      "Analysing train bkl Lesions\n",
      "train bkl lesions images: 4939\n",
      "Analysing train df Lesions\n",
      "train df lesions images: 4939\n",
      "\n",
      "---- / / ----\n",
      "Analysing test nv Lesions\n",
      "test nv lesions images: 883\n",
      "Analysing test mel Lesions\n",
      "test mel lesions images: 46\n",
      "Analysing test vasc Lesions\n",
      "test vasc lesions images: 13\n",
      "Analysing test akiec Lesions\n",
      "test akiec lesions images: 30\n",
      "Analysing test bcc Lesions\n",
      "test bcc lesions images: 35\n",
      "Analysing test bkl Lesions\n",
      "test bkl lesions images: 88\n",
      "Analysing test df Lesions\n",
      "test df lesions images: 8\n",
      "\n",
      "---- / / ----\n",
      "Analysing val nv Lesions\n",
      "val nv lesions images: 883\n",
      "Analysing val mel Lesions\n",
      "val mel lesions images: 46\n",
      "Analysing val vasc Lesions\n",
      "val vasc lesions images: 13\n",
      "Analysing val akiec Lesions\n",
      "val akiec lesions images: 30\n",
      "Analysing val bcc Lesions\n",
      "val bcc lesions images: 35\n",
      "Analysing val bkl Lesions\n",
      "val bkl lesions images: 88\n",
      "Analysing val df Lesions\n",
      "val df lesions images: 8\n",
      "\n",
      "---- / / ----\n"
     ]
    }
   ],
   "source": [
    "# %%time\n",
    "# # Copy-pasting images: for train, validation and test\n",
    "\n",
    "envs = dict()\n",
    "envs['train'] = train_filenames\n",
    "envs['test'] = test_filenames\n",
    "envs['val'] = val_filenames\n",
    "\n",
    "for env in envs:\n",
    "    if not os.path.isdir(dir_database +'/'+ env): os.makedirs(dir_database +'/'+ env)\n",
    "    for i in lesionstype:   \n",
    "        print('Analysing '+ env + ' ' + i + ' Lesions')\n",
    "        if not os.path.isdir(dir_database + '/'+env+'/' + i): os.makedirs(dir_database + '/'+env+'/' + i)\n",
    "        if len(os.listdir(os.path.abspath(dir_database + '/'+env+'/' + i)))<=1:\n",
    "            for name in envs[env]:\n",
    "                if name.startswith(i):\n",
    "                    shutil.copy(name, dir_database+\"/\"+env+\"/\"+i+\"/\")\n",
    "        print(env+' '+i+' lesions images: '+ str(len(os.listdir(os.path.abspath(dir_database + '/'+env+'/' + i)))))\n",
    "    print()\n",
    "    print('---- / / ----')"
   ]
  },
  {
   "cell_type": "code",
   "execution_count": 39,
   "metadata": {
    "scrolled": true
   },
   "outputs": [
    {
     "name": "stdout",
     "output_type": "stream",
     "text": [
      "nv -  4939\n",
      "mel -  4939\n",
      "bkl -  4939\n",
      "bcc -  4939\n",
      "akiec -  4939\n",
      "vasc -  4939\n",
      "df -  4939\n"
     ]
    }
   ],
   "source": [
    "# check how many train images we have in each folder\n",
    "\n",
    "print('nv - ',len(os.listdir(dir_database+'/train/nv')))\n",
    "print('mel - ',len(os.listdir(dir_database+'/train/mel')))\n",
    "print('bkl - ',len(os.listdir(dir_database+'/train/bkl')))\n",
    "print('bcc - ',len(os.listdir(dir_database+'/train/bcc')))\n",
    "print('akiec - ',len(os.listdir(dir_database+'/train/akiec')))\n",
    "print('vasc - ',len(os.listdir(dir_database+'/train/vasc')))\n",
    "print('df - ',len(os.listdir(dir_database+'/train/df')))"
   ]
  },
  {
   "cell_type": "code",
   "execution_count": 40,
   "metadata": {},
   "outputs": [],
   "source": [
    "train_path = dir_database+\"/train\"\n",
    "val_path = dir_database+\"/val\"\n",
    "test_path = dir_database+\"/test\""
   ]
  },
  {
   "cell_type": "code",
   "execution_count": 41,
   "metadata": {},
   "outputs": [],
   "source": [
    "# datagen = ImageDataGenerator(\n",
    "#         rotation_range=randrange(0, 180, 5),\n",
    "#         width_shift_range=uniform(0.1,0.3),\n",
    "#         height_shift_range=uniform(0.1,0.3),\n",
    "# #         shear_range=uniform(0.05,0.4),\n",
    "#         zoom_range=uniform(0.1,0.3),\n",
    "#         horizontal_flip=choice([True, False]),\n",
    "#         vertical_flip=choice([True, False]),\n",
    "#         fill_mode='nearest')"
   ]
  },
  {
   "cell_type": "code",
   "execution_count": 42,
   "metadata": {},
   "outputs": [],
   "source": [
    "# dir_zip = r'D:\\Python\\Jupyter\\DeepLearning\\MobileNet2\\zipFiles'\n",
    "# dir_database = r'D:\\Python\\Jupyter\\DeepLearning\\MobileNet2\\DataBase'\n",
    "# dir_MetaData = r'D:\\Python\\Jupyter\\DeepLearning\\MobileNet2\\metaData_dataBase'\n",
    "# dir_project = r'D:\\Python\\Jupyter\\DeepLearning\\MobileNet2'"
   ]
  },
  {
   "cell_type": "code",
   "execution_count": 43,
   "metadata": {},
   "outputs": [],
   "source": [
    "base_dir=dir_database"
   ]
  },
  {
   "cell_type": "code",
   "execution_count": 44,
   "metadata": {},
   "outputs": [
    {
     "name": "stdout",
     "output_type": "stream",
     "text": [
      "train\n",
      "Balancing train nv Lesions\n",
      "Data From... D:\\Python\\Jupyter\\DeepLearning\\MobileNet\\DataBase\\train\\nv\n",
      "Balancing train mel Lesions\n",
      "Data From... D:\\Python\\Jupyter\\DeepLearning\\MobileNet\\DataBase\\train\\mel\n",
      "Balancing train vasc Lesions\n",
      "Data From... D:\\Python\\Jupyter\\DeepLearning\\MobileNet\\DataBase\\train\\vasc\n",
      "Balancing train akiec Lesions\n",
      "Data From... D:\\Python\\Jupyter\\DeepLearning\\MobileNet\\DataBase\\train\\akiec\n",
      "Balancing train bcc Lesions\n",
      "Data From... D:\\Python\\Jupyter\\DeepLearning\\MobileNet\\DataBase\\train\\bcc\n",
      "Balancing train bkl Lesions\n",
      "Data From... D:\\Python\\Jupyter\\DeepLearning\\MobileNet\\DataBase\\train\\bkl\n",
      "Balancing train df Lesions\n",
      "Data From... D:\\Python\\Jupyter\\DeepLearning\\MobileNet\\DataBase\\train\\df\n",
      "Finnish!\n",
      "Wall time: 108 ms\n"
     ]
    }
   ],
   "source": [
    "%%time\n",
    "envs = dict()\n",
    "envs['train'] = train_filenames\n",
    "# envs['test'] = test_filenames\n",
    "# envs['val'] = val_filenames\n",
    "\n",
    "\n",
    "for env in envs:\n",
    "    print(env)\n",
    "    nvFolderSize = len(os.listdir(os.path.abspath(dir_database + '/'+env+'/'+'nv')))\n",
    "    for i in lesionstype:   \n",
    "        print('Balancing '+ env + ' ' + i + ' Lesions')\n",
    "        os.chdir(dir_database + '/'+env+'/'+i)\n",
    "        print('Data From... '+os.getcwd())\n",
    "        if len(os.listdir(os.path.abspath(dir_database + '/'+env+'/'+i)))<nvFolderSize:\n",
    "            print(nvFolderSize)\n",
    "            print(len(os.listdir(os.path.abspath(dir_database + '/'+env+'/'+i))))\n",
    "            print('...')\n",
    "            images = io.ImageCollection(dir_database + '/'+env+'/'+i+'/'+i+'*', conserve_memory=True, load_func=None)\n",
    "            images = io.concatenate_images(images)\n",
    "            print('......')\n",
    "\n",
    "            for batch in datagen.flow(images, batch_size=1,\n",
    "                                      save_to_dir=dir_database + '/'+env+'/'+i, save_prefix='aug', save_format='jpeg'):\n",
    "    #                 print('.........')\n",
    "                if len(os.listdir(os.path.abspath(dir_database + '/'+env+'/'+i)))==nvFolderSize:\n",
    "                    print('.........')\n",
    "                    break  # otherwise the generator would loop indefinitely\n",
    "            print(len(os.listdir(os.path.abspath(dir_database + '/'+env+'/'+i))))                \n",
    "            print('--//--')\n",
    "print('Finnish!')"
   ]
  },
  {
   "cell_type": "code",
   "execution_count": 45,
   "metadata": {},
   "outputs": [],
   "source": [
    "# Declare a few useful values\n",
    "num_train_samples = sum([len(files) for r, d, files in os.walk(train_path)]) #len(train_filenames) \n",
    "num_val_samples = sum([len(files) for r, d, files in os.walk(val_path)]) #len(val_filenames)\n",
    "num_test_samples = sum([len(files) for r, d, files in os.walk(test_path)]) #len(test_filenames)\n",
    "train_batch_size = 10\n",
    "val_batch_size = 10\n",
    "test_batch_size = 1\n",
    "\n",
    "image_width = 224\n",
    "image_height = 224"
   ]
  },
  {
   "cell_type": "code",
   "execution_count": 46,
   "metadata": {},
   "outputs": [],
   "source": [
    "datagen = ImageDataGenerator(\n",
    "    preprocessing_function= \\\n",
    "    tensorflow.keras.applications.mobilenet.preprocess_input)"
   ]
  },
  {
   "cell_type": "code",
   "execution_count": 47,
   "metadata": {},
   "outputs": [],
   "source": [
    "# Declare how many steps are needed in an iteration\n",
    "train_steps = np.ceil(num_train_samples / train_batch_size)\n",
    "val_steps = np.ceil(num_val_samples / val_batch_size)\n",
    "test_steps = np.ceil(num_test_samples / val_batch_size)"
   ]
  },
  {
   "cell_type": "code",
   "execution_count": 48,
   "metadata": {},
   "outputs": [
    {
     "name": "stdout",
     "output_type": "stream",
     "text": [
      "3458.0 111.0 111.0\n"
     ]
    }
   ],
   "source": [
    "print(train_steps, val_steps, test_steps)"
   ]
  },
  {
   "cell_type": "markdown",
   "metadata": {},
   "source": [
    "### Set Up the generator batches\n",
    "\n",
    "#### Train Batches"
   ]
  },
  {
   "cell_type": "code",
   "execution_count": 49,
   "metadata": {},
   "outputs": [
    {
     "name": "stdout",
     "output_type": "stream",
     "text": [
      "Train Batches: \n",
      "Found 34573 images belonging to 7 classes.\n"
     ]
    }
   ],
   "source": [
    "# Set up generators\n",
    "print('Train Batches: ')\n",
    "\n",
    "train_batches = datagen.flow_from_directory(\n",
    "    train_path,\n",
    "    target_size=(image_height, image_width),\n",
    "    batch_size=train_batch_size,\n",
    "    class_mode = 'categorical',\n",
    "    classes = lesionstype)"
   ]
  },
  {
   "cell_type": "markdown",
   "metadata": {},
   "source": [
    "#### Validation Batches"
   ]
  },
  {
   "cell_type": "code",
   "execution_count": 50,
   "metadata": {},
   "outputs": [
    {
     "name": "stdout",
     "output_type": "stream",
     "text": [
      "Validation Batches: \n",
      "Found 1103 images belonging to 7 classes.\n"
     ]
    }
   ],
   "source": [
    "print('Validation Batches: ')\n",
    "val_batches = datagen.flow_from_directory(\n",
    "    val_path,\n",
    "    target_size=(image_height, image_width),\n",
    "    batch_size=val_batch_size,\n",
    "    class_mode = 'categorical',\n",
    "    classes = lesionstype)"
   ]
  },
  {
   "cell_type": "markdown",
   "metadata": {},
   "source": [
    "#### Test Batches"
   ]
  },
  {
   "cell_type": "code",
   "execution_count": 51,
   "metadata": {},
   "outputs": [
    {
     "name": "stdout",
     "output_type": "stream",
     "text": [
      "Test Batches: \n",
      "Found 1103 images belonging to 7 classes.\n"
     ]
    }
   ],
   "source": [
    "print('Test Batches: ')\n",
    "test_batches = datagen.flow_from_directory(\n",
    "    test_path,\n",
    "    target_size=(image_height, image_width),\n",
    "    batch_size=test_batch_size,\n",
    "    class_mode = 'categorical',\n",
    "    classes = lesionstype,\n",
    "    shuffle = False)"
   ]
  },
  {
   "cell_type": "code",
   "execution_count": 52,
   "metadata": {},
   "outputs": [
    {
     "name": "stdout",
     "output_type": "stream",
     "text": [
      "Train: data batch shape: (10, 224, 224, 3)\n",
      "Train: labels batch shape: (10, 7)\n",
      "--//--\n",
      "Validation: data batch shape: (10, 224, 224, 3)\n",
      "Validation: labels batch shape: (10, 7)\n",
      "--//--\n",
      "Test: data batch shape: (1, 224, 224, 3)\n",
      "Test: labels batch shape: (1, 7)\n",
      "--//--\n"
     ]
    }
   ],
   "source": [
    "for data_batch, labels_batch in train_batches:\n",
    "    print('Train: data batch shape:', data_batch.shape)\n",
    "    print('Train: labels batch shape:', labels_batch.shape)\n",
    "    print('--//--')\n",
    "    break\n",
    "    \n",
    "for data_batch, labels_batch in val_batches:\n",
    "    print('Validation: data batch shape:', data_batch.shape)\n",
    "    print('Validation: labels batch shape:', labels_batch.shape)\n",
    "    print('--//--')\n",
    "    break\n",
    "    \n",
    "for data_batch, labels_batch in test_batches:\n",
    "    print('Test: data batch shape:', data_batch.shape)\n",
    "    print('Test: labels batch shape:', labels_batch.shape)\n",
    "    print('--//--')\n",
    "    break"
   ]
  },
  {
   "cell_type": "markdown",
   "metadata": {},
   "source": [
    "## Sample Weights"
   ]
  },
  {
   "cell_type": "code",
   "execution_count": 53,
   "metadata": {},
   "outputs": [],
   "source": [
    "from sklearn.utils.class_weight import compute_class_weight"
   ]
  },
  {
   "cell_type": "code",
   "execution_count": 54,
   "metadata": {},
   "outputs": [],
   "source": [
    "class_weights = compute_class_weight(\"balanced\", lesionstype, label_train)\n"
   ]
  },
  {
   "cell_type": "code",
   "execution_count": 55,
   "metadata": {},
   "outputs": [],
   "source": [
    "class_weights={\n",
    "    0: 1.0, # akiec\n",
    "    1: 1.0, # bcc\n",
    "    2: 1.0, # bkl\n",
    "    3: 1.0, # df\n",
    "    4: 1.0, # mel\n",
    "    5: 1.0, # nv\n",
    "    6: 1.0, # vasc\n",
    "}"
   ]
  },
  {
   "cell_type": "markdown",
   "metadata": {},
   "source": [
    "## Precision / Recall / F-Measure"
   ]
  },
  {
   "cell_type": "code",
   "execution_count": 56,
   "metadata": {},
   "outputs": [],
   "source": [
    "def precision(y_true, y_pred):\n",
    "    \"\"\"Precision metric.\n",
    "    Only computes a batch-wise average of precision.\n",
    "    Computes the precision, a metric for multi-label classification of\n",
    "    how many selected items are relevant.\n",
    "    \"\"\"\n",
    "    true_positives = K.sum(K.round(K.clip(y_true * y_pred, 0, 1)))\n",
    "    predicted_positives = K.sum(K.round(K.clip(y_pred, 0, 1)))\n",
    "    precision = true_positives / (predicted_positives + K.epsilon())\n",
    "    return precision\n",
    "\n",
    "def recall(y_true, y_pred):\n",
    "    \"\"\"Recall metric.\n",
    "    Only computes a batch-wise average of recall.\n",
    "    Computes the recall, a metric for multi-label classification of\n",
    "    how many relevant items are selected.\n",
    "    \"\"\"\n",
    "    true_positives = K.sum(K.round(K.clip(y_true * y_pred, 0, 1)))\n",
    "    possible_positives = K.sum(K.round(K.clip(y_true, 0, 1)))\n",
    "    recall = true_positives / (possible_positives + K.epsilon())\n",
    "    return recall\n",
    "\n",
    "def fbeta_score(y_true, y_pred, beta=1):\n",
    "    \"\"\"Computes the F score.\n",
    "    The F score is the weighted harmonic mean of precision and recall.\n",
    "    Here it is only computed as a batch-wise average, not globally.\n",
    "    This is useful for multi-label classification, where input samples can be\n",
    "    classified as sets of labels. By only using accuracy (precision) a model\n",
    "    would achieve a perfect score by simply assigning every class to every\n",
    "    input. In order to avoid this, a metric should penalize incorrect class\n",
    "    assignments as well (recall). The F-beta score (ranged from 0.0 to 1.0)\n",
    "    computes this, as a weighted mean of the proportion of correct class\n",
    "    assignments vs. the proportion of incorrect class assignments.\n",
    "\n",
    "    With beta = 1, this is equivalent to a F-measure. With beta < 1, assigning\n",
    "    correct classes becomes more important, and with beta > 1 the metric is\n",
    "    instead weighted towards penalizing incorrect class assignments.\n",
    "    \"\"\"\n",
    "\n",
    "    if beta < 0:\n",
    "        raise ValueError('The lowest choosable beta is zero (only precision).')\n",
    "\n",
    "    # If there are no true positives, fix the F score at 0 like sklearn.\n",
    "    if K.sum(K.round(K.clip(y_true, 0, 1))) == 0:\n",
    "        return 0\n",
    "\n",
    "    p = precision(y_true, y_pred)\n",
    "    r = recall(y_true, y_pred)\n",
    "    bb = beta ** 2\n",
    "    fbeta_score = (1 + bb) * (p * r) / (bb * p + r + K.epsilon())\n",
    "    return fbeta_score\n",
    "\n",
    "def fmeasure(y_true, y_pred):\n",
    "    \"\"\"Computes the f-measure, the harmonic mean of precision and recall.\n",
    "    Here it is only computed as a batch-wise average, not globally.\n",
    "    \"\"\"\n",
    "    return fbeta_score(y_true, y_pred, beta=1)"
   ]
  },
  {
   "cell_type": "code",
   "execution_count": 57,
   "metadata": {},
   "outputs": [
    {
     "name": "stdout",
     "output_type": "stream",
     "text": [
      "Balanced Train Dataset\n",
      "\n",
      "nv -  4939\n",
      "mel -  4939\n",
      "bkl -  4939\n",
      "bcc -  4939\n",
      "akiec -  4939\n",
      "vasc -  4939\n",
      "df -  4939\n"
     ]
    }
   ],
   "source": [
    "# Check how many train images we now have in each folder.\n",
    "# This is the original images plus the augmented images.\n",
    "print('Balanced Train Dataset')\n",
    "print()\n",
    "print('nv - ',len(os.listdir(base_dir+'/train/nv')))\n",
    "print('mel - ',len(os.listdir(base_dir+'/train/mel')))\n",
    "print('bkl - ',len(os.listdir(base_dir+'/train/bkl')))\n",
    "print('bcc - ',len(os.listdir(base_dir+'/train/bcc')))\n",
    "print('akiec - ',len(os.listdir(base_dir+'/train/akiec')))\n",
    "print('vasc - ',len(os.listdir(base_dir+'/train/vasc')))\n",
    "print('df - ',len(os.listdir(base_dir+'/train/df')))"
   ]
  },
  {
   "cell_type": "markdown",
   "metadata": {},
   "source": [
    "### Custom Metrics "
   ]
  },
  {
   "cell_type": "code",
   "execution_count": 58,
   "metadata": {},
   "outputs": [],
   "source": [
    "def precision(y_true, y_pred):\n",
    "    \"\"\"Precision metric.\n",
    "    Only computes a batch-wise average of precision.\n",
    "    Computes the precision, a metric for multi-label classification of\n",
    "    how many selected items are relevant.\n",
    "    \"\"\"\n",
    "    true_positives = K.sum(K.round(K.clip(y_true * y_pred, 0, 1)))\n",
    "    predicted_positives = K.sum(K.round(K.clip(y_pred, 0, 1)))\n",
    "    precision = true_positives / (predicted_positives + K.epsilon())\n",
    "    return precision\n",
    "\n",
    "def recall(y_true, y_pred):\n",
    "    \"\"\"Recall metric.\n",
    "    Only computes a batch-wise average of recall.\n",
    "    Computes the recall, a metric for multi-label classification of\n",
    "    how many relevant items are selected.\n",
    "    \"\"\"\n",
    "    true_positives = K.sum(K.round(K.clip(y_true * y_pred, 0, 1)))\n",
    "    possible_positives = K.sum(K.round(K.clip(y_true, 0, 1)))\n",
    "    recall = true_positives / (possible_positives + K.epsilon())\n",
    "    return recall\n",
    "\n",
    "def fbeta_score(y_true, y_pred, beta=1):\n",
    "    \"\"\"Computes the F score.\n",
    "    The F score is the weighted harmonic mean of precision and recall.\n",
    "    Here it is only computed as a batch-wise average, not globally.\n",
    "    This is useful for multi-label classification, where input samples can be\n",
    "    classified as sets of labels. By only using accuracy (precision) a model\n",
    "    would achieve a perfect score by simply assigning every class to every\n",
    "    input. In order to avoid this, a metric should penalize incorrect class\n",
    "    assignments as well (recall). The F-beta score (ranged from 0.0 to 1.0)\n",
    "    computes this, as a weighted mean of the proportion of correct class\n",
    "    assignments vs. the proportion of incorrect class assignments.\n",
    "\n",
    "    With beta = 1, this is equivalent to a F-measure. With beta < 1, assigning\n",
    "    correct classes becomes more important, and with beta > 1 the metric is\n",
    "    instead weighted towards penalizing incorrect class assignments.\n",
    "    \"\"\"\n",
    "\n",
    "    if beta < 0:\n",
    "        raise ValueError('The lowest choosable beta is zero (only precision).')\n",
    "\n",
    "    # If there are no true positives, fix the F score at 0 like sklearn.\n",
    "    if K.sum(K.round(K.clip(y_true, 0, 1))) == 0:\n",
    "        return 0\n",
    "\n",
    "    p = precision(y_true, y_pred)\n",
    "    r = recall(y_true, y_pred)\n",
    "    bb = beta ** 2\n",
    "    fbeta_score = (1 + bb) * (p * r) / (bb * p + r + K.epsilon())\n",
    "    return fbeta_score\n",
    "\n",
    "def fmeasure(y_true, y_pred):\n",
    "    \"\"\"Computes the f-measure, the harmonic mean of precision and recall.\n",
    "    Here it is only computed as a batch-wise average, not globally.\n",
    "    \"\"\"\n",
    "    return fbeta_score(y_true, y_pred, beta=1)"
   ]
  },
  {
   "cell_type": "markdown",
   "metadata": {},
   "source": [
    "# GoogleNet"
   ]
  },
  {
   "cell_type": "code",
   "execution_count": 59,
   "metadata": {},
   "outputs": [
    {
     "name": "stdout",
     "output_type": "stream",
     "text": [
      "WARNING:tensorflow:From D:\\Anaconda3\\lib\\site-packages\\tensorflow\\python\\ops\\resource_variable_ops.py:435: colocate_with (from tensorflow.python.framework.ops) is deprecated and will be removed in a future version.\n",
      "Instructions for updating:\n",
      "Colocations handled automatically by placer.\n",
      "WARNING:tensorflow:From D:\\Anaconda3\\lib\\site-packages\\tensorflow\\python\\keras\\layers\\core.py:143: calling dropout (from tensorflow.python.ops.nn_ops) with keep_prob is deprecated and will be removed in a future version.\n",
      "Instructions for updating:\n",
      "Please use `rate` instead of `keep_prob`. Rate should be set to `rate = 1 - keep_prob`.\n",
      "__________________________________________________________________________________________________\n",
      "Layer (type)                    Output Shape         Param #     Connected to                     \n",
      "==================================================================================================\n",
      "input_1 (InputLayer)            (None, 224, 224, 3)  0                                            \n",
      "__________________________________________________________________________________________________\n",
      "conv2d (Conv2D)                 (None, 112, 112, 64) 9472        input_1[0][0]                    \n",
      "__________________________________________________________________________________________________\n",
      "zero_padding2d (ZeroPadding2D)  (None, 114, 114, 64) 0           conv2d[0][0]                     \n",
      "__________________________________________________________________________________________________\n",
      "max_pooling2d (MaxPooling2D)    (None, 56, 56, 64)   0           zero_padding2d[0][0]             \n",
      "__________________________________________________________________________________________________\n",
      "conv2d_1 (Conv2D)               (None, 56, 56, 64)   4160        max_pooling2d[0][0]              \n",
      "__________________________________________________________________________________________________\n",
      "conv2d_2 (Conv2D)               (None, 56, 56, 192)  110784      conv2d_1[0][0]                   \n",
      "__________________________________________________________________________________________________\n",
      "zero_padding2d_1 (ZeroPadding2D (None, 58, 58, 192)  0           conv2d_2[0][0]                   \n",
      "__________________________________________________________________________________________________\n",
      "max_pooling2d_1 (MaxPooling2D)  (None, 28, 28, 192)  0           zero_padding2d_1[0][0]           \n",
      "__________________________________________________________________________________________________\n",
      "conv2d_4 (Conv2D)               (None, 28, 28, 96)   18528       max_pooling2d_1[0][0]            \n",
      "__________________________________________________________________________________________________\n",
      "conv2d_6 (Conv2D)               (None, 28, 28, 16)   3088        max_pooling2d_1[0][0]            \n",
      "__________________________________________________________________________________________________\n",
      "conv2d_8 (Conv2D)               (None, 28, 28, 32)   6176        max_pooling2d_1[0][0]            \n",
      "__________________________________________________________________________________________________\n",
      "conv2d_3 (Conv2D)               (None, 28, 28, 64)   12352       max_pooling2d_1[0][0]            \n",
      "__________________________________________________________________________________________________\n",
      "conv2d_5 (Conv2D)               (None, 28, 28, 128)  110720      conv2d_4[0][0]                   \n",
      "__________________________________________________________________________________________________\n",
      "conv2d_7 (Conv2D)               (None, 28, 28, 32)   12832       conv2d_6[0][0]                   \n",
      "__________________________________________________________________________________________________\n",
      "max_pooling2d_2 (MaxPooling2D)  (None, 28, 28, 32)   0           conv2d_8[0][0]                   \n",
      "__________________________________________________________________________________________________\n",
      "concatenate (Concatenate)       (None, 28, 28, 256)  0           conv2d_3[0][0]                   \n",
      "                                                                 conv2d_5[0][0]                   \n",
      "                                                                 conv2d_7[0][0]                   \n",
      "                                                                 max_pooling2d_2[0][0]            \n",
      "__________________________________________________________________________________________________\n",
      "conv2d_10 (Conv2D)              (None, 28, 28, 128)  32896       concatenate[0][0]                \n",
      "__________________________________________________________________________________________________\n",
      "conv2d_12 (Conv2D)              (None, 28, 28, 32)   8224        concatenate[0][0]                \n",
      "__________________________________________________________________________________________________\n",
      "conv2d_14 (Conv2D)              (None, 28, 28, 64)   16448       concatenate[0][0]                \n",
      "__________________________________________________________________________________________________\n",
      "conv2d_9 (Conv2D)               (None, 28, 28, 128)  32896       concatenate[0][0]                \n",
      "__________________________________________________________________________________________________\n",
      "conv2d_11 (Conv2D)              (None, 28, 28, 192)  221376      conv2d_10[0][0]                  \n",
      "__________________________________________________________________________________________________\n",
      "conv2d_13 (Conv2D)              (None, 28, 28, 96)   76896       conv2d_12[0][0]                  \n",
      "__________________________________________________________________________________________________\n",
      "max_pooling2d_3 (MaxPooling2D)  (None, 28, 28, 64)   0           conv2d_14[0][0]                  \n",
      "__________________________________________________________________________________________________\n",
      "concatenate_1 (Concatenate)     (None, 28, 28, 480)  0           conv2d_9[0][0]                   \n",
      "                                                                 conv2d_11[0][0]                  \n",
      "                                                                 conv2d_13[0][0]                  \n",
      "                                                                 max_pooling2d_3[0][0]            \n",
      "__________________________________________________________________________________________________\n",
      "zero_padding2d_2 (ZeroPadding2D (None, 30, 30, 480)  0           concatenate_1[0][0]              \n",
      "__________________________________________________________________________________________________\n",
      "max_pooling2d_4 (MaxPooling2D)  (None, 14, 14, 480)  0           zero_padding2d_2[0][0]           \n",
      "__________________________________________________________________________________________________\n",
      "conv2d_16 (Conv2D)              (None, 14, 14, 96)   46176       max_pooling2d_4[0][0]            \n",
      "__________________________________________________________________________________________________\n",
      "conv2d_18 (Conv2D)              (None, 14, 14, 16)   7696        max_pooling2d_4[0][0]            \n",
      "__________________________________________________________________________________________________\n",
      "conv2d_20 (Conv2D)              (None, 14, 14, 64)   30784       max_pooling2d_4[0][0]            \n",
      "__________________________________________________________________________________________________\n",
      "conv2d_15 (Conv2D)              (None, 14, 14, 192)  92352       max_pooling2d_4[0][0]            \n",
      "__________________________________________________________________________________________________\n",
      "conv2d_17 (Conv2D)              (None, 14, 14, 208)  179920      conv2d_16[0][0]                  \n",
      "__________________________________________________________________________________________________\n",
      "conv2d_19 (Conv2D)              (None, 14, 14, 48)   19248       conv2d_18[0][0]                  \n",
      "__________________________________________________________________________________________________\n",
      "max_pooling2d_5 (MaxPooling2D)  (None, 14, 14, 64)   0           conv2d_20[0][0]                  \n",
      "__________________________________________________________________________________________________\n",
      "concatenate_2 (Concatenate)     (None, 14, 14, 512)  0           conv2d_15[0][0]                  \n",
      "                                                                 conv2d_17[0][0]                  \n",
      "                                                                 conv2d_19[0][0]                  \n",
      "                                                                 max_pooling2d_5[0][0]            \n",
      "__________________________________________________________________________________________________\n",
      "conv2d_22 (Conv2D)              (None, 14, 14, 112)  57456       concatenate_2[0][0]              \n",
      "__________________________________________________________________________________________________\n",
      "conv2d_24 (Conv2D)              (None, 14, 14, 24)   12312       concatenate_2[0][0]              \n",
      "__________________________________________________________________________________________________\n",
      "conv2d_26 (Conv2D)              (None, 14, 14, 64)   32832       concatenate_2[0][0]              \n",
      "__________________________________________________________________________________________________\n",
      "conv2d_21 (Conv2D)              (None, 14, 14, 160)  82080       concatenate_2[0][0]              \n",
      "__________________________________________________________________________________________________\n",
      "conv2d_23 (Conv2D)              (None, 14, 14, 224)  226016      conv2d_22[0][0]                  \n",
      "__________________________________________________________________________________________________\n",
      "conv2d_25 (Conv2D)              (None, 14, 14, 64)   38464       conv2d_24[0][0]                  \n",
      "__________________________________________________________________________________________________\n",
      "max_pooling2d_6 (MaxPooling2D)  (None, 14, 14, 64)   0           conv2d_26[0][0]                  \n",
      "__________________________________________________________________________________________________\n",
      "concatenate_3 (Concatenate)     (None, 14, 14, 512)  0           conv2d_21[0][0]                  \n",
      "                                                                 conv2d_23[0][0]                  \n",
      "                                                                 conv2d_25[0][0]                  \n",
      "                                                                 max_pooling2d_6[0][0]            \n",
      "__________________________________________________________________________________________________\n",
      "conv2d_28 (Conv2D)              (None, 14, 14, 128)  65664       concatenate_3[0][0]              \n",
      "__________________________________________________________________________________________________\n",
      "conv2d_30 (Conv2D)              (None, 14, 14, 24)   12312       concatenate_3[0][0]              \n",
      "__________________________________________________________________________________________________\n",
      "conv2d_32 (Conv2D)              (None, 14, 14, 64)   32832       concatenate_3[0][0]              \n",
      "__________________________________________________________________________________________________\n",
      "conv2d_27 (Conv2D)              (None, 14, 14, 128)  65664       concatenate_3[0][0]              \n",
      "__________________________________________________________________________________________________\n",
      "conv2d_29 (Conv2D)              (None, 14, 14, 256)  295168      conv2d_28[0][0]                  \n",
      "__________________________________________________________________________________________________\n",
      "conv2d_31 (Conv2D)              (None, 14, 14, 64)   38464       conv2d_30[0][0]                  \n",
      "__________________________________________________________________________________________________\n",
      "max_pooling2d_7 (MaxPooling2D)  (None, 14, 14, 64)   0           conv2d_32[0][0]                  \n",
      "__________________________________________________________________________________________________\n",
      "concatenate_4 (Concatenate)     (None, 14, 14, 512)  0           conv2d_27[0][0]                  \n",
      "                                                                 conv2d_29[0][0]                  \n",
      "                                                                 conv2d_31[0][0]                  \n",
      "                                                                 max_pooling2d_7[0][0]            \n",
      "__________________________________________________________________________________________________\n",
      "conv2d_34 (Conv2D)              (None, 14, 14, 144)  73872       concatenate_4[0][0]              \n",
      "__________________________________________________________________________________________________\n",
      "conv2d_36 (Conv2D)              (None, 14, 14, 32)   16416       concatenate_4[0][0]              \n",
      "__________________________________________________________________________________________________\n",
      "conv2d_38 (Conv2D)              (None, 14, 14, 64)   32832       concatenate_4[0][0]              \n",
      "__________________________________________________________________________________________________\n",
      "conv2d_33 (Conv2D)              (None, 14, 14, 112)  57456       concatenate_4[0][0]              \n",
      "__________________________________________________________________________________________________\n",
      "conv2d_35 (Conv2D)              (None, 14, 14, 288)  373536      conv2d_34[0][0]                  \n",
      "__________________________________________________________________________________________________\n",
      "conv2d_37 (Conv2D)              (None, 14, 14, 48)   38448       conv2d_36[0][0]                  \n",
      "__________________________________________________________________________________________________\n",
      "max_pooling2d_8 (MaxPooling2D)  (None, 14, 14, 64)   0           conv2d_38[0][0]                  \n",
      "__________________________________________________________________________________________________\n",
      "concatenate_5 (Concatenate)     (None, 14, 14, 512)  0           conv2d_33[0][0]                  \n",
      "                                                                 conv2d_35[0][0]                  \n",
      "                                                                 conv2d_37[0][0]                  \n",
      "                                                                 max_pooling2d_8[0][0]            \n",
      "__________________________________________________________________________________________________\n",
      "conv2d_40 (Conv2D)              (None, 14, 14, 160)  82080       concatenate_5[0][0]              \n",
      "__________________________________________________________________________________________________\n",
      "conv2d_42 (Conv2D)              (None, 14, 14, 32)   16416       concatenate_5[0][0]              \n",
      "__________________________________________________________________________________________________\n",
      "conv2d_44 (Conv2D)              (None, 14, 14, 128)  65664       concatenate_5[0][0]              \n",
      "__________________________________________________________________________________________________\n",
      "conv2d_39 (Conv2D)              (None, 14, 14, 256)  131328      concatenate_5[0][0]              \n",
      "__________________________________________________________________________________________________\n",
      "conv2d_41 (Conv2D)              (None, 14, 14, 320)  461120      conv2d_40[0][0]                  \n",
      "__________________________________________________________________________________________________\n",
      "conv2d_43 (Conv2D)              (None, 14, 14, 128)  102528      conv2d_42[0][0]                  \n",
      "__________________________________________________________________________________________________\n",
      "max_pooling2d_9 (MaxPooling2D)  (None, 14, 14, 128)  0           conv2d_44[0][0]                  \n",
      "__________________________________________________________________________________________________\n",
      "concatenate_6 (Concatenate)     (None, 14, 14, 832)  0           conv2d_39[0][0]                  \n",
      "                                                                 conv2d_41[0][0]                  \n",
      "                                                                 conv2d_43[0][0]                  \n",
      "                                                                 max_pooling2d_9[0][0]            \n",
      "__________________________________________________________________________________________________\n",
      "zero_padding2d_3 (ZeroPadding2D (None, 16, 16, 832)  0           concatenate_6[0][0]              \n",
      "__________________________________________________________________________________________________\n",
      "max_pooling2d_10 (MaxPooling2D) (None, 7, 7, 832)    0           zero_padding2d_3[0][0]           \n",
      "__________________________________________________________________________________________________\n",
      "conv2d_48 (Conv2D)              (None, 7, 7, 160)    133280      max_pooling2d_10[0][0]           \n",
      "__________________________________________________________________________________________________\n",
      "conv2d_50 (Conv2D)              (None, 7, 7, 32)     26656       max_pooling2d_10[0][0]           \n",
      "__________________________________________________________________________________________________\n",
      "conv2d_52 (Conv2D)              (None, 7, 7, 128)    106624      max_pooling2d_10[0][0]           \n",
      "__________________________________________________________________________________________________\n",
      "conv2d_47 (Conv2D)              (None, 7, 7, 256)    213248      max_pooling2d_10[0][0]           \n",
      "__________________________________________________________________________________________________\n",
      "conv2d_49 (Conv2D)              (None, 7, 7, 320)    461120      conv2d_48[0][0]                  \n",
      "__________________________________________________________________________________________________\n",
      "conv2d_51 (Conv2D)              (None, 7, 7, 128)    102528      conv2d_50[0][0]                  \n",
      "__________________________________________________________________________________________________\n",
      "max_pooling2d_11 (MaxPooling2D) (None, 7, 7, 128)    0           conv2d_52[0][0]                  \n",
      "__________________________________________________________________________________________________\n",
      "concatenate_7 (Concatenate)     (None, 7, 7, 832)    0           conv2d_47[0][0]                  \n",
      "                                                                 conv2d_49[0][0]                  \n",
      "                                                                 conv2d_51[0][0]                  \n",
      "                                                                 max_pooling2d_11[0][0]           \n",
      "__________________________________________________________________________________________________\n",
      "conv2d_54 (Conv2D)              (None, 7, 7, 192)    159936      concatenate_7[0][0]              \n",
      "__________________________________________________________________________________________________\n",
      "conv2d_56 (Conv2D)              (None, 7, 7, 48)     39984       concatenate_7[0][0]              \n",
      "__________________________________________________________________________________________________\n",
      "conv2d_58 (Conv2D)              (None, 7, 7, 128)    106624      concatenate_7[0][0]              \n",
      "__________________________________________________________________________________________________\n",
      "conv2d_53 (Conv2D)              (None, 7, 7, 384)    319872      concatenate_7[0][0]              \n",
      "__________________________________________________________________________________________________\n",
      "conv2d_55 (Conv2D)              (None, 7, 7, 384)    663936      conv2d_54[0][0]                  \n",
      "__________________________________________________________________________________________________\n",
      "conv2d_57 (Conv2D)              (None, 7, 7, 128)    153728      conv2d_56[0][0]                  \n",
      "__________________________________________________________________________________________________\n",
      "max_pooling2d_12 (MaxPooling2D) (None, 7, 7, 128)    0           conv2d_58[0][0]                  \n",
      "__________________________________________________________________________________________________\n",
      "concatenate_8 (Concatenate)     (None, 7, 7, 1024)   0           conv2d_53[0][0]                  \n",
      "                                                                 conv2d_55[0][0]                  \n",
      "                                                                 conv2d_57[0][0]                  \n",
      "                                                                 max_pooling2d_12[0][0]           \n",
      "__________________________________________________________________________________________________\n",
      "zero_padding2d_4 (ZeroPadding2D (None, 9, 9, 1024)   0           concatenate_8[0][0]              \n",
      "__________________________________________________________________________________________________\n",
      "max_pooling2d_13 (MaxPooling2D) (None, 4, 4, 1024)   0           zero_padding2d_4[0][0]           \n",
      "__________________________________________________________________________________________________\n",
      "global_average_pooling2d (Globa (None, 1024)         0           max_pooling2d_13[0][0]           \n",
      "__________________________________________________________________________________________________\n",
      "dropout_2 (Dropout)             (None, 1024)         0           global_average_pooling2d[0][0]   \n",
      "__________________________________________________________________________________________________\n",
      "dense_4 (Dense)                 (None, 7)            7175        dropout_2[0][0]                  \n",
      "==================================================================================================\n",
      "Total params: 5,958,695\n",
      "Trainable params: 5,958,695\n",
      "Non-trainable params: 0\n",
      "__________________________________________________________________________________________________\n",
      "None\n"
     ]
    }
   ],
   "source": [
    "conv1x1 = partial(layers.Conv2D, kernel_size=1, activation='relu')\n",
    "conv3x3 = partial(layers.Conv2D, kernel_size=3, padding='same', activation='relu')\n",
    "conv5x5 = partial(layers.Conv2D, kernel_size=5, padding='same', activation='relu')\n",
    "\n",
    "def inception_module(in_tensor, c1, c3_1, c3, c5_1, c5, pp):\n",
    "    conv1 = conv1x1(c1)(in_tensor)\n",
    "    conv3_1 = conv1x1(c3_1)(in_tensor)\n",
    "    conv3 = conv3x3(c3)(conv3_1)\n",
    "    conv5_1 = conv1x1(c5_1)(in_tensor)\n",
    "    conv5 = conv5x5(c5)(conv5_1)\n",
    "    pool_conv = conv1x1(pp)(in_tensor)\n",
    "    pool = layers.MaxPool2D(3, strides=1, padding='same')(pool_conv)\n",
    "    merged = layers.Concatenate(axis=-1)([conv1, conv3, conv5, pool])\n",
    "    return merged\n",
    "\n",
    "def aux_clf(in_tensor):\n",
    "    avg_pool = layers.AvgPool2D(5, 3)(in_tensor)\n",
    "    conv = conv1x1(128)(avg_pool)\n",
    "    flattened = layers.Flatten()(conv)\n",
    "    dense = layers.Dense(1024, activation='relu')(flattened)\n",
    "    dropout = layers.Dropout(0.7)(dense)\n",
    "    out = layers.Dense(7, activation='softmax')(dropout)\n",
    "    return out\n",
    "\n",
    "def inception_net(in_shape=(224,224,3), n_classes=7, opt='sgd'):\n",
    "    in_layer = layers.Input(in_shape)\n",
    "\n",
    "# def inception_net(in_shape=(150,200,1), n_classes=7, opt='sgd'):\n",
    "#     in_layer = layers.Input(in_shape)    \n",
    "    \n",
    "    conv1 = layers.Conv2D(64, 7, strides=2, activation='relu', padding='same')(in_layer)\n",
    "    pad1 = layers.ZeroPadding2D()(conv1)\n",
    "    pool1 = layers.MaxPool2D(3, 2)(pad1)\n",
    "    conv2_1 = conv1x1(64)(pool1)\n",
    "    conv2_2 = conv3x3(192)(conv2_1)\n",
    "    pad2 = layers.ZeroPadding2D()(conv2_2)\n",
    "    pool2 = layers.MaxPool2D(3, 2)(pad2)\n",
    "    \n",
    "    inception3a = inception_module(pool2, 64, 96, 128, 16, 32, 32)\n",
    "    inception3b = inception_module(inception3a, 128, 128, 192, 32, 96, 64)\n",
    "    pad3 = layers.ZeroPadding2D()(inception3b)\n",
    "    pool3 = layers.MaxPool2D(3, 2)(pad3)\n",
    "    \n",
    "    inception4a = inception_module(pool3, 192, 96, 208, 16, 48, 64)\n",
    "    inception4b = inception_module(inception4a, 160, 112, 224, 24, 64, 64)\n",
    "    inception4c = inception_module(inception4b, 128, 128, 256, 24, 64, 64)\n",
    "    inception4d = inception_module(inception4c, 112, 144, 288, 32, 48, 64)\n",
    "    inception4e = inception_module(inception4d, 256, 160, 320, 32, 128, 128)\n",
    "    pad4 = layers.ZeroPadding2D()(inception4e)\n",
    "    pool4 = layers.MaxPool2D(3, 2)(pad4)\n",
    "    \n",
    "    aux_clf1 = aux_clf(inception4a)\n",
    "    aux_clf2 = aux_clf(inception4d)\n",
    "    \n",
    "    inception5a = inception_module(pool4, 256, 160, 320, 32, 128, 128)\n",
    "    inception5b = inception_module(inception5a, 384, 192, 384, 48, 128, 128)\n",
    "    pad5 = layers.ZeroPadding2D()(inception5b)\n",
    "    pool5 = layers.MaxPool2D(3, 2)(pad5)\n",
    "    \n",
    "    avg_pool = layers.GlobalAvgPool2D()(pool5)\n",
    "    dropout = layers.Dropout(0.4)(avg_pool)\n",
    "    preds = layers.Dense(7, activation='softmax')(dropout)\n",
    "    \n",
    "#     model = Model(in_layer, [preds, aux_clf1, aux_clf2])\n",
    "    model = Model(in_layer, preds)\n",
    "    model.compile(loss=\"categorical_crossentropy\"\n",
    "                  , optimizer=opt\n",
    "                  , metrics=[categorical_accuracy, precision, recall, fmeasure])\n",
    "\n",
    "    return model\n",
    "\n",
    "if __name__ == '__main__':\n",
    "    googleNet = inception_net()\n",
    "    print(googleNet.summary())"
   ]
  },
  {
   "cell_type": "code",
   "execution_count": 60,
   "metadata": {},
   "outputs": [],
   "source": [
    "filepath = \"googleNet.h5\""
   ]
  },
  {
   "cell_type": "code",
   "execution_count": 61,
   "metadata": {},
   "outputs": [],
   "source": [
    "# Declare a checkpoint to save the best version of the model\n",
    "checkpoint = ModelCheckpoint(filepath, \n",
    "                             monitor='val_fmeasure', \n",
    "                             verbose=1, \n",
    "                             save_best_only=True, \n",
    "                             mode='max')\n",
    "\n",
    "# Reduce the learning rate as the learning stagnates\n",
    "reduce_lr = ReduceLROnPlateau(monitor='val_fmeasure'\n",
    "                              ,factor=0.5\n",
    "                              ,patience=2\n",
    "                              ,verbose=1\n",
    "                              ,mode='max'\n",
    "                              ,min_lr=0.00001)\n",
    "# Eearly Stop\n",
    "earlystopping = EarlyStopping(monitor='val_fmeasure',\n",
    "                              min_delta=0,\n",
    "                              patience=5,\n",
    "                              verbose=0, \n",
    "                              mode='max')\n",
    "\n",
    "callbacks_list = [checkpoint, reduce_lr, earlystopping]"
   ]
  },
  {
   "cell_type": "code",
   "execution_count": 62,
   "metadata": {},
   "outputs": [],
   "source": [
    "config = tensorflow.ConfigProto()\n",
    "config.gpu_options.allow_growth = True\n",
    "\n",
    "session = tensorflow.Session(config=config)"
   ]
  },
  {
   "cell_type": "code",
   "execution_count": 63,
   "metadata": {},
   "outputs": [
    {
     "name": "stdout",
     "output_type": "stream",
     "text": [
      "WARNING:tensorflow:From D:\\Anaconda3\\lib\\site-packages\\tensorflow\\python\\ops\\math_ops.py:3066: to_int32 (from tensorflow.python.ops.math_ops) is deprecated and will be removed in a future version.\n",
      "Instructions for updating:\n",
      "Use tf.cast instead.\n",
      "Epoch 1/20\n",
      "111/111 [==============================] - 38s 339ms/step - loss: 0.8765 - categorical_accuracy: 0.7425 - precision: 0.8995 - recall: 0.6303 - fmeasure: 0.7334\n",
      "\n",
      "Epoch 00001: val_fmeasure improved from -inf to 0.73340, saving model to googleNet.h5\n",
      "3458/3458 [==============================] - 1171s 339ms/step - loss: 1.7644 - categorical_accuracy: 0.2621 - precision: 0.2293 - recall: 0.0381 - fmeasure: 0.0630 - val_loss: 0.8765 - val_categorical_accuracy: 0.7425 - val_precision: 0.8995 - val_recall: 0.6303 - val_fmeasure: 0.7334\n",
      "Epoch 2/20\n",
      "111/111 [==============================] - 22s 200ms/step - loss: 1.0434 - categorical_accuracy: 0.6772 - precision: 0.9733 - recall: 0.4559 - fmeasure: 0.6057\n",
      "\n",
      "Epoch 00002: val_fmeasure did not improve from 0.73340\n",
      "3458/3458 [==============================] - 2054s 594ms/step - loss: 1.4801 - categorical_accuracy: 0.4048 - precision: 0.6093 - recall: 0.1605 - fmeasure: 0.2423 - val_loss: 1.0434 - val_categorical_accuracy: 0.6772 - val_precision: 0.9733 - val_recall: 0.4559 - val_fmeasure: 0.6057\n",
      "Epoch 3/20\n",
      "111/111 [==============================] - 16s 141ms/step - loss: 0.7106 - categorical_accuracy: 0.7480 - precision: 0.8630 - recall: 0.6721 - fmeasure: 0.7502\n",
      "\n",
      "Epoch 00003: val_fmeasure improved from 0.73340 to 0.75017, saving model to googleNet.h5\n",
      "3458/3458 [==============================] - 2347s 679ms/step - loss: 1.2172 - categorical_accuracy: 0.5168 - precision: 0.7562 - recall: 0.2889 - fmeasure: 0.4032 - val_loss: 0.7106 - val_categorical_accuracy: 0.7480 - val_precision: 0.8630 - val_recall: 0.6721 - val_fmeasure: 0.7502\n",
      "Epoch 4/20\n",
      " 107/3458 [..............................] - ETA: 34:36 - loss: 1.1567 - categorical_accuracy: 0.5364 - precision: 0.7425 - recall: 0.3318 - fmeasure: 0.4458"
     ]
    },
    {
     "ename": "KeyboardInterrupt",
     "evalue": "",
     "output_type": "error",
     "traceback": [
      "\u001b[1;31m---------------------------------------------------------------------------\u001b[0m",
      "\u001b[1;31mKeyboardInterrupt\u001b[0m                         Traceback (most recent call last)",
      "\u001b[1;32m<ipython-input-63-ba20f41062f0>\u001b[0m in \u001b[0;36m<module>\u001b[1;34m\u001b[0m\n\u001b[0;32m      6\u001b[0m                               \u001b[0mepochs\u001b[0m\u001b[1;33m=\u001b[0m\u001b[1;36m20\u001b[0m\u001b[1;33m,\u001b[0m\u001b[1;33m\u001b[0m\u001b[1;33m\u001b[0m\u001b[0m\n\u001b[0;32m      7\u001b[0m                               \u001b[0mverbose\u001b[0m\u001b[1;33m=\u001b[0m\u001b[1;36m1\u001b[0m\u001b[1;33m,\u001b[0m\u001b[1;33m\u001b[0m\u001b[1;33m\u001b[0m\u001b[0m\n\u001b[1;32m----> 8\u001b[1;33m                               callbacks=callbacks_list)\n\u001b[0m",
      "\u001b[1;32mD:\\Anaconda3\\lib\\site-packages\\tensorflow\\python\\keras\\engine\\training.py\u001b[0m in \u001b[0;36mfit_generator\u001b[1;34m(self, generator, steps_per_epoch, epochs, verbose, callbacks, validation_data, validation_steps, class_weight, max_queue_size, workers, use_multiprocessing, shuffle, initial_epoch)\u001b[0m\n\u001b[0;32m   1424\u001b[0m         \u001b[0muse_multiprocessing\u001b[0m\u001b[1;33m=\u001b[0m\u001b[0muse_multiprocessing\u001b[0m\u001b[1;33m,\u001b[0m\u001b[1;33m\u001b[0m\u001b[1;33m\u001b[0m\u001b[0m\n\u001b[0;32m   1425\u001b[0m         \u001b[0mshuffle\u001b[0m\u001b[1;33m=\u001b[0m\u001b[0mshuffle\u001b[0m\u001b[1;33m,\u001b[0m\u001b[1;33m\u001b[0m\u001b[1;33m\u001b[0m\u001b[0m\n\u001b[1;32m-> 1426\u001b[1;33m         initial_epoch=initial_epoch)\n\u001b[0m\u001b[0;32m   1427\u001b[0m \u001b[1;33m\u001b[0m\u001b[0m\n\u001b[0;32m   1428\u001b[0m   def evaluate_generator(self,\n",
      "\u001b[1;32mD:\\Anaconda3\\lib\\site-packages\\tensorflow\\python\\keras\\engine\\training_generator.py\u001b[0m in \u001b[0;36mmodel_iteration\u001b[1;34m(model, data, steps_per_epoch, epochs, verbose, callbacks, validation_data, validation_steps, class_weight, max_queue_size, workers, use_multiprocessing, shuffle, initial_epoch, mode, batch_size, **kwargs)\u001b[0m\n\u001b[0;32m    189\u001b[0m       \u001b[0mprogbar\u001b[0m\u001b[1;33m.\u001b[0m\u001b[0mon_batch_begin\u001b[0m\u001b[1;33m(\u001b[0m\u001b[0mstep\u001b[0m\u001b[1;33m,\u001b[0m \u001b[0mbatch_logs\u001b[0m\u001b[1;33m)\u001b[0m\u001b[1;33m\u001b[0m\u001b[1;33m\u001b[0m\u001b[0m\n\u001b[0;32m    190\u001b[0m \u001b[1;33m\u001b[0m\u001b[0m\n\u001b[1;32m--> 191\u001b[1;33m       \u001b[0mbatch_outs\u001b[0m \u001b[1;33m=\u001b[0m \u001b[0mbatch_function\u001b[0m\u001b[1;33m(\u001b[0m\u001b[1;33m*\u001b[0m\u001b[0mbatch_data\u001b[0m\u001b[1;33m)\u001b[0m\u001b[1;33m\u001b[0m\u001b[1;33m\u001b[0m\u001b[0m\n\u001b[0m\u001b[0;32m    192\u001b[0m       \u001b[1;32mif\u001b[0m \u001b[1;32mnot\u001b[0m \u001b[0misinstance\u001b[0m\u001b[1;33m(\u001b[0m\u001b[0mbatch_outs\u001b[0m\u001b[1;33m,\u001b[0m \u001b[0mlist\u001b[0m\u001b[1;33m)\u001b[0m\u001b[1;33m:\u001b[0m\u001b[1;33m\u001b[0m\u001b[1;33m\u001b[0m\u001b[0m\n\u001b[0;32m    193\u001b[0m         \u001b[0mbatch_outs\u001b[0m \u001b[1;33m=\u001b[0m \u001b[1;33m[\u001b[0m\u001b[0mbatch_outs\u001b[0m\u001b[1;33m]\u001b[0m\u001b[1;33m\u001b[0m\u001b[1;33m\u001b[0m\u001b[0m\n",
      "\u001b[1;32mD:\\Anaconda3\\lib\\site-packages\\tensorflow\\python\\keras\\engine\\training.py\u001b[0m in \u001b[0;36mtrain_on_batch\u001b[1;34m(self, x, y, sample_weight, class_weight, reset_metrics)\u001b[0m\n\u001b[0;32m   1189\u001b[0m       \u001b[1;32melse\u001b[0m\u001b[1;33m:\u001b[0m\u001b[1;33m\u001b[0m\u001b[1;33m\u001b[0m\u001b[0m\n\u001b[0;32m   1190\u001b[0m         \u001b[0mself\u001b[0m\u001b[1;33m.\u001b[0m\u001b[0m_make_fit_function\u001b[0m\u001b[1;33m(\u001b[0m\u001b[1;33m)\u001b[0m\u001b[1;33m\u001b[0m\u001b[1;33m\u001b[0m\u001b[0m\n\u001b[1;32m-> 1191\u001b[1;33m         \u001b[0moutputs\u001b[0m \u001b[1;33m=\u001b[0m \u001b[0mself\u001b[0m\u001b[1;33m.\u001b[0m\u001b[0m_fit_function\u001b[0m\u001b[1;33m(\u001b[0m\u001b[0mins\u001b[0m\u001b[1;33m)\u001b[0m  \u001b[1;31m# pylint: disable=not-callable\u001b[0m\u001b[1;33m\u001b[0m\u001b[1;33m\u001b[0m\u001b[0m\n\u001b[0m\u001b[0;32m   1192\u001b[0m \u001b[1;33m\u001b[0m\u001b[0m\n\u001b[0;32m   1193\u001b[0m     \u001b[1;32mif\u001b[0m \u001b[0mreset_metrics\u001b[0m\u001b[1;33m:\u001b[0m\u001b[1;33m\u001b[0m\u001b[1;33m\u001b[0m\u001b[0m\n",
      "\u001b[1;32mD:\\Anaconda3\\lib\\site-packages\\tensorflow\\python\\keras\\backend.py\u001b[0m in \u001b[0;36m__call__\u001b[1;34m(self, inputs)\u001b[0m\n\u001b[0;32m   3074\u001b[0m \u001b[1;33m\u001b[0m\u001b[0m\n\u001b[0;32m   3075\u001b[0m     fetched = self._callable_fn(*array_vals,\n\u001b[1;32m-> 3076\u001b[1;33m                                 run_metadata=self.run_metadata)\n\u001b[0m\u001b[0;32m   3077\u001b[0m     \u001b[0mself\u001b[0m\u001b[1;33m.\u001b[0m\u001b[0m_call_fetch_callbacks\u001b[0m\u001b[1;33m(\u001b[0m\u001b[0mfetched\u001b[0m\u001b[1;33m[\u001b[0m\u001b[1;33m-\u001b[0m\u001b[0mlen\u001b[0m\u001b[1;33m(\u001b[0m\u001b[0mself\u001b[0m\u001b[1;33m.\u001b[0m\u001b[0m_fetches\u001b[0m\u001b[1;33m)\u001b[0m\u001b[1;33m:\u001b[0m\u001b[1;33m]\u001b[0m\u001b[1;33m)\u001b[0m\u001b[1;33m\u001b[0m\u001b[1;33m\u001b[0m\u001b[0m\n\u001b[0;32m   3078\u001b[0m     return nest.pack_sequence_as(self._outputs_structure,\n",
      "\u001b[1;32mD:\\Anaconda3\\lib\\site-packages\\tensorflow\\python\\client\\session.py\u001b[0m in \u001b[0;36m__call__\u001b[1;34m(self, *args, **kwargs)\u001b[0m\n\u001b[0;32m   1437\u001b[0m           ret = tf_session.TF_SessionRunCallable(\n\u001b[0;32m   1438\u001b[0m               \u001b[0mself\u001b[0m\u001b[1;33m.\u001b[0m\u001b[0m_session\u001b[0m\u001b[1;33m.\u001b[0m\u001b[0m_session\u001b[0m\u001b[1;33m,\u001b[0m \u001b[0mself\u001b[0m\u001b[1;33m.\u001b[0m\u001b[0m_handle\u001b[0m\u001b[1;33m,\u001b[0m \u001b[0margs\u001b[0m\u001b[1;33m,\u001b[0m \u001b[0mstatus\u001b[0m\u001b[1;33m,\u001b[0m\u001b[1;33m\u001b[0m\u001b[1;33m\u001b[0m\u001b[0m\n\u001b[1;32m-> 1439\u001b[1;33m               run_metadata_ptr)\n\u001b[0m\u001b[0;32m   1440\u001b[0m         \u001b[1;32mif\u001b[0m \u001b[0mrun_metadata\u001b[0m\u001b[1;33m:\u001b[0m\u001b[1;33m\u001b[0m\u001b[1;33m\u001b[0m\u001b[0m\n\u001b[0;32m   1441\u001b[0m           \u001b[0mproto_data\u001b[0m \u001b[1;33m=\u001b[0m \u001b[0mtf_session\u001b[0m\u001b[1;33m.\u001b[0m\u001b[0mTF_GetBuffer\u001b[0m\u001b[1;33m(\u001b[0m\u001b[0mrun_metadata_ptr\u001b[0m\u001b[1;33m)\u001b[0m\u001b[1;33m\u001b[0m\u001b[1;33m\u001b[0m\u001b[0m\n",
      "\u001b[1;31mKeyboardInterrupt\u001b[0m: "
     ]
    }
   ],
   "source": [
    "historygoogleNet = googleNet.fit_generator(train_batches,\n",
    "                              steps_per_epoch=train_steps,\n",
    "                              class_weight=class_weights,\n",
    "                              validation_data=val_batches,\n",
    "                              validation_steps=val_steps,\n",
    "                              epochs=20,\n",
    "                              verbose=1,\n",
    "                              callbacks=callbacks_list)"
   ]
  },
  {
   "cell_type": "code",
   "execution_count": null,
   "metadata": {},
   "outputs": [],
   "source": []
  },
  {
   "cell_type": "code",
   "execution_count": 66,
   "metadata": {},
   "outputs": [
    {
     "name": "stdout",
     "output_type": "stream",
     "text": [
      "1103/1103 [==============================] - 27s 24ms/step\n",
      "Normalized confusion matrix\n",
      "[[0.80294451 0.09173273 0.04530011 0.02491506 0.00453001 0.01019253\n",
      "  0.02038505]\n",
      " [0.06521739 0.7826087  0.04347826 0.06521739 0.04347826 0.\n",
      "  0.        ]\n",
      " [0.         0.         1.         0.         0.         0.\n",
      "  0.        ]\n",
      " [0.         0.26666667 0.         0.56666667 0.13333333 0.\n",
      "  0.03333333]\n",
      " [0.         0.08571429 0.05714286 0.28571429 0.31428571 0.2\n",
      "  0.05714286]\n",
      " [0.23863636 0.25       0.03409091 0.20454545 0.04545455 0.13636364\n",
      "  0.09090909]\n",
      " [0.125      0.         0.         0.5        0.25       0.\n",
      "  0.125     ]]\n"
     ]
    },
    {
     "data": {
      "image/png": "[encoded data removed]",
      "text/plain": [
       "<Figure size 432x288 with 2 Axes>"
      ]
     },
     "metadata": {
      "needs_background": "light"
     },
     "output_type": "display_data"
    }
   ],
   "source": [
    "# Get the labels of the test images.\n",
    "test_labels = test_batches.classes\n",
    "\n",
    "# We need these to plot the confusion matrix.\n",
    "# test_labels\n",
    "# make a prediction\n",
    "predictions = googleNet.predict_generator(test_batches, steps=len(label_test), verbose=1)\n",
    "# argmax returns the index of the max value in a row\n",
    "cm = confusion_matrix(test_labels, predictions.argmax(axis=1))\n",
    "test_batches.class_indices\n",
    "# Define the labels of the class indices. These need to match the \n",
    "# order shown above.\n",
    "cm_plot_labels = test_batches.class_indices\n",
    "plot_confusion_matrix(cm, cm_plot_labels, normalize=True, title='Confusion Matrix - Test Data')"
   ]
  },
  {
   "cell_type": "code",
   "execution_count": 67,
   "metadata": {},
   "outputs": [
    {
     "name": "stdout",
     "output_type": "stream",
     "text": [
      "Confusion matrix, without normalization\n",
      "[[709  81  40  22   4   9  18]\n",
      " [  3  36   2   3   2   0   0]\n",
      " [  0   0  13   0   0   0   0]\n",
      " [  0   8   0  17   4   0   1]\n",
      " [  0   3   2  10  11   7   2]\n",
      " [ 21  22   3  18   4  12   8]\n",
      " [  1   0   0   4   2   0   1]]\n"
     ]
    },
    {
     "data": {
      "image/png": "[encoded data removed]",
      "text/plain": [
       "<Figure size 432x288 with 2 Axes>"
      ]
     },
     "metadata": {
      "needs_background": "light"
     },
     "output_type": "display_data"
    }
   ],
   "source": [
    "plot_confusion_matrix(cm, cm_plot_labels, title='Confusion Matrix - Test Data')"
   ]
  },
  {
   "cell_type": "code",
   "execution_count": 68,
   "metadata": {},
   "outputs": [
    {
     "name": "stdout",
     "output_type": "stream",
     "text": [
      "              precision    recall  f1-score   support\n",
      "\n",
      "          nv       0.97      0.80      0.88       883\n",
      "         mel       0.24      0.78      0.37        46\n",
      "        vasc       0.22      1.00      0.36        13\n",
      "       akiec       0.23      0.57      0.33        30\n",
      "         bcc       0.41      0.31      0.35        35\n",
      "         bkl       0.43      0.14      0.21        88\n",
      "          df       0.03      0.12      0.05         8\n",
      "\n",
      "   micro avg       0.72      0.72      0.72      1103\n",
      "   macro avg       0.36      0.53      0.36      1103\n",
      "weighted avg       0.84      0.72      0.76      1103\n",
      "\n"
     ]
    }
   ],
   "source": [
    "# Get the index of the class with the highest probability score\n",
    "y_pred = np.argmax(predictions, axis=1)\n",
    "\n",
    "# Get the labels of the test images.\n",
    "y_true = test_batches.classes\n",
    "\n",
    "# Generate a classification report\n",
    "report = classification_report(y_true, y_pred, target_names=cm_plot_labels)\n",
    "print(report)"
   ]
  }
 ],
 "metadata": {
  "kernelspec": {
   "display_name": "Python 3",
   "language": "python",
   "name": "python3"
  },
  "language_info": {
   "codemirror_mode": {
    "name": "ipython",
    "version": 3
   },
   "file_extension": ".py",
   "mimetype": "text/x-python",
   "name": "python",
   "nbconvert_exporter": "python",
   "pygments_lexer": "ipython3",
   "version": "3.6.5"
  }
 },
 "nbformat": 4,
 "nbformat_minor": 2
}
