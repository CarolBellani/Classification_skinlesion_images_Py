{
 "cells": [
  {
   "cell_type": "code",
   "execution_count": 1,
   "metadata": {},
   "outputs": [],
   "source": [
    "# %%time\n",
    "# Import the libraries\n",
    "from numpy.random import seed #Ok\n",
    "seed(42)#Ok\n",
    "from tensorflow import set_random_seed#Ok\n",
    "set_random_seed(101)#Ok\n",
    "import pandas as pd #Ok\n",
    "import numpy as np #Ok\n",
    "import tensorflow #Ok \n",
    "from tensorflow.keras.layers import Dense, Dropout, Flatten, GlobalAveragePooling2D, BatchNormalization\n",
    "from tensorflow.keras.optimizers import Adam #Ok\n",
    "from tensorflow.keras.metrics import categorical_accuracy, top_k_categorical_accuracy #Ok\n",
    "from tensorflow.keras.preprocessing.image import ImageDataGenerator #Ok\n",
    "from tensorflow.keras.models import Model, Sequential #Ok\n",
    "from tensorflow.keras.callbacks import EarlyStopping, ReduceLROnPlateau, ModelCheckpoint #Ok\n",
    "import os, zipfile #Ok\n",
    "from sklearn.metrics import confusion_matrix #Ok\n",
    "from sklearn.model_selection import train_test_split #Ok\n",
    "import itertools #Ok\n",
    "import shutil #Ok\n",
    "import matplotlib.pyplot as plt #Ok\n",
    "%matplotlib inline\n",
    "\n",
    "import random\n",
    "from random import random\n",
    "from random import randrange\n",
    "from random import choice\n",
    "from random import uniform\n",
    "from matplotlib import pyplot\n",
    "import skimage.io as io\n",
    "import seaborn as sns\n",
    "import os\n",
    "from tensorflow.keras import backend as K\n",
    "from tensorflow.keras import layers\n",
    "from os import rename, listdir\n",
    "from sklearn.utils.class_weight import compute_sample_weight\n",
    "from sklearn.utils import class_weight\n",
    "from tensorflow.python.keras.applications import ResNet50\n",
    "from tensorflow.python.keras.applications.resnet50 import preprocess_input\n",
    "from tensorflow.python.keras.preprocessing.image import load_img, img_to_array\n",
    "from sklearn.metrics import classification_report\n",
    "from functools import partial"
   ]
  },
  {
   "cell_type": "code",
   "execution_count": 2,
   "metadata": {},
   "outputs": [],
   "source": [
    "#Seting the data directories\n",
    "dir_zip = r'D:\\Python\\Jupyter\\DeepLearning\\MobileNet\\zipFiles'\n",
    "dir_database = r'D:\\Python\\Jupyter\\DeepLearning\\MobileNet\\DataBase'\n",
    "dir_MetaData = r'D:\\Python\\Jupyter\\DeepLearning\\MobileNet\\metaData_dataBase'\n",
    "dir_project = r'D:\\Python\\Jupyter\\DeepLearning\\MobileNet'"
   ]
  },
  {
   "cell_type": "markdown",
   "metadata": {},
   "source": [
    "#### Unzipping the Images"
   ]
  },
  {
   "cell_type": "code",
   "execution_count": 3,
   "metadata": {},
   "outputs": [
    {
     "name": "stdout",
     "output_type": "stream",
     "text": [
      "10018\n"
     ]
    }
   ],
   "source": [
    "#%%time\n",
    "extension = \".zip\"\n",
    "\n",
    "os.chdir(dir_zip) # change directory from working dir to dir with files\n",
    "\n",
    "if len(os.listdir(os.path.abspath(dir_database)))==0 or len(os.listdir(os.path.abspath(dir_database)))==1:\n",
    "    # Loop to extract all Images from a the zip file on directory\n",
    "    for item in os.listdir(dir_zip): # loop through items in dir\n",
    "        if item.endswith(extension): # check for \".zip\" extension\n",
    "            file_name = os.path.abspath(item) # get full path of files\n",
    "            print(\"Processing %s\" % file_name)\n",
    "            zip_ref = zipfile.ZipFile(file_name) # create zipfile object\n",
    "            os.chdir(dir_zip) # change directory from working dir to dir with files\n",
    "            zip_ref.extractall(dir_database) # extract file to dir\n",
    "            zip_ref.close() # close file\n",
    "            #os.remove(file_name) # delete zipped file\n",
    "else:\n",
    "    print(len(os.listdir(os.path.abspath(dir_database))))"
   ]
  },
  {
   "cell_type": "code",
   "execution_count": 4,
   "metadata": {},
   "outputs": [],
   "source": [
    "metadata = pd.read_csv(dir_MetaData+'/HAM10000_metadata.csv', header=0, index_col=1)"
   ]
  },
  {
   "cell_type": "code",
   "execution_count": 5,
   "metadata": {},
   "outputs": [
    {
     "data": {
      "text/html": [
       "<div>\n",
       "<style scoped>\n",
       "    .dataframe tbody tr th:only-of-type {\n",
       "        vertical-align: middle;\n",
       "    }\n",
       "\n",
       "    .dataframe tbody tr th {\n",
       "        vertical-align: top;\n",
       "    }\n",
       "\n",
       "    .dataframe thead th {\n",
       "        text-align: right;\n",
       "    }\n",
       "</style>\n",
       "<table border=\"1\" class=\"dataframe\">\n",
       "  <thead>\n",
       "    <tr style=\"text-align: right;\">\n",
       "      <th></th>\n",
       "      <th>lesion_id</th>\n",
       "      <th>dx</th>\n",
       "      <th>dx_type</th>\n",
       "      <th>age</th>\n",
       "      <th>sex</th>\n",
       "      <th>localization</th>\n",
       "    </tr>\n",
       "    <tr>\n",
       "      <th>image_id</th>\n",
       "      <th></th>\n",
       "      <th></th>\n",
       "      <th></th>\n",
       "      <th></th>\n",
       "      <th></th>\n",
       "      <th></th>\n",
       "    </tr>\n",
       "  </thead>\n",
       "  <tbody>\n",
       "    <tr>\n",
       "      <th>ISIC_0027419</th>\n",
       "      <td>HAM_0000118</td>\n",
       "      <td>bkl</td>\n",
       "      <td>histo</td>\n",
       "      <td>80.0</td>\n",
       "      <td>male</td>\n",
       "      <td>scalp</td>\n",
       "    </tr>\n",
       "    <tr>\n",
       "      <th>ISIC_0025030</th>\n",
       "      <td>HAM_0000118</td>\n",
       "      <td>bkl</td>\n",
       "      <td>histo</td>\n",
       "      <td>80.0</td>\n",
       "      <td>male</td>\n",
       "      <td>scalp</td>\n",
       "    </tr>\n",
       "    <tr>\n",
       "      <th>ISIC_0026769</th>\n",
       "      <td>HAM_0002730</td>\n",
       "      <td>bkl</td>\n",
       "      <td>histo</td>\n",
       "      <td>80.0</td>\n",
       "      <td>male</td>\n",
       "      <td>scalp</td>\n",
       "    </tr>\n",
       "    <tr>\n",
       "      <th>ISIC_0025661</th>\n",
       "      <td>HAM_0002730</td>\n",
       "      <td>bkl</td>\n",
       "      <td>histo</td>\n",
       "      <td>80.0</td>\n",
       "      <td>male</td>\n",
       "      <td>scalp</td>\n",
       "    </tr>\n",
       "    <tr>\n",
       "      <th>ISIC_0031633</th>\n",
       "      <td>HAM_0001466</td>\n",
       "      <td>bkl</td>\n",
       "      <td>histo</td>\n",
       "      <td>75.0</td>\n",
       "      <td>male</td>\n",
       "      <td>ear</td>\n",
       "    </tr>\n",
       "  </tbody>\n",
       "</table>\n",
       "</div>"
      ],
      "text/plain": [
       "                lesion_id   dx dx_type   age   sex localization\n",
       "image_id                                                       \n",
       "ISIC_0027419  HAM_0000118  bkl   histo  80.0  male        scalp\n",
       "ISIC_0025030  HAM_0000118  bkl   histo  80.0  male        scalp\n",
       "ISIC_0026769  HAM_0002730  bkl   histo  80.0  male        scalp\n",
       "ISIC_0025661  HAM_0002730  bkl   histo  80.0  male        scalp\n",
       "ISIC_0031633  HAM_0001466  bkl   histo  75.0  male          ear"
      ]
     },
     "execution_count": 5,
     "metadata": {},
     "output_type": "execute_result"
    }
   ],
   "source": [
    "metadata.head()"
   ]
  },
  {
   "cell_type": "code",
   "execution_count": 6,
   "metadata": {},
   "outputs": [],
   "source": [
    "# Categories of the diferent diseases\n",
    "lesion_type_dict = {\n",
    "    'nv': 'Melanocytic nevi',\n",
    "    'mel': 'Melanoma',\n",
    "    'bkl': 'Benign keratosis ',\n",
    "    'bcc': 'Basal cell carcinoma',\n",
    "    'akiec': 'Actinic keratoses',\n",
    "    'vasc': 'Vascular lesions',\n",
    "    'df': 'Dermatofibroma'\n",
    "}"
   ]
  },
  {
   "cell_type": "code",
   "execution_count": 7,
   "metadata": {},
   "outputs": [],
   "source": [
    "metadata.dx=metadata.dx.astype('category',copy=True)\n",
    "metadata['labels']=metadata.dx.cat.codes # Convert the labels to numbers\n",
    "metadata['lesion']= metadata.dx.map(lesion_type_dict)\n",
    "# metadata.head()"
   ]
  },
  {
   "cell_type": "code",
   "execution_count": 8,
   "metadata": {},
   "outputs": [
    {
     "name": "stdout",
     "output_type": "stream",
     "text": [
      "Melanocytic nevi        6705\n",
      "Melanoma                1113\n",
      "Benign keratosis        1099\n",
      "Basal cell carcinoma     514\n",
      "Actinic keratoses        327\n",
      "Vascular lesions         142\n",
      "Dermatofibroma           115\n",
      "Name: lesion, dtype: int64\n"
     ]
    }
   ],
   "source": [
    "print(metadata.lesion.value_counts())"
   ]
  },
  {
   "cell_type": "code",
   "execution_count": 9,
   "metadata": {},
   "outputs": [
    {
     "data": {
      "text/plain": [
       "'Melanocytic nevi'"
      ]
     },
     "execution_count": 9,
     "metadata": {},
     "output_type": "execute_result"
    }
   ],
   "source": [
    "metadata.loc['ISIC_0025084','lesion']"
   ]
  },
  {
   "cell_type": "code",
   "execution_count": 10,
   "metadata": {},
   "outputs": [
    {
     "data": {
      "text/plain": [
       "<matplotlib.axes._subplots.AxesSubplot at 0x17c40851ac8>"
      ]
     },
     "execution_count": 10,
     "metadata": {},
     "output_type": "execute_result"
    },
    {
     "data": {
      "image/png": "[encoded data removed]",
      "text/plain": [
       "<Figure size 720x360 with 1 Axes>"
      ]
     },
     "metadata": {
      "needs_background": "light"
     },
     "output_type": "display_data"
    }
   ],
   "source": [
    "fig, ax1 = plt.subplots(1, 1, figsize = (10, 5))\n",
    "sns.countplot(y='lesion',data=metadata, hue=\"lesion\",ax=ax1)"
   ]
  },
  {
   "cell_type": "code",
   "execution_count": 11,
   "metadata": {},
   "outputs": [],
   "source": [
    "# Create a list of file names\n",
    "#-------------------------------------------------#\n",
    "filenames = [os.path.splitext(filename)[0] for filename in os.listdir(dir_database) if filename.endswith(\".jpg\")]\n",
    "prov_filenames = []\n",
    "for name in filenames:\n",
    "    prov_filenames.append(name[-12:])\n",
    "filenames = prov_filenames\n",
    "filenames = pd.DataFrame(np.array(filenames).reshape(10015,1),columns=['filenames'])\n",
    "# filenames = pd.DataFrame(np.array(filenames).reshape(2000,1),columns=['filenames'])"
   ]
  },
  {
   "cell_type": "code",
   "execution_count": 12,
   "metadata": {},
   "outputs": [],
   "source": [
    "# # Organize dataset according to photos actual order\n",
    "# ----------------------------------------------------\n",
    "# # Merging the file names and the metadata, thus organizing the data.\n",
    "\n",
    "organized_metadata = pd.merge(left=filenames, right=metadata, left_on='filenames',right_on='image_id')\n",
    "# # print(organized_metadata)"
   ]
  },
  {
   "cell_type": "code",
   "execution_count": 13,
   "metadata": {},
   "outputs": [],
   "source": [
    "organized_metadata['dx'] = organized_metadata['dx'].astype(np.str)\n",
    "organized_metadata['filenames'] = organized_metadata['filenames'].astype(np.str)"
   ]
  },
  {
   "cell_type": "code",
   "execution_count": 14,
   "metadata": {},
   "outputs": [],
   "source": [
    "# It removes all metadata but dx (lesion type)\n",
    "organized_metadata['filenames_dx'] = organized_metadata['dx'] + '_' + organized_metadata['filenames']"
   ]
  },
  {
   "cell_type": "code",
   "execution_count": 15,
   "metadata": {},
   "outputs": [],
   "source": [
    "# this will tell us how many images are associated with each lesion_id\n",
    "df = organized_metadata.groupby('lesion_id').count()\n",
    "\n",
    "# now we filter out lesion_id's that have only one image associated with it\n",
    "df = df[df['filenames'] == 1]\n",
    "df.reset_index(inplace=True)\n",
    "# df.head()"
   ]
  },
  {
   "cell_type": "code",
   "execution_count": 16,
   "metadata": {},
   "outputs": [],
   "source": [
    "# Identifing the lesions who has more than one image on the dataset\n",
    "def identify_duplicates(x):    \n",
    "    unique_list = list(df['lesion_id'])    \n",
    "    if x in unique_list:\n",
    "        return 'no_duplicates'\n",
    "    else:\n",
    "        return 'has_duplicates'"
   ]
  },
  {
   "cell_type": "code",
   "execution_count": 17,
   "metadata": {},
   "outputs": [
    {
     "data": {
      "text/html": [
       "<div>\n",
       "<style scoped>\n",
       "    .dataframe tbody tr th:only-of-type {\n",
       "        vertical-align: middle;\n",
       "    }\n",
       "\n",
       "    .dataframe tbody tr th {\n",
       "        vertical-align: top;\n",
       "    }\n",
       "\n",
       "    .dataframe thead th {\n",
       "        text-align: right;\n",
       "    }\n",
       "</style>\n",
       "<table border=\"1\" class=\"dataframe\">\n",
       "  <thead>\n",
       "    <tr style=\"text-align: right;\">\n",
       "      <th></th>\n",
       "      <th>filenames</th>\n",
       "      <th>lesion_id</th>\n",
       "      <th>dx</th>\n",
       "      <th>dx_type</th>\n",
       "      <th>age</th>\n",
       "      <th>sex</th>\n",
       "      <th>localization</th>\n",
       "      <th>labels</th>\n",
       "      <th>lesion</th>\n",
       "      <th>filenames_dx</th>\n",
       "      <th>duplicates</th>\n",
       "    </tr>\n",
       "  </thead>\n",
       "  <tbody>\n",
       "    <tr>\n",
       "      <th>0</th>\n",
       "      <td>ISIC_0024329</td>\n",
       "      <td>HAM_0002954</td>\n",
       "      <td>akiec</td>\n",
       "      <td>histo</td>\n",
       "      <td>75.0</td>\n",
       "      <td>female</td>\n",
       "      <td>lower extremity</td>\n",
       "      <td>0</td>\n",
       "      <td>Actinic keratoses</td>\n",
       "      <td>akiec_ISIC_0024329</td>\n",
       "      <td>no_duplicates</td>\n",
       "    </tr>\n",
       "    <tr>\n",
       "      <th>1</th>\n",
       "      <td>ISIC_0024372</td>\n",
       "      <td>HAM_0005389</td>\n",
       "      <td>akiec</td>\n",
       "      <td>histo</td>\n",
       "      <td>70.0</td>\n",
       "      <td>male</td>\n",
       "      <td>lower extremity</td>\n",
       "      <td>0</td>\n",
       "      <td>Actinic keratoses</td>\n",
       "      <td>akiec_ISIC_0024372</td>\n",
       "      <td>has_duplicates</td>\n",
       "    </tr>\n",
       "    <tr>\n",
       "      <th>2</th>\n",
       "      <td>ISIC_0024418</td>\n",
       "      <td>HAM_0003380</td>\n",
       "      <td>akiec</td>\n",
       "      <td>histo</td>\n",
       "      <td>75.0</td>\n",
       "      <td>female</td>\n",
       "      <td>lower extremity</td>\n",
       "      <td>0</td>\n",
       "      <td>Actinic keratoses</td>\n",
       "      <td>akiec_ISIC_0024418</td>\n",
       "      <td>has_duplicates</td>\n",
       "    </tr>\n",
       "    <tr>\n",
       "      <th>3</th>\n",
       "      <td>ISIC_0024450</td>\n",
       "      <td>HAM_0005505</td>\n",
       "      <td>akiec</td>\n",
       "      <td>histo</td>\n",
       "      <td>50.0</td>\n",
       "      <td>male</td>\n",
       "      <td>upper extremity</td>\n",
       "      <td>0</td>\n",
       "      <td>Actinic keratoses</td>\n",
       "      <td>akiec_ISIC_0024450</td>\n",
       "      <td>has_duplicates</td>\n",
       "    </tr>\n",
       "    <tr>\n",
       "      <th>4</th>\n",
       "      <td>ISIC_0024463</td>\n",
       "      <td>HAM_0004568</td>\n",
       "      <td>akiec</td>\n",
       "      <td>histo</td>\n",
       "      <td>50.0</td>\n",
       "      <td>male</td>\n",
       "      <td>upper extremity</td>\n",
       "      <td>0</td>\n",
       "      <td>Actinic keratoses</td>\n",
       "      <td>akiec_ISIC_0024463</td>\n",
       "      <td>has_duplicates</td>\n",
       "    </tr>\n",
       "  </tbody>\n",
       "</table>\n",
       "</div>"
      ],
      "text/plain": [
       "      filenames    lesion_id     dx dx_type   age     sex     localization  \\\n",
       "0  ISIC_0024329  HAM_0002954  akiec   histo  75.0  female  lower extremity   \n",
       "1  ISIC_0024372  HAM_0005389  akiec   histo  70.0    male  lower extremity   \n",
       "2  ISIC_0024418  HAM_0003380  akiec   histo  75.0  female  lower extremity   \n",
       "3  ISIC_0024450  HAM_0005505  akiec   histo  50.0    male  upper extremity   \n",
       "4  ISIC_0024463  HAM_0004568  akiec   histo  50.0    male  upper extremity   \n",
       "\n",
       "   labels             lesion        filenames_dx      duplicates  \n",
       "0       0  Actinic keratoses  akiec_ISIC_0024329   no_duplicates  \n",
       "1       0  Actinic keratoses  akiec_ISIC_0024372  has_duplicates  \n",
       "2       0  Actinic keratoses  akiec_ISIC_0024418  has_duplicates  \n",
       "3       0  Actinic keratoses  akiec_ISIC_0024450  has_duplicates  \n",
       "4       0  Actinic keratoses  akiec_ISIC_0024463  has_duplicates  "
      ]
     },
     "execution_count": 17,
     "metadata": {},
     "output_type": "execute_result"
    }
   ],
   "source": [
    "# create a new colum that is a copy of the lesion_id column\n",
    "organized_metadata['duplicates'] = organized_metadata['lesion_id']\n",
    "# apply the function to this new column\n",
    "organized_metadata['duplicates'] = organized_metadata['duplicates'].apply(identify_duplicates)\n",
    "organized_metadata.head()"
   ]
  },
  {
   "cell_type": "code",
   "execution_count": 18,
   "metadata": {},
   "outputs": [
    {
     "data": {
      "text/plain": [
       "no_duplicates     5514\n",
       "has_duplicates    4501\n",
       "Name: duplicates, dtype: int64"
      ]
     },
     "execution_count": 18,
     "metadata": {},
     "output_type": "execute_result"
    }
   ],
   "source": [
    "organized_metadata['duplicates'].value_counts()"
   ]
  },
  {
   "cell_type": "code",
   "execution_count": 19,
   "metadata": {},
   "outputs": [],
   "source": [
    "# now we filter out images that don't have duplicates\n",
    "metadataNotDuplicates = organized_metadata[organized_metadata['duplicates'] == 'no_duplicates']\n",
    "# metadataNotDuplicates.shape"
   ]
  },
  {
   "cell_type": "code",
   "execution_count": 20,
   "metadata": {},
   "outputs": [
    {
     "name": "stdout",
     "output_type": "stream",
     "text": [
      "5514\n",
      "10015\n"
     ]
    }
   ],
   "source": [
    "# #%%time\n",
    "# # Labels\n",
    "# #%%time\n",
    "labelsNotDuplicates = np.array(metadataNotDuplicates['dx'].tolist())\n",
    "filenamesNotDuplicates = np.array(metadataNotDuplicates['filenames_dx'].tolist())\n",
    "print(len(labelsNotDuplicates))\n",
    "\n",
    "labels = np.array(organized_metadata['dx'].tolist())\n",
    "filenames = np.array(organized_metadata['filenames_dx'].tolist())\n",
    "print(len(labels))"
   ]
  },
  {
   "cell_type": "code",
   "execution_count": 21,
   "metadata": {},
   "outputs": [],
   "source": [
    "# Creating Train / Val / Test folders (One time use)\n",
    "lesionstype = ['nv','mel',\"vasc\",'akiec','bcc','bkl','df']"
   ]
  },
  {
   "cell_type": "code",
   "execution_count": 22,
   "metadata": {},
   "outputs": [],
   "source": [
    "os.chdir(dir_database)"
   ]
  },
  {
   "cell_type": "code",
   "execution_count": 23,
   "metadata": {},
   "outputs": [],
   "source": [
    "# %%time\n",
    "def list_files(path):\n",
    "    # returns a list of names (with extension, without full path) of all files \n",
    "    # in folder path\n",
    "    files = []\n",
    "    for name in os.listdir(path):\n",
    "        if os.path.isfile(os.path.join(path, name)):\n",
    "            files.append(name)\n",
    "    return files "
   ]
  },
  {
   "cell_type": "code",
   "execution_count": 24,
   "metadata": {},
   "outputs": [],
   "source": [
    "images = list_files('.')"
   ]
  },
  {
   "cell_type": "code",
   "execution_count": 25,
   "metadata": {},
   "outputs": [],
   "source": [
    "for img, extra in zip(images, labels) :\n",
    "    filename, extension = os.path.splitext(img)\n",
    "    if filename.startswith(\"ISIC_\"):\n",
    "        os.rename(img, ''.join([extra, '_', filename, extension]))\n",
    "#     print(img)"
   ]
  },
  {
   "cell_type": "code",
   "execution_count": 26,
   "metadata": {},
   "outputs": [],
   "source": [
    "# Shuffle the data order:\n",
    "organized_metadata = organized_metadata.sample(frac=1).reset_index(drop=True)"
   ]
  },
  {
   "cell_type": "markdown",
   "metadata": {},
   "source": [
    "#### Separating only lesions with just unique images for Validation and Testing"
   ]
  },
  {
   "cell_type": "code",
   "execution_count": 27,
   "metadata": {},
   "outputs": [],
   "source": [
    "x, data_validate, y, label_validate = train_test_split(filenamesNotDuplicates,                                           \n",
    "                                                       labelsNotDuplicates, \n",
    "                                                        test_size=0.40, \n",
    "                                                        random_state=42, \n",
    "                                                        stratify=labelsNotDuplicates)\n",
    "\n",
    "del(x)\n",
    "del(y)"
   ]
  },
  {
   "cell_type": "code",
   "execution_count": 28,
   "metadata": {},
   "outputs": [
    {
     "data": {
      "text/plain": [
       "2206"
      ]
     },
     "execution_count": 28,
     "metadata": {},
     "output_type": "execute_result"
    }
   ],
   "source": [
    "len(data_validate)"
   ]
  },
  {
   "cell_type": "code",
   "execution_count": 29,
   "metadata": {},
   "outputs": [],
   "source": [
    "# here we identify lesion_id's that have duplicate images and those that have only\n",
    "# one image.\n",
    "\n",
    "def train_image_detection(x):    \n",
    "    data_validate_list = list(data_validate)    \n",
    "    if x in data_validate_list:\n",
    "        return 'validate_test'\n",
    "    else:\n",
    "        return 'train'"
   ]
  },
  {
   "cell_type": "code",
   "execution_count": 30,
   "metadata": {},
   "outputs": [],
   "source": [
    "# create a new colum that is a copy of the lesion_id column\n",
    "organized_metadata['set'] = organized_metadata['filenames_dx']\n",
    "# apply the function to this new column\n",
    "organized_metadata['set'] = organized_metadata['set'].apply(train_image_detection)\n"
   ]
  },
  {
   "cell_type": "code",
   "execution_count": 31,
   "metadata": {},
   "outputs": [],
   "source": [
    "# Using the rest of the images as the training set\n",
    "provisorio = organized_metadata[organized_metadata['set'] == 'train']\n",
    "train_filenames = provisorio['filenames_dx']+'.jpg'\n",
    "train_filenames = train_filenames.tolist()\n",
    "label_train = provisorio['dx']\n",
    "label_train = label_train.tolist()\n",
    "del(provisorio)"
   ]
  },
  {
   "cell_type": "code",
   "execution_count": 32,
   "metadata": {},
   "outputs": [],
   "source": [
    "# Spliting the images with no repetition into Test and Validation Set\n",
    "data_validate, data_test, label_validate, label_test = train_test_split(data_validate, label_validate, \n",
    "                                                                  test_size=0.5, \n",
    "                                                                  random_state=42, \n",
    "                                                                  stratify=label_validate)"
   ]
  },
  {
   "cell_type": "code",
   "execution_count": 33,
   "metadata": {},
   "outputs": [],
   "source": [
    "data_validate = pd.Series(data_validate)+'.jpg'\n",
    "data_test = pd.Series(data_test)+'.jpg'"
   ]
  },
  {
   "cell_type": "code",
   "execution_count": 34,
   "metadata": {},
   "outputs": [],
   "source": [
    "val_filenames = [name for name in data_validate.tolist()]\n",
    "test_filenames = [name for name in data_test.tolist()]"
   ]
  },
  {
   "cell_type": "code",
   "execution_count": 35,
   "metadata": {},
   "outputs": [
    {
     "name": "stdout",
     "output_type": "stream",
     "text": [
      "Separation of images for training, validation and testing: \n",
      "\n",
      "Total labels:  10015\n",
      "Validation_labels:  1103  -  11.0 %\n",
      "Testing_labels:  1103  -  11.0 %\n",
      "Trainning_labels:  1103  -  78.0 %\n",
      "\n",
      "Total images:  10015\n",
      "Validation Images:  1103  -  11.0 %\n",
      "Testing Images:  1103  -  11.0 %\n",
      "Trainning Images:  7809  -  78.0 %\n"
     ]
    }
   ],
   "source": [
    "print('Separation of images for training, validation and testing: ')\n",
    "print()\n",
    "print('Total labels: ', len(labels))\n",
    "perc_label_validate = round(100*(len(label_validate))/len(labels),1)\n",
    "print('Validation_labels: ', len(label_validate), ' - ',perc_label_validate,'%')\n",
    "perc_label_test = round(100*(len(label_test))/len(labels),1)\n",
    "print('Testing_labels: ', len(label_test), ' - ',perc_label_test,'%')\n",
    "perc_label_train = round(100*(len(label_train))/len(labels),1)\n",
    "print('Trainning_labels: ', len(label_train), ' - ',perc_label_train,'%')\n",
    "print()\n",
    "print('Total images: ', len(filenames))\n",
    "perc_val_filenames = round(100*(len(val_filenames))/len(filenames),1)\n",
    "print('Validation Images: ', len(val_filenames), ' - ',perc_val_filenames,'%')\n",
    "perc_test_filenames = round(100*(len(test_filenames))/len(filenames),1)\n",
    "print('Testing Images: ', len(test_filenames), ' - ',perc_test_filenames,'%')\n",
    "perc_train_train = round(100*(len(train_filenames))/len(filenames),1)\n",
    "print('Trainning Images: ', len(train_filenames), ' - ',perc_train_train,'%')"
   ]
  },
  {
   "cell_type": "code",
   "execution_count": 36,
   "metadata": {},
   "outputs": [
    {
     "name": "stdout",
     "output_type": "stream",
     "text": [
      "Frequency of unique values of the said array:\n",
      "[['akiec' 'bcc' 'bkl' 'df' 'mel' 'nv' 'vasc']\n",
      " ['267' '444' '923' '99' '1021' '4939' '116']]\n"
     ]
    }
   ],
   "source": [
    "unique_elements, counts_elements = np.unique(label_train, return_counts=True)\n",
    "print(\"Frequency of unique values of the said array:\")\n",
    "print(np.asarray((unique_elements, counts_elements)))"
   ]
  },
  {
   "cell_type": "code",
   "execution_count": 37,
   "metadata": {},
   "outputs": [],
   "source": [
    "os.chdir(dir_database)"
   ]
  },
  {
   "cell_type": "code",
   "execution_count": 38,
   "metadata": {},
   "outputs": [
    {
     "name": "stdout",
     "output_type": "stream",
     "text": [
      "Analysing train nv Lesions\n",
      "train nv lesions images: 4939\n",
      "Analysing train mel Lesions\n",
      "train mel lesions images: 4939\n",
      "Analysing train vasc Lesions\n",
      "train vasc lesions images: 4939\n",
      "Analysing train akiec Lesions\n",
      "train akiec lesions images: 4939\n",
      "Analysing train bcc Lesions\n",
      "train bcc lesions images: 4939\n",
      "Analysing train bkl Lesions\n",
      "train bkl lesions images: 4939\n",
      "Analysing train df Lesions\n",
      "train df lesions images: 4939\n",
      "\n",
      "---- / / ----\n",
      "Analysing test nv Lesions\n",
      "test nv lesions images: 883\n",
      "Analysing test mel Lesions\n",
      "test mel lesions images: 46\n",
      "Analysing test vasc Lesions\n",
      "test vasc lesions images: 13\n",
      "Analysing test akiec Lesions\n",
      "test akiec lesions images: 30\n",
      "Analysing test bcc Lesions\n",
      "test bcc lesions images: 35\n",
      "Analysing test bkl Lesions\n",
      "test bkl lesions images: 88\n",
      "Analysing test df Lesions\n",
      "test df lesions images: 8\n",
      "\n",
      "---- / / ----\n",
      "Analysing val nv Lesions\n",
      "val nv lesions images: 883\n",
      "Analysing val mel Lesions\n",
      "val mel lesions images: 46\n",
      "Analysing val vasc Lesions\n",
      "val vasc lesions images: 13\n",
      "Analysing val akiec Lesions\n",
      "val akiec lesions images: 30\n",
      "Analysing val bcc Lesions\n",
      "val bcc lesions images: 35\n",
      "Analysing val bkl Lesions\n",
      "val bkl lesions images: 88\n",
      "Analysing val df Lesions\n",
      "val df lesions images: 8\n",
      "\n",
      "---- / / ----\n"
     ]
    }
   ],
   "source": [
    "# %%time\n",
    "# # Copy-pasting images: for train, validation and test\n",
    "\n",
    "envs = dict()\n",
    "envs['train'] = train_filenames\n",
    "envs['test'] = test_filenames\n",
    "envs['val'] = val_filenames\n",
    "\n",
    "for env in envs:\n",
    "    if not os.path.isdir(dir_database +'/'+ env): os.makedirs(dir_database +'/'+ env)\n",
    "    for i in lesionstype:   \n",
    "        print('Analysing '+ env + ' ' + i + ' Lesions')\n",
    "        if not os.path.isdir(dir_database + '/'+env+'/' + i): os.makedirs(dir_database + '/'+env+'/' + i)\n",
    "        if len(os.listdir(os.path.abspath(dir_database + '/'+env+'/' + i)))<=1:\n",
    "            for name in envs[env]:\n",
    "                if name.startswith(i):\n",
    "                    shutil.copy(name, dir_database+\"/\"+env+\"/\"+i+\"/\")\n",
    "        print(env+' '+i+' lesions images: '+ str(len(os.listdir(os.path.abspath(dir_database + '/'+env+'/' + i)))))\n",
    "    print()\n",
    "    print('---- / / ----')"
   ]
  },
  {
   "cell_type": "code",
   "execution_count": 39,
   "metadata": {
    "scrolled": true
   },
   "outputs": [
    {
     "name": "stdout",
     "output_type": "stream",
     "text": [
      "nv -  4939\n",
      "mel -  4939\n",
      "bkl -  4939\n",
      "bcc -  4939\n",
      "akiec -  4939\n",
      "vasc -  4939\n",
      "df -  4939\n"
     ]
    }
   ],
   "source": [
    "# check how many train images we have in each folder\n",
    "\n",
    "print('nv - ',len(os.listdir(dir_database+'/train/nv')))\n",
    "print('mel - ',len(os.listdir(dir_database+'/train/mel')))\n",
    "print('bkl - ',len(os.listdir(dir_database+'/train/bkl')))\n",
    "print('bcc - ',len(os.listdir(dir_database+'/train/bcc')))\n",
    "print('akiec - ',len(os.listdir(dir_database+'/train/akiec')))\n",
    "print('vasc - ',len(os.listdir(dir_database+'/train/vasc')))\n",
    "print('df - ',len(os.listdir(dir_database+'/train/df')))"
   ]
  },
  {
   "cell_type": "code",
   "execution_count": 40,
   "metadata": {},
   "outputs": [],
   "source": [
    "train_path = dir_database+\"/train\"\n",
    "val_path = dir_database+\"/val\"\n",
    "test_path = dir_database+\"/test\""
   ]
  },
  {
   "cell_type": "code",
   "execution_count": 41,
   "metadata": {},
   "outputs": [],
   "source": [
    "# datagen = ImageDataGenerator(\n",
    "#         rotation_range=randrange(0, 180, 5),\n",
    "#         width_shift_range=uniform(0.1,0.3),\n",
    "#         height_shift_range=uniform(0.1,0.3),\n",
    "# #         shear_range=uniform(0.05,0.4),\n",
    "#         zoom_range=uniform(0.1,0.3),\n",
    "#         horizontal_flip=choice([True, False]),\n",
    "#         vertical_flip=choice([True, False]),\n",
    "#         fill_mode='nearest')"
   ]
  },
  {
   "cell_type": "code",
   "execution_count": 42,
   "metadata": {},
   "outputs": [],
   "source": [
    "# dir_zip = r'D:\\Python\\Jupyter\\DeepLearning\\MobileNet2\\zipFiles'\n",
    "# dir_database = r'D:\\Python\\Jupyter\\DeepLearning\\MobileNet2\\DataBase'\n",
    "# dir_MetaData = r'D:\\Python\\Jupyter\\DeepLearning\\MobileNet2\\metaData_dataBase'\n",
    "# dir_project = r'D:\\Python\\Jupyter\\DeepLearning\\MobileNet2'"
   ]
  },
  {
   "cell_type": "code",
   "execution_count": 43,
   "metadata": {},
   "outputs": [],
   "source": [
    "base_dir=dir_database"
   ]
  },
  {
   "cell_type": "code",
   "execution_count": 44,
   "metadata": {},
   "outputs": [
    {
     "name": "stdout",
     "output_type": "stream",
     "text": [
      "train\n",
      "Balancing train nv Lesions\n",
      "Data From... D:\\Python\\Jupyter\\DeepLearning\\MobileNet\\DataBase\\train\\nv\n",
      "Balancing train mel Lesions\n",
      "Data From... D:\\Python\\Jupyter\\DeepLearning\\MobileNet\\DataBase\\train\\mel\n",
      "Balancing train vasc Lesions\n",
      "Data From... D:\\Python\\Jupyter\\DeepLearning\\MobileNet\\DataBase\\train\\vasc\n",
      "Balancing train akiec Lesions\n",
      "Data From... D:\\Python\\Jupyter\\DeepLearning\\MobileNet\\DataBase\\train\\akiec\n",
      "Balancing train bcc Lesions\n",
      "Data From... D:\\Python\\Jupyter\\DeepLearning\\MobileNet\\DataBase\\train\\bcc\n",
      "Balancing train bkl Lesions\n",
      "Data From... D:\\Python\\Jupyter\\DeepLearning\\MobileNet\\DataBase\\train\\bkl\n",
      "Balancing train df Lesions\n",
      "Data From... D:\\Python\\Jupyter\\DeepLearning\\MobileNet\\DataBase\\train\\df\n",
      "Finnish!\n",
      "Wall time: 108 ms\n"
     ]
    }
   ],
   "source": [
    "%%time\n",
    "envs = dict()\n",
    "envs['train'] = train_filenames\n",
    "# envs['test'] = test_filenames\n",
    "# envs['val'] = val_filenames\n",
    "\n",
    "\n",
    "for env in envs:\n",
    "    print(env)\n",
    "    nvFolderSize = len(os.listdir(os.path.abspath(dir_database + '/'+env+'/'+'nv')))\n",
    "    for i in lesionstype:   \n",
    "        print('Balancing '+ env + ' ' + i + ' Lesions')\n",
    "        os.chdir(dir_database + '/'+env+'/'+i)\n",
    "        print('Data From... '+os.getcwd())\n",
    "        if len(os.listdir(os.path.abspath(dir_database + '/'+env+'/'+i)))<nvFolderSize:\n",
    "            print(nvFolderSize)\n",
    "            print(len(os.listdir(os.path.abspath(dir_database + '/'+env+'/'+i))))\n",
    "            print('...')\n",
    "            images = io.ImageCollection(dir_database + '/'+env+'/'+i+'/'+i+'*', conserve_memory=True, load_func=None)\n",
    "            images = io.concatenate_images(images)\n",
    "            print('......')\n",
    "\n",
    "            for batch in datagen.flow(images, batch_size=1,\n",
    "                                      save_to_dir=dir_database + '/'+env+'/'+i, save_prefix='aug', save_format='jpeg'):\n",
    "    #                 print('.........')\n",
    "                if len(os.listdir(os.path.abspath(dir_database + '/'+env+'/'+i)))==nvFolderSize:\n",
    "                    print('.........')\n",
    "                    break  # otherwise the generator would loop indefinitely\n",
    "            print(len(os.listdir(os.path.abspath(dir_database + '/'+env+'/'+i))))                \n",
    "            print('--//--')\n",
    "print('Finnish!')"
   ]
  },
  {
   "cell_type": "code",
   "execution_count": 45,
   "metadata": {},
   "outputs": [],
   "source": [
    "# Declare a few useful values\n",
    "num_train_samples = sum([len(files) for r, d, files in os.walk(train_path)]) #len(train_filenames) \n",
    "num_val_samples = sum([len(files) for r, d, files in os.walk(val_path)]) #len(val_filenames)\n",
    "num_test_samples = sum([len(files) for r, d, files in os.walk(test_path)]) #len(test_filenames)\n",
    "train_batch_size = 10\n",
    "val_batch_size = 10\n",
    "test_batch_size = 1\n",
    "\n",
    "image_width = 224\n",
    "image_height = 224"
   ]
  },
  {
   "cell_type": "code",
   "execution_count": 46,
   "metadata": {},
   "outputs": [],
   "source": [
    "datagen = ImageDataGenerator(\n",
    "    preprocessing_function= \\\n",
    "    tensorflow.keras.applications.mobilenet.preprocess_input)"
   ]
  },
  {
   "cell_type": "code",
   "execution_count": 47,
   "metadata": {},
   "outputs": [],
   "source": [
    "# Declare how many steps are needed in an iteration\n",
    "train_steps = np.ceil(num_train_samples / train_batch_size)\n",
    "val_steps = np.ceil(num_val_samples / val_batch_size)\n",
    "test_steps = np.ceil(num_test_samples / val_batch_size)"
   ]
  },
  {
   "cell_type": "code",
   "execution_count": 48,
   "metadata": {},
   "outputs": [
    {
     "name": "stdout",
     "output_type": "stream",
     "text": [
      "3458.0 111.0 111.0\n"
     ]
    }
   ],
   "source": [
    "print(train_steps, val_steps, test_steps)"
   ]
  },
  {
   "cell_type": "markdown",
   "metadata": {},
   "source": [
    "### Set Up the generator batches\n",
    "\n",
    "#### Train Batches"
   ]
  },
  {
   "cell_type": "code",
   "execution_count": 49,
   "metadata": {},
   "outputs": [
    {
     "name": "stdout",
     "output_type": "stream",
     "text": [
      "Train Batches: \n",
      "Found 34573 images belonging to 7 classes.\n"
     ]
    }
   ],
   "source": [
    "# Set up generators\n",
    "print('Train Batches: ')\n",
    "\n",
    "train_batches = datagen.flow_from_directory(\n",
    "    train_path,\n",
    "    target_size=(image_height, image_width),\n",
    "    batch_size=train_batch_size,\n",
    "    class_mode = 'categorical',\n",
    "    classes = lesionstype)"
   ]
  },
  {
   "cell_type": "markdown",
   "metadata": {},
   "source": [
    "#### Validation Batches"
   ]
  },
  {
   "cell_type": "code",
   "execution_count": 50,
   "metadata": {},
   "outputs": [
    {
     "name": "stdout",
     "output_type": "stream",
     "text": [
      "Validation Batches: \n",
      "Found 1103 images belonging to 7 classes.\n"
     ]
    }
   ],
   "source": [
    "print('Validation Batches: ')\n",
    "val_batches = datagen.flow_from_directory(\n",
    "    val_path,\n",
    "    target_size=(image_height, image_width),\n",
    "    batch_size=val_batch_size,\n",
    "    class_mode = 'categorical',\n",
    "    classes = lesionstype)"
   ]
  },
  {
   "cell_type": "markdown",
   "metadata": {},
   "source": [
    "#### Test Batches"
   ]
  },
  {
   "cell_type": "code",
   "execution_count": 51,
   "metadata": {},
   "outputs": [
    {
     "name": "stdout",
     "output_type": "stream",
     "text": [
      "Test Batches: \n",
      "Found 1103 images belonging to 7 classes.\n"
     ]
    }
   ],
   "source": [
    "print('Test Batches: ')\n",
    "test_batches = datagen.flow_from_directory(\n",
    "    test_path,\n",
    "    target_size=(image_height, image_width),\n",
    "    batch_size=test_batch_size,\n",
    "    class_mode = 'categorical',\n",
    "    classes = lesionstype,\n",
    "    shuffle = False)"
   ]
  },
  {
   "cell_type": "code",
   "execution_count": 52,
   "metadata": {},
   "outputs": [
    {
     "name": "stdout",
     "output_type": "stream",
     "text": [
      "Train: data batch shape: (10, 224, 224, 3)\n",
      "Train: labels batch shape: (10, 7)\n",
      "--//--\n",
      "Validation: data batch shape: (10, 224, 224, 3)\n",
      "Validation: labels batch shape: (10, 7)\n",
      "--//--\n",
      "Test: data batch shape: (1, 224, 224, 3)\n",
      "Test: labels batch shape: (1, 7)\n",
      "--//--\n"
     ]
    }
   ],
   "source": [
    "for data_batch, labels_batch in train_batches:\n",
    "    print('Train: data batch shape:', data_batch.shape)\n",
    "    print('Train: labels batch shape:', labels_batch.shape)\n",
    "    print('--//--')\n",
    "    break\n",
    "    \n",
    "for data_batch, labels_batch in val_batches:\n",
    "    print('Validation: data batch shape:', data_batch.shape)\n",
    "    print('Validation: labels batch shape:', labels_batch.shape)\n",
    "    print('--//--')\n",
    "    break\n",
    "    \n",
    "for data_batch, labels_batch in test_batches:\n",
    "    print('Test: data batch shape:', data_batch.shape)\n",
    "    print('Test: labels batch shape:', labels_batch.shape)\n",
    "    print('--//--')\n",
    "    break"
   ]
  },
  {
   "cell_type": "markdown",
   "metadata": {},
   "source": [
    "## Sample Weights"
   ]
  },
  {
   "cell_type": "code",
   "execution_count": 53,
   "metadata": {},
   "outputs": [],
   "source": [
    "from sklearn.utils.class_weight import compute_class_weight"
   ]
  },
  {
   "cell_type": "code",
   "execution_count": 54,
   "metadata": {},
   "outputs": [],
   "source": [
    "class_weights = compute_class_weight(\"balanced\", lesionstype, label_train)\n"
   ]
  },
  {
   "cell_type": "code",
   "execution_count": 55,
   "metadata": {},
   "outputs": [],
   "source": [
    "class_weights={\n",
    "    0: 1.0, # akiec\n",
    "    1: 1.0, # bcc\n",
    "    2: 1.0, # bkl\n",
    "    3: 1.0, # df\n",
    "    4: 1.0, # mel\n",
    "    5: 1.0, # nv\n",
    "    6: 1.0, # vasc\n",
    "}"
   ]
  },
  {
   "cell_type": "markdown",
   "metadata": {},
   "source": [
    "## Precision / Recall / F-Measure"
   ]
  },
  {
   "cell_type": "code",
   "execution_count": 56,
   "metadata": {},
   "outputs": [],
   "source": [
    "def precision(y_true, y_pred):\n",
    "    \"\"\"Precision metric.\n",
    "    Only computes a batch-wise average of precision.\n",
    "    Computes the precision, a metric for multi-label classification of\n",
    "    how many selected items are relevant.\n",
    "    \"\"\"\n",
    "    true_positives = K.sum(K.round(K.clip(y_true * y_pred, 0, 1)))\n",
    "    predicted_positives = K.sum(K.round(K.clip(y_pred, 0, 1)))\n",
    "    precision = true_positives / (predicted_positives + K.epsilon())\n",
    "    return precision\n",
    "\n",
    "def recall(y_true, y_pred):\n",
    "    \"\"\"Recall metric.\n",
    "    Only computes a batch-wise average of recall.\n",
    "    Computes the recall, a metric for multi-label classification of\n",
    "    how many relevant items are selected.\n",
    "    \"\"\"\n",
    "    true_positives = K.sum(K.round(K.clip(y_true * y_pred, 0, 1)))\n",
    "    possible_positives = K.sum(K.round(K.clip(y_true, 0, 1)))\n",
    "    recall = true_positives / (possible_positives + K.epsilon())\n",
    "    return recall\n",
    "\n",
    "def fbeta_score(y_true, y_pred, beta=1):\n",
    "    \"\"\"Computes the F score.\n",
    "    The F score is the weighted harmonic mean of precision and recall.\n",
    "    Here it is only computed as a batch-wise average, not globally.\n",
    "    This is useful for multi-label classification, where input samples can be\n",
    "    classified as sets of labels. By only using accuracy (precision) a model\n",
    "    would achieve a perfect score by simply assigning every class to every\n",
    "    input. In order to avoid this, a metric should penalize incorrect class\n",
    "    assignments as well (recall). The F-beta score (ranged from 0.0 to 1.0)\n",
    "    computes this, as a weighted mean of the proportion of correct class\n",
    "    assignments vs. the proportion of incorrect class assignments.\n",
    "\n",
    "    With beta = 1, this is equivalent to a F-measure. With beta < 1, assigning\n",
    "    correct classes becomes more important, and with beta > 1 the metric is\n",
    "    instead weighted towards penalizing incorrect class assignments.\n",
    "    \"\"\"\n",
    "\n",
    "    if beta < 0:\n",
    "        raise ValueError('The lowest choosable beta is zero (only precision).')\n",
    "\n",
    "    # If there are no true positives, fix the F score at 0 like sklearn.\n",
    "    if K.sum(K.round(K.clip(y_true, 0, 1))) == 0:\n",
    "        return 0\n",
    "\n",
    "    p = precision(y_true, y_pred)\n",
    "    r = recall(y_true, y_pred)\n",
    "    bb = beta ** 2\n",
    "    fbeta_score = (1 + bb) * (p * r) / (bb * p + r + K.epsilon())\n",
    "    return fbeta_score\n",
    "\n",
    "def fmeasure(y_true, y_pred):\n",
    "    \"\"\"Computes the f-measure, the harmonic mean of precision and recall.\n",
    "    Here it is only computed as a batch-wise average, not globally.\n",
    "    \"\"\"\n",
    "    return fbeta_score(y_true, y_pred, beta=1)"
   ]
  },
  {
   "cell_type": "code",
   "execution_count": 57,
   "metadata": {},
   "outputs": [
    {
     "name": "stdout",
     "output_type": "stream",
     "text": [
      "Balanced Train Dataset\n",
      "\n",
      "nv -  4939\n",
      "mel -  4939\n",
      "bkl -  4939\n",
      "bcc -  4939\n",
      "akiec -  4939\n",
      "vasc -  4939\n",
      "df -  4939\n"
     ]
    }
   ],
   "source": [
    "# Check how many train images we now have in each folder.\n",
    "# This is the original images plus the augmented images.\n",
    "print('Balanced Train Dataset')\n",
    "print()\n",
    "print('nv - ',len(os.listdir(base_dir+'/train/nv')))\n",
    "print('mel - ',len(os.listdir(base_dir+'/train/mel')))\n",
    "print('bkl - ',len(os.listdir(base_dir+'/train/bkl')))\n",
    "print('bcc - ',len(os.listdir(base_dir+'/train/bcc')))\n",
    "print('akiec - ',len(os.listdir(base_dir+'/train/akiec')))\n",
    "print('vasc - ',len(os.listdir(base_dir+'/train/vasc')))\n",
    "print('df - ',len(os.listdir(base_dir+'/train/df')))"
   ]
  },
  {
   "cell_type": "markdown",
   "metadata": {},
   "source": [
    "### Custom Metrics "
   ]
  },
  {
   "cell_type": "code",
   "execution_count": 58,
   "metadata": {},
   "outputs": [],
   "source": [
    "def precision(y_true, y_pred):\n",
    "    \"\"\"Precision metric.\n",
    "    Only computes a batch-wise average of precision.\n",
    "    Computes the precision, a metric for multi-label classification of\n",
    "    how many selected items are relevant.\n",
    "    \"\"\"\n",
    "    true_positives = K.sum(K.round(K.clip(y_true * y_pred, 0, 1)))\n",
    "    predicted_positives = K.sum(K.round(K.clip(y_pred, 0, 1)))\n",
    "    precision = true_positives / (predicted_positives + K.epsilon())\n",
    "    return precision\n",
    "\n",
    "def recall(y_true, y_pred):\n",
    "    \"\"\"Recall metric.\n",
    "    Only computes a batch-wise average of recall.\n",
    "    Computes the recall, a metric for multi-label classification of\n",
    "    how many relevant items are selected.\n",
    "    \"\"\"\n",
    "    true_positives = K.sum(K.round(K.clip(y_true * y_pred, 0, 1)))\n",
    "    possible_positives = K.sum(K.round(K.clip(y_true, 0, 1)))\n",
    "    recall = true_positives / (possible_positives + K.epsilon())\n",
    "    return recall\n",
    "\n",
    "def fbeta_score(y_true, y_pred, beta=1):\n",
    "    \"\"\"Computes the F score.\n",
    "    The F score is the weighted harmonic mean of precision and recall.\n",
    "    Here it is only computed as a batch-wise average, not globally.\n",
    "    This is useful for multi-label classification, where input samples can be\n",
    "    classified as sets of labels. By only using accuracy (precision) a model\n",
    "    would achieve a perfect score by simply assigning every class to every\n",
    "    input. In order to avoid this, a metric should penalize incorrect class\n",
    "    assignments as well (recall). The F-beta score (ranged from 0.0 to 1.0)\n",
    "    computes this, as a weighted mean of the proportion of correct class\n",
    "    assignments vs. the proportion of incorrect class assignments.\n",
    "\n",
    "    With beta = 1, this is equivalent to a F-measure. With beta < 1, assigning\n",
    "    correct classes becomes more important, and with beta > 1 the metric is\n",
    "    instead weighted towards penalizing incorrect class assignments.\n",
    "    \"\"\"\n",
    "\n",
    "    if beta < 0:\n",
    "        raise ValueError('The lowest choosable beta is zero (only precision).')\n",
    "\n",
    "    # If there are no true positives, fix the F score at 0 like sklearn.\n",
    "    if K.sum(K.round(K.clip(y_true, 0, 1))) == 0:\n",
    "        return 0\n",
    "\n",
    "    p = precision(y_true, y_pred)\n",
    "    r = recall(y_true, y_pred)\n",
    "    bb = beta ** 2\n",
    "    fbeta_score = (1 + bb) * (p * r) / (bb * p + r + K.epsilon())\n",
    "    return fbeta_score\n",
    "\n",
    "def fmeasure(y_true, y_pred):\n",
    "    \"\"\"Computes the f-measure, the harmonic mean of precision and recall.\n",
    "    Here it is only computed as a batch-wise average, not globally.\n",
    "    \"\"\"\n",
    "    return fbeta_score(y_true, y_pred, beta=1)"
   ]
  },
  {
   "cell_type": "markdown",
   "metadata": {},
   "source": [
    "##  MobileNet\n"
   ]
  },
  {
   "cell_type": "code",
   "execution_count": 137,
   "metadata": {},
   "outputs": [],
   "source": [
    "# create a copy of a mobilenet model\n",
    "mobile = tensorflow.keras.applications.mobilenet.MobileNet(dropout=1e-3, pooling=max)"
   ]
  },
  {
   "cell_type": "code",
   "execution_count": 138,
   "metadata": {},
   "outputs": [
    {
     "name": "stdout",
     "output_type": "stream",
     "text": [
      "_________________________________________________________________\n",
      "Layer (type)                 Output Shape              Param #   \n",
      "=================================================================\n",
      "input_4 (InputLayer)         (None, 224, 224, 3)       0         \n",
      "_________________________________________________________________\n",
      "conv1_pad (ZeroPadding2D)    (None, 225, 225, 3)       0         \n",
      "_________________________________________________________________\n",
      "conv1 (Conv2D)               (None, 112, 112, 32)      864       \n",
      "_________________________________________________________________\n",
      "conv1_bn (BatchNormalization (None, 112, 112, 32)      128       \n",
      "_________________________________________________________________\n",
      "conv1_relu (ReLU)            (None, 112, 112, 32)      0         \n",
      "_________________________________________________________________\n",
      "conv_dw_1 (DepthwiseConv2D)  (None, 112, 112, 32)      288       \n",
      "_________________________________________________________________\n",
      "conv_dw_1_bn (BatchNormaliza (None, 112, 112, 32)      128       \n",
      "_________________________________________________________________\n",
      "conv_dw_1_relu (ReLU)        (None, 112, 112, 32)      0         \n",
      "_________________________________________________________________\n",
      "conv_pw_1 (Conv2D)           (None, 112, 112, 64)      2048      \n",
      "_________________________________________________________________\n",
      "conv_pw_1_bn (BatchNormaliza (None, 112, 112, 64)      256       \n",
      "_________________________________________________________________\n",
      "conv_pw_1_relu (ReLU)        (None, 112, 112, 64)      0         \n",
      "_________________________________________________________________\n",
      "conv_pad_2 (ZeroPadding2D)   (None, 113, 113, 64)      0         \n",
      "_________________________________________________________________\n",
      "conv_dw_2 (DepthwiseConv2D)  (None, 56, 56, 64)        576       \n",
      "_________________________________________________________________\n",
      "conv_dw_2_bn (BatchNormaliza (None, 56, 56, 64)        256       \n",
      "_________________________________________________________________\n",
      "conv_dw_2_relu (ReLU)        (None, 56, 56, 64)        0         \n",
      "_________________________________________________________________\n",
      "conv_pw_2 (Conv2D)           (None, 56, 56, 128)       8192      \n",
      "_________________________________________________________________\n",
      "conv_pw_2_bn (BatchNormaliza (None, 56, 56, 128)       512       \n",
      "_________________________________________________________________\n",
      "conv_pw_2_relu (ReLU)        (None, 56, 56, 128)       0         \n",
      "_________________________________________________________________\n",
      "conv_dw_3 (DepthwiseConv2D)  (None, 56, 56, 128)       1152      \n",
      "_________________________________________________________________\n",
      "conv_dw_3_bn (BatchNormaliza (None, 56, 56, 128)       512       \n",
      "_________________________________________________________________\n",
      "conv_dw_3_relu (ReLU)        (None, 56, 56, 128)       0         \n",
      "_________________________________________________________________\n",
      "conv_pw_3 (Conv2D)           (None, 56, 56, 128)       16384     \n",
      "_________________________________________________________________\n",
      "conv_pw_3_bn (BatchNormaliza (None, 56, 56, 128)       512       \n",
      "_________________________________________________________________\n",
      "conv_pw_3_relu (ReLU)        (None, 56, 56, 128)       0         \n",
      "_________________________________________________________________\n",
      "conv_pad_4 (ZeroPadding2D)   (None, 57, 57, 128)       0         \n",
      "_________________________________________________________________\n",
      "conv_dw_4 (DepthwiseConv2D)  (None, 28, 28, 128)       1152      \n",
      "_________________________________________________________________\n",
      "conv_dw_4_bn (BatchNormaliza (None, 28, 28, 128)       512       \n",
      "_________________________________________________________________\n",
      "conv_dw_4_relu (ReLU)        (None, 28, 28, 128)       0         \n",
      "_________________________________________________________________\n",
      "conv_pw_4 (Conv2D)           (None, 28, 28, 256)       32768     \n",
      "_________________________________________________________________\n",
      "conv_pw_4_bn (BatchNormaliza (None, 28, 28, 256)       1024      \n",
      "_________________________________________________________________\n",
      "conv_pw_4_relu (ReLU)        (None, 28, 28, 256)       0         \n",
      "_________________________________________________________________\n",
      "conv_dw_5 (DepthwiseConv2D)  (None, 28, 28, 256)       2304      \n",
      "_________________________________________________________________\n",
      "conv_dw_5_bn (BatchNormaliza (None, 28, 28, 256)       1024      \n",
      "_________________________________________________________________\n",
      "conv_dw_5_relu (ReLU)        (None, 28, 28, 256)       0         \n",
      "_________________________________________________________________\n",
      "conv_pw_5 (Conv2D)           (None, 28, 28, 256)       65536     \n",
      "_________________________________________________________________\n",
      "conv_pw_5_bn (BatchNormaliza (None, 28, 28, 256)       1024      \n",
      "_________________________________________________________________\n",
      "conv_pw_5_relu (ReLU)        (None, 28, 28, 256)       0         \n",
      "_________________________________________________________________\n",
      "conv_pad_6 (ZeroPadding2D)   (None, 29, 29, 256)       0         \n",
      "_________________________________________________________________\n",
      "conv_dw_6 (DepthwiseConv2D)  (None, 14, 14, 256)       2304      \n",
      "_________________________________________________________________\n",
      "conv_dw_6_bn (BatchNormaliza (None, 14, 14, 256)       1024      \n",
      "_________________________________________________________________\n",
      "conv_dw_6_relu (ReLU)        (None, 14, 14, 256)       0         \n",
      "_________________________________________________________________\n",
      "conv_pw_6 (Conv2D)           (None, 14, 14, 512)       131072    \n",
      "_________________________________________________________________\n",
      "conv_pw_6_bn (BatchNormaliza (None, 14, 14, 512)       2048      \n",
      "_________________________________________________________________\n",
      "conv_pw_6_relu (ReLU)        (None, 14, 14, 512)       0         \n",
      "_________________________________________________________________\n",
      "conv_dw_7 (DepthwiseConv2D)  (None, 14, 14, 512)       4608      \n",
      "_________________________________________________________________\n",
      "conv_dw_7_bn (BatchNormaliza (None, 14, 14, 512)       2048      \n",
      "_________________________________________________________________\n",
      "conv_dw_7_relu (ReLU)        (None, 14, 14, 512)       0         \n",
      "_________________________________________________________________\n",
      "conv_pw_7 (Conv2D)           (None, 14, 14, 512)       262144    \n",
      "_________________________________________________________________\n",
      "conv_pw_7_bn (BatchNormaliza (None, 14, 14, 512)       2048      \n",
      "_________________________________________________________________\n",
      "conv_pw_7_relu (ReLU)        (None, 14, 14, 512)       0         \n",
      "_________________________________________________________________\n",
      "conv_dw_8 (DepthwiseConv2D)  (None, 14, 14, 512)       4608      \n",
      "_________________________________________________________________\n",
      "conv_dw_8_bn (BatchNormaliza (None, 14, 14, 512)       2048      \n",
      "_________________________________________________________________\n",
      "conv_dw_8_relu (ReLU)        (None, 14, 14, 512)       0         \n",
      "_________________________________________________________________\n",
      "conv_pw_8 (Conv2D)           (None, 14, 14, 512)       262144    \n",
      "_________________________________________________________________\n",
      "conv_pw_8_bn (BatchNormaliza (None, 14, 14, 512)       2048      \n",
      "_________________________________________________________________\n",
      "conv_pw_8_relu (ReLU)        (None, 14, 14, 512)       0         \n",
      "_________________________________________________________________\n",
      "conv_dw_9 (DepthwiseConv2D)  (None, 14, 14, 512)       4608      \n",
      "_________________________________________________________________\n",
      "conv_dw_9_bn (BatchNormaliza (None, 14, 14, 512)       2048      \n",
      "_________________________________________________________________\n",
      "conv_dw_9_relu (ReLU)        (None, 14, 14, 512)       0         \n",
      "_________________________________________________________________\n",
      "conv_pw_9 (Conv2D)           (None, 14, 14, 512)       262144    \n",
      "_________________________________________________________________\n",
      "conv_pw_9_bn (BatchNormaliza (None, 14, 14, 512)       2048      \n",
      "_________________________________________________________________\n",
      "conv_pw_9_relu (ReLU)        (None, 14, 14, 512)       0         \n",
      "_________________________________________________________________\n",
      "conv_dw_10 (DepthwiseConv2D) (None, 14, 14, 512)       4608      \n",
      "_________________________________________________________________\n",
      "conv_dw_10_bn (BatchNormaliz (None, 14, 14, 512)       2048      \n",
      "_________________________________________________________________\n",
      "conv_dw_10_relu (ReLU)       (None, 14, 14, 512)       0         \n",
      "_________________________________________________________________\n",
      "conv_pw_10 (Conv2D)          (None, 14, 14, 512)       262144    \n",
      "_________________________________________________________________\n",
      "conv_pw_10_bn (BatchNormaliz (None, 14, 14, 512)       2048      \n",
      "_________________________________________________________________\n",
      "conv_pw_10_relu (ReLU)       (None, 14, 14, 512)       0         \n",
      "_________________________________________________________________\n",
      "conv_dw_11 (DepthwiseConv2D) (None, 14, 14, 512)       4608      \n",
      "_________________________________________________________________\n",
      "conv_dw_11_bn (BatchNormaliz (None, 14, 14, 512)       2048      \n",
      "_________________________________________________________________\n",
      "conv_dw_11_relu (ReLU)       (None, 14, 14, 512)       0         \n",
      "_________________________________________________________________\n",
      "conv_pw_11 (Conv2D)          (None, 14, 14, 512)       262144    \n",
      "_________________________________________________________________\n",
      "conv_pw_11_bn (BatchNormaliz (None, 14, 14, 512)       2048      \n",
      "_________________________________________________________________\n",
      "conv_pw_11_relu (ReLU)       (None, 14, 14, 512)       0         \n",
      "_________________________________________________________________\n",
      "conv_pad_12 (ZeroPadding2D)  (None, 15, 15, 512)       0         \n",
      "_________________________________________________________________\n",
      "conv_dw_12 (DepthwiseConv2D) (None, 7, 7, 512)         4608      \n",
      "_________________________________________________________________\n",
      "conv_dw_12_bn (BatchNormaliz (None, 7, 7, 512)         2048      \n",
      "_________________________________________________________________\n",
      "conv_dw_12_relu (ReLU)       (None, 7, 7, 512)         0         \n",
      "_________________________________________________________________\n",
      "conv_pw_12 (Conv2D)          (None, 7, 7, 1024)        524288    \n",
      "_________________________________________________________________\n",
      "conv_pw_12_bn (BatchNormaliz (None, 7, 7, 1024)        4096      \n",
      "_________________________________________________________________\n",
      "conv_pw_12_relu (ReLU)       (None, 7, 7, 1024)        0         \n",
      "_________________________________________________________________\n",
      "conv_dw_13 (DepthwiseConv2D) (None, 7, 7, 1024)        9216      \n",
      "_________________________________________________________________\n",
      "conv_dw_13_bn (BatchNormaliz (None, 7, 7, 1024)        4096      \n",
      "_________________________________________________________________\n",
      "conv_dw_13_relu (ReLU)       (None, 7, 7, 1024)        0         \n",
      "_________________________________________________________________\n",
      "conv_pw_13 (Conv2D)          (None, 7, 7, 1024)        1048576   \n",
      "_________________________________________________________________\n",
      "conv_pw_13_bn (BatchNormaliz (None, 7, 7, 1024)        4096      \n",
      "_________________________________________________________________\n",
      "conv_pw_13_relu (ReLU)       (None, 7, 7, 1024)        0         \n",
      "_________________________________________________________________\n",
      "global_average_pooling2d_3 ( (None, 1024)              0         \n",
      "_________________________________________________________________\n",
      "reshape_1 (Reshape)          (None, 1, 1, 1024)        0         \n",
      "_________________________________________________________________\n",
      "dropout (Dropout)            (None, 1, 1, 1024)        0         \n",
      "_________________________________________________________________\n",
      "conv_preds (Conv2D)          (None, 1, 1, 1000)        1025000   \n",
      "_________________________________________________________________\n",
      "reshape_2 (Reshape)          (None, 1000)              0         \n",
      "_________________________________________________________________\n",
      "act_softmax (Activation)     (None, 1000)              0         \n",
      "=================================================================\n",
      "Total params: 4,253,864\n",
      "Trainable params: 4,231,976\n",
      "Non-trainable params: 21,888\n",
      "_________________________________________________________________\n"
     ]
    }
   ],
   "source": [
    "mobile.summary()"
   ]
  },
  {
   "cell_type": "code",
   "execution_count": 139,
   "metadata": {},
   "outputs": [],
   "source": [
    "# CREATE THE MODEL ARCHITECTURE\n",
    "\n",
    "# Exclude the last 5 layers of the above model.\n",
    "# This will include all layers up to and including global_average_pooling2d_1\n",
    "x = mobile.layers[-6].output\n",
    "\n",
    "x = Dropout(0.25)(x)\n",
    "# x = BatchNormalization()(x)\n",
    "predictions = Dense(7, activation='softmax')(x)\n",
    "\n",
    "mobile = Model(inputs=mobile.input, outputs=predictions)"
   ]
  },
  {
   "cell_type": "code",
   "execution_count": 140,
   "metadata": {},
   "outputs": [
    {
     "data": {
      "text/plain": [
       "list"
      ]
     },
     "execution_count": 140,
     "metadata": {},
     "output_type": "execute_result"
    }
   ],
   "source": [
    "type(mobile.layers)"
   ]
  },
  {
   "cell_type": "code",
   "execution_count": 141,
   "metadata": {},
   "outputs": [
    {
     "data": {
      "text/plain": [
       "90"
      ]
     },
     "execution_count": 141,
     "metadata": {},
     "output_type": "execute_result"
    }
   ],
   "source": [
    "# How many layers does MobileNet have?\n",
    "len(mobile.layers)"
   ]
  },
  {
   "cell_type": "code",
   "execution_count": 144,
   "metadata": {},
   "outputs": [],
   "source": [
    "# Number of Layers that will be trained\n",
    "for layer in mobile.layers[:-20]:\n",
    "    layer.trainable = False"
   ]
  },
  {
   "cell_type": "code",
   "execution_count": 145,
   "metadata": {},
   "outputs": [],
   "source": [
    "# model.summary()"
   ]
  },
  {
   "cell_type": "code",
   "execution_count": 146,
   "metadata": {},
   "outputs": [],
   "source": [
    "mobile.compile(Adam(lr=0.01)\n",
    "              ,loss='categorical_crossentropy'\n",
    "              ,metrics=[categorical_accuracy, precision, recall, fmeasure])"
   ]
  },
  {
   "cell_type": "code",
   "execution_count": 147,
   "metadata": {},
   "outputs": [
    {
     "name": "stdout",
     "output_type": "stream",
     "text": [
      "{'nv': 0, 'mel': 1, 'vasc': 2, 'akiec': 3, 'bcc': 4, 'bkl': 5, 'df': 6}\n",
      "{'nv': 0, 'mel': 1, 'vasc': 2, 'akiec': 3, 'bcc': 4, 'bkl': 5, 'df': 6}\n",
      "{'nv': 0, 'mel': 1, 'vasc': 2, 'akiec': 3, 'bcc': 4, 'bkl': 5, 'df': 6}\n"
     ]
    }
   ],
   "source": [
    "# Get the labels that are associated with each index\n",
    "print(train_batches.class_indices)\n",
    "print(val_batches.class_indices)\n",
    "print(test_batches.class_indices)"
   ]
  },
  {
   "cell_type": "markdown",
   "metadata": {},
   "source": [
    "## Checkpoint / Learning Rate / Callback "
   ]
  },
  {
   "cell_type": "code",
   "execution_count": 148,
   "metadata": {},
   "outputs": [],
   "source": [
    "# Filepath to save the model\n",
    "os.chdir(dir_project)\n",
    "filepath = \"mobileNet.h5\""
   ]
  },
  {
   "cell_type": "code",
   "execution_count": 149,
   "metadata": {},
   "outputs": [],
   "source": [
    "# Declare a checkpoint to save the best version of the model\n",
    "checkpoint = ModelCheckpoint(filepath, \n",
    "                             monitor='val_fmeasure', \n",
    "                             verbose=1, \n",
    "                             save_best_only=True, \n",
    "                             mode='max')\n",
    "\n",
    "# Reduce the learning rate as the learning stagnates\n",
    "reduce_lr = ReduceLROnPlateau(monitor='val_fmeasure'\n",
    "                              ,factor=0.5\n",
    "                              ,patience=2\n",
    "                              ,verbose=1\n",
    "                              ,mode='max'\n",
    "                              ,min_lr=0.00001)\n",
    "# Eearly Stop\n",
    "earlystopping = EarlyStopping(monitor='val_fmeasure',\n",
    "                              min_delta=0,\n",
    "                              patience=5,\n",
    "                              verbose=0, \n",
    "                              mode='max')\n",
    "\n",
    "callbacks_list = [checkpoint, reduce_lr, earlystopping]"
   ]
  },
  {
   "cell_type": "code",
   "execution_count": 150,
   "metadata": {},
   "outputs": [],
   "source": [
    "config = tensorflow.ConfigProto()\n",
    "config.gpu_options.allow_growth = True\n",
    "\n",
    "session = tensorflow.Session(config=config)"
   ]
  },
  {
   "cell_type": "code",
   "execution_count": 151,
   "metadata": {},
   "outputs": [
    {
     "name": "stdout",
     "output_type": "stream",
     "text": [
      "Epoch 1/20\n",
      "111/111 [==============================] - 15s 139ms/step - loss: 0.7801 - categorical_accuracy: 0.8042 - precision: 0.8107 - recall: 0.8054 - fmeasure: 0.8079\n",
      "\n",
      "Epoch 00001: val_fmeasure improved from -inf to 0.80792, saving model to mobileNet.h5\n",
      "3458/3458 [==============================] - 329s 95ms/step - loss: 0.9304 - categorical_accuracy: 0.6611 - precision: 0.7420 - recall: 0.5775 - fmeasure: 0.6441 - val_loss: 0.7801 - val_categorical_accuracy: 0.8042 - val_precision: 0.8107 - val_recall: 0.8054 - val_fmeasure: 0.8079\n",
      "Epoch 2/20\n",
      "111/111 [==============================] - 15s 136ms/step - loss: 0.7045 - categorical_accuracy: 0.8024 - precision: 0.8232 - recall: 0.7982 - fmeasure: 0.8099\n",
      "\n",
      "Epoch 00002: val_fmeasure improved from 0.80792 to 0.80987, saving model to mobileNet.h5\n",
      "3458/3458 [==============================] - 345s 100ms/step - loss: 0.6540 - categorical_accuracy: 0.7572 - precision: 0.8142 - recall: 0.6958 - fmeasure: 0.7470 - val_loss: 0.7045 - val_categorical_accuracy: 0.8024 - val_precision: 0.8232 - val_recall: 0.7982 - val_fmeasure: 0.8099\n",
      "Epoch 3/20\n",
      "111/111 [==============================] - 16s 143ms/step - loss: 0.6667 - categorical_accuracy: 0.8105 - precision: 0.8411 - recall: 0.7982 - fmeasure: 0.8177\n",
      "\n",
      "Epoch 00003: val_fmeasure improved from 0.80987 to 0.81775, saving model to mobileNet.h5\n",
      "3458/3458 [==============================] - 319s 92ms/step - loss: 0.5438 - categorical_accuracy: 0.7965 - precision: 0.8408 - recall: 0.7474 - fmeasure: 0.7886 - val_loss: 0.6667 - val_categorical_accuracy: 0.8105 - val_precision: 0.8411 - val_recall: 0.7982 - val_fmeasure: 0.8177\n",
      "Epoch 4/20\n",
      "111/111 [==============================] - 16s 141ms/step - loss: 0.5699 - categorical_accuracy: 0.8286 - precision: 0.8704 - recall: 0.8027 - fmeasure: 0.8339\n",
      "\n",
      "Epoch 00004: val_fmeasure improved from 0.81775 to 0.83386, saving model to mobileNet.h5\n",
      "3458/3458 [==============================] - 330s 95ms/step - loss: 0.4767 - categorical_accuracy: 0.8219 - precision: 0.8581 - recall: 0.7842 - fmeasure: 0.8174 - val_loss: 0.5699 - val_categorical_accuracy: 0.8286 - val_precision: 0.8704 - val_recall: 0.8027 - val_fmeasure: 0.8339\n",
      "Epoch 5/20\n",
      "111/111 [==============================] - 16s 141ms/step - loss: 0.6720 - categorical_accuracy: 0.7860 - precision: 0.8377 - recall: 0.7249 - fmeasure: 0.7748\n",
      "\n",
      "Epoch 00005: val_fmeasure did not improve from 0.83386\n",
      "3458/3458 [==============================] - 313s 90ms/step - loss: 0.4392 - categorical_accuracy: 0.8350 - precision: 0.8689 - recall: 0.8016 - fmeasure: 0.8321 - val_loss: 0.6720 - val_categorical_accuracy: 0.7860 - val_precision: 0.8377 - val_recall: 0.7249 - val_fmeasure: 0.7748\n",
      "Epoch 6/20\n",
      "111/111 [==============================] - 16s 142ms/step - loss: 0.6641 - categorical_accuracy: 0.8078 - precision: 0.8379 - recall: 0.7829 - fmeasure: 0.8075\n",
      "\n",
      "Epoch 00006: val_fmeasure did not improve from 0.83386\n",
      "\n",
      "Epoch 00006: ReduceLROnPlateau reducing learning rate to 0.004999999888241291.\n",
      "3458/3458 [==============================] - 311s 90ms/step - loss: 0.3984 - categorical_accuracy: 0.8504 - precision: 0.8785 - recall: 0.8229 - fmeasure: 0.8482 - val_loss: 0.6641 - val_categorical_accuracy: 0.8078 - val_precision: 0.8379 - val_recall: 0.7829 - val_fmeasure: 0.8075\n",
      "Epoch 7/20\n",
      "111/111 [==============================] - 16s 142ms/step - loss: 0.9284 - categorical_accuracy: 0.7452 - precision: 0.7814 - recall: 0.7141 - fmeasure: 0.7449\n",
      "\n",
      "Epoch 00007: val_fmeasure did not improve from 0.83386\n",
      "3458/3458 [==============================] - 329s 95ms/step - loss: 0.3008 - categorical_accuracy: 0.8881 - precision: 0.9066 - recall: 0.8704 - fmeasure: 0.8871 - val_loss: 0.9284 - val_categorical_accuracy: 0.7452 - val_precision: 0.7814 - val_recall: 0.7141 - val_fmeasure: 0.7449\n",
      "Epoch 8/20\n",
      "111/111 [==============================] - 16s 140ms/step - loss: 0.6657 - categorical_accuracy: 0.8196 - precision: 0.8564 - recall: 0.7931 - fmeasure: 0.8217\n",
      "\n",
      "Epoch 00008: val_fmeasure did not improve from 0.83386\n",
      "\n",
      "Epoch 00008: ReduceLROnPlateau reducing learning rate to 0.0024999999441206455.\n",
      "3458/3458 [==============================] - 308s 89ms/step - loss: 0.2641 - categorical_accuracy: 0.9016 - precision: 0.9156 - recall: 0.8884 - fmeasure: 0.9010 - val_loss: 0.6657 - val_categorical_accuracy: 0.8196 - val_precision: 0.8564 - val_recall: 0.7931 - val_fmeasure: 0.8217\n",
      "Epoch 9/20\n",
      "111/111 [==============================] - 16s 145ms/step - loss: 0.6640 - categorical_accuracy: 0.8259 - precision: 0.8535 - recall: 0.7913 - fmeasure: 0.8198\n",
      "\n",
      "Epoch 00009: val_fmeasure did not improve from 0.83386\n",
      "3458/3458 [==============================] - 305s 88ms/step - loss: 0.2045 - categorical_accuracy: 0.9229 - precision: 0.9326 - recall: 0.9140 - fmeasure: 0.9227 - val_loss: 0.6640 - val_categorical_accuracy: 0.8259 - val_precision: 0.8535 - val_recall: 0.7913 - val_fmeasure: 0.8198\n"
     ]
    }
   ],
   "source": [
    "history = mobile.fit_generator(train_batches\n",
    "                              ,steps_per_epoch=train_steps\n",
    "                              ,class_weight=class_weights\n",
    "                              ,validation_data=val_batches\n",
    "                              ,validation_steps=val_steps\n",
    "                              ,epochs=20\n",
    "                              ,verbose=1\n",
    "                              ,callbacks=callbacks_list) "
   ]
  },
  {
   "cell_type": "code",
   "execution_count": 153,
   "metadata": {},
   "outputs": [
    {
     "data": {
      "text/plain": [
       "['loss', 'categorical_accuracy', 'precision', 'recall', 'fmeasure']"
      ]
     },
     "execution_count": 153,
     "metadata": {},
     "output_type": "execute_result"
    }
   ],
   "source": [
    "# get the metric names so we can use evaulate_generator\n",
    "mobile.metrics_names"
   ]
  },
  {
   "cell_type": "code",
   "execution_count": 154,
   "metadata": {},
   "outputs": [
    {
     "name": "stdout",
     "output_type": "stream",
     "text": [
      "val_loss: 0.6511242810962221\n",
      "val_cat_acc: 0.82683593\n",
      "val_precision: 0.8005439\n",
      "val_recall: 0.8005439\n",
      "val_fmeasure: 0.8005439\n"
     ]
    }
   ],
   "source": [
    "# Here the the last epoch will be used.\n",
    "\n",
    "val_loss, val_cat_acc, val_precision, val_recall, val_fmeasure = \\\n",
    "mobile.evaluate_generator(test_batches, \n",
    "                        steps=len(label_validate))\n",
    "\n",
    "print('val_loss:', val_loss)\n",
    "print('val_cat_acc:', val_cat_acc)\n",
    "print('val_precision:', val_precision)\n",
    "print('val_recall:', val_recall)\n",
    "print('val_fmeasure:', val_fmeasure)"
   ]
  },
  {
   "cell_type": "code",
   "execution_count": 155,
   "metadata": {},
   "outputs": [
    {
     "name": "stdout",
     "output_type": "stream",
     "text": [
      "val_loss: 0.6511242810962221\n",
      "val_cat_acc: 0.82683593\n",
      "val_precision: 0.8005439\n",
      "val_recall: 0.8005439\n",
      "val_fmeasure: 0.8005439\n"
     ]
    }
   ],
   "source": [
    "# # Here the best epoch will be used.\n",
    "\n",
    "model.load_weights('mobileNet.h5')\n",
    "\n",
    "val_loss, val_cat_acc, val_precision, val_recall, val_fmeasure = \\\n",
    "mobile.evaluate_generator(test_batches, \n",
    "                        steps=len(label_validate))\n",
    "\n",
    "print('val_loss:', val_loss)\n",
    "print('val_cat_acc:', val_cat_acc)\n",
    "print('val_precision:', val_precision)\n",
    "print('val_recall:', val_recall)\n",
    "print('val_fmeasure:', val_fmeasure)"
   ]
  },
  {
   "cell_type": "code",
   "execution_count": 156,
   "metadata": {},
   "outputs": [
    {
     "data": {
      "image/png": "[encoded data removed]",
      "text/plain": [
       "<Figure size 432x288 with 1 Axes>"
      ]
     },
     "metadata": {
      "needs_background": "light"
     },
     "output_type": "display_data"
    },
    {
     "data": {
      "image/png": "[encoded data removed]",
      "text/plain": [
       "<Figure size 432x288 with 1 Axes>"
      ]
     },
     "metadata": {
      "needs_background": "light"
     },
     "output_type": "display_data"
    },
    {
     "data": {
      "image/png": "[encoded data removed]",
      "text/plain": [
       "<Figure size 432x288 with 1 Axes>"
      ]
     },
     "metadata": {
      "needs_background": "light"
     },
     "output_type": "display_data"
    },
    {
     "data": {
      "image/png": "[encoded data removed]",
      "text/plain": [
       "<Figure size 432x288 with 1 Axes>"
      ]
     },
     "metadata": {
      "needs_background": "light"
     },
     "output_type": "display_data"
    },
    {
     "data": {
      "image/png": "[encoded data removed]",
      "text/plain": [
       "<Figure size 432x288 with 1 Axes>"
      ]
     },
     "metadata": {
      "needs_background": "light"
     },
     "output_type": "display_data"
    }
   ],
   "source": [
    "# display the loss and accuracy curves\n",
    "\n",
    "import matplotlib.pyplot as plt\n",
    "\n",
    "acc = history.history['categorical_accuracy']\n",
    "val_acc = history.history['val_categorical_accuracy']\n",
    "loss = history.history['loss']\n",
    "val_loss = history.history['val_loss']\n",
    "\n",
    "# val_loss, val_cat_acc, val_precision, val_recall, val_fmeasure\n",
    "\n",
    "train_precision = history.history['precision']\n",
    "val_precision = history.history['val_precision']\n",
    "train_recall = history.history['recall']\n",
    "val_recall = history.history['val_recall']\n",
    "train_fmeasure = history.history['fmeasure']\n",
    "val_fmeasure = history.history['val_fmeasure']\n",
    "\n",
    "epochs = range(1, len(acc) + 1)\n",
    "\n",
    "plt.plot(epochs, loss, 'bo', label='Training loss')\n",
    "plt.plot(epochs, val_loss, 'b', label='Validation loss')\n",
    "plt.title('Training and validation loss')\n",
    "plt.legend()\n",
    "plt.figure()\n",
    "\n",
    "plt.plot(epochs, acc, 'bo', label='Training cat acc')\n",
    "plt.plot(epochs, val_acc, 'b', label='Validation cat acc')\n",
    "plt.title('Training and validation cat accuracy')\n",
    "plt.legend()\n",
    "plt.figure()\n",
    "\n",
    "plt.plot(epochs, train_precision, 'bo', label='Training Precision')\n",
    "plt.plot(epochs, val_precision, 'b', label='Validation Precision')\n",
    "plt.title('Training and validation Precision')\n",
    "plt.legend()\n",
    "plt.figure()\n",
    "plt.plot(epochs, train_recall, 'bo', label='Training Recall')\n",
    "plt.plot(epochs, val_recall, 'b', label='Validation Recall')\n",
    "plt.title('Training and validation Recall')\n",
    "plt.legend()\n",
    "plt.figure()\n",
    "plt.plot(epochs, train_fmeasure, 'bo', label='Training Fmeasure')\n",
    "plt.plot(epochs, val_fmeasure, 'b', label='Validation Fmeasure')\n",
    "plt.title('Training and validation Fmeasure')\n",
    "plt.legend()\n",
    "\n",
    "plt.show()"
   ]
  },
  {
   "cell_type": "markdown",
   "metadata": {},
   "source": [
    "Confusion Matrix"
   ]
  },
  {
   "cell_type": "code",
   "execution_count": 65,
   "metadata": {},
   "outputs": [],
   "source": [
    "# Source: Scikit Learn website\n",
    "# http://scikit-learn.org/stable/auto_examples/\n",
    "# model_selection/plot_confusion_matrix.html#sphx-glr-auto-examples-model-\n",
    "# selection-plot-confusion-matrix-py\n",
    "\n",
    "\n",
    "def plot_confusion_matrix(cm, classes,\n",
    "                          normalize=False,\n",
    "                          title='Confusion matrix',\n",
    "                          cmap=plt.cm.Blues):\n",
    "    \"\"\"\n",
    "    This function prints and plots the confusion matrix.\n",
    "    Normalization can be applied by setting `normalize=True`.\n",
    "    \"\"\"\n",
    "    if normalize:\n",
    "        cm = cm.astype('float') / cm.sum(axis=1)[:, np.newaxis]\n",
    "        print(\"Normalized confusion matrix\")\n",
    "    else:\n",
    "        print('Confusion matrix, without normalization')\n",
    "\n",
    "    print(cm)\n",
    "\n",
    "    plt.imshow(cm, interpolation='nearest', cmap=cmap)\n",
    "    plt.title(title)\n",
    "    plt.colorbar()\n",
    "    tick_marks = np.arange(len(classes))\n",
    "    plt.xticks(tick_marks, classes, rotation=45)\n",
    "    plt.yticks(tick_marks, classes)\n",
    "\n",
    "    fmt = '.2f' if normalize else 'd'\n",
    "    thresh = cm.max() / 2.\n",
    "    for i, j in itertools.product(range(cm.shape[0]), range(cm.shape[1])):\n",
    "        plt.text(j, i, format(cm[i, j], fmt),\n",
    "                 horizontalalignment=\"center\",\n",
    "                 color=\"white\" if cm[i, j] > thresh else \"black\")\n",
    "\n",
    "    plt.ylabel('True label')\n",
    "    plt.xlabel('Predicted label')\n",
    "    plt.tight_layout()"
   ]
  },
  {
   "cell_type": "markdown",
   "metadata": {},
   "source": [
    "#### Confusion Matrix - Test Data"
   ]
  },
  {
   "cell_type": "code",
   "execution_count": 160,
   "metadata": {
    "scrolled": true
   },
   "outputs": [
    {
     "name": "stdout",
     "output_type": "stream",
     "text": [
      "1103/1103 [==============================] - 19s 17ms/step\n",
      "Normalized confusion matrix\n",
      "[[0.84597961 0.05096263 0.00226501 0.         0.04756512 0.0011325\n",
      "  0.05209513]\n",
      " [0.2173913  0.58695652 0.         0.         0.15217391 0.\n",
      "  0.04347826]\n",
      " [0.38461538 0.         0.38461538 0.         0.23076923 0.\n",
      "  0.        ]\n",
      " [0.16666667 0.46666667 0.         0.03333333 0.13333333 0.03333333\n",
      "  0.16666667]\n",
      " [0.02857143 0.14285714 0.         0.         0.8        0.\n",
      "  0.02857143]\n",
      " [0.18181818 0.43181818 0.         0.         0.17045455 0.07954545\n",
      "  0.13636364]\n",
      " [0.25       0.         0.         0.         0.         0.\n",
      "  0.75      ]]\n"
     ]
    },
    {
     "data": {
      "image/png": "[encoded data removed]",
      "text/plain": [
       "<Figure size 432x288 with 2 Axes>"
      ]
     },
     "metadata": {
      "needs_background": "light"
     },
     "output_type": "display_data"
    }
   ],
   "source": [
    "# Get the labels of the test images.\n",
    "test_labels = test_batches.classes\n",
    "\n",
    "# We need these to plot the confusion matrix.\n",
    "# test_labels\n",
    "# make a prediction\n",
    "predictions = mobileNet.predict_generator(test_batches, steps=len(label_test), verbose=1)\n",
    "# argmax returns the index of the max value in a row\n",
    "cm = confusion_matrix(test_labels, predictions.argmax(axis=1))\n",
    "test_batches.class_indices\n",
    "# Define the labels of the class indices. These need to match the \n",
    "# order shown above.\n",
    "cm_plot_labels = test_batches.class_indices\n",
    "plot_confusion_matrix(cm, cm_plot_labels, normalize=True, title='Confusion Matrix - Test Data')"
   ]
  },
  {
   "cell_type": "code",
   "execution_count": 161,
   "metadata": {},
   "outputs": [
    {
     "name": "stdout",
     "output_type": "stream",
     "text": [
      "Confusion matrix, without normalization\n",
      "[[747  45   2   0  42   1  46]\n",
      " [ 10  27   0   0   7   0   2]\n",
      " [  5   0   5   0   3   0   0]\n",
      " [  5  14   0   1   4   1   5]\n",
      " [  1   5   0   0  28   0   1]\n",
      " [ 16  38   0   0  15   7  12]\n",
      " [  2   0   0   0   0   0   6]]\n"
     ]
    },
    {
     "data": {
      "image/png": "[encoded data removed]",
      "text/plain": [
       "<Figure size 432x288 with 2 Axes>"
      ]
     },
     "metadata": {
      "needs_background": "light"
     },
     "output_type": "display_data"
    }
   ],
   "source": [
    "plot_confusion_matrix(cm, cm_plot_labels, title='Confusion Matrix - Test Data')"
   ]
  },
  {
   "cell_type": "code",
   "execution_count": 162,
   "metadata": {},
   "outputs": [
    {
     "data": {
      "text/plain": [
       "{'nv': 0, 'mel': 1, 'vasc': 2, 'akiec': 3, 'bcc': 4, 'bkl': 5, 'df': 6}"
      ]
     },
     "execution_count": 162,
     "metadata": {},
     "output_type": "execute_result"
    }
   ],
   "source": [
    "test_batches.class_indices"
   ]
  },
  {
   "cell_type": "markdown",
   "metadata": {},
   "source": [
    "#### Classification Report"
   ]
  },
  {
   "cell_type": "code",
   "execution_count": 163,
   "metadata": {},
   "outputs": [
    {
     "name": "stdout",
     "output_type": "stream",
     "text": [
      "              precision    recall  f1-score   support\n",
      "\n",
      "          nv       0.95      0.85      0.90       883\n",
      "         mel       0.21      0.59      0.31        46\n",
      "        vasc       0.71      0.38      0.50        13\n",
      "       akiec       1.00      0.03      0.06        30\n",
      "         bcc       0.28      0.80      0.42        35\n",
      "         bkl       0.78      0.08      0.14        88\n",
      "          df       0.08      0.75      0.15         8\n",
      "\n",
      "   micro avg       0.74      0.74      0.74      1103\n",
      "   macro avg       0.57      0.50      0.35      1103\n",
      "weighted avg       0.88      0.74      0.76      1103\n",
      "\n"
     ]
    }
   ],
   "source": [
    "# Get the index of the class with the highest probability score\n",
    "y_pred = np.argmax(predictions, axis=1)\n",
    "\n",
    "# Get the labels of the test images.\n",
    "y_true = test_batches.classes\n",
    "\n",
    "# Generate a classification report\n",
    "report = classification_report(y_true, y_pred, target_names=cm_plot_labels)\n",
    "print(report)"
   ]
  }
 ],
 "metadata": {
  "kernelspec": {
   "display_name": "Python 3",
   "language": "python",
   "name": "python3"
  },
  "language_info": {
   "codemirror_mode": {
    "name": "ipython",
    "version": 3
   },
   "file_extension": ".py",
   "mimetype": "text/x-python",
   "name": "python",
   "nbconvert_exporter": "python",
   "pygments_lexer": "ipython3",
   "version": "3.6.5"
  }
 },
 "nbformat": 4,
 "nbformat_minor": 2
}
