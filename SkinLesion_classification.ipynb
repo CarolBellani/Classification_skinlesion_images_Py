{
 "cells": [
  {
   "cell_type": "markdown",
   "metadata": {},
   "source": [
    "# Classification of dermatoscopic images"
   ]
  },
  {
   "cell_type": "markdown",
   "metadata": {},
   "source": [
    "Dataset: https://dataverse.harvard.edu/dataset.xhtml?persistentId=doi:10.7910/DVN/DBW86T\n",
    "\n",
    "Source: Harvard Dataverse\n",
    "\n",
    "Problem: classify pigmented skin lesions\n",
    "\n",
    "Motivation: automatize the diagnostic from dermatoscopic images, without invasive and expensive interventions\n",
    "\n",
    "Process’ summary:\n",
    "\n",
    "1.\tMetadata's exploration and description\n",
    "2.\tUnderstand how to extract and manipulate the images\n",
    "    +  Reduction of the images' size\n",
    "    +  Consider the greyscale space\n",
    "3.\tTreatment of the created matrix\n",
    "    + \tImage vectorization\n",
    "    + \tMerge the image matrix with the metadata \n",
    "    + \tRemoval of the duplicate \n",
    "4.\tData partition and cross validation: training and test sets considering the balance of the classes\n",
    "    +    Unbalanced problem\n",
    "5.\tModels\n",
    "    + \tRandom Forests\n",
    "    + \tNeural Networks\n",
    "    + \tConvolutional Neural Network\n",
    "\n",
    "6.\tConclusions\n"
   ]
  },
  {
   "cell_type": "markdown",
   "metadata": {},
   "source": [
    "## Exploration of the metadata"
   ]
  },
  {
   "cell_type": "code",
   "execution_count": 3,
   "metadata": {},
   "outputs": [],
   "source": [
    "import numpy as np\n",
    "import pandas as pd\n",
    "import seaborn as sns\n",
    "import matplotlib.pyplot as plt\n",
    "\n",
    "#import metadata as panda dataframe\n",
    "#first row is the name of the columns\n",
    "#second column is the id of the images, lesions have more than one image\n",
    "metadata = pd.read_csv('/gdrive/My Drive/IP_Project/metaData_dataBase/HAM10000_metadata.csv', header=0, index_col=1)\n",
    "#print(metadata.head())\n",
    "#print(metadata.info()) #10015 images, 6 columns\n",
    "#counting the number of unique lesions\n",
    "#print(metadata.lesion_id.value_counts()) #it is possible that the same lesion is repeated 6 times\n",
    "#print(len(metadata.lesion_id.value_counts())) #7470 unique lesions!\n",
    "#10015-7470\n",
    "#(2545/10015)*100 #25.4118 %\n",
    "metadatawithoutdup=metadata.drop_duplicates('lesion_id')"
   ]
  },
  {
   "cell_type": "code",
   "execution_count": 4,
   "metadata": {},
   "outputs": [
    {
     "name": "stdout",
     "output_type": "stream",
     "text": [
      "col_0  count\n",
      "dx          \n",
      "akiec    228\n",
      "bcc      327\n",
      "bkl      727\n",
      "df        73\n",
      "mel      614\n",
      "nv      5403\n",
      "vasc      98\n",
      "col_0     count\n",
      "dx             \n",
      "akiec  0.030522\n",
      "bcc    0.043775\n",
      "bkl    0.097323\n",
      "df     0.009772\n",
      "mel    0.082195\n",
      "nv     0.723293\n",
      "vasc   0.013119\n",
      "col_0  count\n",
      "dx          \n",
      "akiec    327\n",
      "bcc      514\n",
      "bkl     1099\n",
      "df       115\n",
      "mel     1113\n",
      "nv      6705\n",
      "vasc     142\n"
     ]
    },
    {
     "data": {
      "image/png": "[encoded data removed]",
      "text/plain": [
       "<Figure size 432x288 with 1 Axes>"
      ]
     },
     "metadata": {},
     "output_type": "display_data"
    }
   ],
   "source": [
    "#classes\n",
    "tab=pd.crosstab(index=metadatawithoutdup[\"dx\"], columns=\"count\")\n",
    "print(tab)\n",
    "#transform in percentage\n",
    "print(tab/tab.sum())\n",
    "ax = sns.countplot(x=\"dx\", data=metadatawithoutdup)\n",
    "\n",
    "tab1=pd.crosstab(index=metadata[\"dx\"], columns=\"count\")\n",
    "print(tab1) #Melanoma without duplicates is 50%less"
   ]
  },
  {
   "cell_type": "code",
   "execution_count": 5,
   "metadata": {},
   "outputs": [
    {
     "name": "stdout",
     "output_type": "stream",
     "text": [
      "4\n",
      "dx         akiec  bcc  bkl  df  mel    nv  vasc   All\n",
      "dx_type                                              \n",
      "confocal       0    0   34   0    0     0     0    34\n",
      "consensus      0    0  206  44    0   332    65   647\n",
      "follow_up      0    0    0   0    0  3704     0  3704\n",
      "histo        228  327  487  29  614  1367    33  3085\n",
      "All          228  327  727  73  614  5403    98  7470\n",
      "4\n",
      "dx         akiec  bcc   bkl   df   mel    nv  vasc    All\n",
      "dx_type                                                  \n",
      "confocal       0    0    69    0     0     0     0     69\n",
      "consensus      0    0   264   60     0   503    75    902\n",
      "follow_up      0    0     0    0     0  3704     0   3704\n",
      "histo        327  514   766   55  1113  2498    67   5340\n",
      "All          327  514  1099  115  1113  6705   142  10015\n"
     ]
    },
    {
     "data": {
      "image/png": "[encoded data removed]",
      "text/plain": [
       "<Figure size 432x288 with 1 Axes>"
      ]
     },
     "metadata": {},
     "output_type": "display_data"
    }
   ],
   "source": [
    "#Considering the dx_type (diagnosis way): more than 50% of lesions are confirmed through histopathology (histo), the ground truth for the rest of the cases is either follow-up examination (follow_up), expert consensus (consensus), or confirmation by in-vivo confocal microscopy (confocal).\n",
    "#without duplicates\n",
    "metadatawithoutdup.dx_type.value_counts() \n",
    "print(len(metadatawithoutdup.dx_type.value_counts())) #15 different localizations\n",
    "print(pd.crosstab(metadatawithoutdup.dx_type, metadatawithoutdup.dx,margins=True))\n",
    "ax = sns.countplot(x=\"dx_type\",hue=\"dx\", data=metadatawithoutdup)\n",
    "\n",
    "#with duplicates\n",
    "metadata.dx_type.value_counts() \n",
    "print(len(metadata.dx_type.value_counts())) #15 different localizations\n",
    "print(pd.crosstab(metadata.dx_type, metadata.dx,margins=True))\n",
    "#ax = sns.countplot(x=\"dx_type\",hue=\"dx\", data=metadata"
   ]
  },
  {
   "cell_type": "code",
   "execution_count": 6,
   "metadata": {},
   "outputs": [
    {
     "name": "stdout",
     "output_type": "stream",
     "text": [
      "               age\n",
      "count  7418.000000\n",
      "mean     51.658803\n",
      "std      16.016472\n",
      "min       0.000000\n",
      "25%      40.000000\n",
      "50%      50.000000\n",
      "75%      65.000000\n",
      "max      85.000000\n",
      "<class 'pandas.core.frame.DataFrame'>\n",
      "Index: 7470 entries, ISIC_0027419 to ISIC_0033084\n",
      "Data columns (total 6 columns):\n",
      "lesion_id       7470 non-null object\n",
      "dx              7470 non-null object\n",
      "dx_type         7470 non-null object\n",
      "age             7418 non-null float64\n",
      "sex             7470 non-null object\n",
      "localization    7470 non-null object\n",
      "dtypes: float64(1), object(5)\n",
      "memory usage: 728.5+ KB\n",
      "None\n",
      "0.6961178045515395\n",
      "{'bcc', 'bkl', 'akiec', 'df', 'mel', 'vasc', 'nv'}\n"
     ]
    },
    {
     "name": "stderr",
     "output_type": "stream",
     "text": [
      "C:\\Users\\bella\\Anaconda3\\lib\\site-packages\\statsmodels\\nonparametric\\kde.py:448: RuntimeWarning: invalid value encountered in greater\n",
      "  X = X[np.logical_and(X > clip[0], X < clip[1])] # won't work for two columns.\n",
      "C:\\Users\\bella\\Anaconda3\\lib\\site-packages\\statsmodels\\nonparametric\\kde.py:448: RuntimeWarning: invalid value encountered in less\n",
      "  X = X[np.logical_and(X > clip[0], X < clip[1])] # won't work for two columns.\n"
     ]
    },
    {
     "data": {
      "text/plain": [
       "Text(0,0.5,'Density')"
      ]
     },
     "execution_count": 6,
     "metadata": {},
     "output_type": "execute_result"
    },
    {
     "data": {
      "image/png": "[encoded data removed]",
      "text/plain": [
       "<Figure size 432x288 with 1 Axes>"
      ]
     },
     "metadata": {},
     "output_type": "display_data"
    }
   ],
   "source": [
    "print(metadatawithoutdup.describe())\n",
    "print(metadatawithoutdup.info())\n",
    "print(((7470-7418)/7470)*100)\n",
    "#study of the age by type\n",
    "print(set(metadatawithoutdup.dx)) #return the classes\n",
    "classes=['bcc', 'akiec', 'nv', 'vasc', 'mel', 'bkl', 'df']\n",
    "\n",
    "metadata1=metadatawithoutdup\n",
    "metadata1['age'].dropna()\n",
    "# Iterate through the five airlines\n",
    "for clas in classes:\n",
    "    # Subset to the airline\n",
    "    subset = metadata1[metadata1['dx'] == clas]\n",
    "    \n",
    "    # Draw the density plot\n",
    "    sns.distplot(subset['age'], hist = False, kde = True,\n",
    "                 kde_kws = {'linewidth': 3},\n",
    "                 label = clas)\n",
    "    \n",
    "# Plot formatting\n",
    "plt.legend(prop={'size': 16}, title = 'Age')\n",
    "plt.title('Age by the diagnosis')\n",
    "plt.xlabel('Age')\n",
    "plt.ylabel('Density')"
   ]
  },
  {
   "cell_type": "code",
   "execution_count": 7,
   "metadata": {},
   "outputs": [
    {
     "data": {
      "text/html": [
       "<div>\n",
       "<style scoped>\n",
       "    .dataframe tbody tr th:only-of-type {\n",
       "        vertical-align: middle;\n",
       "    }\n",
       "\n",
       "    .dataframe tbody tr th {\n",
       "        vertical-align: top;\n",
       "    }\n",
       "\n",
       "    .dataframe thead th {\n",
       "        text-align: right;\n",
       "    }\n",
       "</style>\n",
       "<table border=\"1\" class=\"dataframe\">\n",
       "  <thead>\n",
       "    <tr style=\"text-align: right;\">\n",
       "      <th>dx</th>\n",
       "      <th>akiec</th>\n",
       "      <th>bcc</th>\n",
       "      <th>bkl</th>\n",
       "      <th>df</th>\n",
       "      <th>mel</th>\n",
       "      <th>nv</th>\n",
       "      <th>vasc</th>\n",
       "      <th>All</th>\n",
       "    </tr>\n",
       "    <tr>\n",
       "      <th>sex</th>\n",
       "      <th></th>\n",
       "      <th></th>\n",
       "      <th></th>\n",
       "      <th></th>\n",
       "      <th></th>\n",
       "      <th></th>\n",
       "      <th></th>\n",
       "      <th></th>\n",
       "    </tr>\n",
       "  </thead>\n",
       "  <tbody>\n",
       "    <tr>\n",
       "      <th>female</th>\n",
       "      <td>80</td>\n",
       "      <td>122</td>\n",
       "      <td>304</td>\n",
       "      <td>38</td>\n",
       "      <td>243</td>\n",
       "      <td>2584</td>\n",
       "      <td>48</td>\n",
       "      <td>3419</td>\n",
       "    </tr>\n",
       "    <tr>\n",
       "      <th>male</th>\n",
       "      <td>148</td>\n",
       "      <td>205</td>\n",
       "      <td>414</td>\n",
       "      <td>35</td>\n",
       "      <td>371</td>\n",
       "      <td>2778</td>\n",
       "      <td>50</td>\n",
       "      <td>4001</td>\n",
       "    </tr>\n",
       "    <tr>\n",
       "      <th>unknown</th>\n",
       "      <td>0</td>\n",
       "      <td>0</td>\n",
       "      <td>9</td>\n",
       "      <td>0</td>\n",
       "      <td>0</td>\n",
       "      <td>41</td>\n",
       "      <td>0</td>\n",
       "      <td>50</td>\n",
       "    </tr>\n",
       "    <tr>\n",
       "      <th>All</th>\n",
       "      <td>228</td>\n",
       "      <td>327</td>\n",
       "      <td>727</td>\n",
       "      <td>73</td>\n",
       "      <td>614</td>\n",
       "      <td>5403</td>\n",
       "      <td>98</td>\n",
       "      <td>7470</td>\n",
       "    </tr>\n",
       "  </tbody>\n",
       "</table>\n",
       "</div>"
      ],
      "text/plain": [
       "dx       akiec  bcc  bkl  df  mel    nv  vasc   All\n",
       "sex                                                \n",
       "female      80  122  304  38  243  2584    48  3419\n",
       "male       148  205  414  35  371  2778    50  4001\n",
       "unknown      0    0    9   0    0    41     0    50\n",
       "All        228  327  727  73  614  5403    98  7470"
      ]
     },
     "execution_count": 7,
     "metadata": {},
     "output_type": "execute_result"
    },
    {
     "data": {
      "image/png": "[encoded data removed]",
      "text/plain": [
       "<Figure size 432x288 with 1 Axes>"
      ]
     },
     "metadata": {},
     "output_type": "display_data"
    }
   ],
   "source": [
    "ax = sns.countplot(x=\"sex\", hue=\"dx\", data=metadatawithoutdup)\n",
    "pd.crosstab(metadatawithoutdup.sex, metadatawithoutdup.dx,margins=True)"
   ]
  },
  {
   "cell_type": "code",
   "execution_count": 8,
   "metadata": {},
   "outputs": [
    {
     "name": "stdout",
     "output_type": "stream",
     "text": [
      "15\n",
      "dx               akiec  bcc  bkl  df  mel    nv  vasc   All\n",
      "localization                                               \n",
      "abdomen              3    9   36   2   31   719    22   822\n",
      "acral                0    0    0   0    0     3     0     3\n",
      "back                22  123  133   1  185  1058    12  1534\n",
      "chest                9   32   50   0   34   112     3   240\n",
      "ear                  2    0    4   0   10    19     0    35\n",
      "face                84   61  194   0   65    61     5   470\n",
      "foot                 0    2    1   1   15   209     0   228\n",
      "genital              0    0    1   1    0    43     0    45\n",
      "hand                 8    1   12   0    1    39     3    64\n",
      "lower extremity     41   36  109  54  104  1224    16  1584\n",
      "neck                 8   11   20   0   18    60     2   119\n",
      "scalp                8   11   24   0    9    24     2    78\n",
      "trunk                1    6   57   0   25  1153    27  1269\n",
      "unknown              0    3   19   0    6   175     0   203\n",
      "upper extremity     42   32   67  14  111   504     6   776\n",
      "All                228  327  727  73  614  5403    98  7470\n"
     ]
    },
    {
     "data": {
      "text/plain": [
       "2.717536813922356"
      ]
     },
     "execution_count": 8,
     "metadata": {},
     "output_type": "execute_result"
    },
    {
     "data": {
      "image/png": "[encoded data removed]",
      "text/plain": [
       "<Figure size 432x288 with 1 Axes>"
      ]
     },
     "metadata": {},
     "output_type": "display_data"
    }
   ],
   "source": [
    "#localizaiton\n",
    "metadatawithoutdup.localization.value_counts() \n",
    "print(len(metadatawithoutdup.localization.value_counts())) #15 different localizations\n",
    "print(pd.crosstab(metadatawithoutdup.localization, metadatawithoutdup.dx,margins=True))\n",
    "ax = sns.countplot(x=\"localization\", data=metadatawithoutdup)\n",
    "(203/7470)*100"
   ]
  },
  {
   "cell_type": "markdown",
   "metadata": {},
   "source": [
    " ## Extraction of the images, size's reduction, greyscale transformation"
   ]
  },
  {
   "cell_type": "code",
   "execution_count": null,
   "metadata": {},
   "outputs": [],
   "source": [
    "# from google.colab import drive\n",
    "# drive.mount('/gdrive')\n",
    "# Seting the directory for the images \n",
    "# dir_zip_files = \"/gdrive/My Drive/IP_Project/zipFiles\"\n",
    "# dir_unzip_files = \"/gdrive/My Drive/IP_Project/DataBase\"\n",
    "\n",
    "#Seting the directory for the images \n",
    "dir_zip_files = 'D:\\Python\\Jupyter\\IP_Project\\zipFiles'\n",
    "dir_unzip_files = 'D:\\Python\\Jupyter\\IP_Project\\DataBase'"
   ]
  },
  {
   "cell_type": "code",
   "execution_count": null,
   "metadata": {},
   "outputs": [],
   "source": [
    "# #Seting the directory for the Metadata\n",
    "# dir_MetaData_zip_files = \"/gdrive/My Drive/IP_Project/metaDataZipFile\"\n",
    "# dir_MetaData_unzip_files = \"/gdrive/My Drive/IP_Project/metaData_dataBase\"\n",
    "\n",
    "#Seting the directory for the Metadata\n",
    "dir_MetaData_zip_files = 'D:\\Python\\Jupyter\\IP_Project\\metaDataZipFile'\n",
    "dir_MetaData_unzip_files = 'D:\\Python\\Jupyter\\IP_Project\\metaData_dataBase'"
   ]
  },
  {
   "cell_type": "code",
   "execution_count": null,
   "metadata": {},
   "outputs": [],
   "source": [
    "# Importing the packages\n",
    "import os, zipfile # Extract files from a zip file\n",
    "# ---\n",
    "import csv\n",
    "# ---\n",
    "import numpy as np\n",
    "import pandas as pd\n",
    "import sys\n",
    "import imageio\n",
    "import glob\n",
    "# ---\n",
    "from os import listdir\n",
    "from os.path import isfile, join\n",
    "import numpy as np\n",
    "import imageio\n",
    "# --- \n",
    "import imageio\n",
    "import matplotlib.pyplot as plt\n",
    "# ---\n",
    "import scipy.ndimage as ndi\n",
    "# ---\n",
    "from skimage.color import rgb2gray\n",
    "import skimage.io as io\n",
    "# ---\n",
    "from skimage import data, color\n",
    "from skimage.transform import rescale, resize, downscale_local_mean\n",
    "# ---\n",
    "from PIL import Image\n",
    "import os\n",
    "import sys\n",
    "from skimage import color\n",
    "# ---\n",
    "import fnmatch\n",
    "# ---\n",
    "from keras.models import Sequential\n",
    "from sklearn.model_selection import train_test_split\n",
    "# ---\n",
    "from keras.layers import Dense, Dropout, Flatten, Conv2D, MaxPool2D"
   ]
  },
  {
   "cell_type": "code",
   "execution_count": null,
   "metadata": {},
   "outputs": [],
   "source": [
    "# #Extracting All Files From the Ziz File\n",
    "# extension = \".zip\"\n",
    "\n",
    "# os.chdir(dir_zip_files) # change directory from working dir to dir with files\n",
    "\n",
    "# # Loop to extract all Images from a the zip file on directory\n",
    "# for item in os.listdir(dir_zip_files): # loop through items in dir\n",
    "#     if item.endswith(extension): # check for \".zip\" extension\n",
    "#         file_name = os.path.abspath(item) # get full path of files\n",
    "#         print(\"Processing %s\" % file_name)\n",
    "#         zip_ref = zipfile.ZipFile(file_name) # create zipfile object\n",
    "#         os.chdir(dir_zip_files) # change directory from working dir to dir with files\n",
    "#         zip_ref.extractall(dir_unzip_files) # extract file to dir\n",
    "#         zip_ref.close() # close file\n",
    "#         #os.remove(file_name) # delete zipped file"
   ]
  },
  {
   "cell_type": "code",
   "execution_count": null,
   "metadata": {},
   "outputs": [],
   "source": [
    "# # Reading the the file names of the each image\n",
    "# filenames = [os.path.splitext(filename)[0] for filename in os.listdir(dir_unzip_files) if filename.startswith(\"ISIC_\")]\n",
    "# filenames = pd.DataFrame(np.array(filenames).reshape(10015,1),columns=['filenames'])\n",
    "# #filenames.head()"
   ]
  },
  {
   "cell_type": "code",
   "execution_count": null,
   "metadata": {},
   "outputs": [],
   "source": [
    "# #metadata = pd.read_csv(\"/gdrive/My Drive/IP_Project/metaData_dataBase/HAM10000_metadata.csv\")\n",
    "# metadata = pd.read_csv(\"D:/Python/Jupyter/IP_Project/metaData_dataBase/HAM10000_metadata.csv\")\n",
    "# #print(type(metadata))\n",
    "# #metadata.head()"
   ]
  },
  {
   "cell_type": "code",
   "execution_count": null,
   "metadata": {},
   "outputs": [],
   "source": [
    "# # Merging the file names and the metadata, thus organizing the data.\n",
    "# organized_metadata = pd.merge(left=filenames, right=metadata, left_on='filenames',right_on='image_id')\n",
    "# #organized_metadata"
   ]
  },
  {
   "cell_type": "code",
   "execution_count": null,
   "metadata": {},
   "outputs": [],
   "source": [
    "# # Creating list with duplicate files\n",
    "\n",
    "# repeated_images = organized_metadata[organized_metadata[\"lesion_id\"].duplicated()]\n",
    "# #repeated_images.to_csv('D:/Python/Jupyter/IP_Project/metaData_dataBase/repeated_images.csv')\n",
    "# repeated_images = repeated_images['filenames']\n",
    "\n",
    "# organized_metadata = organized_metadata.drop_duplicates(subset=['lesion_id'],keep=\"first\")\n",
    "# #organized_metadata.to_csv('D:/Python/Jupyter/IP_Project/metaData_dataBase/organized_metadata.csv')\n",
    "\n",
    "# unique_images = organized_metadata['filenames'] \n",
    "# #unique_images = unique_images.to_csv('D:/Python/Jupyter/IP_Project/metaData_dataBase/unique_images.csv') "
   ]
  },
  {
   "cell_type": "code",
   "execution_count": null,
   "metadata": {},
   "outputs": [],
   "source": [
    "# repeated_images_star = repeated_images + '.jpg'\n",
    "# os.chdir('D:\\Python\\Jupyter\\IP_Project\\DataBase')\n",
    "# for filename in repeated_images_star:\n",
    "#     os.remove(filename)"
   ]
  },
  {
   "cell_type": "code",
   "execution_count": null,
   "metadata": {},
   "outputs": [],
   "source": [
    "# Arranging the files and metadata again\n",
    "# Reading the the file names of the each image\n",
    "filenames = [os.path.splitext(filename)[0] for filename in os.listdir(dir_unzip_files) if filename.startswith(\"ISIC_\")]\n",
    "filenames = pd.DataFrame(np.array(filenames).reshape(7470,1),columns=['filenames'])\n",
    "#filenames.head()\n",
    "#metadata = pd.read_csv(\"/gdrive/My Drive/IP_Project/metaData_dataBase/HAM10000_metadata.csv\")\n",
    "#print(type(metadata))\n",
    "#metadata.head()\n",
    "# Merging the file names and the metadata, thus organizing the data.\n",
    "organized_metadata = pd.merge(left=filenames, right=metadata, left_on='filenames',right_on='image_id')\n",
    "#organized_metadata\n",
    "#organized_metadata.to_csv(\"organized_metadata.csv\")"
   ]
  },
  {
   "cell_type": "code",
   "execution_count": null,
   "metadata": {},
   "outputs": [],
   "source": [
    "# # Decreasing the size of images (Resized_rgb)\n",
    "# # From 600X450 to 200X150\n",
    "# path = dir_unzip_files\n",
    "# dirs = os.listdir( path )\n",
    "\n",
    "# for file_name in os.listdir(path):\n",
    "#   print(\"Processing %s\" % file_name)\n",
    "#   image = Image.open(os.path.join(path, file_name))\n",
    "\n",
    "#   x,y = image.size\n",
    "#   new_dimensions = (200, 150)\n",
    "#   output = image.resize(new_dimensions, Image.ANTIALIAS)\n",
    "\n",
    "#   output_file_name = os.path.join(path, \"small_\" + file_name)\n",
    "#   output.save(output_file_name, \"JPEG\", quality = 95)"
   ]
  },
  {
   "cell_type": "code",
   "execution_count": null,
   "metadata": {},
   "outputs": [],
   "source": [
    "# Read Images into a Skimage Image Collection\n",
    "#images_gs = io.ImageCollection('/gdrive/My Drive/IP_Project/DataBase/small_ISIC*', conserve_memory=True, load_func=None)\n",
    "images_rgb = io.ImageCollection('D:\\Python\\Jupyter\\IP_Project\\DataBase\\small_ISIC*', conserve_memory=True, load_func=None)"
   ]
  },
  {
   "cell_type": "code",
   "execution_count": null,
   "metadata": {},
   "outputs": [],
   "source": [
    "# Converting the Image Collection into a Numpy Array\n",
    "images_rgb = io.concatenate_images(images_rgb)"
   ]
  },
  {
   "cell_type": "code",
   "execution_count": null,
   "metadata": {},
   "outputs": [],
   "source": [
    "def normalize(x):\n",
    "    return (x.astype(float) - 128) / 128"
   ]
  },
  {
   "cell_type": "code",
   "execution_count": null,
   "metadata": {},
   "outputs": [],
   "source": [
    "norm_images_rgb = normalize(images_rgb)"
   ]
  },
  {
   "cell_type": "code",
   "execution_count": null,
   "metadata": {},
   "outputs": [],
   "source": [
    "# Transforming the rgb dimensionto into Grayscale\n",
    "images_gs = rgb2gray(images_rgb)"
   ]
  },
  {
   "cell_type": "code",
   "execution_count": null,
   "metadata": {},
   "outputs": [],
   "source": [
    "images_gs.shape"
   ]
  },
  {
   "cell_type": "code",
   "execution_count": null,
   "metadata": {},
   "outputs": [],
   "source": [
    "images_gs = images_gs.reshape(7470, 150, 200, 1)\n",
    "images_rgb = images_rgb.reshape(7470, 150, 200, 3)\n",
    "norm_images_rgb = norm_images_rgb.reshape(7470, 150, 200, 3)"
   ]
  },
  {
   "cell_type": "code",
   "execution_count": null,
   "metadata": {},
   "outputs": [],
   "source": [
    "norm_images_rgb.shape"
   ]
  },
  {
   "cell_type": "code",
   "execution_count": null,
   "metadata": {},
   "outputs": [],
   "source": [
    "plt.imshow(norm_images_rgb[0], cmap = 'gray')\n",
    "#plt.colorbar()\n",
    "plt.show()"
   ]
  },
  {
   "cell_type": "code",
   "execution_count": null,
   "metadata": {},
   "outputs": [],
   "source": [
    "# Creating one-hot encoding (used in nn e cnn)\n",
    "\n",
    "# Labels\n",
    "labels = np.array(organized_metadata['dx'].tolist())\n",
    "#print(type(labels))\n",
    "\n",
    "# Classes\n",
    "classes = np.array([\"akiec\",\"bcc\",\"bkl\",\"df\",\"mel\",\"nv\",\"vasc\"])\n",
    "n_classes = len(classes)\n",
    "\n",
    "# Initialize ohe_labels as all zeros\n",
    "ohe_labels = np.zeros((len(labels), n_classes))\n",
    "\n",
    "# Loop over the labels\n",
    "for ii in range(len(labels)):\n",
    "    # Find the location of this label in the categories variable\n",
    "    jj = np.where(classes == labels[ii])\n",
    "    # Set the corresponding zero to one\n",
    "    ohe_labels[ii, jj] = 1\n",
    "    \n",
    "print(ohe_labels)"
   ]
  },
  {
   "cell_type": "markdown",
   "metadata": {},
   "source": [
    "## Data matrix with images' features\n",
    "\n",
    "After the extraction, transformation and reshape of the images in a matrix, we saved it and for random forests model we will work with it. With convulational neural networks, we tried to work directly with the images."
   ]
  },
  {
   "cell_type": "code",
   "execution_count": null,
   "metadata": {},
   "outputs": [],
   "source": [
    "import numpy as np\n",
    "import pandas as pd\n",
    "#DataMatrix 10015x30001, first column is the index\n",
    "DataMatrix = pd.read_csv('DataMatrix.csv', index_col=0) #slow\n",
    "DataMatrix.info()\n",
    "#DataMatrix.head()"
   ]
  },
  {
   "cell_type": "code",
   "execution_count": null,
   "metadata": {},
   "outputs": [],
   "source": [
    "#merge the dataMatrix with metadata to get the other variables\n",
    "#print(DataMatrix.imageID)\n",
    "#print(metadatawithoutdup.image_id)\n",
    "mergeDataMatrix=pd.merge(metadatawithoutdup, DataMatrix, how='left', left_on=\"image_id\", right_on=\"imageID\")"
   ]
  },
  {
   "cell_type": "code",
   "execution_count": null,
   "metadata": {},
   "outputs": [],
   "source": [
    "print(mergeDataMatrix.info())\n",
    "print(mergeDataMatrix.head())\n",
    "\n",
    "#mergeDataMatrix has already all the columns"
   ]
  },
  {
   "cell_type": "code",
   "execution_count": null,
   "metadata": {},
   "outputs": [],
   "source": [
    "blabla=mergeDataMatrix[mergeDataMatrix.age.isnull()] #to write the report\n",
    "tab1=pd.crosstab(index=blabla[\"dx\"], columns=\"count\")\n",
    "tab1"
   ]
  },
  {
   "cell_type": "markdown",
   "metadata": {},
   "source": [
    "## Imputation of the missing metadata by lesion type and type data transformations\n"
   ]
  },
  {
   "cell_type": "code",
   "execution_count": null,
   "metadata": {},
   "outputs": [],
   "source": [
    "#imputation of age by median of the lesions' type\n",
    "print(mergeDataMatrix.age.isnull().sum()) #52\n",
    "#print(mergeDataMatrix[mergeDataMatrix.age.isnull()])\n",
    "print(mergeDataMatrix.groupby('dx')['age'].median()) \n",
    "for i in range(0,7469):  \n",
    "    if(np.isnan(mergeDataMatrix.age[i])):\n",
    "        if mergeDataMatrix.dx[i]==\"akiec\":\n",
    "            mergeDataMatrix.age[i]=67.5 #maybe round it?\n",
    "        elif mergeDataMatrix.dx[i]==\"bcc\":\n",
    "            mergeDataMatrix.age[i]=70.0\n",
    "        elif mergeDataMatrix.dx[i]==\"bkl\":\n",
    "            mergeDataMatrix.age[i]=65.0\n",
    "        elif mergeDataMatrix.dx[i]==\"df\":\n",
    "            mergeDataMatrix.age[i]=55.0\n",
    "        elif mergeDataMatrix.dx[i]==\"mel\":\n",
    "            mergeDataMatrix.age[i]=65.0\n",
    "        elif mergeDataMatrix.dx[i]==\"nv\":\n",
    "            mergeDataMatrix.age[i]=45.0\n",
    "        else:\n",
    "            mergeDataMatrix.age[i]=55.0\n",
    "\n",
    "print(mergeDataMatrix.age.isnull().sum()) \n",
    "mergeDataMatrix.age=pd.to_numeric(mergeDataMatrix.age)"
   ]
  },
  {
   "cell_type": "code",
   "execution_count": null,
   "metadata": {},
   "outputs": [],
   "source": [
    "#imputation of the sex\n",
    "count=0\n",
    "for i in range(0,7469):  \n",
    "    if(mergeDataMatrix.sex[i]==\"unknown\"):\n",
    "        mergeDataMatrix.sex[i]=\"male\" #because 9 bkl has the mode in male, 41 nv has the mode in male\n",
    "        count=count+1\n",
    "        \n",
    "        \n",
    "print(count) #50 are the unknow"
   ]
  },
  {
   "cell_type": "code",
   "execution_count": null,
   "metadata": {},
   "outputs": [],
   "source": [
    "#imputation of the localization\n",
    "count1=0\n",
    "for i in range(0,7469):  \n",
    "    if(mergeDataMatrix.localization[i]==\"unknown\"):\n",
    "        if mergeDataMatrix.dx[i]==\"bcc\":\n",
    "            mergeDataMatrix.localization[i]=\"back\"\n",
    "            count1=count1+1\n",
    "        elif mergeDataMatrix.dx[i]==\"bkl\":\n",
    "            mergeDataMatrix.localization[i]=\"face\"\n",
    "            count1=count1+1\n",
    "        elif mergeDataMatrix.dx[i]==\"mel\":\n",
    "            mergeDataMatrix.localization[i]=\"back\"\n",
    "            count1=count1+1\n",
    "        else:\n",
    "            mergeDataMatrix.localization[i]=\"lower extremity\" #nv\n",
    "            count1=count1+1\n",
    "        \n",
    "print(count1) #203 missing values imputed, ok"
   ]
  },
  {
   "cell_type": "code",
   "execution_count": null,
   "metadata": {},
   "outputs": [],
   "source": [
    "#transform the categorical variable in the appropriate type\n",
    "\n",
    "#target\n",
    "mergeDataMatrix['dxCat'] = pd.Categorical(mergeDataMatrix['dx'])\n",
    "\n",
    "#localization\n",
    "mergeDataMatrix['localizationCat']= pd.Categorical(mergeDataMatrix['localization'])\n",
    "\n",
    "#sex\n",
    "mergeDataMatrix['sexCat']= pd.Categorical(mergeDataMatrix['sex'])\n",
    "\n",
    "\n",
    "#try to create a new aggregated variable for location, reducing the number of levels from 15 to?\n",
    "#https://www.kdnuggets.com/2017/05/simplifying-decision-tree-interpretation-decision-rules-python.html\n",
    "from sklearn.tree import DecisionTreeClassifier, export_graphviz\n",
    "from sklearn import tree\n",
    "\n",
    "dt = DecisionTreeClassifier(max_depth=6)\n",
    "\n",
    "locdumm = pd.get_dummies(mergeDataMatrix['localizationCat'],drop_first=True)\n",
    "targetdumm= pd.get_dummies(mergeDataMatrix['dxCat'],drop_first=True)\n",
    "\n",
    "dt.fit(locdumm , targetdumm)"
   ]
  },
  {
   "cell_type": "code",
   "execution_count": null,
   "metadata": {},
   "outputs": [],
   "source": [
    "#print the decion tree\n",
    "#creating a word\n",
    "dotfile = open(\"dt.dot\", 'w')\n",
    "tree.export_graphviz(dt, out_file=dotfile, feature_names=list(locdumm), class_names=list(targetdumm))\n",
    "dotfile.close()\n",
    "#http://webgraphviz.com/ copy and paste the word text in here\n",
    "#the variables used are: face, trunk, chest, scalp, back, upper extremity\n",
    "#but... "
   ]
  },
  {
   "cell_type": "code",
   "execution_count": null,
   "metadata": {},
   "outputs": [],
   "source": [
    "print(mergeDataMatrix.info())\n",
    "print(mergeDataMatrix.head())"
   ]
  },
  {
   "cell_type": "markdown",
   "metadata": {},
   "source": [
    "## Principal Component Analysis"
   ]
  },
  {
   "cell_type": "code",
   "execution_count": null,
   "metadata": {},
   "outputs": [],
   "source": [
    "onlynumerical_imag=mergeDataMatrix.drop(['lesion_id', 'image_id','dx','dx_type', 'age', 'sex', 'localization', 'imageID', 'dxCat', 'localizationCat', 'sexCat'],axis=1)\n",
    "print(onlynumerical_imag.info())"
   ]
  },
  {
   "cell_type": "code",
   "execution_count": null,
   "metadata": {},
   "outputs": [],
   "source": [
    "#standardizing\n",
    "#scaling the 30 000 variables\n",
    "from sklearn.preprocessing import StandardScaler\n",
    "\n",
    "# Separating out the features\n",
    "x = onlynumerical_imag\n",
    "# Standardizing the features\n",
    "onlynumerical_imag_scaled = StandardScaler().fit_transform(onlynumerical_imag)"
   ]
  },
  {
   "cell_type": "code",
   "execution_count": null,
   "metadata": {},
   "outputs": [],
   "source": [
    "print(onlynumerical_imag_scaled)"
   ]
  },
  {
   "cell_type": "code",
   "execution_count": null,
   "metadata": {},
   "outputs": [],
   "source": [
    "from sklearn.decomposition import PCA\n",
    "pca = PCA()\n",
    "principalComponents = pca.fit_transform(onlynumerical_imag_scaled)"
   ]
  },
  {
   "cell_type": "code",
   "execution_count": null,
   "metadata": {},
   "outputs": [],
   "source": [
    "print(pca.explained_variance_ratio_)\n",
    "c=pca.explained_variance_ratio_\n",
    "np.savetxt(\"c.csv\", c, delimiter=\",\")\n",
    "print(pca.singular_values_)\n",
    "b=pca.singular_values_\n",
    "np.savetxt(\"b.csv\", b, delimiter=\",\")\n",
    "print(pca.explained_variance_ratio_.cumsum())\n",
    "a=pca.explained_variance_ratio_.cumsum()\n",
    "np.savetxt(\"a.csv\", a, delimiter=\",\")\n",
    "#162 variables to consider to have 95% of variance explained"
   ]
  },
  {
   "cell_type": "code",
   "execution_count": null,
   "metadata": {},
   "outputs": [],
   "source": [
    "principalDf = pd.DataFrame(data = principalComponents[:, 0:162])\n",
    "principalDf.info()\n",
    "\n",
    "#age can be not standardized, standardize depending on the algorithm\n",
    "locdumm = pd.get_dummies(mergeDataMatrix['localizationCat'],drop_first=True)\n",
    "sexdumm= pd.get_dummies(mergeDataMatrix['sex'],drop_first=True)\n",
    "\n",
    "#target= pd.get_dummies(mergeDataMatrix['dx']) #Not drop in the target case\n",
    "\n",
    "finalDf = pd.concat([principalDf, mergeDataMatrix[['age']], locdumm, sexdumm], axis = 1)\n",
    "print(finalDf.info())\n",
    "\n",
    "y=mergeDataMatrix['dxCat']"
   ]
  },
  {
   "cell_type": "markdown",
   "metadata": {},
   "source": [
    "## Data Partition"
   ]
  },
  {
   "cell_type": "code",
   "execution_count": null,
   "metadata": {},
   "outputs": [],
   "source": [
    "# Spliting test set and training set\n",
    "from sklearn.model_selection import train_test_split\n",
    "\n",
    "data_train1, data_test1, label_train1, label_test1 = train_test_split(finalDf, y, test_size=0.10,random_state=1234, stratify=y)"
   ]
  },
  {
   "cell_type": "markdown",
   "metadata": {},
   "source": [
    "# Random Forests\n",
    "No hypertuning of the parameters\n",
    "\n",
    "### First try"
   ]
  },
  {
   "cell_type": "code",
   "execution_count": null,
   "metadata": {},
   "outputs": [],
   "source": [
    "#Random Forests\n",
    "print('Training Features Shape:', data_train1.shape)\n",
    "print('Training Labels Shape:', label_train1.shape)\n",
    "print('Testing Features Shape:', data_test1.shape)\n",
    "print('Testing Labels Shape:', label_test1.shape)"
   ]
  },
  {
   "cell_type": "code",
   "execution_count": null,
   "metadata": {},
   "outputs": [],
   "source": [
    "# Import the model we are using\n",
    "from sklearn.ensemble import RandomForestClassifier\n",
    "# Instantiate model with 1000 decision trees\n",
    "rf = RandomForestClassifier(n_estimators = 1000, random_state = 1234)\n",
    "# Train the model on training data\n",
    "rf.fit(data_train1, label_train1);"
   ]
  },
  {
   "cell_type": "code",
   "execution_count": null,
   "metadata": {},
   "outputs": [],
   "source": [
    "y_pred=rf.predict(data_test1)\n",
    "#print(y_pred)\n",
    "print(set(y_pred))\n",
    "\n",
    "from sklearn import metrics\n",
    "# Model Accuracy, how often is the classifier correct?\n",
    "print(\"Accuracy:\",metrics.accuracy_score(label_test1, y_pred)) #Accuracy: 0.7376171352074966"
   ]
  },
  {
   "cell_type": "code",
   "execution_count": null,
   "metadata": {},
   "outputs": [],
   "source": [
    "from sklearn.metrics import confusion_matrix\n",
    "from sklearn.externals import joblib\n",
    "\n",
    "print(pd.crosstab(label_test1, y_pred, rownames=['Actual'], colnames=['Predicted']))"
   ]
  },
  {
   "cell_type": "markdown",
   "metadata": {},
   "source": [
    "### Second try\n",
    "Undesampling the majority class randomly to try to balance the classes.\n",
    "\n",
    "We don't know if the classes are not equally relevant also in the reality or it is just a problem of data collection. If it is just a problem of data collection, then, wrongly, the balance is done before the partition of training and test sets."
   ]
  },
  {
   "cell_type": "code",
   "execution_count": null,
   "metadata": {},
   "outputs": [],
   "source": [
    "temp=mergeDataMatrix.loc[~mergeDataMatrix['dx'].isin(['nv', 'df', 'vasc'])]\n",
    "print(temp.info()) #1896 entries\n",
    "print(228+327+727+614)"
   ]
  },
  {
   "cell_type": "code",
   "execution_count": null,
   "metadata": {},
   "outputs": [],
   "source": [
    "#undersampling, easy way\n",
    "nvclass=mergeDataMatrix[mergeDataMatrix.dx=='nv']\n",
    "print(nvclass.info()) #5403 entries\n",
    "\n",
    "redct=5403/3\n",
    "print(redct)\n",
    "\n",
    "redct1=int(round(redct)) #need to be integer\n",
    "\n",
    "from random import sample \n",
    "nvred=nvclass.sample(n=redct1)\n",
    "print(nvred.info()) #1801\n",
    "\n",
    "#not considering df class and vasc class because <100\n",
    "#considering 1/3*nv\n",
    "tab=pd.crosstab(index=mergeDataMatrix[\"dx\"], columns=\"count\")\n",
    "print(tab)"
   ]
  },
  {
   "cell_type": "code",
   "execution_count": null,
   "metadata": {},
   "outputs": [],
   "source": [
    "#concatenate with a random sample of the majority class\n",
    "finalDfbalanced = pd.concat([temp, nvred], axis = 0)\n",
    "print(finalDfbalanced.info()) #3697\n",
    "print(1896+1801) #doing like that the most frequent class is <50%, not of a lot, but at least the accuracy will not be biased as much as before"
   ]
  },
  {
   "cell_type": "code",
   "execution_count": null,
   "metadata": {},
   "outputs": [],
   "source": [
    "#shuffle the order\n",
    "finalDfbalanced1=finalDfbalanced.sample(frac=1) #frac=1 \n",
    "print(finalDfbalanced1.info()) #3697 entries\n",
    "\n",
    "#PCA again\n",
    "\n",
    "onlynumerical_imag1=finalDfbalanced1.drop(['lesion_id', 'image_id','dx','dx_type', 'age', 'sex', 'localization', 'imageID'],axis=1)\n",
    "#onlynumerical_imag1=finalDfbalanced1.drop(['lesion_id', 'image_id','dx','dx_type', 'age', 'sex', 'localization', 'imageID', 'dxCat', 'localizationCat', 'sexCat'],axis=1)\n",
    "\n",
    "print(onlynumerical_imag1.info())\n",
    "\n",
    "#standardizing\n",
    "#scaling the 30 000 variables\n",
    "from sklearn.preprocessing import StandardScaler\n",
    "\n",
    "# Separating out the features\n",
    "x1 = onlynumerical_imag1\n",
    "# Standardizing the features\n",
    "onlynumerical_imag_scaled1 = StandardScaler().fit_transform(onlynumerical_imag1)"
   ]
  },
  {
   "cell_type": "code",
   "execution_count": null,
   "metadata": {},
   "outputs": [],
   "source": [
    "from sklearn.decomposition import PCA\n",
    "pca = PCA(0.95) #to keep just the components that explain the 95% of the total variance\n",
    "principalComponents1 = pca.fit_transform(onlynumerical_imag_scaled1)\n"
   ]
  },
  {
   "cell_type": "code",
   "execution_count": null,
   "metadata": {},
   "outputs": [],
   "source": [
    "print(principalComponents1.shape)"
   ]
  },
  {
   "cell_type": "code",
   "execution_count": null,
   "metadata": {},
   "outputs": [],
   "source": [
    "print(pca.explained_variance_ratio_)\n",
    "c1=pca.explained_variance_ratio_\n",
    "np.savetxt(\"c1.csv\", c1, delimiter=\",\")\n",
    "print(pca.singular_values_)\n",
    "b1=pca.singular_values_\n",
    "np.savetxt(\"b1.csv\", b1, delimiter=\",\")\n",
    "print(pca.explained_variance_ratio_.cumsum())\n",
    "a1=pca.explained_variance_ratio_.cumsum()\n",
    "np.savetxt(\"a1.csv\", a1, delimiter=\",\")\n",
    "#175 variables to consider to have 95% of variance explained\n",
    "principalDf175 = pd.DataFrame(principalComponents1)\n",
    "principalDf175.info()"
   ]
  },
  {
   "cell_type": "code",
   "execution_count": null,
   "metadata": {},
   "outputs": [],
   "source": [
    "#Visualize one image before and after PCA\n",
    "approximation = pca.inverse_transform(principalDf175)\n"
   ]
  },
  {
   "cell_type": "code",
   "execution_count": null,
   "metadata": {},
   "outputs": [],
   "source": [
    "onlynumerical_imag1_imag = onlynumerical_imag1.values\n",
    "onlynumerical_imag1_imag1=onlynumerical_imag1_imag.reshape(3697, 150, 200)\n",
    "print(onlynumerical_imag1_imag.shape) #(3697, 30000)\n",
    "print(onlynumerical_imag1_imag1.shape) #(3697, 150, 200)\n",
    "#print(onlynumerical_imag1_imag)\n",
    "print(approximation.shape)\n",
    "approximation_image=approximation.reshape(3697, 150, 200)"
   ]
  },
  {
   "cell_type": "code",
   "execution_count": null,
   "metadata": {},
   "outputs": [],
   "source": [
    "import matplotlib.pyplot as plt\n",
    "plt.figure(figsize=(8,4));\n",
    "\n",
    "\n",
    "#plt.imshow(onlynumerical_imag1_imag[1], cmap = 'gray')\n",
    "\n",
    "# Original Image\n",
    "plt.subplot(1, 2, 1);\n",
    "plt.imshow(onlynumerical_imag1_imag1[3]);\n",
    "plt.xlabel('5899 dimensions', fontsize = 14)\n",
    "plt.title('Original Image', fontsize = 20);\n",
    "\n",
    "# 154 principal components\n",
    "plt.subplot(1, 2, 2);\n",
    "plt.imshow(approximation_image[3]);\n",
    "plt.xlabel('175 principal components', fontsize = 14)\n",
    "plt.title('95% of Explained Variance', fontsize = 20);"
   ]
  },
  {
   "cell_type": "code",
   "execution_count": null,
   "metadata": {},
   "outputs": [],
   "source": [
    "#age can be not standardized, standardize depending on the algorithm\n",
    "\n",
    "finalDfbalanced1['localizationCat']= pd.Categorical(finalDfbalanced1['localization'])\n",
    "finalDfbalanced1['sexCat']= pd.Categorical(finalDfbalanced1['sex'])\n",
    "finalDfbalanced1['dxCat']= pd.Categorical(finalDfbalanced1['dx'])\n",
    "\n",
    "\n",
    "locdumm1 = pd.get_dummies(finalDfbalanced1['localizationCat'],drop_first=True)\n",
    "sexdumm1= pd.get_dummies(finalDfbalanced1['sex'],drop_first=True)\n",
    "\n",
    "\n",
    "#finalDf = pd.concat([principalDf175, finalDfbalanced1['age']], axis = 1)\n",
    "locdumm1.shape\n",
    "\n",
    "principalDf175.shape\n",
    "principalDf175.info() #RangeIndex: 3697 entries, 0 to 3696\n",
    "principalDf175.head()\n",
    "\n",
    "\n",
    "\n",
    "finalDf = pd.concat([finalDfbalanced1['age'], locdumm1, sexdumm1], axis = 1)\n",
    "\n",
    "finalDf.info() #Int64Index: 3697 entries, 2512 to 4126\n",
    "#reset the index\n",
    "finalDf.info()\n",
    "finalDf=finalDf.reset_index()#otherwise doesn't work the concat propertly\n",
    "finalDf.info()\n",
    "\n",
    "finalDf1 = pd.concat([finalDf, principalDf175], axis = 1)\n",
    "#finalDf1 = pd.concat([principalDf175, finalDfbalanced1['age'], locdumm1, sexdumm1], axis = 1)\n",
    "#finalDf = pd.concat([principalDf175, finalDfbalanced1['age']], axis = 1)\n",
    "\n",
    "print(finalDf1.info())\n",
    "print(finalDf1.shape)\n",
    "\n",
    "y=finalDfbalanced1['dxCat']\n",
    "y.shape"
   ]
  },
  {
   "cell_type": "code",
   "execution_count": null,
   "metadata": {},
   "outputs": [],
   "source": [
    "# Spliting test set and training set\n",
    "from sklearn.model_selection import train_test_split\n",
    "\n",
    "data_train1, data_test1, label_train1, label_test1 = train_test_split(finalDf1, y, test_size=0.10,random_state=1234, stratify=y)"
   ]
  },
  {
   "cell_type": "code",
   "execution_count": null,
   "metadata": {},
   "outputs": [],
   "source": [
    "#Random Forests\n",
    "print('Training Features Shape:', data_train1.shape)\n",
    "print('Training Labels Shape:', label_train1.shape)\n",
    "print('Testing Features Shape:', data_test1.shape)\n",
    "print('Testing Labels Shape:', label_test1.shape)"
   ]
  },
  {
   "cell_type": "code",
   "execution_count": null,
   "metadata": {},
   "outputs": [],
   "source": [
    "# Import the model we are using\n",
    "from sklearn.ensemble import RandomForestClassifier\n",
    "# Instantiate model with 1000 decision trees\n",
    "rf = RandomForestClassifier(n_estimators = 1000, random_state = 1234)\n",
    "# Train the model on training data\n",
    "rf.fit(data_train1, label_train1);"
   ]
  },
  {
   "cell_type": "code",
   "execution_count": null,
   "metadata": {},
   "outputs": [],
   "source": [
    "y_pred=rf.predict(data_test1)\n",
    "#print(y_pred)\n",
    "print(set(y_pred))\n",
    "\n",
    "from sklearn import metrics\n",
    "# Model Accuracy, how often is the classifier correct?\n",
    "print(\"Accuracy:\",metrics.accuracy_score(label_test1, y_pred)) #Accuracy:  0.9432432432432433"
   ]
  },
  {
   "cell_type": "code",
   "execution_count": null,
   "metadata": {},
   "outputs": [],
   "source": [
    "from sklearn.metrics import confusion_matrix\n",
    "from sklearn.externals import joblib\n",
    "\n",
    "print(pd.crosstab(label_test1, y_pred, rownames=['Actual'], colnames=['Predicted']))"
   ]
  },
  {
   "cell_type": "markdown",
   "metadata": {},
   "source": [
    "Predicted  akiec  bcc  bkl  mel   nv\n",
    "Actual                              \n",
    "bcc            0   20    0   13    0\n",
    "bkl            0    0   73    0    0\n",
    "nv             1    0    0    0  179\n",
    "mel            0    0    0   61    0\n",
    "akiec         16    0    0    0    7"
   ]
  },
  {
   "cell_type": "markdown",
   "metadata": {},
   "source": [
    "### Fast cross validation of Random Forest"
   ]
  },
  {
   "cell_type": "code",
   "execution_count": null,
   "metadata": {},
   "outputs": [],
   "source": [
    "#crossvalidation\n",
    "data_train1, data_test1, label_train1, label_test1 = train_test_split(finalDf1, y, test_size=0.10,random_state=5678, stratify=y)\n",
    "rf = RandomForestClassifier(n_estimators = 1000, random_state = 1234)\n",
    "rf.fit(data_train1, label_train1);"
   ]
  },
  {
   "cell_type": "code",
   "execution_count": null,
   "metadata": {},
   "outputs": [],
   "source": [
    "y_pred=rf.predict(data_test1)\n",
    "#print(y_pred)\n",
    "print(set(y_pred))\n",
    "\n",
    "from sklearn import metrics\n",
    "# Model Accuracy, how often is the classifier correct?\n",
    "print(\"Accuracy:\",metrics.accuracy_score(label_test1, y_pred)) #Accuracy:  0.9405405405405406\n",
    "\n",
    "print(pd.crosstab(label_test1, y_pred, rownames=['Actual'], colnames=['Predicted']))"
   ]
  },
  {
   "cell_type": "markdown",
   "metadata": {},
   "source": [
    "{'bcc', 'akiec', 'bkl', 'nv', 'mel'}\n",
    "Accuracy: 0.9405405405405406\n",
    "Predicted  akiec  bcc  bkl  mel   nv\n",
    "Actual                              \n",
    "nv             0    0    0    0  180\n",
    "mel            0    1    0   60    0\n",
    "bkl            0    0   72    0    1\n",
    "bcc            0   25    0    8    0\n",
    "akiec         11    0    0    0   12"
   ]
  },
  {
   "cell_type": "code",
   "execution_count": null,
   "metadata": {},
   "outputs": [],
   "source": [
    "#crossvalidation\n",
    "data_train1, data_test1, label_train1, label_test1 = train_test_split(finalDf1, y, test_size=0.10,random_state=9101112, stratify=y)\n",
    "rf = RandomForestClassifier(n_estimators = 1000, random_state = 1234)\n",
    "rf.fit(data_train1, label_train1);\n",
    "y_pred=rf.predict(data_test1)\n",
    "#print(y_pred)\n",
    "print(set(y_pred))\n",
    "\n",
    "from sklearn import metrics\n",
    "# Model Accuracy, how often is the classifier correct?\n",
    "print(\"Accuracy:\",metrics.accuracy_score(label_test1, y_pred)) #Accuracy:  0.9216216216216216\n",
    "\n",
    "print(pd.crosstab(label_test1, y_pred, rownames=['Actual'], colnames=['Predicted']))"
   ]
  },
  {
   "cell_type": "markdown",
   "metadata": {},
   "source": [
    "{'bcc', 'akiec', 'bkl', 'nv', 'mel'}\n",
    "Accuracy: 0.9216216216216216\n",
    "Predicted  akiec  bcc  bkl  mel   nv\n",
    "Actual                              \n",
    "bcc            0   13    0   20    0\n",
    "nv             0    0    0    0  180\n",
    "bkl            0    0   72    0    1\n",
    "akiec         17    0    0    0    6\n",
    "mel            0    0    2   59    0"
   ]
  },
  {
   "cell_type": "markdown",
   "metadata": {},
   "source": [
    "## Neural Networks\n",
    "\n",
    "No tuning the parameters.\n",
    "Without balance the classes."
   ]
  },
  {
   "cell_type": "code",
   "execution_count": null,
   "metadata": {},
   "outputs": [],
   "source": [
    "# Trying to create the first NN\n",
    "\n",
    "# Imports components from Keras\n",
    "from keras.models import Sequential\n",
    "from keras.layers import Dense\n",
    "\n",
    "# Initializes a sequential model\n",
    "model = Sequential()\n",
    "\n",
    "# First layer\n",
    "model.add(Dense(10, activation='relu', input_shape=(30000,)))\n",
    "\n",
    "# Second layer\n",
    "model.add(Dense(10, activation='relu'))\n",
    "\n",
    "# Third layer\n",
    "model.add(Dense(10, activation='relu'))\n",
    "\n",
    "# # Fourth layer\n",
    "model.add(Dense(10, activation='relu'))\n",
    "\n",
    "# Output layer\n",
    "model.add(Dense(7, activation='softmax'))"
   ]
  },
  {
   "cell_type": "code",
   "execution_count": null,
   "metadata": {},
   "outputs": [],
   "source": [
    "from sklearn.model_selection import train_test_split\n",
    "\n",
    "data_train1, data_test1, label_train1, label_test1 = train_test_split(images_gs, ohe_labels, test_size=0.10,random_state=1234)\n",
    "data_train2, data_validate2, label_train2, label_validate2 = train_test_split(data_train1, label_train1, test_size = 0.2, random_state = 2)"
   ]
  },
  {
   "cell_type": "code",
   "execution_count": null,
   "metadata": {},
   "outputs": [],
   "source": [
    "# Compile the model\n",
    "model.compile(optimizer='adam',         \n",
    "              loss='categorical_crossentropy', \n",
    "              metrics=['accuracy'])\n",
    "\n",
    "data_train1 = data_train1.reshape(len(data_train1),30000) #flat\n",
    "# label_train1.reshape(len(label_train1),30000)\n",
    "\n",
    "model.fit(data_train1, label_train1, \n",
    "          validation_split=0.2,\n",
    "          epochs=3)\n",
    "\n",
    "data_test1 = data_test1.reshape(len(data_test1), 30000)\n",
    "\n",
    "model.evaluate(data_test1, label_test1)\n"
   ]
  },
  {
   "cell_type": "code",
   "execution_count": null,
   "metadata": {},
   "outputs": [],
   "source": [
    "# 1\n",
    "# print(data_train1.shape)\n",
    "# print(label_train1.shape)\n",
    "\n",
    "# print(data_test1.shape)\n",
    "# print(label_test1.shape)\n",
    "len(data_train1)\n",
    "#train_data = images_rgb.reshape(10015, 90000)\n",
    "train_data = data_train1.reshape(len(data_train1), 30000)"
   ]
  },
  {
   "cell_type": "code",
   "execution_count": null,
   "metadata": {},
   "outputs": [],
   "source": [
    "print(type(train_data))\n",
    "print(train_data.shape)"
   ]
  },
  {
   "cell_type": "code",
   "execution_count": null,
   "metadata": {},
   "outputs": [],
   "source": [
    "model.fit(train_data, ohe_labels,\n",
    "         validation_split=0.2,\n",
    "         epochs=3)"
   ]
  },
  {
   "cell_type": "markdown",
   "metadata": {},
   "source": [
    "## Convolutional neural network\n",
    "\n",
    "No tuning the parameters.\n",
    "Without balance the classes.\n",
    "\n",
    "### First try, using grey scale images"
   ]
  },
  {
   "cell_type": "code",
   "execution_count": null,
   "metadata": {},
   "outputs": [],
   "source": [
    "from keras.models import Sequential\n",
    "from keras.layers import Dense, Conv2D, Flatten\n",
    "\n",
    "model = Sequential()\n",
    "model.add(Conv2D(10, kernel_size=3, activation='relu', \n",
    "              input_shape=(150, 200, 1)))#3 DIMENSIONS, 1 COLOR\n",
    "\n",
    "model.add(Flatten())\n",
    "model.add(Dense(7, activation='softmax'))"
   ]
  },
  {
   "cell_type": "code",
   "execution_count": null,
   "metadata": {},
   "outputs": [],
   "source": [
    "# Spliting test set and training set\n",
    "from sklearn.model_selection import train_test_split\n",
    "\n",
    "data_train1, data_test1, label_train1, label_test1 = train_test_split(images_gs, ohe_labels, test_size=0.10,random_state=1234)"
   ]
  },
  {
   "cell_type": "code",
   "execution_count": null,
   "metadata": {},
   "outputs": [],
   "source": [
    "# Fitting a CNN - with grayscale dataset\n",
    "model.compile(optimizer='adam',\n",
    "              loss='categorical_crossentropy',\n",
    "              metrics=['accuracy'])\n",
    "\n",
    "model.fit(data_train1, label_train1, validation_split=0.2, epochs=3)\n",
    "\n",
    "[test_loss, test_acc] = model.evaluate(data_test1, label_test1, verbose=0)\n",
    "# model.evaluate(data_test1, label_test1, epochs=3)\n",
    "print(\"Evaluation result on Test Data : Loss = {}, accuracy = {}\".format(test_loss, test_acc))"
   ]
  },
  {
   "cell_type": "markdown",
   "metadata": {},
   "source": [
    "### Second try, using rgb images"
   ]
  },
  {
   "cell_type": "code",
   "execution_count": null,
   "metadata": {},
   "outputs": [],
   "source": [
    "# Implementing Image Convolutions in Keras -> For rgb images\n",
    "from keras.models import Sequential\n",
    "from keras.layers import Dense, Conv2D, Flatten\n",
    "\n",
    "model = Sequential()\n",
    "model.add(Conv2D(10, kernel_size=3, activation='relu', \n",
    "              input_shape=(150, 200, 3))) #3DIMENSIONS, 3 COLOR\n",
    "\n",
    "model.add(Flatten())\n",
    "model.add(Dense(7, activation='softmax'))"
   ]
  },
  {
   "cell_type": "code",
   "execution_count": null,
   "metadata": {},
   "outputs": [],
   "source": [
    "# Spliting test set and training set\n",
    "from sklearn.model_selection import train_test_split\n",
    "\n",
    "data_train1, data_test1, label_train1, label_test1 = train_test_split(images_rgb, ohe_labels, test_size=0.10,random_state=1234)"
   ]
  },
  {
   "cell_type": "code",
   "execution_count": null,
   "metadata": {},
   "outputs": [],
   "source": [
    "# Fitting a CNN - with rgb dataset\n",
    "model.compile(optimizer='adam',\n",
    "              loss='categorical_crossentropy',\n",
    "              metrics=['accuracy'])\n",
    "\n",
    "model.fit(data_train1, label_train1, validation_split=0.2, epochs=3)\n",
    "\n",
    "[test_loss, test_acc] = model.evaluate(data_test1, label_test1, verbose=0)\n",
    "# model.evaluate(data_test1, label_test1, epochs=3)\n",
    "print(\"Evaluation result on Test Data : Loss = {}, accuracy = {}\".format(test_loss, test_acc))"
   ]
  },
  {
   "cell_type": "markdown",
   "metadata": {},
   "source": [
    "### Third try, deep net"
   ]
  },
  {
   "cell_type": "code",
   "execution_count": null,
   "metadata": {},
   "outputs": [],
   "source": [
    "# Implementing Image Convolutions in Keras -> Deeper nets\n",
    "from keras.models import Sequential\n",
    "from keras.layers import Dense, Conv2D, Flatten\n",
    "\n",
    "model = Sequential()\n",
    "model.add(Conv2D(10, kernel_size=2, activation='relu', \n",
    "                 input_shape=(150, 200, 3), \n",
    "                 padding='same'))\n",
    "\n",
    "# Second convolutional layer\n",
    "model.add(Conv2D(10, kernel_size=2, activation='relu'))\n",
    "          \n",
    "model.add(Flatten())\n",
    "model.add(Dense(9, activation='softmax'))"
   ]
  },
  {
   "cell_type": "code",
   "execution_count": null,
   "metadata": {},
   "outputs": [],
   "source": [
    "# Spliting test set and training set\n",
    "from sklearn.model_selection import train_test_split\n",
    "\n",
    "data_train1, data_test1, label_train1, label_test1 = train_test_split(norm_images_rgb, ohe_labels, test_size=0.10,random_state=1234)"
   ]
  },
  {
   "cell_type": "code",
   "execution_count": null,
   "metadata": {},
   "outputs": [],
   "source": [
    "print(\"Fitting a 2 Layers CNN - with normalized rgb dataset\")\n",
    "model.compile(optimizer='adam',\n",
    "              loss='categorical_crossentropy',\n",
    "              metrics=['accuracy'])\n",
    "\n",
    "model.fit(data_train1, label_train1, validation_split=0.2, epochs=3)\n",
    "\n",
    "[test_loss, test_acc] = model.evaluate(data_test1, label_test1, verbose=0)\n",
    "# model.evaluate(data_test1, label_test1, epochs=3)\n",
    "print(\"Evaluation result on Test Data : Loss = {}, accuracy = {}\".format(test_loss, test_acc))"
   ]
  },
  {
   "cell_type": "code",
   "execution_count": null,
   "metadata": {},
   "outputs": [],
   "source": [
    "epochs = 3\n",
    "batch_size = 10\n",
    "history = model.fit_generator(datagen.flow(data_train1,label_train1, batch_size=batch_size),\n",
    "                              epochs = epochs, validation_data = (x_validate,y_validate),\n",
    "                              verbose = 1, steps_per_epoch=x_train.shape[0] // batch_size\n",
    "                              , callbacks=[learning_rate_reduction])"
   ]
  },
  {
   "cell_type": "markdown",
   "metadata": {},
   "source": [
    "### Other experiments\n",
    "\n",
    "Trying deep neural network with data augmentation too."
   ]
  },
  {
   "cell_type": "code",
   "execution_count": null,
   "metadata": {},
   "outputs": [],
   "source": [
    "#In -> [[Conv2D->relu]*2 -> MaxPool2D -> Dropout]*2 -> Flatten -> Dense -> Dropout -> Out\n",
    "from keras.layers import Dense, Dropout, Flatten, Conv2D, MaxPool2D\n",
    "\n",
    "\n",
    "input_shape = (150, 200, 3)\n",
    "num_classes = 7\n",
    "\n",
    "model = Sequential()\n",
    "model.add(Conv2D(32, kernel_size=(3, 3),activation='relu',padding = 'Same',input_shape=input_shape))\n",
    "model.add(Conv2D(32,kernel_size=(3, 3), activation='relu',padding = 'Same',))\n",
    "model.add(MaxPool2D(pool_size = (2, 2)))\n",
    "model.add(Dropout(0.25))\n",
    "\n",
    "model.add(Conv2D(64, (3, 3), activation='relu',padding = 'Same'))\n",
    "model.add(Conv2D(64, (3, 3), activation='relu',padding = 'Same'))\n",
    "model.add(MaxPool2D(pool_size=(2, 2)))\n",
    "model.add(Dropout(0.40))\n",
    "\n",
    "model.add(Flatten())\n",
    "model.add(Dense(128, activation='relu'))\n",
    "model.add(Dropout(0.5))\n",
    "model.add(Dense(num_classes, activation='softmax'))\n",
    "model.summary()"
   ]
  },
  {
   "cell_type": "code",
   "execution_count": null,
   "metadata": {},
   "outputs": [],
   "source": [
    "from keras.optimizers import Adam\n",
    "from keras.callbacks import ReduceLROnPlateau\n",
    "\n",
    "# Define the optimizer\n",
    "optimizer = Adam(lr=0.001, beta_1=0.9, beta_2=0.999, epsilon=None, decay=0.0, amsgrad=False)\n",
    "\n",
    "# Compile the model\n",
    "model.compile(optimizer = optimizer , loss = \"categorical_crossentropy\", metrics=[\"accuracy\"])\n",
    "\n",
    "# Set a learning rate annealer\n",
    "learning_rate_reduction = ReduceLROnPlateau(monitor='val_acc', \n",
    "                                            patience=3, \n",
    "                                            verbose=1, \n",
    "                                            factor=0.5, \n",
    "                                            min_lr=0.00001)"
   ]
  },
  {
   "cell_type": "code",
   "execution_count": null,
   "metadata": {},
   "outputs": [],
   "source": [
    "# With data augmentation to prevent overfitting \n",
    "\n",
    "data_train1, data_test1, label_train1, label_test1 = train_test_split(norm_images_rgb, ohe_labels, test_size=0.10,random_state=1234)\n",
    "data_train2, data_validate2, label_train2, label_validate2 = train_test_split(data_train1, label_train1, test_size = 0.2, random_state = 2)\n",
    "\n",
    "from keras.preprocessing.image import ImageDataGenerator\n",
    "\n",
    "datagen = ImageDataGenerator(\n",
    "        featurewise_center=False,  # set input mean to 0 over the dataset\n",
    "        samplewise_center=False,  # set each sample mean to 0\n",
    "        featurewise_std_normalization=False,  # divide inputs by std of the dataset\n",
    "        samplewise_std_normalization=False,  # divide each input by its std\n",
    "        zca_whitening=False,  # apply ZCA whitening\n",
    "        rotation_range=10,  # randomly rotate images in the range (degrees, 0 to 180)\n",
    "        zoom_range = 0.1, # Randomly zoom image \n",
    "        width_shift_range=0.1,  # randomly shift images horizontally (fraction of total width)\n",
    "        height_shift_range=0.1,  # randomly shift images vertically (fraction of total height)\n",
    "        horizontal_flip=False,  # randomly flip images\n",
    "        vertical_flip=False)  # randomly flip images\n",
    "\n",
    "datagen.fit(data_train2)"
   ]
  },
  {
   "cell_type": "code",
   "execution_count": null,
   "metadata": {},
   "outputs": [],
   "source": [
    "print(data_train1.shape)\n",
    "print(data_test1.shape)\n",
    "print(label_train1.shape)\n",
    "print(label_test1.shape)"
   ]
  },
  {
   "cell_type": "code",
   "execution_count": null,
   "metadata": {},
   "outputs": [],
   "source": [
    "# Fit the model\n",
    "from functools import reduce\n",
    "\n",
    "epochs = 3 \n",
    "batch_size = 1\n",
    "history = model.fit_generator(datagen.flow(data_train2,label_train2, batch_size=batch_size),\n",
    "                              epochs = epochs, validation_data = (data_validate2,label_validate2),\n",
    "                              verbose = 1, steps_per_epoch=data_train2.shape[0] // batch_size\n",
    "                              , callbacks=[learning_rate_reduction])"
   ]
  },
  {
   "cell_type": "code",
   "execution_count": null,
   "metadata": {},
   "outputs": [],
   "source": [
    "# Model Evaluation\n",
    "loss, accuracy = model.evaluate(data_validate2, label_validate2, verbose=1)\n",
    "loss_v, accuracy_v = model.evaluate(data_test1, label_test1, verbose=1)\n",
    "print(\"Validation: accuracy = %f  ;  loss_v = %f\" % (accuracy_v, loss_v))\n",
    "print(\"Test: accuracy = %f  ;  loss = %f\" % (accuracy, loss))\n",
    "model.save(\"model.h5\")"
   ]
  },
  {
   "cell_type": "markdown",
   "metadata": {},
   "source": [
    "### Try CNN with balanced classes\n",
    "\n",
    "Also deep Convolutional neural networks can't classify the minor classes, then we tried to see what happens with the balanced classes also in this case."
   ]
  },
  {
   "cell_type": "code",
   "execution_count": null,
   "metadata": {},
   "outputs": [],
   "source": [
    "#trying the ccn\n",
    "from keras.models import Sequential\n",
    "from sklearn.model_selection import train_test_split\n",
    "# ---\n",
    "from keras.layers import Dense, Dropout, Flatten, Conv2D, MaxPool2D\n",
    "import keras\n",
    "# Set the CNN model \n",
    "# my CNN architechture is In -> [[Conv2D->relu]*2 -> MaxPool2D -> Dropout]*2 -> Flatten -> Dense -> Dropout -> Out\n",
    "from keras.layers import Dense, Dropout, Flatten, Conv2D, MaxPool2D\n",
    "\n",
    "\n",
    "input_shape = (150, 200, 1)\n",
    "num_classes = 5\n",
    "\n",
    "model = Sequential()\n",
    "model.add(Conv2D(32, kernel_size=(3, 3),activation='relu',padding = 'Same',input_shape=input_shape))\n",
    "model.add(Conv2D(32,kernel_size=(3, 3), activation='relu',padding = 'Same',))\n",
    "model.add(MaxPool2D(pool_size = (2, 2)))\n",
    "model.add(Dropout(0.25))\n",
    "\n",
    "model.add(Conv2D(64, (3, 3), activation='relu',padding = 'Same'))\n",
    "model.add(Conv2D(64, (3, 3), activation='relu',padding = 'Same'))\n",
    "model.add(MaxPool2D(pool_size=(2, 2)))\n",
    "model.add(Dropout(0.40))\n",
    "\n",
    "model.add(Flatten())\n",
    "model.add(Dense(128, activation='relu'))\n",
    "model.add(Dropout(0.5))\n",
    "model.add(Dense(num_classes, activation='softmax'))\n",
    "model.summary()"
   ]
  },
  {
   "cell_type": "code",
   "execution_count": null,
   "metadata": {},
   "outputs": [],
   "source": [
    "from keras.optimizers import Adam\n",
    "from keras.callbacks import ReduceLROnPlateau\n",
    "\n",
    "# Define the optimizer\n",
    "optimizer = Adam(lr=0.001, beta_1=0.9, beta_2=0.999, epsilon=None, decay=0.0, amsgrad=False)\n",
    "\n",
    "# Compile the model\n",
    "model.compile(optimizer = optimizer , loss = \"categorical_crossentropy\", metrics=[\"accuracy\"])\n",
    "\n",
    "# Set a learning rate annealer\n",
    "learning_rate_reduction = ReduceLROnPlateau(monitor='val_acc', \n",
    "                                            patience=3, \n",
    "                                            verbose=1, \n",
    "                                            factor=0.5, \n",
    "                                            min_lr=0.00001)"
   ]
  },
  {
   "cell_type": "code",
   "execution_count": null,
   "metadata": {},
   "outputs": [],
   "source": [
    "onlynumerical_imag1.shape"
   ]
  },
  {
   "cell_type": "code",
   "execution_count": null,
   "metadata": {},
   "outputs": [],
   "source": [
    "onlynumerical_imag11=onlynumerical_imag1.reshape(3697, 150, 200, 1)\n",
    "onlynumerical_imag11.shape\n",
    "y.shape\n",
    "\n",
    "y1=pd.get_dummies(y)\n",
    "y1.shape"
   ]
  },
  {
   "cell_type": "code",
   "execution_count": null,
   "metadata": {},
   "outputs": [],
   "source": [
    "# With data augmentation to prevent overfitting \n",
    "data_train1, data_test1, label_train1, label_test1 = train_test_split(onlynumerical_imag11,y1, test_size=0.10,random_state=1234,  stratify=y)\n",
    "\n",
    "data_train2, data_validate2, label_train2, label_validate2 = train_test_split(data_train1, label_train1, test_size = 0.2, random_state = 2)\n",
    "\n",
    "from keras.preprocessing.image import ImageDataGenerator\n",
    "\n",
    "datagen = ImageDataGenerator(\n",
    "        featurewise_center=False,  # set input mean to 0 over the dataset\n",
    "        samplewise_center=False,  # set each sample mean to 0\n",
    "        featurewise_std_normalization=False,  # divide inputs by std of the dataset\n",
    "        samplewise_std_normalization=False,  # divide each input by its std\n",
    "        zca_whitening=False,  # apply ZCA whitening\n",
    "        rotation_range=10,  # randomly rotate images in the range (degrees, 0 to 180)\n",
    "        zoom_range = 0.1, # Randomly zoom image \n",
    "        width_shift_range=0.1,  # randomly shift images horizontally (fraction of total width)\n",
    "        height_shift_range=0.1,  # randomly shift images vertically (fraction of total height)\n",
    "        horizontal_flip=False,  # randomly flip images\n",
    "        vertical_flip=False)  # randomly flip images\n",
    "\n",
    "datagen.fit(data_train2)"
   ]
  },
  {
   "cell_type": "code",
   "execution_count": null,
   "metadata": {},
   "outputs": [],
   "source": [
    "# Fit the model\n",
    "from functools import reduce\n",
    "\n",
    "epochs = 3 \n",
    "batch_size = 1\n",
    "history = model.fit_generator(datagen.flow(data_train2,label_train2, batch_size=batch_size),\n",
    "                              epochs = epochs, validation_data = (data_validate2,label_validate2),\n",
    "                              verbose = 1, steps_per_epoch=data_train2.shape[0] // batch_size\n",
    "                              , callbacks=[learning_rate_reduction])"
   ]
  },
  {
   "cell_type": "markdown",
   "metadata": {},
   "source": [
    "Epoch 1/3\n",
    "2661/2661 [==============================] - 1076s 404ms/step - loss: 1.4050 - acc: 0.4821 - val_loss: 1.3579 - val_acc: 0.4910\n",
    "Epoch 2/3\n",
    "2661/2661 [==============================] - 1068s 401ms/step - loss: 1.3802 - acc: 0.4863 - val_loss: 1.3567 - val_acc: 0.4910\n",
    "Epoch 3/3\n",
    "2661/2661 [==============================] - 1018s 383ms/step - loss: 1.3643 - acc: 0.4863 - val_loss: 1.3583 - val_acc: 0.4910"
   ]
  },
  {
   "cell_type": "code",
   "execution_count": null,
   "metadata": {},
   "outputs": [],
   "source": [
    "# Model Evaluation\n",
    "loss, accuracy = model.evaluate(data_validate2, label_validate2, verbose=1)\n",
    "loss_v, accuracy_v = model.evaluate(data_test1, label_test1, verbose=1)\n",
    "print(\"Validation: accuracy = %f  ;  loss_v = %f\" % (accuracy_v, loss_v))\n",
    "print(\"Test: accuracy = %f  ;  loss = %f\" % (accuracy, loss))\n",
    "model.save(\"model.h5\")"
   ]
  },
  {
   "cell_type": "markdown",
   "metadata": {},
   "source": [
    "666/666 [==============================] - 31s 47ms/step\n",
    "370/370 [==============================] - 17s 46ms/step\n",
    "Validation: accuracy = 0.486486  ;  loss_v = 1.357561\n",
    "Test: accuracy = 0.490991  ;  loss = 1.358307"
   ]
  },
  {
   "cell_type": "code",
   "execution_count": null,
   "metadata": {},
   "outputs": [],
   "source": [
    "y_pred=model.predict_classes(data_test1)\n",
    "\n",
    "#print(pd.crosstab(y1, list(y_pred), rownames=['Actual'], colnames=['Predicted'])) #still problems with cnn also with balanced classes\n",
    "\n",
    "y_pred.shape"
   ]
  },
  {
   "cell_type": "markdown",
   "metadata": {},
   "source": [
    "## Conclusions\n",
    "\n",
    "Because of the complexity of the problems, many other techniques could be explored. \n",
    "We think that a better image pre-processing could make the prediction improves: considering, for example, the spatial correlation, the reduction of the space by pixel positions, some filters of the image’s noises and many other treatments. Moreover, it would be possible to explore and test better different undersampling/oversampling techniques and maybe, also ensemble different models with different datasets to have a more stable classification in the validation. \n",
    "Additionally, many parameters could be tested and tuned to better personalize the model but always considering a good trade-off between the goodness of the model and the ability of generalization. "
   ]
  }
 ],
 "metadata": {
  "kernelspec": {
   "display_name": "Python 3",
   "language": "python",
   "name": "python3"
  },
  "language_info": {
   "codemirror_mode": {
    "name": "ipython",
    "version": 3
   },
   "file_extension": ".py",
   "mimetype": "text/x-python",
   "name": "python",
   "nbconvert_exporter": "python",
   "pygments_lexer": "ipython3",
   "version": "3.6.5"
  }
 },
 "nbformat": 4,
 "nbformat_minor": 2
}
