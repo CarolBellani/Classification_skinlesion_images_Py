{
 "cells": [
  {
   "cell_type": "code",
   "execution_count": 53,
   "metadata": {},
   "outputs": [],
   "source": [
    "# %%time\n",
    "# Import the libraries\n",
    "import pandas as pd\n",
    "import numpy as np\n",
    "import keras\n",
    "from keras import backend as K\n",
    "from keras.layers.core import Dense, Dropout\n",
    "from keras.optimizers import Adam\n",
    "from keras.preprocessing.image import ImageDataGenerator\n",
    "from keras.models import Model\n",
    "from keras.callbacks import ReduceLROnPlateau, ModelCheckpoint\n",
    "from sklearn.metrics import confusion_matrix\n",
    "import itertools\n",
    "import matplotlib.pyplot as plt\n",
    "import shutil\n",
    "\n",
    "from sklearn.model_selection import train_test_split\n",
    "from keras.models import Sequential\n",
    "from keras.layers import Dense\n",
    "from keras import layers\n",
    "from keras import models\n",
    "from os import rename, listdir\n",
    "import os, zipfile\n",
    "import random\n",
    "from random import random\n",
    "from random import randrange\n",
    "from random import choice\n",
    "from random import uniform\n",
    "from matplotlib import pyplot\n",
    "import skimage.io as io\n",
    "\n",
    "from keras.metrics import categorical_accuracy\n",
    "from keras.optimizers import Adam\n",
    "\n",
    "import tensorflow as tf "
   ]
  },
  {
   "cell_type": "code",
   "execution_count": 55,
   "metadata": {},
   "outputs": [],
   "source": [
    "# from fastai import *\n",
    "# from fastai.vision import *\n",
    "# from fastai.callbacks.hooks import *\n",
    "\n",
    "import numpy as np \n",
    "import pandas as pd \n",
    "import seaborn as sns\n",
    "import matplotlib.pyplot as plt\n",
    "from sklearn.metrics import auc,roc_curve\n",
    "\n",
    "import os\n",
    "import zipfile\n",
    "\n",
    "from sklearn.model_selection import train_test_split\n",
    "\n",
    "from tensorflow.python.keras.applications import ResNet50\n",
    "from tensorflow.python.keras.models import Sequential\n",
    "from tensorflow.python.keras.layers import Dense, Flatten, GlobalAveragePooling2D, BatchNormalization\n",
    "from tensorflow.python.keras.applications.resnet50 import preprocess_input\n",
    "from tensorflow.python.keras.preprocessing.image import ImageDataGenerator\n",
    "from tensorflow.python.keras.preprocessing.image import load_img, img_to_array\n",
    "\n",
    "import shutil\n",
    "\n",
    "from keras.callbacks import ReduceLROnPlateau, ModelCheckpoint\n",
    "\n",
    "# from . import backend as K"
   ]
  },
  {
   "cell_type": "code",
   "execution_count": 2,
   "metadata": {},
   "outputs": [],
   "source": [
    "#Seting the directory for the images \n",
    "dir_zip = r'D:\\Python\\Jupyter\\DeepLearning\\ProjectResnet\\zipFiles'\n",
    "dir_database = r'D:\\Python\\Jupyter\\DeepLearning\\ProjectResnet\\DataBase'\n",
    "dir_MetaData = r'D:\\Python\\Jupyter\\DeepLearning\\ProjectResnet\\metaData_dataBase'\n",
    "dir_project = r'D:\\Python\\Jupyter\\DeepLearning\\ProjectResnet'"
   ]
  },
  {
   "cell_type": "code",
   "execution_count": 3,
   "metadata": {},
   "outputs": [],
   "source": [
    "# Paths and roots to the important files\n",
    "# path='../input/'\n",
    "csv_file=dir_MetaData+'\\HAM10000_metadata.csv'"
   ]
  },
  {
   "cell_type": "code",
   "execution_count": 4,
   "metadata": {},
   "outputs": [
    {
     "name": "stdout",
     "output_type": "stream",
     "text": [
      "10019\n"
     ]
    }
   ],
   "source": [
    "#%%time\n",
    "extension = \".zip\"\n",
    "\n",
    "os.chdir(dir_zip) # change directory from working dir to dir with files\n",
    "\n",
    "if len(os.listdir(os.path.abspath(dir_database)))==0 or len(os.listdir(os.path.abspath(dir_database)))==1:\n",
    "    # Loop to extract all Images from a the zip file on directory\n",
    "    for item in os.listdir(dir_zip): # loop through items in dir\n",
    "        if item.endswith(extension): # check for \".zip\" extension\n",
    "            file_name = os.path.abspath(item) # get full path of files\n",
    "            print(\"Processing %s\" % file_name)\n",
    "            zip_ref = zipfile.ZipFile(file_name) # create zipfile object\n",
    "            os.chdir(dir_zip) # change directory from working dir to dir with files\n",
    "            zip_ref.extractall(dir_database) # extract file to dir\n",
    "            zip_ref.close() # close file\n",
    "            #os.remove(file_name) # delete zipped file\n",
    "else:\n",
    "    print(len(os.listdir(os.path.abspath(dir_database))))"
   ]
  },
  {
   "cell_type": "code",
   "execution_count": 5,
   "metadata": {},
   "outputs": [],
   "source": [
    "# print(os.listdir(dir_database))"
   ]
  },
  {
   "cell_type": "code",
   "execution_count": 6,
   "metadata": {},
   "outputs": [],
   "source": [
    "metadata = pd.read_csv(dir_MetaData+'/HAM10000_metadata.csv', header=0, index_col=1)"
   ]
  },
  {
   "cell_type": "code",
   "execution_count": 7,
   "metadata": {},
   "outputs": [
    {
     "data": {
      "text/html": [
       "<div>\n",
       "<style scoped>\n",
       "    .dataframe tbody tr th:only-of-type {\n",
       "        vertical-align: middle;\n",
       "    }\n",
       "\n",
       "    .dataframe tbody tr th {\n",
       "        vertical-align: top;\n",
       "    }\n",
       "\n",
       "    .dataframe thead th {\n",
       "        text-align: right;\n",
       "    }\n",
       "</style>\n",
       "<table border=\"1\" class=\"dataframe\">\n",
       "  <thead>\n",
       "    <tr style=\"text-align: right;\">\n",
       "      <th></th>\n",
       "      <th>lesion_id</th>\n",
       "      <th>dx</th>\n",
       "      <th>dx_type</th>\n",
       "      <th>age</th>\n",
       "      <th>sex</th>\n",
       "      <th>localization</th>\n",
       "    </tr>\n",
       "    <tr>\n",
       "      <th>image_id</th>\n",
       "      <th></th>\n",
       "      <th></th>\n",
       "      <th></th>\n",
       "      <th></th>\n",
       "      <th></th>\n",
       "      <th></th>\n",
       "    </tr>\n",
       "  </thead>\n",
       "  <tbody>\n",
       "    <tr>\n",
       "      <th>ISIC_0027419</th>\n",
       "      <td>HAM_0000118</td>\n",
       "      <td>bkl</td>\n",
       "      <td>histo</td>\n",
       "      <td>80.0</td>\n",
       "      <td>male</td>\n",
       "      <td>scalp</td>\n",
       "    </tr>\n",
       "    <tr>\n",
       "      <th>ISIC_0025030</th>\n",
       "      <td>HAM_0000118</td>\n",
       "      <td>bkl</td>\n",
       "      <td>histo</td>\n",
       "      <td>80.0</td>\n",
       "      <td>male</td>\n",
       "      <td>scalp</td>\n",
       "    </tr>\n",
       "    <tr>\n",
       "      <th>ISIC_0026769</th>\n",
       "      <td>HAM_0002730</td>\n",
       "      <td>bkl</td>\n",
       "      <td>histo</td>\n",
       "      <td>80.0</td>\n",
       "      <td>male</td>\n",
       "      <td>scalp</td>\n",
       "    </tr>\n",
       "    <tr>\n",
       "      <th>ISIC_0025661</th>\n",
       "      <td>HAM_0002730</td>\n",
       "      <td>bkl</td>\n",
       "      <td>histo</td>\n",
       "      <td>80.0</td>\n",
       "      <td>male</td>\n",
       "      <td>scalp</td>\n",
       "    </tr>\n",
       "    <tr>\n",
       "      <th>ISIC_0031633</th>\n",
       "      <td>HAM_0001466</td>\n",
       "      <td>bkl</td>\n",
       "      <td>histo</td>\n",
       "      <td>75.0</td>\n",
       "      <td>male</td>\n",
       "      <td>ear</td>\n",
       "    </tr>\n",
       "  </tbody>\n",
       "</table>\n",
       "</div>"
      ],
      "text/plain": [
       "                lesion_id   dx dx_type   age   sex localization\n",
       "image_id                                                       \n",
       "ISIC_0027419  HAM_0000118  bkl   histo  80.0  male        scalp\n",
       "ISIC_0025030  HAM_0000118  bkl   histo  80.0  male        scalp\n",
       "ISIC_0026769  HAM_0002730  bkl   histo  80.0  male        scalp\n",
       "ISIC_0025661  HAM_0002730  bkl   histo  80.0  male        scalp\n",
       "ISIC_0031633  HAM_0001466  bkl   histo  75.0  male          ear"
      ]
     },
     "execution_count": 7,
     "metadata": {},
     "output_type": "execute_result"
    }
   ],
   "source": [
    "metadata.head()"
   ]
  },
  {
   "cell_type": "code",
   "execution_count": 8,
   "metadata": {},
   "outputs": [
    {
     "data": {
      "text/html": [
       "<div>\n",
       "<style scoped>\n",
       "    .dataframe tbody tr th:only-of-type {\n",
       "        vertical-align: middle;\n",
       "    }\n",
       "\n",
       "    .dataframe tbody tr th {\n",
       "        vertical-align: top;\n",
       "    }\n",
       "\n",
       "    .dataframe thead th {\n",
       "        text-align: right;\n",
       "    }\n",
       "</style>\n",
       "<table border=\"1\" class=\"dataframe\">\n",
       "  <thead>\n",
       "    <tr style=\"text-align: right;\">\n",
       "      <th></th>\n",
       "      <th>lesion_id</th>\n",
       "      <th>dx</th>\n",
       "      <th>dx_type</th>\n",
       "      <th>age</th>\n",
       "      <th>sex</th>\n",
       "      <th>localization</th>\n",
       "    </tr>\n",
       "    <tr>\n",
       "      <th>image_id</th>\n",
       "      <th></th>\n",
       "      <th></th>\n",
       "      <th></th>\n",
       "      <th></th>\n",
       "      <th></th>\n",
       "      <th></th>\n",
       "    </tr>\n",
       "  </thead>\n",
       "  <tbody>\n",
       "    <tr>\n",
       "      <th>ISIC_0027419</th>\n",
       "      <td>HAM_0000118</td>\n",
       "      <td>bkl</td>\n",
       "      <td>histo</td>\n",
       "      <td>80.0</td>\n",
       "      <td>male</td>\n",
       "      <td>scalp</td>\n",
       "    </tr>\n",
       "    <tr>\n",
       "      <th>ISIC_0025030</th>\n",
       "      <td>HAM_0000118</td>\n",
       "      <td>bkl</td>\n",
       "      <td>histo</td>\n",
       "      <td>80.0</td>\n",
       "      <td>male</td>\n",
       "      <td>scalp</td>\n",
       "    </tr>\n",
       "    <tr>\n",
       "      <th>ISIC_0026769</th>\n",
       "      <td>HAM_0002730</td>\n",
       "      <td>bkl</td>\n",
       "      <td>histo</td>\n",
       "      <td>80.0</td>\n",
       "      <td>male</td>\n",
       "      <td>scalp</td>\n",
       "    </tr>\n",
       "    <tr>\n",
       "      <th>ISIC_0025661</th>\n",
       "      <td>HAM_0002730</td>\n",
       "      <td>bkl</td>\n",
       "      <td>histo</td>\n",
       "      <td>80.0</td>\n",
       "      <td>male</td>\n",
       "      <td>scalp</td>\n",
       "    </tr>\n",
       "    <tr>\n",
       "      <th>ISIC_0031633</th>\n",
       "      <td>HAM_0001466</td>\n",
       "      <td>bkl</td>\n",
       "      <td>histo</td>\n",
       "      <td>75.0</td>\n",
       "      <td>male</td>\n",
       "      <td>ear</td>\n",
       "    </tr>\n",
       "  </tbody>\n",
       "</table>\n",
       "</div>"
      ],
      "text/plain": [
       "                lesion_id   dx dx_type   age   sex localization\n",
       "image_id                                                       \n",
       "ISIC_0027419  HAM_0000118  bkl   histo  80.0  male        scalp\n",
       "ISIC_0025030  HAM_0000118  bkl   histo  80.0  male        scalp\n",
       "ISIC_0026769  HAM_0002730  bkl   histo  80.0  male        scalp\n",
       "ISIC_0025661  HAM_0002730  bkl   histo  80.0  male        scalp\n",
       "ISIC_0031633  HAM_0001466  bkl   histo  75.0  male          ear"
      ]
     },
     "execution_count": 8,
     "metadata": {},
     "output_type": "execute_result"
    }
   ],
   "source": [
    "df=pd.read_csv(csv_file).set_index('image_id')\n",
    "df.head()"
   ]
  },
  {
   "cell_type": "code",
   "execution_count": 9,
   "metadata": {},
   "outputs": [],
   "source": [
    "# Categories of the diferent diseases\n",
    "lesion_type_dict = {\n",
    "    'nv': 'Melanocytic nevi',\n",
    "    'mel': 'Melanoma',\n",
    "    'bkl': 'Benign keratosis ',\n",
    "    'bcc': 'Basal cell carcinoma',\n",
    "    'akiec': 'Actinic keratoses',\n",
    "    'vasc': 'Vascular lesions',\n",
    "    'df': 'Dermatofibroma'\n",
    "}"
   ]
  },
  {
   "cell_type": "code",
   "execution_count": 10,
   "metadata": {},
   "outputs": [
    {
     "data": {
      "text/html": [
       "<div>\n",
       "<style scoped>\n",
       "    .dataframe tbody tr th:only-of-type {\n",
       "        vertical-align: middle;\n",
       "    }\n",
       "\n",
       "    .dataframe tbody tr th {\n",
       "        vertical-align: top;\n",
       "    }\n",
       "\n",
       "    .dataframe thead th {\n",
       "        text-align: right;\n",
       "    }\n",
       "</style>\n",
       "<table border=\"1\" class=\"dataframe\">\n",
       "  <thead>\n",
       "    <tr style=\"text-align: right;\">\n",
       "      <th></th>\n",
       "      <th>lesion_id</th>\n",
       "      <th>dx</th>\n",
       "      <th>dx_type</th>\n",
       "      <th>age</th>\n",
       "      <th>sex</th>\n",
       "      <th>localization</th>\n",
       "      <th>labels</th>\n",
       "      <th>lesion</th>\n",
       "    </tr>\n",
       "    <tr>\n",
       "      <th>image_id</th>\n",
       "      <th></th>\n",
       "      <th></th>\n",
       "      <th></th>\n",
       "      <th></th>\n",
       "      <th></th>\n",
       "      <th></th>\n",
       "      <th></th>\n",
       "      <th></th>\n",
       "    </tr>\n",
       "  </thead>\n",
       "  <tbody>\n",
       "    <tr>\n",
       "      <th>ISIC_0027419</th>\n",
       "      <td>HAM_0000118</td>\n",
       "      <td>bkl</td>\n",
       "      <td>histo</td>\n",
       "      <td>80.0</td>\n",
       "      <td>male</td>\n",
       "      <td>scalp</td>\n",
       "      <td>2</td>\n",
       "      <td>Benign keratosis</td>\n",
       "    </tr>\n",
       "    <tr>\n",
       "      <th>ISIC_0025030</th>\n",
       "      <td>HAM_0000118</td>\n",
       "      <td>bkl</td>\n",
       "      <td>histo</td>\n",
       "      <td>80.0</td>\n",
       "      <td>male</td>\n",
       "      <td>scalp</td>\n",
       "      <td>2</td>\n",
       "      <td>Benign keratosis</td>\n",
       "    </tr>\n",
       "    <tr>\n",
       "      <th>ISIC_0026769</th>\n",
       "      <td>HAM_0002730</td>\n",
       "      <td>bkl</td>\n",
       "      <td>histo</td>\n",
       "      <td>80.0</td>\n",
       "      <td>male</td>\n",
       "      <td>scalp</td>\n",
       "      <td>2</td>\n",
       "      <td>Benign keratosis</td>\n",
       "    </tr>\n",
       "    <tr>\n",
       "      <th>ISIC_0025661</th>\n",
       "      <td>HAM_0002730</td>\n",
       "      <td>bkl</td>\n",
       "      <td>histo</td>\n",
       "      <td>80.0</td>\n",
       "      <td>male</td>\n",
       "      <td>scalp</td>\n",
       "      <td>2</td>\n",
       "      <td>Benign keratosis</td>\n",
       "    </tr>\n",
       "    <tr>\n",
       "      <th>ISIC_0031633</th>\n",
       "      <td>HAM_0001466</td>\n",
       "      <td>bkl</td>\n",
       "      <td>histo</td>\n",
       "      <td>75.0</td>\n",
       "      <td>male</td>\n",
       "      <td>ear</td>\n",
       "      <td>2</td>\n",
       "      <td>Benign keratosis</td>\n",
       "    </tr>\n",
       "  </tbody>\n",
       "</table>\n",
       "</div>"
      ],
      "text/plain": [
       "                lesion_id   dx dx_type   age   sex localization  labels  \\\n",
       "image_id                                                                  \n",
       "ISIC_0027419  HAM_0000118  bkl   histo  80.0  male        scalp       2   \n",
       "ISIC_0025030  HAM_0000118  bkl   histo  80.0  male        scalp       2   \n",
       "ISIC_0026769  HAM_0002730  bkl   histo  80.0  male        scalp       2   \n",
       "ISIC_0025661  HAM_0002730  bkl   histo  80.0  male        scalp       2   \n",
       "ISIC_0031633  HAM_0001466  bkl   histo  75.0  male          ear       2   \n",
       "\n",
       "                         lesion  \n",
       "image_id                         \n",
       "ISIC_0027419  Benign keratosis   \n",
       "ISIC_0025030  Benign keratosis   \n",
       "ISIC_0026769  Benign keratosis   \n",
       "ISIC_0025661  Benign keratosis   \n",
       "ISIC_0031633  Benign keratosis   "
      ]
     },
     "execution_count": 10,
     "metadata": {},
     "output_type": "execute_result"
    }
   ],
   "source": [
    "metadata.dx=metadata.dx.astype('category',copy=True)\n",
    "metadata['labels']=metadata.dx.cat.codes # Convert the labels to numbers\n",
    "metadata['lesion']= metadata.dx.map(lesion_type_dict)\n",
    "metadata.head()"
   ]
  },
  {
   "cell_type": "code",
   "execution_count": 11,
   "metadata": {},
   "outputs": [
    {
     "name": "stdout",
     "output_type": "stream",
     "text": [
      "Melanocytic nevi        6705\n",
      "Melanoma                1113\n",
      "Benign keratosis        1099\n",
      "Basal cell carcinoma     514\n",
      "Actinic keratoses        327\n",
      "Vascular lesions         142\n",
      "Dermatofibroma           115\n",
      "Name: lesion, dtype: int64\n"
     ]
    }
   ],
   "source": [
    "print(metadata.lesion.value_counts())"
   ]
  },
  {
   "cell_type": "code",
   "execution_count": 12,
   "metadata": {},
   "outputs": [
    {
     "data": {
      "text/plain": [
       "'Benign keratosis '"
      ]
     },
     "execution_count": 12,
     "metadata": {},
     "output_type": "execute_result"
    }
   ],
   "source": [
    "metadata.loc['ISIC_0027419','lesion']"
   ]
  },
  {
   "cell_type": "code",
   "execution_count": 13,
   "metadata": {},
   "outputs": [
    {
     "data": {
      "text/plain": [
       "<matplotlib.axes._subplots.AxesSubplot at 0x1f19b8e8d30>"
      ]
     },
     "execution_count": 13,
     "metadata": {},
     "output_type": "execute_result"
    },
    {
     "data": {
      "image/png": "[encoded data removed]",
      "text/plain": [
       "<Figure size 720x360 with 1 Axes>"
      ]
     },
     "metadata": {
      "needs_background": "light"
     },
     "output_type": "display_data"
    }
   ],
   "source": [
    "fig, ax1 = plt.subplots(1, 1, figsize = (10, 5))\n",
    "sns.countplot(y='lesion',data=metadata, hue=\"lesion\",ax=ax1)"
   ]
  },
  {
   "cell_type": "code",
   "execution_count": 14,
   "metadata": {},
   "outputs": [
    {
     "data": {
      "text/html": [
       "<div>\n",
       "<style scoped>\n",
       "    .dataframe tbody tr th:only-of-type {\n",
       "        vertical-align: middle;\n",
       "    }\n",
       "\n",
       "    .dataframe tbody tr th {\n",
       "        vertical-align: top;\n",
       "    }\n",
       "\n",
       "    .dataframe thead th {\n",
       "        text-align: right;\n",
       "    }\n",
       "</style>\n",
       "<table border=\"1\" class=\"dataframe\">\n",
       "  <thead>\n",
       "    <tr style=\"text-align: right;\">\n",
       "      <th></th>\n",
       "      <th>lesion_id</th>\n",
       "      <th>dx</th>\n",
       "      <th>dx_type</th>\n",
       "      <th>age</th>\n",
       "      <th>sex</th>\n",
       "      <th>localization</th>\n",
       "      <th>labels</th>\n",
       "      <th>lesion</th>\n",
       "    </tr>\n",
       "    <tr>\n",
       "      <th>image_id</th>\n",
       "      <th></th>\n",
       "      <th></th>\n",
       "      <th></th>\n",
       "      <th></th>\n",
       "      <th></th>\n",
       "      <th></th>\n",
       "      <th></th>\n",
       "      <th></th>\n",
       "    </tr>\n",
       "  </thead>\n",
       "  <tbody>\n",
       "    <tr>\n",
       "      <th>ISIC_0027419</th>\n",
       "      <td>HAM_0000118</td>\n",
       "      <td>bkl</td>\n",
       "      <td>histo</td>\n",
       "      <td>80.0</td>\n",
       "      <td>male</td>\n",
       "      <td>scalp</td>\n",
       "      <td>2</td>\n",
       "      <td>Benign keratosis</td>\n",
       "    </tr>\n",
       "    <tr>\n",
       "      <th>ISIC_0025030</th>\n",
       "      <td>HAM_0000118</td>\n",
       "      <td>bkl</td>\n",
       "      <td>histo</td>\n",
       "      <td>80.0</td>\n",
       "      <td>male</td>\n",
       "      <td>scalp</td>\n",
       "      <td>2</td>\n",
       "      <td>Benign keratosis</td>\n",
       "    </tr>\n",
       "    <tr>\n",
       "      <th>ISIC_0026769</th>\n",
       "      <td>HAM_0002730</td>\n",
       "      <td>bkl</td>\n",
       "      <td>histo</td>\n",
       "      <td>80.0</td>\n",
       "      <td>male</td>\n",
       "      <td>scalp</td>\n",
       "      <td>2</td>\n",
       "      <td>Benign keratosis</td>\n",
       "    </tr>\n",
       "    <tr>\n",
       "      <th>ISIC_0025661</th>\n",
       "      <td>HAM_0002730</td>\n",
       "      <td>bkl</td>\n",
       "      <td>histo</td>\n",
       "      <td>80.0</td>\n",
       "      <td>male</td>\n",
       "      <td>scalp</td>\n",
       "      <td>2</td>\n",
       "      <td>Benign keratosis</td>\n",
       "    </tr>\n",
       "    <tr>\n",
       "      <th>ISIC_0031633</th>\n",
       "      <td>HAM_0001466</td>\n",
       "      <td>bkl</td>\n",
       "      <td>histo</td>\n",
       "      <td>75.0</td>\n",
       "      <td>male</td>\n",
       "      <td>ear</td>\n",
       "      <td>2</td>\n",
       "      <td>Benign keratosis</td>\n",
       "    </tr>\n",
       "  </tbody>\n",
       "</table>\n",
       "</div>"
      ],
      "text/plain": [
       "                lesion_id   dx dx_type   age   sex localization  labels  \\\n",
       "image_id                                                                  \n",
       "ISIC_0027419  HAM_0000118  bkl   histo  80.0  male        scalp       2   \n",
       "ISIC_0025030  HAM_0000118  bkl   histo  80.0  male        scalp       2   \n",
       "ISIC_0026769  HAM_0002730  bkl   histo  80.0  male        scalp       2   \n",
       "ISIC_0025661  HAM_0002730  bkl   histo  80.0  male        scalp       2   \n",
       "ISIC_0031633  HAM_0001466  bkl   histo  75.0  male          ear       2   \n",
       "\n",
       "                         lesion  \n",
       "image_id                         \n",
       "ISIC_0027419  Benign keratosis   \n",
       "ISIC_0025030  Benign keratosis   \n",
       "ISIC_0026769  Benign keratosis   \n",
       "ISIC_0025661  Benign keratosis   \n",
       "ISIC_0031633  Benign keratosis   "
      ]
     },
     "execution_count": 14,
     "metadata": {},
     "output_type": "execute_result"
    }
   ],
   "source": [
    "metadata.head()"
   ]
  },
  {
   "cell_type": "code",
   "execution_count": 15,
   "metadata": {},
   "outputs": [],
   "source": [
    "# Create a list of file names\n",
    "#-------------------------------------------------#\n",
    "filenames = [os.path.splitext(filename)[0] for filename in os.listdir(dir_database) if filename.endswith(\".jpg\")]\n",
    "prov_filenames = []\n",
    "for name in filenames:\n",
    "    prov_filenames.append(name[-12:])\n",
    "filenames = prov_filenames\n",
    "filenames = pd.DataFrame(np.array(filenames).reshape(10015,1),columns=['filenames'])\n",
    "# filenames = pd.DataFrame(np.array(filenames).reshape(2000,1),columns=['filenames'])"
   ]
  },
  {
   "cell_type": "code",
   "execution_count": 16,
   "metadata": {},
   "outputs": [],
   "source": [
    "# # Organize dataset according to photos actual order\n",
    "# ----------------------------------------------------\n",
    "# # Merging the file names and the metadata, thus organizing the data.\n",
    "\n",
    "organized_metadata = pd.merge(left=filenames, right=metadata, left_on='filenames',right_on='image_id')\n",
    "# # print(organized_metadata)"
   ]
  },
  {
   "cell_type": "code",
   "execution_count": 17,
   "metadata": {},
   "outputs": [],
   "source": [
    "organized_metadata['dx'] = organized_metadata['dx'].astype(np.str)\n",
    "organized_metadata['filenames'] = organized_metadata['filenames'].astype(np.str)"
   ]
  },
  {
   "cell_type": "code",
   "execution_count": 18,
   "metadata": {},
   "outputs": [],
   "source": [
    "# It removes all metadata but dx (lesion type)\n",
    "\n",
    "# It removes all metadata but dx (lesion type)\n",
    "organized_metadata['filenames_dx'] = organized_metadata['dx'] + '.' + organized_metadata['filenames']"
   ]
  },
  {
   "cell_type": "code",
   "execution_count": 19,
   "metadata": {},
   "outputs": [
    {
     "data": {
      "text/html": [
       "<div>\n",
       "<style scoped>\n",
       "    .dataframe tbody tr th:only-of-type {\n",
       "        vertical-align: middle;\n",
       "    }\n",
       "\n",
       "    .dataframe tbody tr th {\n",
       "        vertical-align: top;\n",
       "    }\n",
       "\n",
       "    .dataframe thead th {\n",
       "        text-align: right;\n",
       "    }\n",
       "</style>\n",
       "<table border=\"1\" class=\"dataframe\">\n",
       "  <thead>\n",
       "    <tr style=\"text-align: right;\">\n",
       "      <th></th>\n",
       "      <th>filenames</th>\n",
       "      <th>lesion_id</th>\n",
       "      <th>dx</th>\n",
       "      <th>dx_type</th>\n",
       "      <th>age</th>\n",
       "      <th>sex</th>\n",
       "      <th>localization</th>\n",
       "      <th>labels</th>\n",
       "      <th>lesion</th>\n",
       "      <th>filenames_dx</th>\n",
       "    </tr>\n",
       "  </thead>\n",
       "  <tbody>\n",
       "    <tr>\n",
       "      <th>0</th>\n",
       "      <td>ISIC_0024329</td>\n",
       "      <td>HAM_0002954</td>\n",
       "      <td>akiec</td>\n",
       "      <td>histo</td>\n",
       "      <td>75.0</td>\n",
       "      <td>female</td>\n",
       "      <td>lower extremity</td>\n",
       "      <td>0</td>\n",
       "      <td>Actinic keratoses</td>\n",
       "      <td>akiec.ISIC_0024329</td>\n",
       "    </tr>\n",
       "    <tr>\n",
       "      <th>1</th>\n",
       "      <td>ISIC_0024372</td>\n",
       "      <td>HAM_0005389</td>\n",
       "      <td>akiec</td>\n",
       "      <td>histo</td>\n",
       "      <td>70.0</td>\n",
       "      <td>male</td>\n",
       "      <td>lower extremity</td>\n",
       "      <td>0</td>\n",
       "      <td>Actinic keratoses</td>\n",
       "      <td>akiec.ISIC_0024372</td>\n",
       "    </tr>\n",
       "    <tr>\n",
       "      <th>2</th>\n",
       "      <td>ISIC_0024418</td>\n",
       "      <td>HAM_0003380</td>\n",
       "      <td>akiec</td>\n",
       "      <td>histo</td>\n",
       "      <td>75.0</td>\n",
       "      <td>female</td>\n",
       "      <td>lower extremity</td>\n",
       "      <td>0</td>\n",
       "      <td>Actinic keratoses</td>\n",
       "      <td>akiec.ISIC_0024418</td>\n",
       "    </tr>\n",
       "    <tr>\n",
       "      <th>3</th>\n",
       "      <td>ISIC_0024450</td>\n",
       "      <td>HAM_0005505</td>\n",
       "      <td>akiec</td>\n",
       "      <td>histo</td>\n",
       "      <td>50.0</td>\n",
       "      <td>male</td>\n",
       "      <td>upper extremity</td>\n",
       "      <td>0</td>\n",
       "      <td>Actinic keratoses</td>\n",
       "      <td>akiec.ISIC_0024450</td>\n",
       "    </tr>\n",
       "    <tr>\n",
       "      <th>4</th>\n",
       "      <td>ISIC_0024463</td>\n",
       "      <td>HAM_0004568</td>\n",
       "      <td>akiec</td>\n",
       "      <td>histo</td>\n",
       "      <td>50.0</td>\n",
       "      <td>male</td>\n",
       "      <td>upper extremity</td>\n",
       "      <td>0</td>\n",
       "      <td>Actinic keratoses</td>\n",
       "      <td>akiec.ISIC_0024463</td>\n",
       "    </tr>\n",
       "  </tbody>\n",
       "</table>\n",
       "</div>"
      ],
      "text/plain": [
       "      filenames    lesion_id     dx dx_type   age     sex     localization  \\\n",
       "0  ISIC_0024329  HAM_0002954  akiec   histo  75.0  female  lower extremity   \n",
       "1  ISIC_0024372  HAM_0005389  akiec   histo  70.0    male  lower extremity   \n",
       "2  ISIC_0024418  HAM_0003380  akiec   histo  75.0  female  lower extremity   \n",
       "3  ISIC_0024450  HAM_0005505  akiec   histo  50.0    male  upper extremity   \n",
       "4  ISIC_0024463  HAM_0004568  akiec   histo  50.0    male  upper extremity   \n",
       "\n",
       "   labels             lesion        filenames_dx  \n",
       "0       0  Actinic keratoses  akiec.ISIC_0024329  \n",
       "1       0  Actinic keratoses  akiec.ISIC_0024372  \n",
       "2       0  Actinic keratoses  akiec.ISIC_0024418  \n",
       "3       0  Actinic keratoses  akiec.ISIC_0024450  \n",
       "4       0  Actinic keratoses  akiec.ISIC_0024463  "
      ]
     },
     "execution_count": 19,
     "metadata": {},
     "output_type": "execute_result"
    }
   ],
   "source": [
    "organized_metadata.head()"
   ]
  },
  {
   "cell_type": "code",
   "execution_count": null,
   "metadata": {},
   "outputs": [],
   "source": []
  },
  {
   "cell_type": "code",
   "execution_count": 20,
   "metadata": {},
   "outputs": [
    {
     "name": "stdout",
     "output_type": "stream",
     "text": [
      "10015\n"
     ]
    }
   ],
   "source": [
    "# #%%time\n",
    "# # Labels\n",
    "# Verify whether it is useful or not\n",
    "\n",
    "labels = np.array(organized_metadata['dx'].tolist())\n",
    "filenames = np.array(organized_metadata['filenames'].tolist())\n",
    "print(len(labels))"
   ]
  },
  {
   "cell_type": "code",
   "execution_count": 21,
   "metadata": {},
   "outputs": [],
   "source": [
    "# Creating Train / Val / Test folders (One time use)\n",
    "lesionstype = ['nv','mel',\"vasc\",'akiec','bcc','bkl','df']"
   ]
  },
  {
   "cell_type": "code",
   "execution_count": 22,
   "metadata": {},
   "outputs": [],
   "source": [
    "os.chdir(dir_database)"
   ]
  },
  {
   "cell_type": "code",
   "execution_count": 23,
   "metadata": {},
   "outputs": [],
   "source": [
    "# %%time\n",
    "def list_files(path):\n",
    "    # returns a list of names (with extension, without full path) of all files \n",
    "    # in folder path\n",
    "    files = []\n",
    "    for name in os.listdir(path):\n",
    "        if os.path.isfile(os.path.join(path, name)):\n",
    "            files.append(name)\n",
    "    return files \n",
    "\n",
    "images = list_files('.')\n",
    "\n",
    "for img, extra in zip(images, labels) :\n",
    "    filename, extension = os.path.splitext(img)\n",
    "    if filename.startswith(\"ISIC_\"):\n",
    "        os.rename(img, ''.join([extra, '-', filename, extension]))\n",
    "#     print(img)"
   ]
  },
  {
   "cell_type": "code",
   "execution_count": 24,
   "metadata": {},
   "outputs": [],
   "source": [
    "# Listintg the file names again (After the modify them):\n",
    "\n",
    "def get_file_list_from_dir(dir_database):\n",
    "    all_files = os.listdir(os.path.abspath(dir_database))\n",
    "    data_files = list(filter(lambda file: file.endswith(\".jpg\"), all_files))\n",
    "    return data_files\n",
    "\n",
    "filenames = get_file_list_from_dir(dir_database)"
   ]
  },
  {
   "cell_type": "code",
   "execution_count": 25,
   "metadata": {},
   "outputs": [],
   "source": [
    "# Shuffle the data order:\n",
    "import random\n",
    "random.shuffle(filenames)"
   ]
  },
  {
   "cell_type": "raw",
   "metadata": {},
   "source": [
    "print(len(filenames))\n",
    "print(len(labels))"
   ]
  },
  {
   "cell_type": "code",
   "execution_count": 26,
   "metadata": {},
   "outputs": [],
   "source": [
    "data_train, data_validate, label_train, label_validate = train_test_split(np.array(filenames), labels, \n",
    "                                                                          test_size=0.4, \n",
    "                                                                          random_state=1, \n",
    "                                                                          stratify=labels)\n",
    "\n",
    "data_validate, data_test, label_validate, label_test = train_test_split(data_validate, label_validate, \n",
    "                                                                  test_size=0.5, \n",
    "                                                                  random_state=1, \n",
    "                                                                  stratify=label_validate)\n",
    "\n",
    "train_filenames = [name for name in data_train.tolist()]\n",
    "val_filenames = [name for name in data_validate.tolist()]\n",
    "test_filenames = [name for name in data_test.tolist()]"
   ]
  },
  {
   "cell_type": "code",
   "execution_count": 27,
   "metadata": {},
   "outputs": [
    {
     "name": "stdout",
     "output_type": "stream",
     "text": [
      "Total images:  10015\n",
      "Training:  6009\n",
      "Validation:  2003\n",
      "Testing:  2003\n"
     ]
    }
   ],
   "source": [
    "print('Total images: ', len(filenames))\n",
    "print('Training: ', len(train_filenames))\n",
    "print('Validation: ', len(val_filenames))\n",
    "print('Testing: ', len(test_filenames))"
   ]
  },
  {
   "cell_type": "code",
   "execution_count": 28,
   "metadata": {},
   "outputs": [
    {
     "name": "stdout",
     "output_type": "stream",
     "text": [
      "Total labels:  10015\n",
      "Training_labels:  6009\n",
      "Validation_labels:  2003\n",
      "Testing_labels:  2003\n"
     ]
    }
   ],
   "source": [
    "print('Total labels: ', len(labels))\n",
    "print('Training_labels: ', len(label_train))\n",
    "print('Validation_labels: ', len(label_validate))\n",
    "print('Testing_labels: ', len(label_test))"
   ]
  },
  {
   "cell_type": "code",
   "execution_count": 29,
   "metadata": {},
   "outputs": [
    {
     "name": "stdout",
     "output_type": "stream",
     "text": [
      "Frequency of unique values of the said array:\n",
      "[['akiec' 'bcc' 'bkl' 'df' 'mel' 'nv' 'vasc']\n",
      " ['196' '309' '659' '69' '668' '4023' '85']]\n"
     ]
    }
   ],
   "source": [
    "unique_elements, counts_elements = np.unique(label_train, return_counts=True)\n",
    "print(\"Frequency of unique values of the said array:\")\n",
    "print(np.asarray((unique_elements, counts_elements)))"
   ]
  },
  {
   "cell_type": "code",
   "execution_count": 30,
   "metadata": {},
   "outputs": [],
   "source": [
    "os.chdir(dir_database)"
   ]
  },
  {
   "cell_type": "code",
   "execution_count": 31,
   "metadata": {},
   "outputs": [
    {
     "name": "stdout",
     "output_type": "stream",
     "text": [
      "Analysing train nv Lesions\n",
      "train nv lesions images: 4013\n",
      "Analysing train mel Lesions\n",
      "train mel lesions images: 661\n",
      "Analysing train vasc Lesions\n",
      "train vasc lesions images: 95\n",
      "Analysing train akiec Lesions\n",
      "train akiec lesions images: 199\n",
      "Analysing train bcc Lesions\n",
      "train bcc lesions images: 315\n",
      "Analysing train bkl Lesions\n",
      "train bkl lesions images: 652\n",
      "Analysing train df Lesions\n",
      "train df lesions images: 74\n",
      "\n",
      "---- / / ----\n",
      "Analysing test nv Lesions\n",
      "test nv lesions images: 1339\n",
      "Analysing test mel Lesions\n",
      "test mel lesions images: 241\n",
      "Analysing test vasc Lesions\n",
      "test vasc lesions images: 25\n",
      "Analysing test akiec Lesions\n",
      "test akiec lesions images: 58\n",
      "Analysing test bcc Lesions\n",
      "test bcc lesions images: 99\n",
      "Analysing test bkl Lesions\n",
      "test bkl lesions images: 219\n",
      "Analysing test df Lesions\n",
      "test df lesions images: 22\n",
      "\n",
      "---- / / ----\n",
      "Analysing val nv Lesions\n",
      "val nv lesions images: 1353\n",
      "Analysing val mel Lesions\n",
      "val mel lesions images: 211\n",
      "Analysing val vasc Lesions\n",
      "val vasc lesions images: 22\n",
      "Analysing val akiec Lesions\n",
      "val akiec lesions images: 70\n",
      "Analysing val bcc Lesions\n",
      "val bcc lesions images: 100\n",
      "Analysing val bkl Lesions\n",
      "val bkl lesions images: 228\n",
      "Analysing val df Lesions\n",
      "val df lesions images: 19\n",
      "\n",
      "---- / / ----\n"
     ]
    }
   ],
   "source": [
    "# %%time\n",
    "# # Copy-pasting images: for train, validation and test\n",
    "\n",
    "envs = dict()\n",
    "envs['train'] = train_filenames\n",
    "envs['test'] = test_filenames\n",
    "envs['val'] = val_filenames\n",
    "\n",
    "for env in envs:\n",
    "    if not os.path.isdir(dir_database +'/'+ env): os.makedirs(dir_database +'/'+ env)\n",
    "    for i in lesionstype:   \n",
    "        print('Analysing '+ env + ' ' + i + ' Lesions')\n",
    "        if not os.path.isdir(dir_database + '/'+env+'/' + i): os.makedirs(dir_database + '/'+env+'/' + i)\n",
    "        if len(os.listdir(os.path.abspath(dir_database + '/'+env+'/' + i)))<=1:\n",
    "            for name in envs[env]:\n",
    "                if name.startswith(i):\n",
    "                    shutil.copy(name, dir_database+\"/\"+env+\"/\"+i+\"/\")\n",
    "        print(env+' '+i+' lesions images: '+ str(len(os.listdir(os.path.abspath(dir_database + '/'+env+'/' + i)))))\n",
    "    print()\n",
    "    print('---- / / ----')"
   ]
  },
  {
   "cell_type": "code",
   "execution_count": 32,
   "metadata": {},
   "outputs": [],
   "source": [
    "train_path = dir_database+\"/train\"\n",
    "val_path = dir_database+\"/val\"\n",
    "test_path = dir_database+\"/test\""
   ]
  },
  {
   "cell_type": "code",
   "execution_count": 33,
   "metadata": {},
   "outputs": [],
   "source": [
    "# Declare a few useful values\n",
    "num_train_samples = sum([len(files) for r, d, files in os.walk(train_path)]) #len(train_filenames) \n",
    "num_val_samples = sum([len(files) for r, d, files in os.walk(val_path)]) #len(val_filenames)\n",
    "num_test_samples = sum([len(files) for r, d, files in os.walk(test_path)]) #len(test_filenames)\n",
    "train_batch_size = 10\n",
    "val_batch_size = 10\n",
    "test_batch_size = 1\n",
    "\n",
    "image_width = 200\n",
    "image_height = 150"
   ]
  },
  {
   "cell_type": "code",
   "execution_count": 34,
   "metadata": {},
   "outputs": [],
   "source": [
    "datagen = ImageDataGenerator(rescale = 1./255)"
   ]
  },
  {
   "cell_type": "code",
   "execution_count": 35,
   "metadata": {},
   "outputs": [],
   "source": [
    "# Declare how many steps are needed in an iteration\n",
    "train_steps = np.ceil(num_train_samples / train_batch_size)\n",
    "val_steps = np.ceil(num_val_samples / val_batch_size)\n",
    "test_steps = np.ceil(num_test_samples / val_batch_size)"
   ]
  },
  {
   "cell_type": "markdown",
   "metadata": {},
   "source": [
    "### Set Up the generator batches\n",
    "\n",
    "#### Train Batches"
   ]
  },
  {
   "cell_type": "code",
   "execution_count": 36,
   "metadata": {},
   "outputs": [
    {
     "name": "stdout",
     "output_type": "stream",
     "text": [
      "Train Batches: \n",
      "Found 6009 images belonging to 7 classes.\n"
     ]
    }
   ],
   "source": [
    "# Set up generators\n",
    "print('Train Batches: ')\n",
    "train_batches = datagen.flow_from_directory(\n",
    "    train_path,\n",
    "    target_size=(image_height, image_width),\n",
    "    batch_size=train_batch_size,\n",
    "    class_mode = 'categorical',\n",
    "    classes = lesionstype)"
   ]
  },
  {
   "cell_type": "markdown",
   "metadata": {},
   "source": [
    "#### Validation Batches"
   ]
  },
  {
   "cell_type": "code",
   "execution_count": 37,
   "metadata": {},
   "outputs": [
    {
     "name": "stdout",
     "output_type": "stream",
     "text": [
      "Found 2003 images belonging to 7 classes.\n"
     ]
    }
   ],
   "source": [
    "val_batches = datagen.flow_from_directory(\n",
    "    val_path,\n",
    "    target_size=(image_height, image_width),\n",
    "    batch_size=val_batch_size,\n",
    "    class_mode = 'categorical',\n",
    "    classes = lesionstype)"
   ]
  },
  {
   "cell_type": "markdown",
   "metadata": {},
   "source": [
    "#### Test Batches"
   ]
  },
  {
   "cell_type": "code",
   "execution_count": 38,
   "metadata": {},
   "outputs": [
    {
     "name": "stdout",
     "output_type": "stream",
     "text": [
      "Found 2003 images belonging to 7 classes.\n"
     ]
    }
   ],
   "source": [
    "test_batches = datagen.flow_from_directory(\n",
    "    test_path,\n",
    "    target_size=(image_height, image_width),\n",
    "    batch_size=test_batch_size,\n",
    "    class_mode = 'categorical',\n",
    "    classes = lesionstype)"
   ]
  },
  {
   "cell_type": "code",
   "execution_count": 39,
   "metadata": {},
   "outputs": [
    {
     "name": "stdout",
     "output_type": "stream",
     "text": [
      "Train: data batch shape: (10, 150, 200, 3)\n",
      "Train: labels batch shape: (10, 7)\n",
      "--//--\n",
      "Validation: data batch shape: (10, 150, 200, 3)\n",
      "Validation: labels batch shape: (10, 7)\n",
      "--//--\n",
      "Test: data batch shape: (1, 150, 200, 3)\n",
      "Test: labels batch shape: (1, 7)\n",
      "--//--\n"
     ]
    }
   ],
   "source": [
    "for data_batch, labels_batch in train_batches:\n",
    "    print('Train: data batch shape:', data_batch.shape)\n",
    "    print('Train: labels batch shape:', labels_batch.shape)\n",
    "    print('--//--')\n",
    "    break\n",
    "    \n",
    "for data_batch, labels_batch in val_batches:\n",
    "    print('Validation: data batch shape:', data_batch.shape)\n",
    "    print('Validation: labels batch shape:', labels_batch.shape)\n",
    "    print('--//--')\n",
    "    break\n",
    "    \n",
    "for data_batch, labels_batch in test_batches:\n",
    "    print('Test: data batch shape:', data_batch.shape)\n",
    "    print('Test: labels batch shape:', labels_batch.shape)\n",
    "    print('--//--')\n",
    "    break"
   ]
  },
  {
   "cell_type": "markdown",
   "metadata": {},
   "source": [
    "## Precision / Recall / F-Measure"
   ]
  },
  {
   "cell_type": "code",
   "execution_count": 50,
   "metadata": {},
   "outputs": [],
   "source": [
    "def precision(y_true, y_pred):\n",
    "    \"\"\"Precision metric.\n",
    "    Only computes a batch-wise average of precision.\n",
    "    Computes the precision, a metric for multi-label classification of\n",
    "    how many selected items are relevant.\n",
    "    \"\"\"\n",
    "    true_positives = K.sum(K.round(K.clip(y_true * y_pred, 0, 1)))\n",
    "    predicted_positives = K.sum(K.round(K.clip(y_pred, 0, 1)))\n",
    "    precision = true_positives / (predicted_positives + K.epsilon())\n",
    "    return precision\n",
    "\n",
    "def recall(y_true, y_pred):\n",
    "    \"\"\"Recall metric.\n",
    "    Only computes a batch-wise average of recall.\n",
    "    Computes the recall, a metric for multi-label classification of\n",
    "    how many relevant items are selected.\n",
    "    \"\"\"\n",
    "    true_positives = K.sum(K.round(K.clip(y_true * y_pred, 0, 1)))\n",
    "    possible_positives = K.sum(K.round(K.clip(y_true, 0, 1)))\n",
    "    recall = true_positives / (possible_positives + K.epsilon())\n",
    "    return recall\n",
    "\n",
    "def fbeta_score(y_true, y_pred, beta=1):\n",
    "    \"\"\"Computes the F score.\n",
    "    The F score is the weighted harmonic mean of precision and recall.\n",
    "    Here it is only computed as a batch-wise average, not globally.\n",
    "    This is useful for multi-label classification, where input samples can be\n",
    "    classified as sets of labels. By only using accuracy (precision) a model\n",
    "    would achieve a perfect score by simply assigning every class to every\n",
    "    input. In order to avoid this, a metric should penalize incorrect class\n",
    "    assignments as well (recall). The F-beta score (ranged from 0.0 to 1.0)\n",
    "    computes this, as a weighted mean of the proportion of correct class\n",
    "    assignments vs. the proportion of incorrect class assignments.\n",
    "\n",
    "    With beta = 1, this is equivalent to a F-measure. With beta < 1, assigning\n",
    "    correct classes becomes more important, and with beta > 1 the metric is\n",
    "    instead weighted towards penalizing incorrect class assignments.\n",
    "    \"\"\"\n",
    "\n",
    "    if beta < 0:\n",
    "        raise ValueError('The lowest choosable beta is zero (only precision).')\n",
    "\n",
    "    # If there are no true positives, fix the F score at 0 like sklearn.\n",
    "    if K.sum(K.round(K.clip(y_true, 0, 1))) == 0:\n",
    "        return 0\n",
    "\n",
    "    p = precision(y_true, y_pred)\n",
    "    r = recall(y_true, y_pred)\n",
    "    bb = beta ** 2\n",
    "    fbeta_score = (1 + bb) * (p * r) / (bb * p + r + K.epsilon())\n",
    "    return fbeta_score\n",
    "\n",
    "def fmeasure(y_true, y_pred):\n",
    "    \"\"\"Computes the f-measure, the harmonic mean of precision and recall.\n",
    "    Here it is only computed as a batch-wise average, not globally.\n",
    "    \"\"\"\n",
    "    return fbeta_score(y_true, y_pred, beta=1)"
   ]
  },
  {
   "cell_type": "markdown",
   "metadata": {},
   "source": [
    "## Checkpoint / Learning Rate / Callback "
   ]
  },
  {
   "cell_type": "code",
   "execution_count": 42,
   "metadata": {},
   "outputs": [],
   "source": [
    "from sklearn.utils.class_weight import compute_sample_weight\n",
    "\n",
    "sample_weights = compute_sample_weight(class_weight='balanced', y=label_train)\n",
    "\n",
    "# Declare the filepath for the saved model\n",
    "os.chdir(dir_project)\n",
    "filepath = \"model.h5\"\n",
    "\n",
    "# Declare a checkpoint to save the best version of the model\n",
    "# checkpoint = ModelCheckpoint(filepath, monitor='categorical_accuracy', verbose=1,\n",
    "#                              save_best_only=True, mode='max')\n",
    "\n",
    "# Reduce the learning rate as the learning stagnates\n",
    "reduce_lr = ReduceLROnPlateau(monitor='categorical_accuracy', factor=0.5, patience=2,\n",
    "                              verbose=1, mode='max', min_lr=1E-8)\n",
    "\n",
    "callbacks_list = [checkpoint, reduce_lr]\n",
    "# callbacks_list = [reduce_lr]"
   ]
  },
  {
   "cell_type": "markdown",
   "metadata": {},
   "source": [
    "## Resnet"
   ]
  },
  {
   "cell_type": "code",
   "execution_count": 43,
   "metadata": {},
   "outputs": [],
   "source": [
    "resnet_weights_path = dir_database+'/resnet50/resnet50_weights_tf_dim_ordering_tf_kernels_notop.h5'"
   ]
  },
  {
   "cell_type": "code",
   "execution_count": 44,
   "metadata": {},
   "outputs": [
    {
     "name": "stdout",
     "output_type": "stream",
     "text": [
      "WARNING:tensorflow:From D:\\Anaconda3\\lib\\site-packages\\tensorflow\\python\\ops\\resource_variable_ops.py:435: colocate_with (from tensorflow.python.framework.ops) is deprecated and will be removed in a future version.\n",
      "Instructions for updating:\n",
      "Colocations handled automatically by placer.\n"
     ]
    }
   ],
   "source": [
    "model = Sequential()\n",
    "\n",
    "model.add(ResNet50(include_top=False, pooling='avg', weights=resnet_weights_path))\n",
    "model.add(Flatten())\n",
    "model.add(BatchNormalization())\n",
    "model.add(Dense(2048, activation='relu'))\n",
    "model.add(BatchNormalization())\n",
    "model.add(Dense(1024, activation='relu'))\n",
    "model.add(BatchNormalization())\n",
    "model.add(Dense(7, activation='softmax'))\n",
    "\n",
    "model.layers[0].trainable = False"
   ]
  },
  {
   "cell_type": "code",
   "execution_count": 56,
   "metadata": {},
   "outputs": [],
   "source": [
    "model.compile(optimizer='adam', loss='categorical_crossentropy', metrics=[precision,recall,fmeasure,'categorical_accuracy'])"
   ]
  },
  {
   "cell_type": "code",
   "execution_count": 57,
   "metadata": {},
   "outputs": [
    {
     "name": "stdout",
     "output_type": "stream",
     "text": [
      "_________________________________________________________________\n",
      "Layer (type)                 Output Shape              Param #   \n",
      "=================================================================\n",
      "resnet50 (Model)             (None, 2048)              23587712  \n",
      "_________________________________________________________________\n",
      "flatten (Flatten)            (None, 2048)              0         \n",
      "_________________________________________________________________\n",
      "batch_normalization_v1 (Batc (None, 2048)              8192      \n",
      "_________________________________________________________________\n",
      "dense (Dense)                (None, 2048)              4196352   \n",
      "_________________________________________________________________\n",
      "batch_normalization_v1_1 (Ba (None, 2048)              8192      \n",
      "_________________________________________________________________\n",
      "dense_1 (Dense)              (None, 1024)              2098176   \n",
      "_________________________________________________________________\n",
      "batch_normalization_v1_2 (Ba (None, 1024)              4096      \n",
      "_________________________________________________________________\n",
      "dense_2 (Dense)              (None, 7)                 7175      \n",
      "=================================================================\n",
      "Total params: 29,909,895\n",
      "Trainable params: 6,311,943\n",
      "Non-trainable params: 23,597,952\n",
      "_________________________________________________________________\n"
     ]
    }
   ],
   "source": [
    "model.summary()"
   ]
  },
  {
   "cell_type": "code",
   "execution_count": 58,
   "metadata": {},
   "outputs": [],
   "source": [
    "# count = sum([len(files) for r, d, files in os.walk(\"../input/flowers-recognition/flowers/flowers/\")])"
   ]
  },
  {
   "cell_type": "code",
   "execution_count": 59,
   "metadata": {},
   "outputs": [],
   "source": [
    "# torch.save(model.module.state_dict(), PATH)"
   ]
  },
  {
   "cell_type": "code",
   "execution_count": 60,
   "metadata": {},
   "outputs": [
    {
     "name": "stdout",
     "output_type": "stream",
     "text": [
      "Epoch 1/10\n",
      "601/601 [==============================] - 87s 145ms/step - loss: 0.4766 - precision: 0.8533 - recall: 0.8015 - fmeasure: 0.8252 - categorical_accuracy: 0.8254\n",
      "Epoch 2/10\n",
      "601/601 [==============================] - 86s 143ms/step - loss: 0.4378 - precision: 0.8689 - recall: 0.8203 - fmeasure: 0.8427 - categorical_accuracy: 0.8426\n",
      "Epoch 3/10\n",
      "601/601 [==============================] - 84s 140ms/step - loss: 0.3861 - precision: 0.8817 - recall: 0.8381 - fmeasure: 0.8583 - categorical_accuracy: 0.8595\n",
      "Epoch 4/10\n",
      "601/601 [==============================] - 86s 144ms/step - loss: 0.3938 - precision: 0.8793 - recall: 0.8425 - fmeasure: 0.8597 - categorical_accuracy: 0.8600\n",
      "Epoch 5/10\n",
      "601/601 [==============================] - 85s 141ms/step - loss: 0.3620 - precision: 0.8862 - recall: 0.8519 - fmeasure: 0.8678 - categorical_accuracy: 0.8689\n",
      "Epoch 6/10\n",
      "601/601 [==============================] - 83s 138ms/step - loss: 0.3642 - precision: 0.8814 - recall: 0.8496 - fmeasure: 0.8644 - categorical_accuracy: 0.8650\n",
      "Epoch 7/10\n",
      "601/601 [==============================] - 84s 139ms/step - loss: 0.3385 - precision: 0.8934 - recall: 0.8602 - fmeasure: 0.8756 - categorical_accuracy: 0.8780\n",
      "Epoch 8/10\n",
      "601/601 [==============================] - 91s 151ms/step - loss: 0.3027 - precision: 0.9088 - recall: 0.8818 - fmeasure: 0.8943 - categorical_accuracy: 0.8933\n",
      "Epoch 9/10\n",
      "601/601 [==============================] - 90s 150ms/step - loss: 0.3109 - precision: 0.9037 - recall: 0.8765 - fmeasure: 0.8892 - categorical_accuracy: 0.8892\n",
      "Epoch 10/10\n",
      "601/601 [==============================] - 87s 145ms/step - loss: 0.2883 - precision: 0.9085 - recall: 0.8862 - fmeasure: 0.8966 - categorical_accuracy: 0.8978\n"
     ]
    }
   ],
   "source": [
    "history = model.fit_generator(\n",
    "        train_batches,\n",
    "        steps_per_epoch=train_steps + 1,\n",
    "        epochs=10\n",
    "        )"
   ]
  },
  {
   "cell_type": "code",
   "execution_count": 61,
   "metadata": {},
   "outputs": [
    {
     "ename": "KeyError",
     "evalue": "'val_loss'",
     "output_type": "error",
     "traceback": [
      "\u001b[1;31m---------------------------------------------------------------------------\u001b[0m",
      "\u001b[1;31mKeyError\u001b[0m                                  Traceback (most recent call last)",
      "\u001b[1;32m<ipython-input-61-b73d6b9156ad>\u001b[0m in \u001b[0;36m<module>\u001b[1;34m\u001b[0m\n\u001b[0;32m      4\u001b[0m \u001b[1;32mimport\u001b[0m \u001b[0mmatplotlib\u001b[0m\u001b[1;33m.\u001b[0m\u001b[0mpyplot\u001b[0m \u001b[1;32mas\u001b[0m \u001b[0mplt\u001b[0m\u001b[1;33m\u001b[0m\u001b[1;33m\u001b[0m\u001b[0m\n\u001b[0;32m      5\u001b[0m \u001b[0mloss\u001b[0m \u001b[1;33m=\u001b[0m \u001b[0mhistory\u001b[0m\u001b[1;33m.\u001b[0m\u001b[0mhistory\u001b[0m\u001b[1;33m[\u001b[0m\u001b[1;34m'loss'\u001b[0m\u001b[1;33m]\u001b[0m\u001b[1;33m\u001b[0m\u001b[1;33m\u001b[0m\u001b[0m\n\u001b[1;32m----> 6\u001b[1;33m \u001b[0mval_loss\u001b[0m \u001b[1;33m=\u001b[0m \u001b[0mhistory\u001b[0m\u001b[1;33m.\u001b[0m\u001b[0mhistory\u001b[0m\u001b[1;33m[\u001b[0m\u001b[1;34m'val_loss'\u001b[0m\u001b[1;33m]\u001b[0m\u001b[1;33m\u001b[0m\u001b[1;33m\u001b[0m\u001b[0m\n\u001b[0m\u001b[0;32m      7\u001b[0m \u001b[0mepochs\u001b[0m \u001b[1;33m=\u001b[0m \u001b[0mrange\u001b[0m\u001b[1;33m(\u001b[0m\u001b[1;36m1\u001b[0m\u001b[1;33m,\u001b[0m \u001b[0mlen\u001b[0m\u001b[1;33m(\u001b[0m\u001b[0mloss\u001b[0m\u001b[1;33m)\u001b[0m \u001b[1;33m+\u001b[0m \u001b[1;36m1\u001b[0m\u001b[1;33m)\u001b[0m\u001b[1;33m\u001b[0m\u001b[1;33m\u001b[0m\u001b[0m\n\u001b[0;32m      8\u001b[0m \u001b[0mplt\u001b[0m\u001b[1;33m.\u001b[0m\u001b[0mplot\u001b[0m\u001b[1;33m(\u001b[0m\u001b[0mepochs\u001b[0m\u001b[1;33m,\u001b[0m \u001b[0mloss\u001b[0m\u001b[1;33m,\u001b[0m \u001b[1;34m'bo'\u001b[0m\u001b[1;33m,\u001b[0m \u001b[0mlabel\u001b[0m\u001b[1;33m=\u001b[0m\u001b[1;34m'Training loss'\u001b[0m\u001b[1;33m)\u001b[0m\u001b[1;33m\u001b[0m\u001b[1;33m\u001b[0m\u001b[0m\n",
      "\u001b[1;31mKeyError\u001b[0m: 'val_loss'"
     ]
    }
   ],
   "source": [
    "# Plotting the evolution of the loss, comparing training and validation\n",
    "# To check if the number of epochs are not set properly\n",
    "\n",
    "import matplotlib.pyplot as plt\n",
    "loss = history.history['loss']\n",
    "val_loss = history.history['val_loss']\n",
    "epochs = range(1, len(loss) + 1)\n",
    "plt.plot(epochs, loss, 'bo', label='Training loss')\n",
    "plt.plot(epochs, val_loss, 'b', label='Validation loss')\n",
    "plt.title('Training and validation loss')\n",
    "plt.xlabel('Epochs')\n",
    "plt.ylabel('Loss')\n",
    "plt.legend()\n",
    "plt.show()"
   ]
  },
  {
   "cell_type": "code",
   "execution_count": 62,
   "metadata": {},
   "outputs": [
    {
     "ename": "KeyError",
     "evalue": "'val_categorical_accuracy'",
     "output_type": "error",
     "traceback": [
      "\u001b[1;31m---------------------------------------------------------------------------\u001b[0m",
      "\u001b[1;31mKeyError\u001b[0m                                  Traceback (most recent call last)",
      "\u001b[1;32m<ipython-input-62-3a3cb7d540a2>\u001b[0m in \u001b[0;36m<module>\u001b[1;34m\u001b[0m\n\u001b[0;32m      4\u001b[0m \u001b[0mplt\u001b[0m\u001b[1;33m.\u001b[0m\u001b[0mclf\u001b[0m\u001b[1;33m(\u001b[0m\u001b[1;33m)\u001b[0m      \u001b[1;31m# clears the figure\u001b[0m\u001b[1;33m\u001b[0m\u001b[1;33m\u001b[0m\u001b[0m\n\u001b[0;32m      5\u001b[0m \u001b[0macc\u001b[0m \u001b[1;33m=\u001b[0m \u001b[0mhistory\u001b[0m\u001b[1;33m.\u001b[0m\u001b[0mhistory\u001b[0m\u001b[1;33m[\u001b[0m\u001b[1;34m'categorical_accuracy'\u001b[0m\u001b[1;33m]\u001b[0m\u001b[1;33m\u001b[0m\u001b[1;33m\u001b[0m\u001b[0m\n\u001b[1;32m----> 6\u001b[1;33m \u001b[0mval_acc\u001b[0m \u001b[1;33m=\u001b[0m \u001b[0mhistory\u001b[0m\u001b[1;33m.\u001b[0m\u001b[0mhistory\u001b[0m\u001b[1;33m[\u001b[0m\u001b[1;34m'val_categorical_accuracy'\u001b[0m\u001b[1;33m]\u001b[0m\u001b[1;33m\u001b[0m\u001b[1;33m\u001b[0m\u001b[0m\n\u001b[0m\u001b[0;32m      7\u001b[0m \u001b[0mplt\u001b[0m\u001b[1;33m.\u001b[0m\u001b[0mplot\u001b[0m\u001b[1;33m(\u001b[0m\u001b[0mepochs\u001b[0m\u001b[1;33m,\u001b[0m \u001b[0macc\u001b[0m\u001b[1;33m,\u001b[0m \u001b[1;34m'bo'\u001b[0m\u001b[1;33m,\u001b[0m \u001b[0mlabel\u001b[0m\u001b[1;33m=\u001b[0m\u001b[1;34m'Training acc'\u001b[0m\u001b[1;33m)\u001b[0m\u001b[1;33m\u001b[0m\u001b[1;33m\u001b[0m\u001b[0m\n\u001b[0;32m      8\u001b[0m \u001b[0mplt\u001b[0m\u001b[1;33m.\u001b[0m\u001b[0mplot\u001b[0m\u001b[1;33m(\u001b[0m\u001b[0mepochs\u001b[0m\u001b[1;33m,\u001b[0m \u001b[0mval_acc\u001b[0m\u001b[1;33m,\u001b[0m \u001b[1;34m'b'\u001b[0m\u001b[1;33m,\u001b[0m \u001b[0mlabel\u001b[0m\u001b[1;33m=\u001b[0m\u001b[1;34m'Validation acc'\u001b[0m\u001b[1;33m)\u001b[0m\u001b[1;33m\u001b[0m\u001b[1;33m\u001b[0m\u001b[0m\n",
      "\u001b[1;31mKeyError\u001b[0m: 'val_categorical_accuracy'"
     ]
    },
    {
     "data": {
      "text/plain": [
       "<Figure size 432x288 with 0 Axes>"
      ]
     },
     "metadata": {},
     "output_type": "display_data"
    }
   ],
   "source": [
    "# Plotting the evolution of the metrics, comparing training and validation\n",
    "# To check if the number of epochs are not set properly\n",
    "\n",
    "plt.clf()      # clears the figure\n",
    "acc = history.history['categorical_accuracy']\n",
    "val_acc = history.history['val_categorical_accuracy']\n",
    "plt.plot(epochs, acc, 'bo', label='Training acc')\n",
    "plt.plot(epochs, val_acc, 'b', label='Validation acc')\n",
    "plt.title('Training and validation accuracy')\n",
    "plt.xlabel('Epochs')\n",
    "plt.ylabel('Loss')\n",
    "plt.legend()\n",
    "plt.show()"
   ]
  },
  {
   "cell_type": "code",
   "execution_count": 63,
   "metadata": {},
   "outputs": [],
   "source": [
    "## Evaluation of the model with metrics and confusion matrix ##\n",
    "\n",
    "# Declare a function for plotting the confusion matrix\n",
    "def plot_confusion_matrix(cm, classes, normalize=False, title='Confusion matrix', cmap=plt.cm.Blues):\n",
    "    \"\"\"\n",
    "    This function prints and plots the confusion matrix.\n",
    "    Normalization can be applied by setting `normalize=True`.\n",
    "    \"\"\"\n",
    "    if normalize:\n",
    "        cm = cm.astype('float') / cm.sum(axis=1)[:, np.newaxis]\n",
    "        print(\"Normalized confusion matrix\")\n",
    "    else:\n",
    "        print('Confusion matrix, without normalization')\n",
    "\n",
    "    print(cm)\n",
    "\n",
    "    plt.imshow(cm, interpolation='nearest', cmap=cmap)\n",
    "    plt.title(title)\n",
    "    plt.colorbar()\n",
    "    tick_marks = np.arange(len(classes))\n",
    "    plt.xticks(tick_marks, classes, rotation=45)\n",
    "    plt.yticks(tick_marks, classes)\n",
    "\n",
    "    fmt = '.2f' if normalize else 'd'\n",
    "    thresh = cm.max() / 2.\n",
    "    for i, j in itertools.product(range(cm.shape[0]), range(cm.shape[1])):\n",
    "        plt.text(j, i, format(cm[i, j], fmt),\n",
    "                 horizontalalignment=\"center\",\n",
    "                 color=\"white\" if cm[i, j] > thresh else \"black\")\n",
    "\n",
    "    plt.ylabel('True label')\n",
    "    plt.xlabel('Predicted label')\n",
    "    plt.tight_layout()"
   ]
  },
  {
   "cell_type": "code",
   "execution_count": 65,
   "metadata": {},
   "outputs": [
    {
     "name": "stdout",
     "output_type": "stream",
     "text": [
      "601/601 [==============================] - 78s 130ms/step\n",
      "Confusion matrix, without normalization\n",
      "[[2499  571  106  128  229  427   53]\n",
      " [ 446   69   17   28   35   61    5]\n",
      " [  61   14    1    5    4    8    2]\n",
      " [ 137   18    1    2    8   30    3]\n",
      " [ 203   40   13   10   12   28    9]\n",
      " [ 421   88   16   25   33   65    4]\n",
      " [  44   10    3    3    6    5    3]]\n"
     ]
    },
    {
     "data": {
      "image/png": "[encoded data removed]",
      "text/plain": [
       "<Figure size 432x288 with 2 Axes>"
      ]
     },
     "metadata": {
      "needs_background": "light"
     },
     "output_type": "display_data"
    }
   ],
   "source": [
    "### Training evaluation : Confusion matrix and metrics  ###\n",
    "\n",
    "# Create a confusion matrix of the training images\n",
    "train_labels = train_batches.classes\n",
    "\n",
    "# Make predictions\n",
    "predictions = model.predict_generator(train_batches, steps=train_steps ,verbose=1)#, steps=train_steps\n",
    "cm = confusion_matrix(train_labels, predictions.argmax(axis=1))\n",
    "cm\n",
    "plot_confusion_matrix(cm, lesionstype)"
   ]
  },
  {
   "cell_type": "code",
   "execution_count": 66,
   "metadata": {},
   "outputs": [
    {
     "name": "stdout",
     "output_type": "stream",
     "text": [
      "201/201 [==============================] - 27s 133ms/step\n",
      "Confusion matrix, without normalization\n",
      "[[866 222  37  35  61 120  12]\n",
      " [136  26  12   6  13  17   1]\n",
      " [ 15   2   0   1   1   2   1]\n",
      " [ 47  10   3   0   3   7   0]\n",
      " [ 68  17   1   2   5   7   0]\n",
      " [155  31   3   8  10  18   3]\n",
      " [ 15   2   0   1   1   0   0]]\n"
     ]
    },
    {
     "data": {
      "image/png": "[encoded data removed]",
      "text/plain": [
       "<Figure size 432x288 with 2 Axes>"
      ]
     },
     "metadata": {
      "needs_background": "light"
     },
     "output_type": "display_data"
    }
   ],
   "source": [
    "### Validation evaluation : Confusion matrix and metrics ###\n",
    "\n",
    "# Create a confusion matrix of the training images\n",
    "val_labels = val_batches.classes\n",
    "\n",
    "# Make predictions\n",
    "predictions = model.predict_generator(val_batches, steps=val_steps, verbose=1)\n",
    "cm = confusion_matrix(val_labels, predictions.argmax(axis=1))\n",
    "cm_plot_labels = lesionstype\n",
    "plot_confusion_matrix(cm, cm_plot_labels)"
   ]
  },
  {
   "cell_type": "code",
   "execution_count": 67,
   "metadata": {},
   "outputs": [
    {
     "name": "stdout",
     "output_type": "stream",
     "text": [
      "2003/2003 [==============================] - 60s 30ms/step\n",
      "Confusion matrix, without normalization\n",
      "[[858 204  39  47  73 109   9]\n",
      " [159  39   4   7  11  18   3]\n",
      " [ 16   4   0   0   1   4   0]\n",
      " [ 38   9   1   0   4   6   0]\n",
      " [ 59  21   2   1   9   5   2]\n",
      " [138  43   4   8  14  12   0]\n",
      " [ 13   3   0   1   3   1   1]]\n"
     ]
    },
    {
     "data": {
      "image/png": "[encoded data removed]",
      "text/plain": [
       "<Figure size 432x288 with 2 Axes>"
      ]
     },
     "metadata": {
      "needs_background": "light"
     },
     "output_type": "display_data"
    }
   ],
   "source": [
    "### Test evaluation : Confusion matrix and metrics ###\n",
    "\n",
    "# Create a confusion matrix of the test images\n",
    "test_labels = test_batches.classes\n",
    "\n",
    "# Make predictions\n",
    "predictions = model.predict_generator(test_batches, steps=num_test_samples, verbose=1)\n",
    "cm = confusion_matrix(test_labels, predictions.argmax(axis=1))\n",
    "cm_plot_labels = lesionstype\n",
    "plot_confusion_matrix(cm, cm_plot_labels)"
   ]
  },
  {
   "cell_type": "code",
   "execution_count": null,
   "metadata": {},
   "outputs": [],
   "source": []
  }
 ],
 "metadata": {
  "kernelspec": {
   "display_name": "Python 3",
   "language": "python",
   "name": "python3"
  },
  "language_info": {
   "codemirror_mode": {
    "name": "ipython",
    "version": 3
   },
   "file_extension": ".py",
   "mimetype": "text/x-python",
   "name": "python",
   "nbconvert_exporter": "python",
   "pygments_lexer": "ipython3",
   "version": "3.6.5"
  }
 },
 "nbformat": 4,
 "nbformat_minor": 2
}
