{
 "cells": [
  {
   "cell_type": "markdown",
   "metadata": {},
   "source": [
    "### Importing the Libraries"
   ]
  },
  {
   "cell_type": "code",
   "execution_count": 1,
   "metadata": {},
   "outputs": [
    {
     "name": "stderr",
     "output_type": "stream",
     "text": [
      "C:\\Users\\bella\\Anaconda3\\lib\\site-packages\\h5py\\__init__.py:36: FutureWarning: Conversion of the second argument of issubdtype from `float` to `np.floating` is deprecated. In future, it will be treated as `np.float64 == np.dtype(float).type`.\n",
      "  from ._conv import register_converters as _register_converters\n",
      "Using TensorFlow backend.\n"
     ]
    }
   ],
   "source": [
    "# %%time\n",
    "# Import the libraries\n",
    "import pandas as pd\n",
    "import numpy as np\n",
    "import keras\n",
    "from keras import backend as K\n",
    "from keras.layers.core import Dense, Dropout\n",
    "from keras.optimizers import Adam\n",
    "from keras.preprocessing.image import ImageDataGenerator\n",
    "from keras.models import Model\n",
    "from keras.callbacks import ReduceLROnPlateau, ModelCheckpoint\n",
    "from sklearn.metrics import confusion_matrix\n",
    "import itertools\n",
    "import matplotlib.pyplot as plt\n",
    "import shutil\n",
    "\n",
    "from sklearn.model_selection import train_test_split\n",
    "from keras.models import Sequential\n",
    "from keras.layers import Dense\n",
    "from keras import layers\n",
    "from keras import models\n",
    "from os import rename, listdir\n",
    "import os, zipfile\n",
    "import random\n",
    "from random import random\n",
    "from random import randrange\n",
    "from random import choice\n",
    "from random import uniform\n",
    "from matplotlib import pyplot\n",
    "import skimage.io as io\n",
    "\n",
    "from keras.metrics import categorical_accuracy\n",
    "from keras.optimizers import Adam\n",
    "\n",
    "import tensorflow as tf "
   ]
  },
  {
   "cell_type": "code",
   "execution_count": 2,
   "metadata": {},
   "outputs": [],
   "source": [
    "# import tensorflow as tf \n",
    "\n",
    "config = tf.ConfigProto()\n",
    "config.gpu_options.allow_growth = True\n",
    "sess = tf.Session(config=config)"
   ]
  },
  {
   "cell_type": "markdown",
   "metadata": {},
   "source": [
    "#### Verify that the GPU is available to work with Tensorflow"
   ]
  },
  {
   "cell_type": "code",
   "execution_count": 3,
   "metadata": {},
   "outputs": [
    {
     "name": "stdout",
     "output_type": "stream",
     "text": [
      "TensorFlow was built with CUDA (GPU): False\n",
      "TensorFlow can access a GPU: False\n",
      "GPU Available: []\n"
     ]
    }
   ],
   "source": [
    "# %%time\n",
    "print('TensorFlow was built with CUDA (GPU): ' + str(tf.test.is_built_with_cuda()))\n",
    "print('TensorFlow can access a GPU: ' + str(tf.test.is_gpu_available(cuda_only=False, min_cuda_compute_capability=None)))\n",
    "print('GPU Available: '+ str(K.tensorflow_backend._get_available_gpus()))"
   ]
  },
  {
   "cell_type": "markdown",
   "metadata": {},
   "source": [
    "#### Seting the data directories"
   ]
  },
  {
   "cell_type": "code",
   "execution_count": 42,
   "metadata": {},
   "outputs": [],
   "source": [
    "#Seting the directory for the images \n",
    "dir_zip = r'D:\\Python\\Jupyter\\DeepLearning\\ProjectResnet\\zipFiles'\n",
    "dir_database = r'D:\\Python\\Jupyter\\DeepLearning\\ProjectResnet\\DataBase'\n",
    "dir_MetaData = r'D:\\Python\\Jupyter\\DeepLearning\\ProjectResnet\\metaData_dataBase'\n",
    "dir_project = r'D:\\Python\\Jupyter\\DeepLearning\\ProjectResnet'"
   ]
  },
  {
   "cell_type": "markdown",
   "metadata": {},
   "source": [
    "#### Unziping all the images"
   ]
  },
  {
   "cell_type": "code",
   "execution_count": 5,
   "metadata": {},
   "outputs": [
    {
     "name": "stdout",
     "output_type": "stream",
     "text": [
      "Processing C:\\Users\\bella\\OneDrive\\Desktop\\Nova_2year\\Deep_Learning\\project\\zipFiles\\HAM10000_images_part_1.zip\n",
      "Processing C:\\Users\\bella\\OneDrive\\Desktop\\Nova_2year\\Deep_Learning\\project\\zipFiles\\HAM10000_images_part_2.zip\n"
     ]
    }
   ],
   "source": [
    "# %%time\n",
    "extension = \".zip\"\n",
    "\n",
    "os.chdir(dir_zip) # change directory from working dir to dir with files\n",
    "\n",
    "if len(os.listdir(os.path.abspath(dir_database)))==0 or len(os.listdir(os.path.abspath(dir_database)))==1:\n",
    "    # Loop to extract all Images from a the zip file on directory\n",
    "    for item in os.listdir(dir_zip): # loop through items in dir\n",
    "        if item.endswith(extension): # check for \".zip\" extension\n",
    "            file_name = os.path.abspath(item) # get full path of files\n",
    "            print(\"Processing %s\" % file_name)\n",
    "            zip_ref = zipfile.ZipFile(file_name) # create zipfile object\n",
    "            os.chdir(dir_zip) # change directory from working dir to dir with files\n",
    "            zip_ref.extractall(dir_database) # extract file to dir\n",
    "            zip_ref.close() # close file\n",
    "            #os.remove(file_name) # delete zipped file\n",
    "else:\n",
    "    print(len(os.listdir(os.path.abspath(dir_database))))"
   ]
  },
  {
   "cell_type": "markdown",
   "metadata": {},
   "source": [
    "Function to undersample dataset to test faster the modifications"
   ]
  },
  {
   "cell_type": "code",
   "execution_count": null,
   "metadata": {},
   "outputs": [],
   "source": [
    "# %%time\n",
    "\n",
    "# from random import sample\n",
    "\n",
    "# os.chdir(dir_database)\n",
    "# if len(os.listdir(os.path.abspath(dir_database)))>500:\n",
    "#     files = os.listdir(dir_database)\n",
    "#     # print(files[0])\n",
    "#     # print(len(files))\n",
    "#     for file in sample(files,8015):\n",
    "#         os.remove(file)"
   ]
  },
  {
   "cell_type": "markdown",
   "metadata": {},
   "source": [
    "### Reading Metadata File"
   ]
  },
  {
   "cell_type": "code",
   "execution_count": 6,
   "metadata": {},
   "outputs": [],
   "source": [
    "# %%time\n",
    "#import metadata as panda dataframe\n",
    "#first row is the name of the columns\n",
    "#second column is the id of the images, lesions have more than one image\n",
    "\n",
    "metadata = pd.read_csv(dir_MetaData+'/HAM10000_metadata.csv', header=0, index_col=1)"
   ]
  },
  {
   "cell_type": "code",
   "execution_count": 7,
   "metadata": {},
   "outputs": [],
   "source": [
    "# Create a list of file names\n",
    "#-------------------------------------------------#\n",
    "filenames = [os.path.splitext(filename)[0] for filename in os.listdir(dir_database) if filename.endswith(\".jpg\")]\n",
    "prov_filenames = []\n",
    "for name in filenames:\n",
    "    prov_filenames.append(name[-12:])\n",
    "filenames = prov_filenames\n",
    "filenames = pd.DataFrame(np.array(filenames).reshape(10015,1),columns=['filenames'])\n",
    "# filenames = pd.DataFrame(np.array(filenames).reshape(2000,1),columns=['filenames'])"
   ]
  },
  {
   "cell_type": "code",
   "execution_count": 8,
   "metadata": {},
   "outputs": [],
   "source": [
    "# # Organize dataset according to photos actual order\n",
    "# ----------------------------------------------------\n",
    "# # Merging the file names and the metadata, thus organizing the data.\n",
    "\n",
    "organized_metadata = pd.merge(left=filenames, right=metadata, left_on='filenames',right_on='image_id')\n",
    "# # print(organized_metadata)"
   ]
  },
  {
   "cell_type": "code",
   "execution_count": 9,
   "metadata": {},
   "outputs": [],
   "source": [
    "# It removes all metadata but dx (lesion type)\n",
    "organized_metadata['filenames_dx'] = organized_metadata['dx'] + '.' + organized_metadata['filenames']"
   ]
  },
  {
   "cell_type": "code",
   "execution_count": 10,
   "metadata": {},
   "outputs": [],
   "source": [
    "# Save Metadata on Database Directoy\n",
    "os.chdir(dir_database)\n",
    "organized_metadata.to_csv('organized_metadata.csv', sep=',', index = False)"
   ]
  },
  {
   "cell_type": "code",
   "execution_count": 11,
   "metadata": {},
   "outputs": [
    {
     "name": "stdout",
     "output_type": "stream",
     "text": [
      "10015\n"
     ]
    }
   ],
   "source": [
    "# %%time\n",
    "# # Labels\n",
    "# Verify whether it is useful or not\n",
    "labels = np.array(organized_metadata['dx'].tolist())\n",
    "filenames_dx = np.array(organized_metadata['filenames_dx'].tolist())\n",
    "print(len(labels))"
   ]
  },
  {
   "cell_type": "code",
   "execution_count": 12,
   "metadata": {},
   "outputs": [],
   "source": [
    "# Creating Train / Val / Test folders (One time use)\n",
    "lesionstype = ['nv','mel',\"vasc\",'akiec','bcc','bkl','df']"
   ]
  },
  {
   "cell_type": "code",
   "execution_count": 13,
   "metadata": {},
   "outputs": [],
   "source": [
    "os.chdir(dir_database)"
   ]
  },
  {
   "cell_type": "code",
   "execution_count": 14,
   "metadata": {},
   "outputs": [],
   "source": [
    "# %%time\n",
    "def list_files(path):\n",
    "    # returns a list of names (with extension, without full path) of all files \n",
    "    # in folder path\n",
    "    files = []\n",
    "    for name in os.listdir(path):\n",
    "        if os.path.isfile(os.path.join(path, name)):\n",
    "            files.append(name)\n",
    "    return files \n",
    "\n",
    "images = list_files('.')\n",
    "\n",
    "for img, extra in zip(images, labels) :\n",
    "    filename, extension = os.path.splitext(img)\n",
    "    if filename.startswith(\"ISIC_\"):\n",
    "        os.rename(img, ''.join([extra, '-', filename, extension]))\n",
    "#     print(img)"
   ]
  },
  {
   "cell_type": "code",
   "execution_count": 15,
   "metadata": {},
   "outputs": [],
   "source": [
    "# Listintg the file names again (After the modify them):\n",
    "\n",
    "def get_file_list_from_dir(dir_database):\n",
    "    all_files = os.listdir(os.path.abspath(dir_database))\n",
    "    data_files = list(filter(lambda file: file.endswith(\".jpg\"), all_files))\n",
    "    return data_files\n",
    "\n",
    "filenames = get_file_list_from_dir(dir_database)"
   ]
  },
  {
   "cell_type": "code",
   "execution_count": 16,
   "metadata": {},
   "outputs": [],
   "source": [
    "# Shuffle the data order:\n",
    "import random\n",
    "random.shuffle(filenames)"
   ]
  },
  {
   "cell_type": "code",
   "execution_count": 17,
   "metadata": {},
   "outputs": [
    {
     "name": "stdout",
     "output_type": "stream",
     "text": [
      "10015\n",
      "10015\n"
     ]
    }
   ],
   "source": [
    "print(len(filenames))\n",
    "print(len(labels))"
   ]
  },
  {
   "cell_type": "markdown",
   "metadata": {},
   "source": [
    "### Spliting Train, Validate and Test Set"
   ]
  },
  {
   "cell_type": "code",
   "execution_count": 18,
   "metadata": {},
   "outputs": [],
   "source": [
    "data_train, data_validate, label_train, label_validate = train_test_split(np.array(filenames), labels, \n",
    "                                                                          test_size=0.4, \n",
    "                                                                          random_state=1, \n",
    "                                                                          stratify=labels)\n",
    "\n",
    "data_validate, data_test, label_validate, label_test = train_test_split(data_validate, label_validate, \n",
    "                                                                  test_size=0.5, \n",
    "                                                                  random_state=1, \n",
    "                                                                  stratify=label_validate)\n",
    "\n",
    "train_filenames = [name for name in data_train.tolist()]\n",
    "val_filenames = [name for name in data_validate.tolist()]\n",
    "test_filenames = [name for name in data_test.tolist()]"
   ]
  },
  {
   "cell_type": "code",
   "execution_count": 19,
   "metadata": {},
   "outputs": [
    {
     "name": "stdout",
     "output_type": "stream",
     "text": [
      "Total images:  10015\n",
      "Training:  6009\n",
      "Validation:  2003\n",
      "Testing:  2003\n"
     ]
    }
   ],
   "source": [
    "print('Total images: ', len(filenames))\n",
    "print('Training: ', len(train_filenames))\n",
    "print('Validation: ', len(val_filenames))\n",
    "print('Testing: ', len(test_filenames))"
   ]
  },
  {
   "cell_type": "code",
   "execution_count": 20,
   "metadata": {},
   "outputs": [
    {
     "name": "stdout",
     "output_type": "stream",
     "text": [
      "Total labels:  10015\n",
      "Training_labels:  6009\n",
      "Validation_labels:  2003\n",
      "Testing_labels:  2003\n"
     ]
    }
   ],
   "source": [
    "print('Total labels: ', len(labels))\n",
    "print('Training_labels: ', len(label_train))\n",
    "print('Validation_labels: ', len(label_validate))\n",
    "print('Testing_labels: ', len(label_test))"
   ]
  },
  {
   "cell_type": "code",
   "execution_count": 21,
   "metadata": {
    "scrolled": true
   },
   "outputs": [
    {
     "name": "stdout",
     "output_type": "stream",
     "text": [
      "Frequency of unique values of the said array:\n",
      "[['akiec' 'bcc' 'bkl' 'df' 'mel' 'nv' 'vasc']\n",
      " ['196' '309' '659' '69' '668' '4023' '85']]\n"
     ]
    }
   ],
   "source": [
    "unique_elements, counts_elements = np.unique(label_train, return_counts=True)\n",
    "print(\"Frequency of unique values of the said array:\")\n",
    "print(np.asarray((unique_elements, counts_elements)))"
   ]
  },
  {
   "cell_type": "code",
   "execution_count": 22,
   "metadata": {},
   "outputs": [],
   "source": [
    "os.chdir(dir_database)"
   ]
  },
  {
   "cell_type": "markdown",
   "metadata": {},
   "source": [
    "Spliting Images into Train / Validate / Test Directories"
   ]
  },
  {
   "cell_type": "code",
   "execution_count": 23,
   "metadata": {},
   "outputs": [
    {
     "name": "stdout",
     "output_type": "stream",
     "text": [
      "Analysing train nv Lesions\n",
      "train nv lesions images: 4032\n",
      "Analysing train mel Lesions\n",
      "train mel lesions images: 680\n",
      "Analysing train vasc Lesions\n",
      "train vasc lesions images: 85\n",
      "Analysing train akiec Lesions\n",
      "train akiec lesions images: 186\n",
      "Analysing train bcc Lesions\n",
      "train bcc lesions images: 305\n",
      "Analysing train bkl Lesions\n",
      "train bkl lesions images: 654\n",
      "Analysing train df Lesions\n",
      "train df lesions images: 67\n",
      "\n",
      "---- / / ----\n",
      "Analysing test nv Lesions\n",
      "test nv lesions images: 1310\n",
      "Analysing test mel Lesions\n",
      "test mel lesions images: 249\n",
      "Analysing test vasc Lesions\n",
      "test vasc lesions images: 28\n",
      "Analysing test akiec Lesions\n",
      "test akiec lesions images: 64\n",
      "Analysing test bcc Lesions\n",
      "test bcc lesions images: 110\n",
      "Analysing test bkl Lesions\n",
      "test bkl lesions images: 217\n",
      "Analysing test df Lesions\n",
      "test df lesions images: 25\n",
      "\n",
      "---- / / ----\n",
      "Analysing val nv Lesions\n",
      "val nv lesions images: 1363\n",
      "Analysing val mel Lesions\n",
      "val mel lesions images: 184\n",
      "Analysing val vasc Lesions\n",
      "val vasc lesions images: 29\n",
      "Analysing val akiec Lesions\n",
      "val akiec lesions images: 77\n",
      "Analysing val bcc Lesions\n",
      "val bcc lesions images: 99\n",
      "Analysing val bkl Lesions\n",
      "val bkl lesions images: 228\n",
      "Analysing val df Lesions\n",
      "val df lesions images: 23\n",
      "\n",
      "---- / / ----\n"
     ]
    }
   ],
   "source": [
    "# %%time\n",
    "# # Copy-pasting images: for train, validation and test\n",
    "\n",
    "envs = dict()\n",
    "envs['train'] = train_filenames\n",
    "envs['test'] = test_filenames\n",
    "envs['val'] = val_filenames\n",
    "\n",
    "for env in envs:\n",
    "    if not os.path.isdir(dir_database +'/'+ env): os.makedirs(dir_database +'/'+ env)\n",
    "    for i in lesionstype:   \n",
    "        print('Analysing '+ env + ' ' + i + ' Lesions')\n",
    "        if not os.path.isdir(dir_database + '/'+env+'/' + i): os.makedirs(dir_database + '/'+env+'/' + i)\n",
    "        if len(os.listdir(os.path.abspath(dir_database + '/'+env+'/' + i)))<=1:\n",
    "            for name in envs[env]:\n",
    "                if name.startswith(i):\n",
    "                    shutil.copy(name, dir_database+\"/\"+env+\"/\"+i+\"/\")\n",
    "        print(env+' '+i+' lesions images: '+ str(len(os.listdir(os.path.abspath(dir_database + '/'+env+'/' + i)))))\n",
    "    print()\n",
    "    print('---- / / ----')\n"
   ]
  },
  {
   "cell_type": "markdown",
   "metadata": {},
   "source": [
    "The paths for the training and validation images"
   ]
  },
  {
   "cell_type": "code",
   "execution_count": 24,
   "metadata": {},
   "outputs": [],
   "source": [
    "train_path = dir_database+\"/train\"\n",
    "val_path = dir_database+\"/val\"\n",
    "test_path = dir_database+\"/test\""
   ]
  },
  {
   "cell_type": "markdown",
   "metadata": {},
   "source": [
    "## NO Oversampling in this case\n"
   ]
  },
  {
   "cell_type": "code",
   "execution_count": 25,
   "metadata": {},
   "outputs": [],
   "source": [
    "# Declare a few useful values\n",
    "num_train_samples = sum([len(files) for r, d, files in os.walk(train_path)]) #len(train_filenames) \n",
    "num_val_samples = sum([len(files) for r, d, files in os.walk(val_path)]) #len(val_filenames)\n",
    "num_test_samples = sum([len(files) for r, d, files in os.walk(test_path)]) #len(test_filenames)\n",
    "train_batch_size = 10\n",
    "val_batch_size = 10\n",
    "test_batch_size = 1\n",
    "\n",
    "image_width = 200\n",
    "image_height = 150"
   ]
  },
  {
   "cell_type": "code",
   "execution_count": 26,
   "metadata": {},
   "outputs": [],
   "source": [
    "datagen = ImageDataGenerator(rescale = 1./255)"
   ]
  },
  {
   "cell_type": "code",
   "execution_count": 27,
   "metadata": {},
   "outputs": [],
   "source": [
    "# Declare how many steps are needed in an iteration\n",
    "train_steps = np.ceil(num_train_samples / train_batch_size)\n",
    "val_steps = np.ceil(num_val_samples / val_batch_size)\n",
    "test_steps = np.ceil(num_test_samples / val_batch_size)"
   ]
  },
  {
   "cell_type": "markdown",
   "metadata": {},
   "source": [
    "### Set Up the generator batches\n",
    "\n",
    "#### Train Batches"
   ]
  },
  {
   "cell_type": "code",
   "execution_count": 28,
   "metadata": {},
   "outputs": [
    {
     "name": "stdout",
     "output_type": "stream",
     "text": [
      "Train Batches: \n",
      "Found 6009 images belonging to 7 classes.\n"
     ]
    }
   ],
   "source": [
    "# Set up generators\n",
    "print('Train Batches: ')\n",
    "train_batches = datagen.flow_from_directory(\n",
    "    train_path,\n",
    "    target_size=(image_height, image_width),\n",
    "    batch_size=train_batch_size,\n",
    "    class_mode = 'categorical',\n",
    "    classes = lesionstype)"
   ]
  },
  {
   "cell_type": "markdown",
   "metadata": {},
   "source": [
    "#### Validation Batches"
   ]
  },
  {
   "cell_type": "code",
   "execution_count": 29,
   "metadata": {},
   "outputs": [
    {
     "name": "stdout",
     "output_type": "stream",
     "text": [
      "Found 2003 images belonging to 7 classes.\n"
     ]
    }
   ],
   "source": [
    "val_batches = datagen.flow_from_directory(\n",
    "    val_path,\n",
    "    target_size=(image_height, image_width),\n",
    "    batch_size=val_batch_size,\n",
    "    class_mode = 'categorical',\n",
    "    classes = lesionstype)"
   ]
  },
  {
   "cell_type": "markdown",
   "metadata": {},
   "source": [
    "#### Test Batches"
   ]
  },
  {
   "cell_type": "code",
   "execution_count": 30,
   "metadata": {},
   "outputs": [
    {
     "name": "stdout",
     "output_type": "stream",
     "text": [
      "Found 2003 images belonging to 7 classes.\n"
     ]
    }
   ],
   "source": [
    "test_batches = datagen.flow_from_directory(\n",
    "    test_path,\n",
    "    target_size=(image_height, image_width),\n",
    "    batch_size=test_batch_size,\n",
    "    class_mode = 'categorical',\n",
    "    classes = lesionstype)"
   ]
  },
  {
   "cell_type": "code",
   "execution_count": 31,
   "metadata": {},
   "outputs": [
    {
     "name": "stdout",
     "output_type": "stream",
     "text": [
      "Train: data batch shape: (10, 150, 200, 3)\n",
      "Train: labels batch shape: (10, 7)\n",
      "--//--\n",
      "Validation: data batch shape: (10, 150, 200, 3)\n",
      "Validation: labels batch shape: (10, 7)\n",
      "--//--\n",
      "Test: data batch shape: (1, 150, 200, 3)\n",
      "Test: labels batch shape: (1, 7)\n",
      "--//--\n"
     ]
    }
   ],
   "source": [
    "for data_batch, labels_batch in train_batches:\n",
    "    print('Train: data batch shape:', data_batch.shape)\n",
    "    print('Train: labels batch shape:', labels_batch.shape)\n",
    "    print('--//--')\n",
    "    break\n",
    "    \n",
    "for data_batch, labels_batch in val_batches:\n",
    "    print('Validation: data batch shape:', data_batch.shape)\n",
    "    print('Validation: labels batch shape:', labels_batch.shape)\n",
    "    print('--//--')\n",
    "    break\n",
    "    \n",
    "for data_batch, labels_batch in test_batches:\n",
    "    print('Test: data batch shape:', data_batch.shape)\n",
    "    print('Test: labels batch shape:', labels_batch.shape)\n",
    "    print('--//--')\n",
    "    break"
   ]
  },
  {
   "cell_type": "markdown",
   "metadata": {},
   "source": [
    "### Custom Metrics"
   ]
  },
  {
   "cell_type": "code",
   "execution_count": 39,
   "metadata": {},
   "outputs": [],
   "source": [
    "def precision(y_true, y_pred):\n",
    "    \"\"\"Precision metric.\n",
    "    Only computes a batch-wise average of precision.\n",
    "    Computes the precision, a metric for multi-label classification of\n",
    "    how many selected items are relevant.\n",
    "    \"\"\"\n",
    "    true_positives = K.sum(K.round(K.clip(y_true * y_pred, 0, 1)))\n",
    "    predicted_positives = K.sum(K.round(K.clip(y_pred, 0, 1)))\n",
    "    precision = true_positives / (predicted_positives + K.epsilon())\n",
    "    return precision\n",
    "\n",
    "def recall(y_true, y_pred):\n",
    "    \"\"\"Recall metric.\n",
    "    Only computes a batch-wise average of recall.\n",
    "    Computes the recall, a metric for multi-label classification of\n",
    "    how many relevant items are selected.\n",
    "    \"\"\"\n",
    "    true_positives = K.sum(K.round(K.clip(y_true * y_pred, 0, 1)))\n",
    "    possible_positives = K.sum(K.round(K.clip(y_true, 0, 1)))\n",
    "    recall = true_positives / (possible_positives + K.epsilon())\n",
    "    return recall\n",
    "\n",
    "def fbeta_score(y_true, y_pred, beta=1):\n",
    "    \"\"\"Computes the F score.\n",
    "    The F score is the weighted harmonic mean of precision and recall.\n",
    "    Here it is only computed as a batch-wise average, not globally.\n",
    "    This is useful for multi-label classification, where input samples can be\n",
    "    classified as sets of labels. By only using accuracy (precision) a model\n",
    "    would achieve a perfect score by simply assigning every class to every\n",
    "    input. In order to avoid this, a metric should penalize incorrect class\n",
    "    assignments as well (recall). The F-beta score (ranged from 0.0 to 1.0)\n",
    "    computes this, as a weighted mean of the proportion of correct class\n",
    "    assignments vs. the proportion of incorrect class assignments.\n",
    "\n",
    "    With beta = 1, this is equivalent to a F-measure. With beta < 1, assigning\n",
    "    correct classes becomes more important, and with beta > 1 the metric is\n",
    "    instead weighted towards penalizing incorrect class assignments.\n",
    "    \"\"\"\n",
    "\n",
    "    if beta < 0:\n",
    "        raise ValueError('The lowest choosable beta is zero (only precision).')\n",
    "\n",
    "    # If there are no true positives, fix the F score at 0 like sklearn.\n",
    "    if K.sum(K.round(K.clip(y_true, 0, 1))) == 0:\n",
    "        return 0\n",
    "\n",
    "    p = precision(y_true, y_pred)\n",
    "    r = recall(y_true, y_pred)\n",
    "    bb = beta ** 2\n",
    "    fbeta_score = (1 + bb) * (p * r) / (bb * p + r + K.epsilon())\n",
    "    return fbeta_score\n",
    "\n",
    "def fmeasure(y_true, y_pred):\n",
    "    \"\"\"Computes the f-measure, the harmonic mean of precision and recall.\n",
    "    Here it is only computed as a batch-wise average, not globally.\n",
    "    \"\"\"\n",
    "    return fbeta_score(y_true, y_pred, beta=1)"
   ]
  },
  {
   "cell_type": "markdown",
   "metadata": {},
   "source": [
    "### Class Weight"
   ]
  },
  {
   "cell_type": "code",
   "execution_count": 40,
   "metadata": {},
   "outputs": [],
   "source": [
    "# Add weights to make the model more sensitive to melanoma\n",
    "class_weights={\n",
    "    0: 1.0,  # akiec\n",
    "    1: 1.0,  # bcc\n",
    "    2: 1.0,  # bkl\n",
    "    3: 1.0,  # df\n",
    "    4: 1.0,  # mel\n",
    "    5: 1.0,  # nv\n",
    "    6: 1.0,  # vasc\n",
    "}"
   ]
  },
  {
   "cell_type": "markdown",
   "metadata": {},
   "source": [
    "## Checkpoint / Learning Rate / Callback "
   ]
  },
  {
   "cell_type": "code",
   "execution_count": 43,
   "metadata": {},
   "outputs": [],
   "source": [
    "# Declare the filepath for the saved model\n",
    "os.chdir(dir_project)\n",
    "filepath = \"model.h5\"\n",
    "\n",
    "# Declare a checkpoint to save the best version of the model\n",
    "checkpoint = ModelCheckpoint(filepath, monitor='categorical_accuracy', verbose=1,\n",
    "                             save_best_only=True, mode='max')\n",
    "\n",
    "# Reduce the learning rate as the learning stagnates\n",
    "reduce_lr = ReduceLROnPlateau(monitor='categorical_accuracy', factor=0.5, patience=2,\n",
    "                              verbose=1, mode='max', min_lr=1E-8)\n",
    "\n",
    "callbacks_list = [checkpoint, reduce_lr]\n",
    "# callbacks_list = [checkpoint]"
   ]
  },
  {
   "cell_type": "markdown",
   "metadata": {},
   "source": [
    "# Transfer Learning"
   ]
  },
  {
   "cell_type": "code",
   "execution_count": 32,
   "metadata": {},
   "outputs": [
    {
     "name": "stdout",
     "output_type": "stream",
     "text": [
      "Downloading data from https://github.com/fchollet/deep-learning-models/releases/download/v0.5/inception_v3_weights_tf_dim_ordering_tf_kernels.h5\n",
      "96116736/96112376 [==============================] - 82s 1us/step\n"
     ]
    }
   ],
   "source": [
    "#using \n",
    "# https://arxiv.org/abs/1512.00567\n",
    "# https://towardsdatascience.com/how-to-train-your-model-dramatically-faster-9ad063f0f718\n",
    "from keras.applications import InceptionV3\n",
    "from keras.models import Model\n",
    "\n",
    "original_model    = InceptionV3()\n",
    "bottleneck_input  = original_model.get_layer(index=0).input\n",
    "bottleneck_output = original_model.get_layer(index=-2).output\n",
    "bottleneck_model  = Model(inputs=bottleneck_input, outputs=bottleneck_output)"
   ]
  },
  {
   "cell_type": "code",
   "execution_count": 34,
   "metadata": {},
   "outputs": [
    {
     "name": "stdout",
     "output_type": "stream",
     "text": [
      "Tensor(\"input_1:0\", shape=(?, ?, ?, 3), dtype=float32)\n"
     ]
    }
   ],
   "source": [
    "print(bottleneck_model.get_layer(index=0).input) #some indeterminate amount of images as input, of an unspecified height and width, with 3 RBG channels"
   ]
  },
  {
   "cell_type": "code",
   "execution_count": 37,
   "metadata": {},
   "outputs": [
    {
     "name": "stdout",
     "output_type": "stream",
     "text": [
      "Tensor(\"mixed10/concat:0\", shape=(?, ?, ?, 2048), dtype=float32)\n"
     ]
    }
   ],
   "source": [
    "print(bottleneck_model.get_layer(index=-2).output)"
   ]
  },
  {
   "cell_type": "code",
   "execution_count": 36,
   "metadata": {},
   "outputs": [],
   "source": [
    "#freeze\n",
    "for layer in bottleneck_model.layers:\n",
    "    layer.trainable = False"
   ]
  },
  {
   "cell_type": "code",
   "execution_count": 52,
   "metadata": {},
   "outputs": [],
   "source": [
    "new_model = Sequential()\n",
    "new_model.add(bottleneck_model)\n",
    "\n",
    "#max3/4 layers\n",
    "#new_model.add(layers.Dense(512, activation='relu',input_dim=2048))\n",
    "new_model.add(layers.Dense(128, activation='relu',input_dim=2048))\n",
    "new_model.add(layers.Dense(52, activation='relu'))\n",
    "new_model.add(layers.Dense(7, activation='softmax'))"
   ]
  },
  {
   "cell_type": "code",
   "execution_count": 53,
   "metadata": {},
   "outputs": [
    {
     "name": "stdout",
     "output_type": "stream",
     "text": [
      "_________________________________________________________________\n",
      "Layer (type)                 Output Shape              Param #   \n",
      "=================================================================\n",
      "model_1 (Model)              (None, 2048)              21802784  \n",
      "_________________________________________________________________\n",
      "dense_5 (Dense)              (None, 128)               262272    \n",
      "_________________________________________________________________\n",
      "dense_6 (Dense)              (None, 52)                6708      \n",
      "_________________________________________________________________\n",
      "dense_7 (Dense)              (None, 7)                 371       \n",
      "=================================================================\n",
      "Total params: 22,072,135\n",
      "Trainable params: 269,351\n",
      "Non-trainable params: 21,802,784\n",
      "_________________________________________________________________\n"
     ]
    }
   ],
   "source": [
    "new_model.summary() #the first part is freezed"
   ]
  },
  {
   "cell_type": "code",
   "execution_count": 54,
   "metadata": {},
   "outputs": [],
   "source": [
    "new_model.compile(Adam(lr=0.01), loss='categorical_crossentropy', metrics=[categorical_accuracy])"
   ]
  },
  {
   "cell_type": "code",
   "execution_count": 55,
   "metadata": {},
   "outputs": [
    {
     "name": "stdout",
     "output_type": "stream",
     "text": [
      "Epoch 1/15\n",
      "601/601 [==============================] - 870s 1s/step - loss: 5.1837 - categorical_accuracy: 0.6769 - val_loss: 5.1098 - val_categorical_accuracy: 0.6830\n",
      "\n",
      "Epoch 00001: categorical_accuracy improved from -inf to 0.67698, saving model to model.h5\n",
      "Epoch 2/15\n",
      "601/601 [==============================] - 843s 1s/step - loss: 5.3241 - categorical_accuracy: 0.6697 - val_loss: 5.2144 - val_categorical_accuracy: 0.6765\n",
      "\n",
      "Epoch 00002: categorical_accuracy did not improve from 0.67698\n",
      "Epoch 3/15\n",
      "601/601 [==============================] - 772s 1s/step - loss: 5.4094 - categorical_accuracy: 0.6644 - val_loss: 5.2064 - val_categorical_accuracy: 0.6770\n",
      "\n",
      "Epoch 00003: categorical_accuracy did not improve from 0.67698\n",
      "\n",
      "Epoch 00003: ReduceLROnPlateau reducing learning rate to 0.004999999888241291.\n",
      "Epoch 4/15\n",
      "601/601 [==============================] - 747s 1s/step - loss: 5.2121 - categorical_accuracy: 0.6766 - val_loss: 5.1501 - val_categorical_accuracy: 0.6805\n",
      "\n",
      "Epoch 00004: categorical_accuracy did not improve from 0.67698\n",
      "Epoch 5/15\n",
      "601/601 [==============================] - 673s 1s/step - loss: 5.3083 - categorical_accuracy: 0.6707 - val_loss: 5.0535 - val_categorical_accuracy: 0.6865\n",
      "\n",
      "Epoch 00005: categorical_accuracy did not improve from 0.67698\n",
      "\n",
      "Epoch 00005: ReduceLROnPlateau reducing learning rate to 0.0024999999441206455.\n",
      "Epoch 6/15\n",
      "601/601 [==============================] - 581s 966ms/step - loss: 5.3346 - categorical_accuracy: 0.6690 - val_loss: 5.1501 - val_categorical_accuracy: 0.6805\n",
      "\n",
      "Epoch 00006: categorical_accuracy did not improve from 0.67698\n",
      "Epoch 7/15\n",
      "601/601 [==============================] - 581s 967ms/step - loss: 5.2839 - categorical_accuracy: 0.6722 - val_loss: 5.1662 - val_categorical_accuracy: 0.6795\n",
      "\n",
      "Epoch 00007: categorical_accuracy did not improve from 0.67698\n",
      "\n",
      "Epoch 00007: ReduceLROnPlateau reducing learning rate to 0.0012499999720603228.\n",
      "Epoch 8/15\n",
      "601/601 [==============================] - 587s 976ms/step - loss: 5.2499 - categorical_accuracy: 0.6743 - val_loss: 5.1662 - val_categorical_accuracy: 0.6795\n",
      "\n",
      "Epoch 00008: categorical_accuracy did not improve from 0.67698\n",
      "Epoch 9/15\n",
      "601/601 [==============================] - 590s 981ms/step - loss: 5.3921 - categorical_accuracy: 0.6655 - val_loss: 5.1662 - val_categorical_accuracy: 0.6795\n",
      "\n",
      "Epoch 00009: categorical_accuracy did not improve from 0.67698\n",
      "\n",
      "Epoch 00009: ReduceLROnPlateau reducing learning rate to 0.0006249999860301614.\n",
      "Epoch 10/15\n",
      "601/601 [==============================] - 583s 970ms/step - loss: 5.3352 - categorical_accuracy: 0.6690 - val_loss: 5.1098 - val_categorical_accuracy: 0.6830\n",
      "\n",
      "Epoch 00010: categorical_accuracy did not improve from 0.67698\n",
      "Epoch 11/15\n",
      "601/601 [==============================] - 577s 960ms/step - loss: 5.2061 - categorical_accuracy: 0.6770 - val_loss: 5.2305 - val_categorical_accuracy: 0.6755\n",
      "\n",
      "Epoch 00011: categorical_accuracy improved from 0.67698 to 0.67698, saving model to model.h5\n",
      "\n",
      "Epoch 00011: ReduceLROnPlateau reducing learning rate to 0.0003124999930150807.\n",
      "Epoch 12/15\n",
      "601/601 [==============================] - 578s 962ms/step - loss: 5.3280 - categorical_accuracy: 0.6694 - val_loss: 5.1018 - val_categorical_accuracy: 0.6835\n",
      "\n",
      "Epoch 00012: categorical_accuracy did not improve from 0.67698\n",
      "Epoch 13/15\n",
      "601/601 [==============================] - 575s 956ms/step - loss: 5.3644 - categorical_accuracy: 0.6672 - val_loss: 5.1340 - val_categorical_accuracy: 0.6815\n",
      "\n",
      "Epoch 00013: categorical_accuracy did not improve from 0.67698\n",
      "\n",
      "Epoch 00013: ReduceLROnPlateau reducing learning rate to 0.00015624999650754035.\n",
      "Epoch 14/15\n",
      "601/601 [==============================] - 570s 948ms/step - loss: 5.3000 - categorical_accuracy: 0.6712 - val_loss: 5.1420 - val_categorical_accuracy: 0.6810\n",
      "\n",
      "Epoch 00014: categorical_accuracy did not improve from 0.67698\n",
      "Epoch 15/15\n",
      "601/601 [==============================] - 571s 950ms/step - loss: 5.2916 - categorical_accuracy: 0.6717 - val_loss: 5.1179 - val_categorical_accuracy: 0.6825\n",
      "\n",
      "Epoch 00015: categorical_accuracy did not improve from 0.67698\n",
      "\n",
      "Epoch 00015: ReduceLROnPlateau reducing learning rate to 7.812499825377017e-05.\n"
     ]
    }
   ],
   "source": [
    "history = new_model.fit_generator(train_batches,\n",
    "                              steps_per_epoch=train_steps,\n",
    "                              class_weight=class_weights,\n",
    "                              validation_data=val_batches,\n",
    "                              validation_steps=val_steps,\n",
    "                              epochs=15,\n",
    "                              verbose=1,\n",
    "                              callbacks=callbacks_list)"
   ]
  },
  {
   "cell_type": "code",
   "execution_count": 56,
   "metadata": {},
   "outputs": [
    {
     "data": {
      "image/png": "[encoded data removed]",
      "text/plain": [
       "<Figure size 432x288 with 1 Axes>"
      ]
     },
     "metadata": {},
     "output_type": "display_data"
    }
   ],
   "source": [
    "# Plotting the evolution of the loss, comparing training and validation\n",
    "# To check if the number of epochs are not set properly\n",
    "\n",
    "import matplotlib.pyplot as plt\n",
    "loss = history.history['loss']\n",
    "val_loss = history.history['val_loss']\n",
    "epochs = range(1, len(loss) + 1)\n",
    "plt.plot(epochs, loss, 'bo', label='Training loss')\n",
    "plt.plot(epochs, val_loss, 'b', label='Validation loss')\n",
    "plt.title('Training and validation loss')\n",
    "plt.xlabel('Epochs')\n",
    "plt.ylabel('Loss')\n",
    "plt.legend()\n",
    "plt.show()"
   ]
  },
  {
   "cell_type": "code",
   "execution_count": 57,
   "metadata": {},
   "outputs": [
    {
     "data": {
      "image/png": "[encoded data removed]",
      "text/plain": [
       "<Figure size 432x288 with 1 Axes>"
      ]
     },
     "metadata": {},
     "output_type": "display_data"
    }
   ],
   "source": [
    "# Plotting the evolution of the metrics, comparing training and validation\n",
    "# To check if the number of epochs are not set properly\n",
    "\n",
    "plt.clf()      # clears the figure\n",
    "acc = history.history['categorical_accuracy']\n",
    "val_acc = history.history['val_categorical_accuracy']\n",
    "plt.plot(epochs, acc, 'bo', label='Training acc')\n",
    "plt.plot(epochs, val_acc, 'b', label='Validation acc')\n",
    "plt.title('Training and validation accuracy')\n",
    "plt.xlabel('Epochs')\n",
    "plt.ylabel('Loss')\n",
    "plt.legend()\n",
    "plt.show()"
   ]
  },
  {
   "cell_type": "markdown",
   "metadata": {},
   "source": []
  },
  {
   "cell_type": "code",
   "execution_count": 58,
   "metadata": {},
   "outputs": [],
   "source": [
    "## Evaluation of the model with metrics and confusion matrix ##\n",
    "\n",
    "# Declare a function for plotting the confusion matrix\n",
    "def plot_confusion_matrix(cm, classes, normalize=False, title='Confusion matrix', cmap=plt.cm.Blues):\n",
    "    \"\"\"\n",
    "    This function prints and plots the confusion matrix.\n",
    "    Normalization can be applied by setting `normalize=True`.\n",
    "    \"\"\"\n",
    "    if normalize:\n",
    "        cm = cm.astype('float') / cm.sum(axis=1)[:, np.newaxis]\n",
    "        print(\"Normalized confusion matrix\")\n",
    "    else:\n",
    "        print('Confusion matrix, without normalization')\n",
    "\n",
    "    print(cm)\n",
    "\n",
    "    plt.imshow(cm, interpolation='nearest', cmap=cmap)\n",
    "    plt.title(title)\n",
    "    plt.colorbar()\n",
    "    tick_marks = np.arange(len(classes))\n",
    "    plt.xticks(tick_marks, classes, rotation=45)\n",
    "    plt.yticks(tick_marks, classes)\n",
    "\n",
    "    fmt = '.2f' if normalize else 'd'\n",
    "    thresh = cm.max() / 2.\n",
    "    for i, j in itertools.product(range(cm.shape[0]), range(cm.shape[1])):\n",
    "        plt.text(j, i, format(cm[i, j], fmt),\n",
    "                 horizontalalignment=\"center\",\n",
    "                 color=\"white\" if cm[i, j] > thresh else \"black\")\n",
    "\n",
    "    plt.ylabel('True label')\n",
    "    plt.xlabel('Predicted label')\n",
    "    plt.tight_layout()"
   ]
  },
  {
   "cell_type": "code",
   "execution_count": 60,
   "metadata": {},
   "outputs": [
    {
     "name": "stdout",
     "output_type": "stream",
     "text": [
      "601/601 [==============================] - 431s 717ms/step\n"
     ]
    }
   ],
   "source": [
    "### Training evaluation : Confusion matrix and metrics  ###\n",
    "\n",
    "# Create a confusion matrix of the training images\n",
    "train_labels = train_batches.classes\n",
    "\n",
    "# Make predictions\n",
    "predictions = new_model.predict_generator(train_batches, steps=train_steps ,verbose=1)#, steps=train_steps"
   ]
  },
  {
   "cell_type": "code",
   "execution_count": 61,
   "metadata": {},
   "outputs": [
    {
     "name": "stdout",
     "output_type": "stream",
     "text": [
      "{0, 1, 2, 3, 4, 5, 6}\n",
      "[[1. 0. 0. ... 0. 0. 0.]\n",
      " [1. 0. 0. ... 0. 0. 0.]\n",
      " [1. 0. 0. ... 0. 0. 0.]\n",
      " ...\n",
      " [1. 0. 0. ... 0. 0. 0.]\n",
      " [1. 0. 0. ... 0. 0. 0.]\n",
      " [1. 0. 0. ... 0. 0. 0.]]\n"
     ]
    }
   ],
   "source": [
    "print(set(train_labels))\n",
    "print(predictions)"
   ]
  },
  {
   "cell_type": "code",
   "execution_count": 62,
   "metadata": {},
   "outputs": [
    {
     "data": {
      "text/plain": [
       "<keras_preprocessing.image.DirectoryIterator at 0x28623450358>"
      ]
     },
     "execution_count": 62,
     "metadata": {},
     "output_type": "execute_result"
    }
   ],
   "source": [
    "train_batches"
   ]
  },
  {
   "cell_type": "code",
   "execution_count": 63,
   "metadata": {},
   "outputs": [
    {
     "data": {
      "text/plain": [
       "(6009, 7)"
      ]
     },
     "execution_count": 63,
     "metadata": {},
     "output_type": "execute_result"
    }
   ],
   "source": [
    "predictions.shape"
   ]
  },
  {
   "cell_type": "code",
   "execution_count": 64,
   "metadata": {},
   "outputs": [
    {
     "data": {
      "text/plain": [
       "array([[4032,    0,    0,    0,    0,    0,    0],\n",
       "       [ 680,    0,    0,    0,    0,    0,    0],\n",
       "       [  85,    0,    0,    0,    0,    0,    0],\n",
       "       [ 186,    0,    0,    0,    0,    0,    0],\n",
       "       [ 305,    0,    0,    0,    0,    0,    0],\n",
       "       [ 654,    0,    0,    0,    0,    0,    0],\n",
       "       [  67,    0,    0,    0,    0,    0,    0]], dtype=int64)"
      ]
     },
     "execution_count": 64,
     "metadata": {},
     "output_type": "execute_result"
    }
   ],
   "source": [
    "cm = confusion_matrix(train_labels, predictions.argmax(axis=1))\n",
    "cm"
   ]
  },
  {
   "cell_type": "code",
   "execution_count": 65,
   "metadata": {},
   "outputs": [
    {
     "name": "stdout",
     "output_type": "stream",
     "text": [
      "Confusion matrix, without normalization\n",
      "[[4032    0    0    0    0    0    0]\n",
      " [ 680    0    0    0    0    0    0]\n",
      " [  85    0    0    0    0    0    0]\n",
      " [ 186    0    0    0    0    0    0]\n",
      " [ 305    0    0    0    0    0    0]\n",
      " [ 654    0    0    0    0    0    0]\n",
      " [  67    0    0    0    0    0    0]]\n"
     ]
    },
    {
     "data": {
      "image/png": "[encoded data removed]",
      "text/plain": [
       "<Figure size 432x288 with 2 Axes>"
      ]
     },
     "metadata": {},
     "output_type": "display_data"
    }
   ],
   "source": [
    "#cm = confusion_matrix(train_labels, predictions.argmax(axis=1))\n",
    "plot_confusion_matrix(cm, lesionstype)"
   ]
  },
  {
   "cell_type": "code",
   "execution_count": null,
   "metadata": {},
   "outputs": [],
   "source": []
  },
  {
   "cell_type": "code",
   "execution_count": 67,
   "metadata": {},
   "outputs": [
    {
     "name": "stdout",
     "output_type": "stream",
     "text": [
      "201/201 [==============================] - 139s 691ms/step\n",
      "Confusion matrix, without normalization\n",
      "[[1363    0    0    0    0    0    0]\n",
      " [ 184    0    0    0    0    0    0]\n",
      " [  29    0    0    0    0    0    0]\n",
      " [  77    0    0    0    0    0    0]\n",
      " [  99    0    0    0    0    0    0]\n",
      " [ 228    0    0    0    0    0    0]\n",
      " [  23    0    0    0    0    0    0]]\n"
     ]
    },
    {
     "data": {
      "image/png": "[encoded data removed]",
      "text/plain": [
       "<Figure size 432x288 with 2 Axes>"
      ]
     },
     "metadata": {},
     "output_type": "display_data"
    }
   ],
   "source": [
    "### Validation evaluation : Confusion matrix and metrics ###\n",
    "\n",
    "# Create a confusion matrix of the training images\n",
    "val_labels = val_batches.classes\n",
    "\n",
    "# Make predictions\n",
    "predictions = new_model.predict_generator(val_batches, steps=val_steps, verbose=1)\n",
    "cm = confusion_matrix(val_labels, predictions.argmax(axis=1))\n",
    "cm_plot_labels = lesionstype\n",
    "plot_confusion_matrix(cm, cm_plot_labels)"
   ]
  },
  {
   "cell_type": "code",
   "execution_count": 68,
   "metadata": {},
   "outputs": [
    {
     "name": "stdout",
     "output_type": "stream",
     "text": [
      "2003/2003 [==============================] - 180s 90ms/step\n",
      "Confusion matrix, without normalization\n",
      "[[1310    0    0    0    0    0    0]\n",
      " [ 249    0    0    0    0    0    0]\n",
      " [  28    0    0    0    0    0    0]\n",
      " [  64    0    0    0    0    0    0]\n",
      " [ 110    0    0    0    0    0    0]\n",
      " [ 217    0    0    0    0    0    0]\n",
      " [  25    0    0    0    0    0    0]]\n"
     ]
    },
    {
     "data": {
      "image/png": "[encoded data removed]",
      "text/plain": [
       "<Figure size 432x288 with 2 Axes>"
      ]
     },
     "metadata": {},
     "output_type": "display_data"
    }
   ],
   "source": [
    "### Test evaluation : Confusion matrix and metrics ###\n",
    "\n",
    "# Create a confusion matrix of the test images\n",
    "test_labels = test_batches.classes\n",
    "\n",
    "# Make predictions\n",
    "predictions = new_model.predict_generator(test_batches, steps=num_test_samples, verbose=1)\n",
    "cm = confusion_matrix(test_labels, predictions.argmax(axis=1))\n",
    "cm_plot_labels = lesionstype\n",
    "plot_confusion_matrix(cm, cm_plot_labels)"
   ]
  },
  {
   "cell_type": "markdown",
   "metadata": {},
   "source": [
    "# OTHERS pre-trained"
   ]
  },
  {
   "cell_type": "code",
   "execution_count": null,
   "metadata": {},
   "outputs": [],
   "source": [
    "#other pre-trained nn\n",
    "#https://towardsdatascience.com/the-4-convolutional-neural-network-models-that-can-classify-your-fashion-images-9fe7f3e5399d"
   ]
  },
  {
   "cell_type": "code",
   "execution_count": null,
   "metadata": {},
   "outputs": [],
   "source": [
    "# https://towardsdatascience.com/transfer-learning-from-pre-trained-models-f2393f124751\n",
    "#instead of NN, the last part can be another model such as SVM"
   ]
  },
  {
   "cell_type": "code",
   "execution_count": null,
   "metadata": {},
   "outputs": [],
   "source": [
    "#https://www.analyticsvidhya.com/blog/2018/07/top-10-pretrained-models-get-started-deep-learning-part-1-computer-vision/\n",
    "#pre-trained most common nn by the type of problem"
   ]
  }
 ],
 "metadata": {
  "kernelspec": {
   "display_name": "Python 3",
   "language": "python",
   "name": "python3"
  },
  "language_info": {
   "codemirror_mode": {
    "name": "ipython",
    "version": 3
   },
   "file_extension": ".py",
   "mimetype": "text/x-python",
   "name": "python",
   "nbconvert_exporter": "python",
   "pygments_lexer": "ipython3",
   "version": "3.6.5"
  }
 },
 "nbformat": 4,
 "nbformat_minor": 2
}
