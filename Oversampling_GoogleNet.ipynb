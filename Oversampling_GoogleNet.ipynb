{
 "cells": [
  {
   "cell_type": "markdown",
   "metadata": {},
   "source": [
    "### Importing the Libraries"
   ]
  },
  {
   "cell_type": "code",
   "execution_count": 1,
   "metadata": {},
   "outputs": [
    {
     "name": "stderr",
     "output_type": "stream",
     "text": [
      "Using TensorFlow backend.\n"
     ]
    }
   ],
   "source": [
    "# %%time\n",
    "# Import the libraries\n",
    "import pandas as pd\n",
    "import numpy as np\n",
    "import keras\n",
    "from keras import backend as K\n",
    "from keras.layers.core import Dense, Dropout\n",
    "from keras.optimizers import Adam\n",
    "from keras.preprocessing.image import ImageDataGenerator\n",
    "from keras.models import Model\n",
    "from keras.callbacks import ReduceLROnPlateau, ModelCheckpoint\n",
    "from sklearn.metrics import confusion_matrix\n",
    "import itertools\n",
    "import matplotlib.pyplot as plt\n",
    "import shutil\n",
    "\n",
    "from sklearn.model_selection import train_test_split\n",
    "from keras.models import Sequential\n",
    "from keras.layers import Dense\n",
    "from keras import layers\n",
    "from keras import models\n",
    "from os import rename, listdir\n",
    "import os, zipfile\n",
    "import random\n",
    "from random import random\n",
    "from random import randrange\n",
    "from random import choice\n",
    "from random import uniform\n",
    "from matplotlib import pyplot\n",
    "import skimage.io as io\n",
    "\n",
    "from keras.metrics import categorical_accuracy\n",
    "from keras.optimizers import Adam\n",
    "\n",
    "import tensorflow as tf "
   ]
  },
  {
   "cell_type": "code",
   "execution_count": 2,
   "metadata": {},
   "outputs": [],
   "source": [
    "# import tensorflow as tf \n",
    "\n",
    "config = tf.ConfigProto()\n",
    "config.gpu_options.allow_growth = True\n",
    "sess = tf.Session(config=config)"
   ]
  },
  {
   "cell_type": "markdown",
   "metadata": {},
   "source": [
    "#### Verify that the GPU is available to work with Tensorflow"
   ]
  },
  {
   "cell_type": "code",
   "execution_count": 3,
   "metadata": {},
   "outputs": [
    {
     "name": "stdout",
     "output_type": "stream",
     "text": [
      "TensorFlow was built with CUDA (GPU): True\n",
      "TensorFlow can access a GPU: True\n",
      "GPU Available: ['/job:localhost/replica:0/task:0/device:GPU:0']\n"
     ]
    }
   ],
   "source": [
    "# %%time\n",
    "print('TensorFlow was built with CUDA (GPU): ' + str(tf.test.is_built_with_cuda()))\n",
    "print('TensorFlow can access a GPU: ' + str(tf.test.is_gpu_available(cuda_only=False, min_cuda_compute_capability=None)))\n",
    "print('GPU Available: '+ str(K.tensorflow_backend._get_available_gpus()))"
   ]
  },
  {
   "cell_type": "markdown",
   "metadata": {},
   "source": [
    "#### Seting the data directories"
   ]
  },
  {
   "cell_type": "code",
   "execution_count": 4,
   "metadata": {},
   "outputs": [],
   "source": [
    "#Seting the directory for the images \n",
    "dir_zip = r'D:\\Python\\Jupyter\\DeepLearning\\Project\\zipFiles'\n",
    "dir_database = r'D:\\Python\\Jupyter\\DeepLearning\\Project\\DataBase'\n",
    "dir_MetaData = r'D:\\Python\\Jupyter\\DeepLearning\\Project\\metaData_dataBase'\n",
    "dir_project = r'D:\\Python\\Jupyter\\DeepLearning\\Project'"
   ]
  },
  {
   "cell_type": "markdown",
   "metadata": {},
   "source": [
    "#### Unziping all the images"
   ]
  },
  {
   "cell_type": "code",
   "execution_count": 5,
   "metadata": {},
   "outputs": [
    {
     "name": "stdout",
     "output_type": "stream",
     "text": [
      "10019\n"
     ]
    }
   ],
   "source": [
    "# %%time\n",
    "extension = \".zip\"\n",
    "\n",
    "os.chdir(dir_zip) # change directory from working dir to dir with files\n",
    "\n",
    "if len(os.listdir(os.path.abspath(dir_database)))==0 or len(os.listdir(os.path.abspath(dir_database)))==1:\n",
    "    # Loop to extract all Images from a the zip file on directory\n",
    "    for item in os.listdir(dir_zip): # loop through items in dir\n",
    "        if item.endswith(extension): # check for \".zip\" extension\n",
    "            file_name = os.path.abspath(item) # get full path of files\n",
    "            print(\"Processing %s\" % file_name)\n",
    "            zip_ref = zipfile.ZipFile(file_name) # create zipfile object\n",
    "            os.chdir(dir_zip) # change directory from working dir to dir with files\n",
    "            zip_ref.extractall(dir_database) # extract file to dir\n",
    "            zip_ref.close() # close file\n",
    "            #os.remove(file_name) # delete zipped file\n",
    "else:\n",
    "    print(len(os.listdir(os.path.abspath(dir_database))))"
   ]
  },
  {
   "cell_type": "markdown",
   "metadata": {},
   "source": [
    "Function to undersample dataset to test faster the modifications"
   ]
  },
  {
   "cell_type": "code",
   "execution_count": 6,
   "metadata": {},
   "outputs": [],
   "source": [
    "# %%time\n",
    "\n",
    "# from random import sample\n",
    "\n",
    "# os.chdir(dir_database)\n",
    "# if len(os.listdir(os.path.abspath(dir_database)))>500:\n",
    "#     files = os.listdir(dir_database)\n",
    "#     # print(files[0])\n",
    "#     # print(len(files))\n",
    "#     for file in sample(files,8015):\n",
    "#         os.remove(file)"
   ]
  },
  {
   "cell_type": "markdown",
   "metadata": {},
   "source": [
    "### Reading Metadata File"
   ]
  },
  {
   "cell_type": "code",
   "execution_count": 7,
   "metadata": {},
   "outputs": [],
   "source": [
    "# %%time\n",
    "#import metadata as panda dataframe\n",
    "#first row is the name of the columns\n",
    "#second column is the id of the images, lesions have more than one image\n",
    "\n",
    "metadata = pd.read_csv(dir_MetaData+'/HAM10000_metadata.csv', header=0, index_col=1)"
   ]
  },
  {
   "cell_type": "code",
   "execution_count": 8,
   "metadata": {},
   "outputs": [],
   "source": [
    "# Create a list of file names\n",
    "#-------------------------------------------------#\n",
    "filenames = [os.path.splitext(filename)[0] for filename in os.listdir(dir_database) if filename.endswith(\".jpg\")]\n",
    "prov_filenames = []\n",
    "for name in filenames:\n",
    "    prov_filenames.append(name[-12:])\n",
    "filenames = prov_filenames\n",
    "filenames = pd.DataFrame(np.array(filenames).reshape(10015,1),columns=['filenames'])\n",
    "# filenames = pd.DataFrame(np.array(filenames).reshape(2000,1),columns=['filenames'])"
   ]
  },
  {
   "cell_type": "code",
   "execution_count": 9,
   "metadata": {},
   "outputs": [],
   "source": [
    "# # Organize dataset according to photos actual order\n",
    "# ----------------------------------------------------\n",
    "# # Merging the file names and the metadata, thus organizing the data.\n",
    "\n",
    "organized_metadata = pd.merge(left=filenames, right=metadata, left_on='filenames',right_on='image_id')\n",
    "# # print(organized_metadata)"
   ]
  },
  {
   "cell_type": "code",
   "execution_count": 10,
   "metadata": {},
   "outputs": [],
   "source": [
    "# It removes all metadata but dx (lesion type)\n",
    "organized_metadata['filenames_dx'] = organized_metadata['dx'] + '.' + organized_metadata['filenames']"
   ]
  },
  {
   "cell_type": "code",
   "execution_count": 11,
   "metadata": {},
   "outputs": [],
   "source": [
    "# Save Metadata on Database Directoy\n",
    "os.chdir(dir_database)\n",
    "organized_metadata.to_csv('organized_metadata.csv', sep=',', index = False)"
   ]
  },
  {
   "cell_type": "code",
   "execution_count": 12,
   "metadata": {},
   "outputs": [
    {
     "name": "stdout",
     "output_type": "stream",
     "text": [
      "10015\n"
     ]
    }
   ],
   "source": [
    "# %%time\n",
    "# # Labels\n",
    "# Verify whether it is useful or not\n",
    "labels = np.array(organized_metadata['dx'].tolist())\n",
    "filenames_dx = np.array(organized_metadata['filenames_dx'].tolist())\n",
    "print(len(labels))"
   ]
  },
  {
   "cell_type": "code",
   "execution_count": 13,
   "metadata": {},
   "outputs": [],
   "source": [
    "# Creating Train / Val / Test folders (One time use)\n",
    "lesionstype = ['nv','mel',\"vasc\",'akiec','bcc','bkl','df']"
   ]
  },
  {
   "cell_type": "code",
   "execution_count": 14,
   "metadata": {},
   "outputs": [],
   "source": [
    "os.chdir(dir_database)"
   ]
  },
  {
   "cell_type": "code",
   "execution_count": 15,
   "metadata": {},
   "outputs": [],
   "source": [
    "# %%time\n",
    "def list_files(path):\n",
    "    # returns a list of names (with extension, without full path) of all files \n",
    "    # in folder path\n",
    "    files = []\n",
    "    for name in os.listdir(path):\n",
    "        if os.path.isfile(os.path.join(path, name)):\n",
    "            files.append(name)\n",
    "    return files \n",
    "\n",
    "images = list_files('.')\n",
    "\n",
    "for img, extra in zip(images, labels) :\n",
    "    filename, extension = os.path.splitext(img)\n",
    "    if filename.startswith(\"ISIC_\"):\n",
    "        os.rename(img, ''.join([extra, '-', filename, extension]))\n",
    "#     print(img)"
   ]
  },
  {
   "cell_type": "code",
   "execution_count": 16,
   "metadata": {},
   "outputs": [],
   "source": [
    "# Listintg the file names again (After the modify them):\n",
    "\n",
    "def get_file_list_from_dir(dir_database):\n",
    "    all_files = os.listdir(os.path.abspath(dir_database))\n",
    "    data_files = list(filter(lambda file: file.endswith(\".jpg\"), all_files))\n",
    "    return data_files\n",
    "\n",
    "filenames = get_file_list_from_dir(dir_database)"
   ]
  },
  {
   "cell_type": "code",
   "execution_count": 17,
   "metadata": {},
   "outputs": [],
   "source": [
    "# Shuffle the data order:\n",
    "import random\n",
    "random.shuffle(filenames)"
   ]
  },
  {
   "cell_type": "code",
   "execution_count": 18,
   "metadata": {},
   "outputs": [
    {
     "name": "stdout",
     "output_type": "stream",
     "text": [
      "10015\n",
      "10015\n"
     ]
    }
   ],
   "source": [
    "print(len(filenames))\n",
    "print(len(labels))"
   ]
  },
  {
   "cell_type": "markdown",
   "metadata": {},
   "source": [
    "### Spliting Train, Validate and Test Set"
   ]
  },
  {
   "cell_type": "code",
   "execution_count": 19,
   "metadata": {},
   "outputs": [],
   "source": [
    "data_train, data_validate, label_train, label_validate = train_test_split(np.array(filenames), labels, \n",
    "                                                                          test_size=0.4, \n",
    "                                                                          random_state=1, \n",
    "                                                                          stratify=labels)\n",
    "\n",
    "data_validate, data_test, label_validate, label_test = train_test_split(data_validate, label_validate, \n",
    "                                                                  test_size=0.5, \n",
    "                                                                  random_state=1, \n",
    "                                                                  stratify=label_validate)\n",
    "\n",
    "train_filenames = [name for name in data_train.tolist()]\n",
    "val_filenames = [name for name in data_validate.tolist()]\n",
    "test_filenames = [name for name in data_test.tolist()]"
   ]
  },
  {
   "cell_type": "code",
   "execution_count": 20,
   "metadata": {},
   "outputs": [
    {
     "name": "stdout",
     "output_type": "stream",
     "text": [
      "Total images:  10015\n",
      "Training:  6009\n",
      "Validation:  2003\n",
      "Testing:  2003\n"
     ]
    }
   ],
   "source": [
    "print('Total images: ', len(filenames))\n",
    "print('Training: ', len(train_filenames))\n",
    "print('Validation: ', len(val_filenames))\n",
    "print('Testing: ', len(test_filenames))"
   ]
  },
  {
   "cell_type": "code",
   "execution_count": 21,
   "metadata": {},
   "outputs": [
    {
     "name": "stdout",
     "output_type": "stream",
     "text": [
      "Total labels:  10015\n",
      "Training_labels:  6009\n",
      "Validation_labels:  2003\n",
      "Testing_labels:  2003\n"
     ]
    }
   ],
   "source": [
    "print('Total labels: ', len(labels))\n",
    "print('Training_labels: ', len(label_train))\n",
    "print('Validation_labels: ', len(label_validate))\n",
    "print('Testing_labels: ', len(label_test))"
   ]
  },
  {
   "cell_type": "code",
   "execution_count": 22,
   "metadata": {
    "scrolled": true
   },
   "outputs": [
    {
     "name": "stdout",
     "output_type": "stream",
     "text": [
      "Frequency of unique values of the said array:\n",
      "[['akiec' 'bcc' 'bkl' 'df' 'mel' 'nv' 'vasc']\n",
      " ['196' '309' '659' '69' '668' '4023' '85']]\n"
     ]
    }
   ],
   "source": [
    "unique_elements, counts_elements = np.unique(label_train, return_counts=True)\n",
    "print(\"Frequency of unique values of the said array:\")\n",
    "print(np.asarray((unique_elements, counts_elements)))"
   ]
  },
  {
   "cell_type": "code",
   "execution_count": 23,
   "metadata": {},
   "outputs": [],
   "source": [
    "os.chdir(dir_database)"
   ]
  },
  {
   "cell_type": "markdown",
   "metadata": {},
   "source": [
    "Spliting Images into Train / Validate / Test Directories"
   ]
  },
  {
   "cell_type": "code",
   "execution_count": 24,
   "metadata": {},
   "outputs": [
    {
     "name": "stdout",
     "output_type": "stream",
     "text": [
      "Analysing train nv Lesions\n",
      "train nv lesions images: 4028\n",
      "Analysing train mel Lesions\n",
      "train mel lesions images: 4028\n",
      "Analysing train vasc Lesions\n",
      "train vasc lesions images: 4028\n",
      "Analysing train akiec Lesions\n",
      "train akiec lesions images: 4028\n",
      "Analysing train bcc Lesions\n",
      "train bcc lesions images: 4028\n",
      "Analysing train bkl Lesions\n",
      "train bkl lesions images: 4028\n",
      "Analysing train df Lesions\n",
      "train df lesions images: 4028\n",
      "\n",
      "---- / / ----\n",
      "Analysing test nv Lesions\n",
      "test nv lesions images: 1359\n",
      "Analysing test mel Lesions\n",
      "test mel lesions images: 205\n",
      "Analysing test vasc Lesions\n",
      "test vasc lesions images: 37\n",
      "Analysing test akiec Lesions\n",
      "test akiec lesions images: 63\n",
      "Analysing test bcc Lesions\n",
      "test bcc lesions images: 91\n",
      "Analysing test bkl Lesions\n",
      "test bkl lesions images: 232\n",
      "Analysing test df Lesions\n",
      "test df lesions images: 16\n",
      "\n",
      "---- / / ----\n",
      "Analysing val nv Lesions\n",
      "val nv lesions images: 1318\n",
      "Analysing val mel Lesions\n",
      "val mel lesions images: 1318\n",
      "Analysing val vasc Lesions\n",
      "val vasc lesions images: 1318\n",
      "Analysing val akiec Lesions\n",
      "val akiec lesions images: 1318\n",
      "Analysing val bcc Lesions\n",
      "val bcc lesions images: 1318\n",
      "Analysing val bkl Lesions\n",
      "val bkl lesions images: 1318\n",
      "Analysing val df Lesions\n",
      "val df lesions images: 1319\n",
      "\n",
      "---- / / ----\n"
     ]
    }
   ],
   "source": [
    "# %%time\n",
    "# # Copy-pasting images: for train, validation and test\n",
    "\n",
    "envs = dict()\n",
    "envs['train'] = train_filenames\n",
    "envs['test'] = test_filenames\n",
    "envs['val'] = val_filenames\n",
    "\n",
    "for env in envs:\n",
    "    if not os.path.isdir(dir_database +'/'+ env): os.makedirs(dir_database +'/'+ env)\n",
    "    for i in lesionstype:   \n",
    "        print('Analysing '+ env + ' ' + i + ' Lesions')\n",
    "        if not os.path.isdir(dir_database + '/'+env+'/' + i): os.makedirs(dir_database + '/'+env+'/' + i)\n",
    "        if len(os.listdir(os.path.abspath(dir_database + '/'+env+'/' + i)))<=1:\n",
    "            for name in envs[env]:\n",
    "                if name.startswith(i):\n",
    "                    shutil.copy(name, dir_database+\"/\"+env+\"/\"+i+\"/\")\n",
    "        print(env+' '+i+' lesions images: '+ str(len(os.listdir(os.path.abspath(dir_database + '/'+env+'/' + i)))))\n",
    "    print()\n",
    "    print('---- / / ----')\n"
   ]
  },
  {
   "cell_type": "markdown",
   "metadata": {},
   "source": [
    "The paths for the training and validation images"
   ]
  },
  {
   "cell_type": "code",
   "execution_count": 25,
   "metadata": {},
   "outputs": [],
   "source": [
    "train_path = dir_database+\"/train\"\n",
    "val_path = dir_database+\"/val\"\n",
    "test_path = dir_database+\"/test\""
   ]
  },
  {
   "cell_type": "markdown",
   "metadata": {},
   "source": [
    "## Oversample\n",
    "\n",
    "\n",
    "Balancing the classes by applying a set of random transformations in the original images of minority classes until they have the same quantity of the majority class.\n",
    "\n",
    "#### Applied Transformations:\n",
    "    Rotantion\n",
    "    Width Shift\n",
    "    Height Shift\n",
    "    Shear Range\n",
    "    Zoom\n",
    "    Horizontal Flip\n",
    "    Vertical Flip"
   ]
  },
  {
   "cell_type": "code",
   "execution_count": 26,
   "metadata": {},
   "outputs": [],
   "source": [
    "datagen = ImageDataGenerator(\n",
    "        rotation_range=randrange(0, 180, 5),\n",
    "        width_shift_range=uniform(0.1,0.5),\n",
    "        height_shift_range=uniform(0.1,0.4),\n",
    "        shear_range=uniform(0.05,0.4),\n",
    "        zoom_range=uniform(0.2,0.5),\n",
    "        horizontal_flip=choice([True, False]),\n",
    "        vertical_flip=choice([True, False]),\n",
    "        fill_mode='nearest')"
   ]
  },
  {
   "cell_type": "code",
   "execution_count": 27,
   "metadata": {},
   "outputs": [
    {
     "name": "stdout",
     "output_type": "stream",
     "text": [
      "Balancing train nv Lesions\n",
      "Data From... D:\\Python\\Jupyter\\DeepLearning\\Project\\DataBase\\train\\nv\n",
      "-------\n",
      "Balancing train mel Lesions\n",
      "Data From... D:\\Python\\Jupyter\\DeepLearning\\Project\\DataBase\\train\\mel\n",
      "-------\n",
      "Balancing train vasc Lesions\n",
      "Data From... D:\\Python\\Jupyter\\DeepLearning\\Project\\DataBase\\train\\vasc\n",
      "-------\n",
      "Balancing train akiec Lesions\n",
      "Data From... D:\\Python\\Jupyter\\DeepLearning\\Project\\DataBase\\train\\akiec\n",
      "-------\n",
      "Balancing train bcc Lesions\n",
      "Data From... D:\\Python\\Jupyter\\DeepLearning\\Project\\DataBase\\train\\bcc\n",
      "-------\n",
      "Balancing train bkl Lesions\n",
      "Data From... D:\\Python\\Jupyter\\DeepLearning\\Project\\DataBase\\train\\bkl\n",
      "-------\n",
      "Balancing train df Lesions\n",
      "Data From... D:\\Python\\Jupyter\\DeepLearning\\Project\\DataBase\\train\\df\n",
      "-------\n",
      "Balancing val nv Lesions\n",
      "Data From... D:\\Python\\Jupyter\\DeepLearning\\Project\\DataBase\\val\\nv\n",
      "-------\n",
      "Balancing val mel Lesions\n",
      "Data From... D:\\Python\\Jupyter\\DeepLearning\\Project\\DataBase\\val\\mel\n",
      "-------\n",
      "Balancing val vasc Lesions\n",
      "Data From... D:\\Python\\Jupyter\\DeepLearning\\Project\\DataBase\\val\\vasc\n",
      "-------\n",
      "Balancing val akiec Lesions\n",
      "Data From... D:\\Python\\Jupyter\\DeepLearning\\Project\\DataBase\\val\\akiec\n",
      "-------\n",
      "Balancing val bcc Lesions\n",
      "Data From... D:\\Python\\Jupyter\\DeepLearning\\Project\\DataBase\\val\\bcc\n",
      "-------\n",
      "Balancing val bkl Lesions\n",
      "Data From... D:\\Python\\Jupyter\\DeepLearning\\Project\\DataBase\\val\\bkl\n",
      "-------\n",
      "Balancing val df Lesions\n",
      "Data From... D:\\Python\\Jupyter\\DeepLearning\\Project\\DataBase\\val\\df\n",
      "-------\n",
      "Finnish!\n",
      "Wall time: 167 ms\n"
     ]
    }
   ],
   "source": [
    "%%time\n",
    "envs = dict()\n",
    "envs['train'] = train_filenames\n",
    "# envs['test'] = test_filenames\n",
    "envs['val'] = val_filenames\n",
    "\n",
    "for env in envs:\n",
    "#     if len(os.listdir(os.path.abspath(dir_database)))==0: os.makedirs(dir_database +'/'+ env)\n",
    "    for i in lesionstype:   \n",
    "        print('Balancing '+ env + ' ' + i + ' Lesions')\n",
    "        os.chdir(dir_database + '/'+env+'/'+i)\n",
    "        print('Data From... '+os.getcwd()) \n",
    "        print('-------')\n",
    "        if len(os.listdir(os.path.abspath(dir_database + '/'+env+'/'+i)))<len(os.listdir(os.path.abspath(dir_database + '/'+env+'/nv'))):\n",
    "            images = io.ImageCollection(dir_database + '/'+env+'/'+i+'/'+i+'*', conserve_memory=True, load_func=None)\n",
    "            images = io.concatenate_images(images)\n",
    "\n",
    "#             if len(os.listdir(os.path.abspath(dir_database + '/'+env+'/'+i)))<len(os.listdir(os.path.abspath(dir_database + '/'+env+'/nv'))):\n",
    "            for batch in datagen.flow(images, batch_size=1,\n",
    "                                  save_to_dir=dir_database + '/'+env+'/'+i, save_prefix='aug', save_format='jpeg'):\n",
    "                if len(os.listdir(os.path.abspath(dir_database + '/'+env+'/'+i)))==len(os.listdir(os.path.abspath(dir_database + '/'+env+'/nv'))):\n",
    "                    break  # otherwise the generator would loop indefinitely\n",
    "            print(len(os.listdir(os.path.abspath(dir_database + '/'+env+'/'+i))))                \n",
    "            print('--//--')\n",
    "print('Finnish!')"
   ]
  },
  {
   "cell_type": "markdown",
   "metadata": {},
   "source": [
    "#### Defining:\n",
    "    Batch Size(Train, Validation and Test)\n",
    "    Image Resize\n",
    "    Step per Iteration"
   ]
  },
  {
   "cell_type": "code",
   "execution_count": 28,
   "metadata": {},
   "outputs": [],
   "source": [
    "# Declare a few useful values\n",
    "num_train_samples = sum([len(files) for r, d, files in os.walk(train_path)]) #len(train_filenames) \n",
    "num_val_samples = sum([len(files) for r, d, files in os.walk(val_path)]) #len(val_filenames)\n",
    "num_test_samples = sum([len(files) for r, d, files in os.walk(test_path)]) #len(test_filenames)\n",
    "train_batch_size = 10\n",
    "val_batch_size = 10\n",
    "test_batch_size = 1\n",
    "\n",
    "image_width = 200\n",
    "image_height = 150"
   ]
  },
  {
   "cell_type": "code",
   "execution_count": 29,
   "metadata": {},
   "outputs": [],
   "source": [
    "datagen = ImageDataGenerator(rescale = 1./255)"
   ]
  },
  {
   "cell_type": "code",
   "execution_count": 30,
   "metadata": {},
   "outputs": [],
   "source": [
    "# Declare how many steps are needed in an iteration\n",
    "train_steps = np.ceil(num_train_samples / train_batch_size)\n",
    "val_steps = np.ceil(num_val_samples / val_batch_size)\n",
    "test_steps = np.ceil(num_test_samples / val_batch_size)"
   ]
  },
  {
   "cell_type": "markdown",
   "metadata": {},
   "source": [
    "### Set Up the generator batches\n",
    "\n",
    "#### Train Batches"
   ]
  },
  {
   "cell_type": "code",
   "execution_count": 31,
   "metadata": {},
   "outputs": [
    {
     "name": "stdout",
     "output_type": "stream",
     "text": [
      "Train Batches: \n",
      "Found 28196 images belonging to 7 classes.\n"
     ]
    }
   ],
   "source": [
    "# Set up generators\n",
    "print('Train Batches: ')\n",
    "train_batches = datagen.flow_from_directory(\n",
    "    train_path,\n",
    "    target_size=(image_height, image_width),\n",
    "    batch_size=train_batch_size,\n",
    "    class_mode = 'categorical',\n",
    "    classes = lesionstype)"
   ]
  },
  {
   "cell_type": "markdown",
   "metadata": {},
   "source": [
    "#### Validation Batches"
   ]
  },
  {
   "cell_type": "code",
   "execution_count": 32,
   "metadata": {},
   "outputs": [
    {
     "name": "stdout",
     "output_type": "stream",
     "text": [
      "Found 9226 images belonging to 7 classes.\n"
     ]
    }
   ],
   "source": [
    "val_batches = datagen.flow_from_directory(\n",
    "    val_path,\n",
    "    target_size=(image_height, image_width),\n",
    "    batch_size=val_batch_size,\n",
    "    class_mode = 'categorical',\n",
    "    classes = lesionstype)"
   ]
  },
  {
   "cell_type": "markdown",
   "metadata": {},
   "source": [
    "#### Test Batches"
   ]
  },
  {
   "cell_type": "code",
   "execution_count": 33,
   "metadata": {},
   "outputs": [
    {
     "name": "stdout",
     "output_type": "stream",
     "text": [
      "Found 2003 images belonging to 7 classes.\n"
     ]
    }
   ],
   "source": [
    "test_batches = datagen.flow_from_directory(\n",
    "    test_path,\n",
    "    target_size=(image_height, image_width),\n",
    "    batch_size=test_batch_size,\n",
    "    class_mode = 'categorical',\n",
    "    classes = lesionstype)"
   ]
  },
  {
   "cell_type": "code",
   "execution_count": 34,
   "metadata": {},
   "outputs": [
    {
     "name": "stdout",
     "output_type": "stream",
     "text": [
      "Train: data batch shape: (10, 150, 200, 3)\n",
      "Train: labels batch shape: (10, 7)\n",
      "--//--\n",
      "Validation: data batch shape: (10, 150, 200, 3)\n",
      "Validation: labels batch shape: (10, 7)\n",
      "--//--\n",
      "Test: data batch shape: (1, 150, 200, 3)\n",
      "Test: labels batch shape: (1, 7)\n",
      "--//--\n"
     ]
    }
   ],
   "source": [
    "for data_batch, labels_batch in train_batches:\n",
    "    print('Train: data batch shape:', data_batch.shape)\n",
    "    print('Train: labels batch shape:', labels_batch.shape)\n",
    "    print('--//--')\n",
    "    break\n",
    "    \n",
    "for data_batch, labels_batch in val_batches:\n",
    "    print('Validation: data batch shape:', data_batch.shape)\n",
    "    print('Validation: labels batch shape:', labels_batch.shape)\n",
    "    print('--//--')\n",
    "    break\n",
    "    \n",
    "for data_batch, labels_batch in test_batches:\n",
    "    print('Test: data batch shape:', data_batch.shape)\n",
    "    print('Test: labels batch shape:', labels_batch.shape)\n",
    "    print('--//--')\n",
    "    break"
   ]
  },
  {
   "cell_type": "markdown",
   "metadata": {},
   "source": [
    "### Custom Metrics"
   ]
  },
  {
   "cell_type": "code",
   "execution_count": 35,
   "metadata": {},
   "outputs": [],
   "source": [
    "# Train the model\n",
    "# Define Top2 and Top3 Accuracy\n",
    "\n",
    "# def categorical_accuracy(y_true, y_pred):\n",
    "#     return K.cast(K.equal(K.argmax(y_true, axis=-1),\n",
    "#                           K.argmax(y_pred, axis=-1)),\n",
    "#                   K.floatx())\n",
    "\n",
    "def nova_recall(y_true, y_pred):\n",
    "    cm = confusion_matrix(y_true, y_pred)\n",
    "    recall = np.diag(cm) / np.sum(cm, axis = 1)\n",
    "    return K.cast(np.mean(recall), K.floatx())\n",
    "\n",
    "# def nova_precision(y_true, y_pred):\n",
    "#     cm = confusion_matrix(y_true, K.argmax(y_pred, axis=-1))\n",
    "#     precision = np.diag(cm) / np.sum(cm, axis = 0)\n",
    "#     return np.mean(precision)\n",
    "\n",
    "\n",
    "def nova_precision(y_true, y_pred):\n",
    "    cm = confusion_matrix(K.argmax(y_true, axis=-1), K.argmax(y_pred, axis=-1))\n",
    "    precision = np.diag(cm) / np.sum(cm, axis = 0)\n",
    "    return K.cast(np.mean(precision), K.floatx())"
   ]
  },
  {
   "cell_type": "markdown",
   "metadata": {},
   "source": [
    "### Class Weight"
   ]
  },
  {
   "cell_type": "code",
   "execution_count": 36,
   "metadata": {},
   "outputs": [],
   "source": [
    "# Add weights to make the model more sensitive to melanoma\n",
    "class_weights={\n",
    "    0: 1.0,  # akiec\n",
    "    1: 1.0,  # bcc\n",
    "    2: 1.0,  # bkl\n",
    "    3: 1.0,  # df\n",
    "    4: 1.0,  # mel\n",
    "    5: 1.0,  # nv\n",
    "    6: 1.0,  # vasc\n",
    "}"
   ]
  },
  {
   "cell_type": "markdown",
   "metadata": {},
   "source": [
    "## Checkpoint / Learning Rate / Callback "
   ]
  },
  {
   "cell_type": "code",
   "execution_count": 37,
   "metadata": {},
   "outputs": [],
   "source": [
    "from sklearn.utils.class_weight import compute_sample_weight\n",
    "\n",
    "sample_weights = compute_sample_weight(class_weight='balanced', y=label_train)\n",
    "\n",
    "# Declare the filepath for the saved model\n",
    "os.chdir(dir_project)\n",
    "filepath = \"model.h5\"\n",
    "\n",
    "# Declare a checkpoint to save the best version of the model\n",
    "checkpoint = ModelCheckpoint(filepath, monitor='categorical_accuracy', verbose=1,\n",
    "                             save_best_only=True, mode='max')\n",
    "\n",
    "# Reduce the learning rate as the learning stagnates\n",
    "reduce_lr = ReduceLROnPlateau(monitor='categorical_accuracy', factor=0.5, patience=2,\n",
    "                              verbose=1, mode='max', min_lr=1E-8)\n",
    "\n",
    "callbacks_list = [checkpoint, reduce_lr]\n",
    "# callbacks_list = [checkpoint]"
   ]
  },
  {
   "cell_type": "markdown",
   "metadata": {},
   "source": [
    "# ---- / / ----"
   ]
  },
  {
   "cell_type": "markdown",
   "metadata": {},
   "source": [
    "# GoogleNet"
   ]
  },
  {
   "cell_type": "code",
   "execution_count": 50,
   "metadata": {},
   "outputs": [
    {
     "name": "stdout",
     "output_type": "stream",
     "text": [
      "__________________________________________________________________________________________________\n",
      "Layer (type)                    Output Shape         Param #     Connected to                     \n",
      "==================================================================================================\n",
      "input_3 (InputLayer)            (None, 150, 200, 3)  0                                            \n",
      "__________________________________________________________________________________________________\n",
      "conv2d_119 (Conv2D)             (None, 75, 100, 64)  9472        input_3[0][0]                    \n",
      "__________________________________________________________________________________________________\n",
      "zero_padding2d_11 (ZeroPadding2 (None, 77, 102, 64)  0           conv2d_119[0][0]                 \n",
      "__________________________________________________________________________________________________\n",
      "max_pooling2d_29 (MaxPooling2D) (None, 38, 50, 64)   0           zero_padding2d_11[0][0]          \n",
      "__________________________________________________________________________________________________\n",
      "conv2d_120 (Conv2D)             (None, 38, 50, 64)   4160        max_pooling2d_29[0][0]           \n",
      "__________________________________________________________________________________________________\n",
      "conv2d_121 (Conv2D)             (None, 38, 50, 192)  110784      conv2d_120[0][0]                 \n",
      "__________________________________________________________________________________________________\n",
      "zero_padding2d_12 (ZeroPadding2 (None, 40, 52, 192)  0           conv2d_121[0][0]                 \n",
      "__________________________________________________________________________________________________\n",
      "max_pooling2d_30 (MaxPooling2D) (None, 19, 25, 192)  0           zero_padding2d_12[0][0]          \n",
      "__________________________________________________________________________________________________\n",
      "conv2d_123 (Conv2D)             (None, 19, 25, 96)   18528       max_pooling2d_30[0][0]           \n",
      "__________________________________________________________________________________________________\n",
      "conv2d_125 (Conv2D)             (None, 19, 25, 16)   3088        max_pooling2d_30[0][0]           \n",
      "__________________________________________________________________________________________________\n",
      "conv2d_127 (Conv2D)             (None, 19, 25, 32)   6176        max_pooling2d_30[0][0]           \n",
      "__________________________________________________________________________________________________\n",
      "conv2d_122 (Conv2D)             (None, 19, 25, 64)   12352       max_pooling2d_30[0][0]           \n",
      "__________________________________________________________________________________________________\n",
      "conv2d_124 (Conv2D)             (None, 19, 25, 128)  110720      conv2d_123[0][0]                 \n",
      "__________________________________________________________________________________________________\n",
      "conv2d_126 (Conv2D)             (None, 19, 25, 32)   12832       conv2d_125[0][0]                 \n",
      "__________________________________________________________________________________________________\n",
      "max_pooling2d_31 (MaxPooling2D) (None, 19, 25, 32)   0           conv2d_127[0][0]                 \n",
      "__________________________________________________________________________________________________\n",
      "concatenate_19 (Concatenate)    (None, 19, 25, 256)  0           conv2d_122[0][0]                 \n",
      "                                                                 conv2d_124[0][0]                 \n",
      "                                                                 conv2d_126[0][0]                 \n",
      "                                                                 max_pooling2d_31[0][0]           \n",
      "__________________________________________________________________________________________________\n",
      "conv2d_129 (Conv2D)             (None, 19, 25, 128)  32896       concatenate_19[0][0]             \n",
      "__________________________________________________________________________________________________\n",
      "conv2d_131 (Conv2D)             (None, 19, 25, 32)   8224        concatenate_19[0][0]             \n",
      "__________________________________________________________________________________________________\n",
      "conv2d_133 (Conv2D)             (None, 19, 25, 64)   16448       concatenate_19[0][0]             \n",
      "__________________________________________________________________________________________________\n",
      "conv2d_128 (Conv2D)             (None, 19, 25, 128)  32896       concatenate_19[0][0]             \n",
      "__________________________________________________________________________________________________\n",
      "conv2d_130 (Conv2D)             (None, 19, 25, 192)  221376      conv2d_129[0][0]                 \n",
      "__________________________________________________________________________________________________\n",
      "conv2d_132 (Conv2D)             (None, 19, 25, 96)   76896       conv2d_131[0][0]                 \n",
      "__________________________________________________________________________________________________\n",
      "max_pooling2d_32 (MaxPooling2D) (None, 19, 25, 64)   0           conv2d_133[0][0]                 \n",
      "__________________________________________________________________________________________________\n",
      "concatenate_20 (Concatenate)    (None, 19, 25, 480)  0           conv2d_128[0][0]                 \n",
      "                                                                 conv2d_130[0][0]                 \n",
      "                                                                 conv2d_132[0][0]                 \n",
      "                                                                 max_pooling2d_32[0][0]           \n",
      "__________________________________________________________________________________________________\n",
      "zero_padding2d_13 (ZeroPadding2 (None, 21, 27, 480)  0           concatenate_20[0][0]             \n",
      "__________________________________________________________________________________________________\n",
      "max_pooling2d_33 (MaxPooling2D) (None, 10, 13, 480)  0           zero_padding2d_13[0][0]          \n",
      "__________________________________________________________________________________________________\n",
      "conv2d_135 (Conv2D)             (None, 10, 13, 96)   46176       max_pooling2d_33[0][0]           \n",
      "__________________________________________________________________________________________________\n",
      "conv2d_137 (Conv2D)             (None, 10, 13, 16)   7696        max_pooling2d_33[0][0]           \n",
      "__________________________________________________________________________________________________\n",
      "conv2d_139 (Conv2D)             (None, 10, 13, 64)   30784       max_pooling2d_33[0][0]           \n",
      "__________________________________________________________________________________________________\n",
      "conv2d_134 (Conv2D)             (None, 10, 13, 192)  92352       max_pooling2d_33[0][0]           \n",
      "__________________________________________________________________________________________________\n",
      "conv2d_136 (Conv2D)             (None, 10, 13, 208)  179920      conv2d_135[0][0]                 \n",
      "__________________________________________________________________________________________________\n",
      "conv2d_138 (Conv2D)             (None, 10, 13, 48)   19248       conv2d_137[0][0]                 \n",
      "__________________________________________________________________________________________________\n",
      "max_pooling2d_34 (MaxPooling2D) (None, 10, 13, 64)   0           conv2d_139[0][0]                 \n",
      "__________________________________________________________________________________________________\n",
      "concatenate_21 (Concatenate)    (None, 10, 13, 512)  0           conv2d_134[0][0]                 \n",
      "                                                                 conv2d_136[0][0]                 \n",
      "                                                                 conv2d_138[0][0]                 \n",
      "                                                                 max_pooling2d_34[0][0]           \n",
      "__________________________________________________________________________________________________\n",
      "conv2d_141 (Conv2D)             (None, 10, 13, 112)  57456       concatenate_21[0][0]             \n",
      "__________________________________________________________________________________________________\n",
      "conv2d_143 (Conv2D)             (None, 10, 13, 24)   12312       concatenate_21[0][0]             \n",
      "__________________________________________________________________________________________________\n",
      "conv2d_145 (Conv2D)             (None, 10, 13, 64)   32832       concatenate_21[0][0]             \n",
      "__________________________________________________________________________________________________\n",
      "conv2d_140 (Conv2D)             (None, 10, 13, 160)  82080       concatenate_21[0][0]             \n",
      "__________________________________________________________________________________________________\n",
      "conv2d_142 (Conv2D)             (None, 10, 13, 224)  226016      conv2d_141[0][0]                 \n",
      "__________________________________________________________________________________________________\n",
      "conv2d_144 (Conv2D)             (None, 10, 13, 64)   38464       conv2d_143[0][0]                 \n",
      "__________________________________________________________________________________________________\n",
      "max_pooling2d_35 (MaxPooling2D) (None, 10, 13, 64)   0           conv2d_145[0][0]                 \n",
      "__________________________________________________________________________________________________\n",
      "concatenate_22 (Concatenate)    (None, 10, 13, 512)  0           conv2d_140[0][0]                 \n",
      "                                                                 conv2d_142[0][0]                 \n",
      "                                                                 conv2d_144[0][0]                 \n",
      "                                                                 max_pooling2d_35[0][0]           \n",
      "__________________________________________________________________________________________________\n",
      "conv2d_147 (Conv2D)             (None, 10, 13, 128)  65664       concatenate_22[0][0]             \n",
      "__________________________________________________________________________________________________\n",
      "conv2d_149 (Conv2D)             (None, 10, 13, 24)   12312       concatenate_22[0][0]             \n",
      "__________________________________________________________________________________________________\n",
      "conv2d_151 (Conv2D)             (None, 10, 13, 64)   32832       concatenate_22[0][0]             \n",
      "__________________________________________________________________________________________________\n",
      "conv2d_146 (Conv2D)             (None, 10, 13, 128)  65664       concatenate_22[0][0]             \n",
      "__________________________________________________________________________________________________\n",
      "conv2d_148 (Conv2D)             (None, 10, 13, 256)  295168      conv2d_147[0][0]                 \n",
      "__________________________________________________________________________________________________\n",
      "conv2d_150 (Conv2D)             (None, 10, 13, 64)   38464       conv2d_149[0][0]                 \n",
      "__________________________________________________________________________________________________\n",
      "max_pooling2d_36 (MaxPooling2D) (None, 10, 13, 64)   0           conv2d_151[0][0]                 \n",
      "__________________________________________________________________________________________________\n",
      "concatenate_23 (Concatenate)    (None, 10, 13, 512)  0           conv2d_146[0][0]                 \n",
      "                                                                 conv2d_148[0][0]                 \n",
      "                                                                 conv2d_150[0][0]                 \n",
      "                                                                 max_pooling2d_36[0][0]           \n",
      "__________________________________________________________________________________________________\n",
      "conv2d_153 (Conv2D)             (None, 10, 13, 144)  73872       concatenate_23[0][0]             \n",
      "__________________________________________________________________________________________________\n",
      "conv2d_155 (Conv2D)             (None, 10, 13, 32)   16416       concatenate_23[0][0]             \n",
      "__________________________________________________________________________________________________\n",
      "conv2d_157 (Conv2D)             (None, 10, 13, 64)   32832       concatenate_23[0][0]             \n",
      "__________________________________________________________________________________________________\n",
      "conv2d_152 (Conv2D)             (None, 10, 13, 112)  57456       concatenate_23[0][0]             \n",
      "__________________________________________________________________________________________________\n",
      "conv2d_154 (Conv2D)             (None, 10, 13, 288)  373536      conv2d_153[0][0]                 \n",
      "__________________________________________________________________________________________________\n",
      "conv2d_156 (Conv2D)             (None, 10, 13, 48)   38448       conv2d_155[0][0]                 \n",
      "__________________________________________________________________________________________________\n",
      "max_pooling2d_37 (MaxPooling2D) (None, 10, 13, 64)   0           conv2d_157[0][0]                 \n",
      "__________________________________________________________________________________________________\n",
      "concatenate_24 (Concatenate)    (None, 10, 13, 512)  0           conv2d_152[0][0]                 \n",
      "                                                                 conv2d_154[0][0]                 \n",
      "                                                                 conv2d_156[0][0]                 \n",
      "                                                                 max_pooling2d_37[0][0]           \n",
      "__________________________________________________________________________________________________\n",
      "conv2d_159 (Conv2D)             (None, 10, 13, 160)  82080       concatenate_24[0][0]             \n",
      "__________________________________________________________________________________________________\n",
      "conv2d_161 (Conv2D)             (None, 10, 13, 32)   16416       concatenate_24[0][0]             \n",
      "__________________________________________________________________________________________________\n",
      "conv2d_163 (Conv2D)             (None, 10, 13, 128)  65664       concatenate_24[0][0]             \n",
      "__________________________________________________________________________________________________\n",
      "conv2d_158 (Conv2D)             (None, 10, 13, 256)  131328      concatenate_24[0][0]             \n",
      "__________________________________________________________________________________________________\n",
      "conv2d_160 (Conv2D)             (None, 10, 13, 320)  461120      conv2d_159[0][0]                 \n",
      "__________________________________________________________________________________________________\n",
      "conv2d_162 (Conv2D)             (None, 10, 13, 128)  102528      conv2d_161[0][0]                 \n",
      "__________________________________________________________________________________________________\n",
      "max_pooling2d_38 (MaxPooling2D) (None, 10, 13, 128)  0           conv2d_163[0][0]                 \n",
      "__________________________________________________________________________________________________\n",
      "concatenate_25 (Concatenate)    (None, 10, 13, 832)  0           conv2d_158[0][0]                 \n",
      "                                                                 conv2d_160[0][0]                 \n",
      "                                                                 conv2d_162[0][0]                 \n",
      "                                                                 max_pooling2d_38[0][0]           \n",
      "__________________________________________________________________________________________________\n",
      "zero_padding2d_14 (ZeroPadding2 (None, 12, 15, 832)  0           concatenate_25[0][0]             \n",
      "__________________________________________________________________________________________________\n",
      "max_pooling2d_39 (MaxPooling2D) (None, 5, 7, 832)    0           zero_padding2d_14[0][0]          \n",
      "__________________________________________________________________________________________________\n",
      "conv2d_167 (Conv2D)             (None, 5, 7, 160)    133280      max_pooling2d_39[0][0]           \n",
      "__________________________________________________________________________________________________\n",
      "conv2d_169 (Conv2D)             (None, 5, 7, 32)     26656       max_pooling2d_39[0][0]           \n",
      "__________________________________________________________________________________________________\n",
      "conv2d_171 (Conv2D)             (None, 5, 7, 128)    106624      max_pooling2d_39[0][0]           \n",
      "__________________________________________________________________________________________________\n",
      "conv2d_166 (Conv2D)             (None, 5, 7, 256)    213248      max_pooling2d_39[0][0]           \n",
      "__________________________________________________________________________________________________\n",
      "conv2d_168 (Conv2D)             (None, 5, 7, 320)    461120      conv2d_167[0][0]                 \n",
      "__________________________________________________________________________________________________\n",
      "conv2d_170 (Conv2D)             (None, 5, 7, 128)    102528      conv2d_169[0][0]                 \n",
      "__________________________________________________________________________________________________\n",
      "max_pooling2d_40 (MaxPooling2D) (None, 5, 7, 128)    0           conv2d_171[0][0]                 \n",
      "__________________________________________________________________________________________________\n",
      "concatenate_26 (Concatenate)    (None, 5, 7, 832)    0           conv2d_166[0][0]                 \n",
      "                                                                 conv2d_168[0][0]                 \n",
      "                                                                 conv2d_170[0][0]                 \n",
      "                                                                 max_pooling2d_40[0][0]           \n",
      "__________________________________________________________________________________________________\n",
      "conv2d_173 (Conv2D)             (None, 5, 7, 192)    159936      concatenate_26[0][0]             \n",
      "__________________________________________________________________________________________________\n",
      "conv2d_175 (Conv2D)             (None, 5, 7, 48)     39984       concatenate_26[0][0]             \n",
      "__________________________________________________________________________________________________\n",
      "conv2d_177 (Conv2D)             (None, 5, 7, 128)    106624      concatenate_26[0][0]             \n",
      "__________________________________________________________________________________________________\n",
      "conv2d_172 (Conv2D)             (None, 5, 7, 384)    319872      concatenate_26[0][0]             \n",
      "__________________________________________________________________________________________________\n",
      "conv2d_174 (Conv2D)             (None, 5, 7, 384)    663936      conv2d_173[0][0]                 \n",
      "__________________________________________________________________________________________________\n",
      "conv2d_176 (Conv2D)             (None, 5, 7, 128)    153728      conv2d_175[0][0]                 \n",
      "__________________________________________________________________________________________________\n",
      "max_pooling2d_41 (MaxPooling2D) (None, 5, 7, 128)    0           conv2d_177[0][0]                 \n",
      "__________________________________________________________________________________________________\n",
      "concatenate_27 (Concatenate)    (None, 5, 7, 1024)   0           conv2d_172[0][0]                 \n",
      "                                                                 conv2d_174[0][0]                 \n",
      "                                                                 conv2d_176[0][0]                 \n",
      "                                                                 max_pooling2d_41[0][0]           \n",
      "__________________________________________________________________________________________________\n",
      "zero_padding2d_15 (ZeroPadding2 (None, 7, 9, 1024)   0           concatenate_27[0][0]             \n",
      "__________________________________________________________________________________________________\n",
      "max_pooling2d_42 (MaxPooling2D) (None, 3, 4, 1024)   0           zero_padding2d_15[0][0]          \n",
      "__________________________________________________________________________________________________\n",
      "global_average_pooling2d_3 (Glo (None, 1024)         0           max_pooling2d_42[0][0]           \n",
      "__________________________________________________________________________________________________\n",
      "dropout_9 (Dropout)             (None, 1024)         0           global_average_pooling2d_3[0][0] \n",
      "__________________________________________________________________________________________________\n",
      "dense_15 (Dense)                (None, 7)            7175        dropout_9[0][0]                  \n",
      "==================================================================================================\n",
      "Total params: 5,958,695\n",
      "Trainable params: 5,958,695\n",
      "Non-trainable params: 0\n",
      "__________________________________________________________________________________________________\n",
      "None\n"
     ]
    }
   ],
   "source": [
    "from keras import layers\n",
    "from keras.models import Model\n",
    "\n",
    "from functools import partial\n",
    "\n",
    "conv1x1 = partial(layers.Conv2D, kernel_size=1, activation='relu')\n",
    "conv3x3 = partial(layers.Conv2D, kernel_size=3, padding='same', activation='relu')\n",
    "conv5x5 = partial(layers.Conv2D, kernel_size=5, padding='same', activation='relu')\n",
    "\n",
    "def inception_module(in_tensor, c1, c3_1, c3, c5_1, c5, pp):\n",
    "    conv1 = conv1x1(c1)(in_tensor)\n",
    "    conv3_1 = conv1x1(c3_1)(in_tensor)\n",
    "    conv3 = conv3x3(c3)(conv3_1)\n",
    "    conv5_1 = conv1x1(c5_1)(in_tensor)\n",
    "    conv5 = conv5x5(c5)(conv5_1)\n",
    "    pool_conv = conv1x1(pp)(in_tensor)\n",
    "    pool = layers.MaxPool2D(3, strides=1, padding='same')(pool_conv)\n",
    "    merged = layers.Concatenate(axis=-1)([conv1, conv3, conv5, pool])\n",
    "    return merged\n",
    "\n",
    "def aux_clf(in_tensor):\n",
    "    avg_pool = layers.AvgPool2D(5, 3)(in_tensor)\n",
    "    conv = conv1x1(128)(avg_pool)\n",
    "    flattened = layers.Flatten()(conv)\n",
    "    dense = layers.Dense(1024, activation='relu')(flattened)\n",
    "    dropout = layers.Dropout(0.7)(dense)\n",
    "    out = layers.Dense(7, activation='softmax')(dropout)\n",
    "    return out\n",
    "\n",
    "# def inception_net(in_shape=(75,100,3), n_classes=7, opt='sgd'):\n",
    "#     in_layer = layers.Input(in_shape)\n",
    "\n",
    "def inception_net(in_shape=(150,200,3), n_classes=7, opt='sgd'):\n",
    "    in_layer = layers.Input(in_shape)    \n",
    "    \n",
    "    conv1 = layers.Conv2D(64, 7, strides=2, activation='relu', padding='same')(in_layer)\n",
    "    pad1 = layers.ZeroPadding2D()(conv1)\n",
    "    pool1 = layers.MaxPool2D(3, 2)(pad1)\n",
    "    conv2_1 = conv1x1(64)(pool1)\n",
    "    conv2_2 = conv3x3(192)(conv2_1)\n",
    "    pad2 = layers.ZeroPadding2D()(conv2_2)\n",
    "    pool2 = layers.MaxPool2D(3, 2)(pad2)\n",
    "    \n",
    "    inception3a = inception_module(pool2, 64, 96, 128, 16, 32, 32)\n",
    "    inception3b = inception_module(inception3a, 128, 128, 192, 32, 96, 64)\n",
    "    pad3 = layers.ZeroPadding2D()(inception3b)\n",
    "    pool3 = layers.MaxPool2D(3, 2)(pad3)\n",
    "    \n",
    "    inception4a = inception_module(pool3, 192, 96, 208, 16, 48, 64)\n",
    "    inception4b = inception_module(inception4a, 160, 112, 224, 24, 64, 64)\n",
    "    inception4c = inception_module(inception4b, 128, 128, 256, 24, 64, 64)\n",
    "    inception4d = inception_module(inception4c, 112, 144, 288, 32, 48, 64)\n",
    "    inception4e = inception_module(inception4d, 256, 160, 320, 32, 128, 128)\n",
    "    pad4 = layers.ZeroPadding2D()(inception4e)\n",
    "    pool4 = layers.MaxPool2D(3, 2)(pad4)\n",
    "    \n",
    "    aux_clf1 = aux_clf(inception4a)\n",
    "    aux_clf2 = aux_clf(inception4d)\n",
    "    \n",
    "    inception5a = inception_module(pool4, 256, 160, 320, 32, 128, 128)\n",
    "    inception5b = inception_module(inception5a, 384, 192, 384, 48, 128, 128)\n",
    "    pad5 = layers.ZeroPadding2D()(inception5b)\n",
    "    pool5 = layers.MaxPool2D(3, 2)(pad5)\n",
    "    \n",
    "    avg_pool = layers.GlobalAvgPool2D()(pool5)\n",
    "    dropout = layers.Dropout(0.4)(avg_pool)\n",
    "    preds = layers.Dense(7, activation='softmax')(dropout)\n",
    "    \n",
    "#     model = Model(in_layer, [preds, aux_clf1, aux_clf2])\n",
    "    inception = Model(in_layer, preds)\n",
    "    inception.compile(loss=\"categorical_crossentropy\", optimizer=opt, metrics=['categorical_accuracy'])\n",
    "\n",
    "    return inception\n",
    "\n",
    "if __name__ == '__main__':\n",
    "    googleNet = inception_net()\n",
    "    print(googleNet.summary())"
   ]
  },
  {
   "cell_type": "code",
   "execution_count": 51,
   "metadata": {},
   "outputs": [],
   "source": [
    "config = tf.ConfigProto()\n",
    "config.gpu_options.allow_growth = True\n",
    "\n",
    "session = tf.Session(config=config)"
   ]
  },
  {
   "cell_type": "code",
   "execution_count": 52,
   "metadata": {},
   "outputs": [
    {
     "name": "stdout",
     "output_type": "stream",
     "text": [
      "Epoch 1/30\n",
      "2820/2820 [==============================] - 353s 125ms/step - loss: 1.9367 - categorical_accuracy: 0.1723 - val_loss: 1.9203 - val_categorical_accuracy: 0.1777\n",
      "\n",
      "Epoch 00001: categorical_accuracy improved from 0.14438 to 0.17233, saving model to model.h5\n",
      "Epoch 2/30\n",
      "2820/2820 [==============================] - 352s 125ms/step - loss: 1.7208 - categorical_accuracy: 0.2841 - val_loss: 1.6686 - val_categorical_accuracy: 0.3040\n",
      "\n",
      "Epoch 00002: categorical_accuracy improved from 0.17233 to 0.28408, saving model to model.h5\n",
      "Epoch 3/30\n",
      "2820/2820 [==============================] - 351s 124ms/step - loss: 1.5599 - categorical_accuracy: 0.3770 - val_loss: 1.5325 - val_categorical_accuracy: 0.3687\n",
      "\n",
      "Epoch 00003: categorical_accuracy improved from 0.28408 to 0.37704, saving model to model.h5\n",
      "Epoch 4/30\n",
      "2820/2820 [==============================] - 350s 124ms/step - loss: 1.3110 - categorical_accuracy: 0.4726 - val_loss: 1.3308 - val_categorical_accuracy: 0.4695\n",
      "\n",
      "Epoch 00004: categorical_accuracy improved from 0.37704 to 0.47251, saving model to model.h5\n",
      "Epoch 5/30\n",
      "2820/2820 [==============================] - 350s 124ms/step - loss: 1.1532 - categorical_accuracy: 0.5382 - val_loss: 1.2865 - val_categorical_accuracy: 0.4928\n",
      "\n",
      "Epoch 00005: categorical_accuracy improved from 0.47251 to 0.53823, saving model to model.h5\n",
      "Epoch 6/30\n",
      "2820/2820 [==============================] - 350s 124ms/step - loss: 1.0578 - categorical_accuracy: 0.5801 - val_loss: 1.4022 - val_categorical_accuracy: 0.4782\n",
      "\n",
      "Epoch 00006: categorical_accuracy improved from 0.53823 to 0.58012, saving model to model.h5\n",
      "Epoch 7/30\n",
      "2820/2820 [==============================] - 374s 133ms/step - loss: 0.9787 - categorical_accuracy: 0.6170 - val_loss: 1.2430 - val_categorical_accuracy: 0.5625\n",
      "\n",
      "Epoch 00007: categorical_accuracy improved from 0.58012 to 0.61700, saving model to model.h5\n",
      "Epoch 8/30\n",
      "2820/2820 [==============================] - 355s 126ms/step - loss: 0.8960 - categorical_accuracy: 0.6536 - val_loss: 1.2312 - val_categorical_accuracy: 0.5778\n",
      "\n",
      "Epoch 00008: categorical_accuracy improved from 0.61700 to 0.65360, saving model to model.h5\n",
      "Epoch 9/30\n",
      "2820/2820 [==============================] - 350s 124ms/step - loss: 0.8207 - categorical_accuracy: 0.6827 - val_loss: 1.2482 - val_categorical_accuracy: 0.6192\n",
      "\n",
      "Epoch 00009: categorical_accuracy improved from 0.65360 to 0.68265, saving model to model.h5\n",
      "Epoch 10/30\n",
      "2820/2820 [==============================] - 350s 124ms/step - loss: 0.7554 - categorical_accuracy: 0.7102 - val_loss: 1.4522 - val_categorical_accuracy: 0.5591\n",
      "\n",
      "Epoch 00010: categorical_accuracy improved from 0.68265 to 0.71021, saving model to model.h5\n",
      "Epoch 11/30\n",
      "2820/2820 [==============================] - 349s 124ms/step - loss: 0.6958 - categorical_accuracy: 0.7320 - val_loss: 1.3681 - val_categorical_accuracy: 0.6146\n",
      "\n",
      "Epoch 00011: categorical_accuracy improved from 0.71021 to 0.73202, saving model to model.h5\n",
      "Epoch 12/30\n",
      "2820/2820 [==============================] - 349s 124ms/step - loss: 0.6428 - categorical_accuracy: 0.7519 - val_loss: 1.1428 - val_categorical_accuracy: 0.6490\n",
      "\n",
      "Epoch 00012: categorical_accuracy improved from 0.73202 to 0.75184, saving model to model.h5\n",
      "Epoch 13/30\n",
      "2820/2820 [==============================] - 349s 124ms/step - loss: 0.6062 - categorical_accuracy: 0.7685 - val_loss: 1.1724 - val_categorical_accuracy: 0.6454\n",
      "\n",
      "Epoch 00013: categorical_accuracy improved from 0.75184 to 0.76851, saving model to model.h5\n",
      "Epoch 14/30\n",
      "2820/2820 [==============================] - 352s 125ms/step - loss: 0.5607 - categorical_accuracy: 0.7848 - val_loss: 1.1845 - val_categorical_accuracy: 0.6309\n",
      "\n",
      "Epoch 00014: categorical_accuracy improved from 0.76851 to 0.78476, saving model to model.h5\n",
      "Epoch 15/30\n",
      "2820/2820 [==============================] - 365s 129ms/step - loss: 0.5254 - categorical_accuracy: 0.7986 - val_loss: 1.2710 - val_categorical_accuracy: 0.6522\n",
      "\n",
      "Epoch 00015: categorical_accuracy improved from 0.78476 to 0.79855, saving model to model.h5\n",
      "Epoch 16/30\n",
      "2820/2820 [==============================] - 359s 127ms/step - loss: 0.4840 - categorical_accuracy: 0.8130 - val_loss: 1.5059 - val_categorical_accuracy: 0.6446\n",
      "\n",
      "Epoch 00016: categorical_accuracy improved from 0.79855 to 0.81306, saving model to model.h5\n",
      "Epoch 17/30\n",
      "2820/2820 [==============================] - 358s 127ms/step - loss: 0.4491 - categorical_accuracy: 0.8275 - val_loss: 1.2743 - val_categorical_accuracy: 0.6724\n",
      "\n",
      "Epoch 00017: categorical_accuracy improved from 0.81306 to 0.82749, saving model to model.h5\n",
      "Epoch 18/30\n",
      "2820/2820 [==============================] - 352s 125ms/step - loss: 0.4293 - categorical_accuracy: 0.8369 - val_loss: 1.3237 - val_categorical_accuracy: 0.6550\n",
      "\n",
      "Epoch 00018: categorical_accuracy improved from 0.82749 to 0.83689, saving model to model.h5\n",
      "Epoch 19/30\n",
      "2820/2820 [==============================] - 358s 127ms/step - loss: 0.3907 - categorical_accuracy: 0.8511 - val_loss: 1.2307 - val_categorical_accuracy: 0.6741\n",
      "\n",
      "Epoch 00019: categorical_accuracy improved from 0.83689 to 0.85111, saving model to model.h5\n",
      "Epoch 20/30\n",
      "2820/2820 [==============================] - 356s 126ms/step - loss: 0.3647 - categorical_accuracy: 0.8632 - val_loss: 1.3130 - val_categorical_accuracy: 0.6617\n",
      "\n",
      "Epoch 00020: categorical_accuracy improved from 0.85111 to 0.86324, saving model to model.h5\n",
      "Epoch 21/30\n",
      "2820/2820 [==============================] - 358s 127ms/step - loss: 0.3449 - categorical_accuracy: 0.8695 - val_loss: 1.7242 - val_categorical_accuracy: 0.6379\n",
      "\n",
      "Epoch 00021: categorical_accuracy improved from 0.86324 to 0.86956, saving model to model.h5\n",
      "Epoch 22/30\n",
      "2820/2820 [==============================] - 357s 126ms/step - loss: 0.3144 - categorical_accuracy: 0.8818 - val_loss: 1.4776 - val_categorical_accuracy: 0.6677\n",
      "\n",
      "Epoch 00022: categorical_accuracy improved from 0.86956 to 0.88183, saving model to model.h5\n",
      "Epoch 23/30\n",
      "2820/2820 [==============================] - 356s 126ms/step - loss: 0.2933 - categorical_accuracy: 0.8926 - val_loss: 1.5688 - val_categorical_accuracy: 0.6241\n",
      "\n",
      "Epoch 00023: categorical_accuracy improved from 0.88183 to 0.89264, saving model to model.h5\n",
      "Epoch 24/30\n",
      "2820/2820 [==============================] - 356s 126ms/step - loss: 0.2609 - categorical_accuracy: 0.9016 - val_loss: 1.6144 - val_categorical_accuracy: 0.6748\n",
      "\n",
      "Epoch 00024: categorical_accuracy improved from 0.89264 to 0.90158, saving model to model.h5\n",
      "Epoch 25/30\n",
      "2820/2820 [==============================] - 356s 126ms/step - loss: 0.2524 - categorical_accuracy: 0.9071 - val_loss: 1.3398 - val_categorical_accuracy: 0.6832\n",
      "\n",
      "Epoch 00025: categorical_accuracy improved from 0.90158 to 0.90715, saving model to model.h5\n",
      "Epoch 26/30\n",
      "2820/2820 [==============================] - 356s 126ms/step - loss: 0.2365 - categorical_accuracy: 0.9123 - val_loss: 1.5991 - val_categorical_accuracy: 0.6651\n",
      "\n",
      "Epoch 00026: categorical_accuracy improved from 0.90715 to 0.91236, saving model to model.h5\n",
      "Epoch 27/30\n",
      "2820/2820 [==============================] - 351s 124ms/step - loss: 0.2226 - categorical_accuracy: 0.9193 - val_loss: 1.4002 - val_categorical_accuracy: 0.6312\n",
      "\n",
      "Epoch 00027: categorical_accuracy improved from 0.91236 to 0.91924, saving model to model.h5\n",
      "Epoch 28/30\n",
      "2820/2820 [==============================] - 352s 125ms/step - loss: 0.1978 - categorical_accuracy: 0.9278 - val_loss: 1.7973 - val_categorical_accuracy: 0.6549\n",
      "\n",
      "Epoch 00028: categorical_accuracy improved from 0.91924 to 0.92786, saving model to model.h5\n",
      "Epoch 29/30\n",
      "2820/2820 [==============================] - 352s 125ms/step - loss: 0.1776 - categorical_accuracy: 0.9343 - val_loss: 1.5909 - val_categorical_accuracy: 0.6696\n",
      "\n",
      "Epoch 00029: categorical_accuracy improved from 0.92786 to 0.93425, saving model to model.h5\n",
      "Epoch 30/30\n",
      "2820/2820 [==============================] - 351s 125ms/step - loss: 0.1715 - categorical_accuracy: 0.9383 - val_loss: 1.5315 - val_categorical_accuracy: 0.6876\n",
      "\n",
      "Epoch 00030: categorical_accuracy improved from 0.93425 to 0.93825, saving model to model.h5\n"
     ]
    }
   ],
   "source": [
    "history = googleNet.fit_generator(train_batches,\n",
    "                              steps_per_epoch=train_steps,\n",
    "                              class_weight=class_weights,\n",
    "                              validation_data=val_batches,\n",
    "                              validation_steps=val_steps,\n",
    "                              epochs=30,\n",
    "                              verbose=1,\n",
    "                              callbacks=callbacks_list)"
   ]
  },
  {
   "cell_type": "code",
   "execution_count": null,
   "metadata": {},
   "outputs": [],
   "source": []
  },
  {
   "cell_type": "code",
   "execution_count": 56,
   "metadata": {},
   "outputs": [
    {
     "data": {
      "image/png": "[encoded data removed]",
      "text/plain": [
       "<Figure size 432x288 with 1 Axes>"
      ]
     },
     "metadata": {
      "needs_background": "light"
     },
     "output_type": "display_data"
    }
   ],
   "source": [
    "# Plotting the evolution of the loss, comparing training and validation\n",
    "# To check if the number of epochs are not set properly\n",
    "\n",
    "import matplotlib.pyplot as plt\n",
    "loss = history.history['loss']\n",
    "val_loss = history.history['val_loss']\n",
    "epochs = range(1, len(loss) + 1)\n",
    "plt.plot(epochs, loss, 'bo', label='Training loss')\n",
    "plt.plot(epochs, val_loss, 'b', label='Validation loss')\n",
    "plt.title('Training and validation loss')\n",
    "plt.xlabel('Epochs')\n",
    "plt.ylabel('Loss')\n",
    "plt.legend()\n",
    "plt.show()"
   ]
  },
  {
   "cell_type": "code",
   "execution_count": 57,
   "metadata": {},
   "outputs": [
    {
     "data": {
      "image/png": "[encoded data removed]",
      "text/plain": [
       "<Figure size 432x288 with 1 Axes>"
      ]
     },
     "metadata": {
      "needs_background": "light"
     },
     "output_type": "display_data"
    }
   ],
   "source": [
    "# Plotting the evolution of the metrics, comparing training and validation\n",
    "# To check if the number of epochs are not set properly\n",
    "\n",
    "plt.clf()      # clears the figure\n",
    "acc = history.history['categorical_accuracy']\n",
    "val_acc = history.history['val_categorical_accuracy']\n",
    "plt.plot(epochs, acc, 'bo', label='Training acc')\n",
    "plt.plot(epochs, val_acc, 'b', label='Validation acc')\n",
    "plt.title('Training and validation accuracy')\n",
    "plt.xlabel('Epochs')\n",
    "plt.ylabel('Loss')\n",
    "plt.legend()\n",
    "plt.show()"
   ]
  },
  {
   "cell_type": "code",
   "execution_count": 58,
   "metadata": {},
   "outputs": [],
   "source": [
    "## Evaluation of the model with metrics and confusion matrix ##\n",
    "\n",
    "# Declare a function for plotting the confusion matrix\n",
    "def plot_confusion_matrix(cm, classes, normalize=False, title='Confusion matrix', cmap=plt.cm.Blues):\n",
    "    \"\"\"\n",
    "    This function prints and plots the confusion matrix.\n",
    "    Normalization can be applied by setting `normalize=True`.\n",
    "    \"\"\"\n",
    "    if normalize:\n",
    "        cm = cm.astype('float') / cm.sum(axis=1)[:, np.newaxis]\n",
    "        print(\"Normalized confusion matrix\")\n",
    "    else:\n",
    "        print('Confusion matrix, without normalization')\n",
    "\n",
    "    print(cm)\n",
    "\n",
    "    plt.imshow(cm, interpolation='nearest', cmap=cmap)\n",
    "    plt.title(title)\n",
    "    plt.colorbar()\n",
    "    tick_marks = np.arange(len(classes))\n",
    "    plt.xticks(tick_marks, classes, rotation=45)\n",
    "    plt.yticks(tick_marks, classes)\n",
    "\n",
    "    fmt = '.2f' if normalize else 'd'\n",
    "    thresh = cm.max() / 2.\n",
    "    for i, j in itertools.product(range(cm.shape[0]), range(cm.shape[1])):\n",
    "        plt.text(j, i, format(cm[i, j], fmt),\n",
    "                 horizontalalignment=\"center\",\n",
    "                 color=\"white\" if cm[i, j] > thresh else \"black\")\n",
    "\n",
    "    plt.ylabel('True label')\n",
    "    plt.xlabel('Predicted label')\n",
    "    plt.tight_layout()"
   ]
  },
  {
   "cell_type": "code",
   "execution_count": 60,
   "metadata": {},
   "outputs": [
    {
     "name": "stdout",
     "output_type": "stream",
     "text": [
      "2820/2820 [==============================] - 230s 82ms/step\n"
     ]
    }
   ],
   "source": [
    "### Training evaluation : Confusion matrix and metrics  ###\n",
    "\n",
    "# Create a confusion matrix of the training images\n",
    "train_labels = train_batches.classes\n",
    "\n",
    "# Make predictions\n",
    "predictions = googleNet.predict_generator(train_batches, steps=train_steps ,verbose=1)#, steps=train_steps"
   ]
  },
  {
   "cell_type": "code",
   "execution_count": 61,
   "metadata": {},
   "outputs": [
    {
     "name": "stdout",
     "output_type": "stream",
     "text": [
      "{0, 1, 2, 3, 4, 5, 6}\n",
      "[[3.56254902e-13 2.65275683e-11 1.00000000e+00 ... 4.15123665e-12\n",
      "  2.77500462e-12 1.32611587e-13]\n",
      " [9.99989748e-01 1.31156514e-06 5.42715117e-09 ... 3.39235906e-09\n",
      "  8.95356516e-06 1.21428751e-08]\n",
      " [9.99998569e-01 6.12537917e-07 3.02987124e-09 ... 1.11827205e-07\n",
      "  6.53667598e-07 6.52676846e-08]\n",
      " ...\n",
      " [9.99933004e-01 6.22559892e-05 7.42078825e-08 ... 3.14554582e-09\n",
      "  4.61323407e-06 3.17566751e-10]\n",
      " [3.58616979e-14 8.10208007e-08 9.74248995e-15 ... 1.94374161e-09\n",
      "  4.06245175e-15 9.99999881e-01]\n",
      " [1.53169439e-11 2.30844091e-08 1.00000000e+00 ... 2.76788836e-09\n",
      "  3.44343798e-09 7.41069359e-11]]\n"
     ]
    }
   ],
   "source": [
    "print(set(train_labels))\n",
    "print(predictions)"
   ]
  },
  {
   "cell_type": "code",
   "execution_count": 62,
   "metadata": {},
   "outputs": [
    {
     "data": {
      "text/plain": [
       "<keras_preprocessing.image.directory_iterator.DirectoryIterator at 0x2165f0d9978>"
      ]
     },
     "execution_count": 62,
     "metadata": {},
     "output_type": "execute_result"
    }
   ],
   "source": [
    "train_batches"
   ]
  },
  {
   "cell_type": "code",
   "execution_count": 63,
   "metadata": {},
   "outputs": [
    {
     "data": {
      "text/plain": [
       "(28196, 7)"
      ]
     },
     "execution_count": 63,
     "metadata": {},
     "output_type": "execute_result"
    }
   ],
   "source": [
    "predictions.shape"
   ]
  },
  {
   "cell_type": "code",
   "execution_count": 64,
   "metadata": {},
   "outputs": [
    {
     "data": {
      "text/plain": [
       "array([[588, 592, 596, 592, 500, 566, 594],\n",
       "       [551, 548, 607, 589, 572, 557, 604],\n",
       "       [582, 589, 555, 589, 545, 569, 599],\n",
       "       [601, 568, 606, 600, 548, 535, 570],\n",
       "       [545, 600, 602, 564, 606, 536, 575],\n",
       "       [559, 587, 582, 566, 588, 583, 563],\n",
       "       [594, 569, 596, 583, 559, 542, 585]], dtype=int64)"
      ]
     },
     "execution_count": 64,
     "metadata": {},
     "output_type": "execute_result"
    }
   ],
   "source": [
    "cm = confusion_matrix(train_labels, predictions.argmax(axis=1))\n",
    "cm"
   ]
  },
  {
   "cell_type": "code",
   "execution_count": 65,
   "metadata": {},
   "outputs": [
    {
     "name": "stdout",
     "output_type": "stream",
     "text": [
      "Confusion matrix, without normalization\n",
      "[[588 592 596 592 500 566 594]\n",
      " [551 548 607 589 572 557 604]\n",
      " [582 589 555 589 545 569 599]\n",
      " [601 568 606 600 548 535 570]\n",
      " [545 600 602 564 606 536 575]\n",
      " [559 587 582 566 588 583 563]\n",
      " [594 569 596 583 559 542 585]]\n"
     ]
    },
    {
     "data": {
      "image/png": "[encoded data removed]",
      "text/plain": [
       "<Figure size 432x288 with 2 Axes>"
      ]
     },
     "metadata": {
      "needs_background": "light"
     },
     "output_type": "display_data"
    }
   ],
   "source": [
    "#cm = confusion_matrix(train_labels, predictions.argmax(axis=1))\n",
    "plot_confusion_matrix(cm, lesionstype)"
   ]
  },
  {
   "cell_type": "code",
   "execution_count": 70,
   "metadata": {},
   "outputs": [
    {
     "name": "stdout",
     "output_type": "stream",
     "text": [
      "923/923 [==============================] - 229s 248ms/step\n",
      "Confusion matrix, without normalization\n",
      "[[199 234 175 187 218 179 126]\n",
      " [177 232 183 191 197 193 145]\n",
      " [194 233 173 165 211 223 119]\n",
      " [179 244 181 135 202 209 168]\n",
      " [217 226 161 161 217 196 140]\n",
      " [182 214 174 153 194 257 144]\n",
      " [194 225 179 180 202 199 139]]\n"
     ]
    },
    {
     "data": {
      "image/png": "[encoded data removed]",
      "text/plain": [
       "<Figure size 432x288 with 2 Axes>"
      ]
     },
     "metadata": {
      "needs_background": "light"
     },
     "output_type": "display_data"
    }
   ],
   "source": [
    "### Validation evaluation : Confusion matrix and metrics ###\n",
    "\n",
    "# Create a confusion matrix of the training images\n",
    "val_labels = val_batches.classes\n",
    "\n",
    "# Make predictions\n",
    "predictions = googleNet.predict_generator(val_batches, steps=val_steps, verbose=1)\n",
    "cm = confusion_matrix(val_labels, predictions.argmax(axis=1))\n",
    "cm_plot_labels = lesionstype\n",
    "plot_confusion_matrix(cm, cm_plot_labels)"
   ]
  },
  {
   "cell_type": "code",
   "execution_count": 69,
   "metadata": {},
   "outputs": [
    {
     "name": "stdout",
     "output_type": "stream",
     "text": [
      "2003/2003 [==============================] - 88s 44ms/step\n",
      "Confusion matrix, without normalization\n",
      "[[922 157  38  37  46 145  14]\n",
      " [120  38   5   6   9  25   2]\n",
      " [ 24   6   0   0   4   3   0]\n",
      " [ 35   7   3   5   3  10   0]\n",
      " [ 58  15   1   0   4  11   2]\n",
      " [147  27   4   5  15  31   3]\n",
      " [ 11   2   1   0   0   2   0]]\n"
     ]
    },
    {
     "data": {
      "image/png": "[encoded data removed]",
      "text/plain": [
       "<Figure size 432x288 with 2 Axes>"
      ]
     },
     "metadata": {
      "needs_background": "light"
     },
     "output_type": "display_data"
    }
   ],
   "source": [
    "### Test evaluation : Confusion matrix and metrics ###\n",
    "\n",
    "# Create a confusion matrix of the test images\n",
    "test_labels = test_batches.classes\n",
    "\n",
    "# Make predictions\n",
    "predictions = googleNet.predict_generator(test_batches, steps=num_test_samples, verbose=1)\n",
    "cm = confusion_matrix(test_labels, predictions.argmax(axis=1))\n",
    "cm_plot_labels = lesionstype\n",
    "plot_confusion_matrix(cm, cm_plot_labels)"
   ]
  }
 ],
 "metadata": {
  "kernelspec": {
   "display_name": "Python 3",
   "language": "python",
   "name": "python3"
  },
  "language_info": {
   "codemirror_mode": {
    "name": "ipython",
    "version": 3
   },
   "file_extension": ".py",
   "mimetype": "text/x-python",
   "name": "python",
   "nbconvert_exporter": "python",
   "pygments_lexer": "ipython3",
   "version": "3.6.5"
  }
 },
 "nbformat": 4,
 "nbformat_minor": 2
}
